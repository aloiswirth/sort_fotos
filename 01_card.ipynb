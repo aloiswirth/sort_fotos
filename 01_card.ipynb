{
 "cells": [
  {
   "cell_type": "code",
   "execution_count": null,
   "metadata": {},
   "outputs": [],
   "source": [
    "# default_exp card"
   ]
  },
  {
   "cell_type": "markdown",
   "metadata": {},
   "source": [
    "# Card\n",
    "\n",
    "> API Details \n",
    "Some defintions from Alois\n",
    "\n",
    "And also some alpha data which are in the Markdown block-"
   ]
  },
  {
   "cell_type": "code",
   "execution_count": null,
   "metadata": {},
   "outputs": [],
   "source": [
    "#hide\n",
    "from nbdev.showdoc import *"
   ]
  },
  {
   "cell_type": "code",
   "execution_count": null,
   "metadata": {},
   "outputs": [],
   "source": [
    "#export \n",
    "from __future__ import print_function, division\n",
    "\n",
    "import random\n",
    "\n",
    "\n",
    "class Card:\n",
    "    \"\"\"Represents a standard playing card\n",
    "    \n",
    "    Attributes:\n",
    "        Suit: 0-3\n",
    "        rank: 1-13\n",
    "    \"\"\"\n",
    "    \n",
    "    suit_names = [\"Clubs\", \"Diamonds\", \"Hearts\", \"Spades\"]\n",
    "    rank_names = [None, \"Ace\", \"2\", \"3\", \"4\", \"5\", \"6\", \"7\", \n",
    "              \"8\", \"9\", \"10\", \"Jack\", \"Queen\", \"King\"]\n",
    "    \n",
    "    def __init__(self, suit = 0, rank = 2):\n",
    "        self.suit = suit\n",
    "        self.rank = rank\n",
    "        \n",
    "    def __str__(self):\n",
    "        \"\"\"Returns a human readable string representation\"\"\"\n",
    "        return '%s of %s' % (Card.rank_names[self.rank],\n",
    "                             Card.suit_names[self.suit])\n",
    "    \n",
    "    def __eq__(self, other) -> bool:\n",
    "        \"\"\"Checks whether self and other card have same rank and suit.\n",
    "        This might be very helpful for checking if someone cheats in the game\"\"\"\n",
    "        return self.suit == other.suit and self.rank == other.rank\n",
    "    \n",
    "    def __lt__(self, other) -> bool:\n",
    "        \"\"\" Compares this card with another card first be suit and then rank\"\"\"\n",
    "        t1 = self.suit, self.rank\n",
    "        t2 = other.suit, other.rank\n",
    "        return t1 < t2\n",
    "    \n",
    "    def __repr__(self): return self.__str__()\n",
    "    \n",
    "    def foo(): pass"
   ]
  },
  {
   "cell_type": "markdown",
   "metadata": {},
   "source": [
    "\n",
    "Card is a class that represents a single card in a deck of cards. For example:"
   ]
  },
  {
   "cell_type": "code",
   "execution_count": null,
   "metadata": {},
   "outputs": [
    {
     "data": {
      "text/plain": [
       "Jack of Hearts"
      ]
     },
     "execution_count": null,
     "metadata": {},
     "output_type": "execute_result"
    }
   ],
   "source": [
    "Card(suit=2, rank=11)"
   ]
  },
  {
   "cell_type": "code",
   "execution_count": null,
   "metadata": {},
   "outputs": [],
   "source": [
    "c = Card(suit=1, rank=3)\n",
    "assert str(c) == '3 of Diamonds'\n",
    "\n",
    "c2 = Card(suit=2, rank=11)\n",
    "assert str(c2) == 'Jack of Hearts'"
   ]
  },
  {
   "cell_type": "markdown",
   "metadata": {},
   "source": [
    "You can do comparisons of cards, too!"
   ]
  },
  {
   "cell_type": "code",
   "execution_count": null,
   "metadata": {},
   "outputs": [],
   "source": [
    "assert c2 > c"
   ]
  },
  {
   "cell_type": "markdown",
   "metadata": {},
   "source": [
    "> Note: Look at [fastcore's testing utilities](https://fastcore.fast.ai/test.html) for convenience functions that print out helpful error messages by default when there is an error.  These convenience functions are an improvement upon using assert\n"
   ]
  },
  {
   "cell_type": "markdown",
   "metadata": {},
   "source": [
    "\n",
    "You can show the docs for methods by calling show_doc. For example, the code show_doc(Card.__eq__) produces the following documentation:"
   ]
  },
  {
   "cell_type": "code",
   "execution_count": null,
   "metadata": {},
   "outputs": [
    {
     "data": {
      "text/markdown": [
       "<h4 id=\"Card.__eq__\" class=\"doc_header\"><code>Card.__eq__</code><a href=\"__main__.py#L28\" class=\"source_link\" style=\"float:right\">[source]</a></h4>\n",
       "\n",
       "> <code>Card.__eq__</code>(**`other`**)\n",
       "\n",
       "Checks whether self and other card have same rank and suit.\n",
       "This might be very helpful for checking if someone cheats in the game"
      ],
      "text/plain": [
       "<IPython.core.display.Markdown object>"
      ]
     },
     "metadata": {},
     "output_type": "display_data"
    }
   ],
   "source": [
    "show_doc(Card.__eq__)"
   ]
  },
  {
   "cell_type": "code",
   "execution_count": null,
   "metadata": {},
   "outputs": [
    {
     "name": "stdout",
     "output_type": "stream",
     "text": [
      "3 of Diamonds\n"
     ]
    }
   ],
   "source": [
    "card1 = Card(suit=1, rank=3)\n",
    "card2 = Card(suit=1, rank=3)\n",
    "assert card1 == card2\n",
    "print(card2)"
   ]
  },
  {
   "cell_type": "markdown",
   "metadata": {},
   "source": [
    "# Flags\n",
    "nbdev uses special comments, or flags, as a markup language that allows you to control various aspects of the docs and how code is exported to modules, and how code is tested. In addition to default_exp, the the following other flags are present in this notebook:"
   ]
  },
  {
   "cell_type": "markdown",
   "metadata": {},
   "source": [
    "#hide"
   ]
  },
  {
   "cell_type": "markdown",
   "metadata": {},
   "source": [
    " Note: This comment instructs nbdev to hide this cell when generating the docs."
   ]
  },
  {
   "cell_type": "markdown",
   "metadata": {},
   "source": [
    "#export"
   ]
  },
  {
   "cell_type": "markdown",
   "metadata": {},
   "source": [
    "Note: This comment instructs nbdev to export this cell to the appropriate python file. When no argument is provided to export, this defaults to the module specified by default_exp as described above."
   ]
  },
  {
   "cell_type": "markdown",
   "metadata": {},
   "source": [
    "### Where The Magic Happens: Write Documentation And Tests\n",
    "In the original code base, tests for Card are separate, located in Card_test.py. Furthermore, the documentation for Card is primarily located in the book folder of Allen's repo as well as some documentation in the docstring. While this is a typical arrangement for a Python project, we believe nbdev can make your workflow easier by organizing the docs, tests and source code into a single context. We believe this allows developers to write higher quality documentation and code, and encourages more testing."
   ]
  },
  {
   "cell_type": "markdown",
   "metadata": {},
   "source": [
    "Here is what the documentation + code looks like for Card:"
   ]
  }
 ],
 "metadata": {
  "kernelspec": {
   "display_name": "Python 3",
   "language": "python",
   "name": "python3"
  }
 },
 "nbformat": 4,
 "nbformat_minor": 4
}
