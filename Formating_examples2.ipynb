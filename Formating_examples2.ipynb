{
 "cells": [
  {
   "cell_type": "code",
   "execution_count": null,
   "metadata": {},
   "outputs": [],
   "source": [
    "# default_exp core"
   ]
  },
  {
   "cell_type": "markdown",
   "metadata": {},
   "source": [
    "# nbdev first experiences with text styles \n",
    "\n",
    "This section contains some experiments with text styles. I hope to collect all relevant stuff in one place after some experience.\n",
    "\n"
   ]
  },
  {
   "cell_type": "code",
   "execution_count": null,
   "metadata": {},
   "outputs": [],
   "source": [
    "#hide\n",
    "# from nbdev.showdoc import *"
   ]
  },
  {
   "cell_type": "markdown",
   "metadata": {},
   "source": [
    "> Warning: this is the last warning"
   ]
  },
  {
   "cell_type": "markdown",
   "metadata": {},
   "source": [
    "> Important: there will not be a second warning"
   ]
  },
  {
   "cell_type": "markdown",
   "metadata": {},
   "source": [
    "Tip and note in one cell \n",
    "> Tip: This is my tip \n",
    "\n",
    "> Note: this is just a note"
   ]
  },
  {
   "cell_type": "markdown",
   "metadata": {},
   "source": [
    "Tip and Note in 2 cells"
   ]
  },
  {
   "cell_type": "markdown",
   "metadata": {},
   "source": [
    "> Tip: Now an isolated tip "
   ]
  },
  {
   "cell_type": "markdown",
   "metadata": {},
   "source": [
    "> Note: And now as well an isolated note"
   ]
  },
  {
   "cell_type": "markdown",
   "metadata": {},
   "source": [
    "More examples will follow"
   ]
  },
  {
   "cell_type": "code",
   "execution_count": null,
   "metadata": {},
   "outputs": [],
   "source": [
    "import nbdev"
   ]
  },
  {
   "cell_type": "markdown",
   "metadata": {},
   "source": [
    "# Additional hints\n",
    "\n",
    "After finishing the first Notebooks I wanted to run the nbdev commands to create documentation. However it turned out to be tedious\n",
    "\n",
    "I ran the command \n",
    "> nbdev_build_lib:"
   ]
  },
  {
   "cell_type": "markdown",
   "metadata": {},
   "source": [
    "If this command does not run please check if you have defined the following parameters in the settings.ini:\n",
    "- copyright\n",
    "- description\n",
    "- recursive\n",
    "- lib_name\n",
    "- title\n",
    "- user"
   ]
  },
  {
   "cell_type": "markdown",
   "metadata": {},
   "source": [
    "Then next command was without any problem at \n",
    "> nbdev_test_nbs\n",
    "\n",
    "runs ok\n",
    "\n",
    "Now to last step which takes more time. \n",
    "> make docs_serve "
   ]
  },
  {
   "cell_type": "markdown",
   "metadata": {},
   "source": [
    "This should generate the documentation, but if it does not, check if the command\n",
    "> nbdev_build_docs\n",
    "\n",
    "runs fine and without problems. This command is included into the make.If then the make does not run correctly, you schould check the Jekyll installation."
   ]
  },
  {
   "cell_type": "markdown",
   "metadata": {},
   "source": [
    "Another good repository to start is the SAP repository \n",
    "https://github.wdf.sap.corp/D027081/nbdev_template\n",
    "This site has some SAP specific settings like the SAPGithub in the init file."
   ]
  }
 ],
 "metadata": {
  "kernelspec": {
   "display_name": "Python 3",
   "language": "python",
   "name": "python3"
  }
 },
 "nbformat": 4,
 "nbformat_minor": 4
}
