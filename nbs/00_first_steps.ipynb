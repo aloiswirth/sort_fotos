{
 "cells": [
  {
   "cell_type": "code",
   "execution_count": null,
   "metadata": {},
   "outputs": [],
   "source": [
    "# default_exp first_steps"
   ]
  },
  {
   "cell_type": "markdown",
   "metadata": {},
   "source": [
    "# First Steps\n",
    "\n",
    "> API details."
   ]
  },
  {
   "cell_type": "code",
   "execution_count": null,
   "metadata": {},
   "outputs": [],
   "source": [
    "#hide\n",
    "from nbdev.showdoc import *"
   ]
  },
  {
   "cell_type": "code",
   "execution_count": null,
   "metadata": {},
   "outputs": [],
   "source": [
    "import os\n",
    "\n",
    "os.listdir(\"/home/alois\")"
   ]
  },
  {
   "cell_type": "code",
   "execution_count": null,
   "metadata": {},
   "outputs": [],
   "source": [
    "os.walk(\"$HOME\")"
   ]
  },
  {
   "cell_type": "code",
   "execution_count": null,
   "metadata": {},
   "outputs": [],
   "source": [
    "for item in os.walk((\"$HOME\")):\n",
    "    print(item)"
   ]
  },
  {
   "cell_type": "markdown",
   "metadata": {},
   "source": [
    "Apparently this does not work. So use the next try:"
   ]
  },
  {
   "cell_type": "code",
   "execution_count": null,
   "metadata": {},
   "outputs": [],
   "source": [
    "from os import listdir\n",
    "from os.path import isfile, join\n",
    "mypath = \"/home/alois\"\n",
    "onlyfiles = [f for f in listdir(mypath) if isfile(join(mypath, f))]\n",
    "onlyfiles"
   ]
  },
  {
   "cell_type": "code",
   "execution_count": null,
   "metadata": {},
   "outputs": [],
   "source": []
  },
  {
   "cell_type": "markdown",
   "metadata": {},
   "source": [
    "And shorter"
   ]
  },
  {
   "cell_type": "code",
   "execution_count": null,
   "metadata": {},
   "outputs": [],
   "source": [
    "from os import walk\n",
    "\n",
    "f = []\n",
    "for (dirpath, dirnames, filenames) in walk(mypath):\n",
    "    f.extend(filenames)\n",
    "    break\n",
    "print(\"filenames are\", filenames)\n",
    "print(f)"
   ]
  },
  {
   "cell_type": "markdown",
   "metadata": {},
   "source": [
    "More concise: "
   ]
  },
  {
   "cell_type": "code",
   "execution_count": null,
   "metadata": {},
   "outputs": [],
   "source": [
    "from os import walk\n",
    "\n",
    "f = []\n",
    "for (dirpath, dirnames, filenames) in walk(\"/home/alois\"):\n",
    "    print(dirpath)\n",
    "    print(dirnames)\n",
    "    print(filenames)\n",
    "    break"
   ]
  },
  {
   "cell_type": "code",
   "execution_count": null,
   "metadata": {},
   "outputs": [],
   "source": [
    "print(os.listdir(\"/media/mycloud/My Pictures\"))"
   ]
  },
  {
   "cell_type": "code",
   "execution_count": null,
   "metadata": {},
   "outputs": [],
   "source": [
    "from os import walk\n",
    "for (dirpath, dirname, filename) in walk(\"/media/mycloud/My Pictures\"):\n",
    "    print(dirpath)\n",
    "    print(dirname)\n",
    "    print(filename)\n",
    "    break"
   ]
  },
  {
   "cell_type": "code",
   "execution_count": null,
   "metadata": {},
   "outputs": [],
   "source": [
    "def fast_scandir(dirname):\n",
    "    subfolders= [f.path for f in os.scandir(dirname) if f.is_dir()]\n",
    "    for dirname in (subfolders):\n",
    "        subfolders.extend(fast_scandir(dirname))\n",
    "    return subfolders"
   ]
  },
  {
   "cell_type": "code",
   "execution_count": null,
   "metadata": {},
   "outputs": [],
   "source": [
    "all_folders = fast_scandir(\"/media/mycloud/My Pictures\")"
   ]
  },
  {
   "cell_type": "code",
   "execution_count": null,
   "metadata": {},
   "outputs": [],
   "source": [
    "print(lenall_folders)"
   ]
  },
  {
   "cell_type": "code",
   "execution_count": null,
   "metadata": {},
   "outputs": [],
   "source": [
    "# -*- coding: utf-8 -*-\n",
    "# Python 3\n",
    "\n",
    "\n",
    "import time\n",
    "import os\n",
    "from glob import glob\n",
    "from pathlib import Path\n",
    "\n",
    "\n",
    "directory = r\"/media/mycloud/My Pictures\"\n",
    "RUNS = 1\n",
    "\n",
    "def run_os_walk():\n",
    "    a = time.time_ns()\n",
    "    for i in range(RUNS):\n",
    "        fu = [x[0] for x in os.walk(directory)]\n",
    "    print(f\"os.walk\\t\\t\\ttook {(time.time_ns() - a) / 1000 / 1000 / RUNS:.0f} ms. Found dirs: {len(fu)}\")\n",
    "    return fu\n",
    "\n",
    "\n",
    "def run_glob():\n",
    "    a = time.time_ns()\n",
    "    for i in range(RUNS):\n",
    "        fu = glob(directory + \"/*/\")\n",
    "    print(f\"glob.glob\\t\\ttook {(time.time_ns() - a) / 1000 / 1000 / RUNS:.0f} ms. Found dirs: {len(fu)}\")\n",
    "\n",
    "\n",
    "def run_pathlib_iterdir():\n",
    "    a = time.time_ns()\n",
    "    for i in range(RUNS):\n",
    "        dirname = Path(directory)\n",
    "        fu = [f for f in dirname.iterdir() if f.is_dir()]\n",
    "    print(f\"pathlib.iterdir\\ttook {(time.time_ns() - a) / 1000 / 1000 / RUNS:.0f} ms. Found dirs: {len(fu)}\")\n",
    "    return fu\n",
    "\n",
    "\n",
    "def run_os_listdir():\n",
    "    a = time.time_ns()\n",
    "    for i in range(RUNS):\n",
    "        dirname = Path(directory)\n",
    "        fu = [os.path.join(directory, o) for o in os.listdir(directory) if os.path.isdir(os.path.join(directory, o))]\n",
    "    print(f\"os.listdir\\t\\ttook {(time.time_ns() - a) / 1000 / 1000 / RUNS:.0f} ms. Found dirs: {len(fu)}\")\n",
    "    return fu\n",
    "\n",
    "\n",
    "def run_os_scandir():\n",
    "    a = time.time_ns()\n",
    "    for i in range(RUNS):\n",
    "        fu = [f.path for f in os.scandir(directory) if f.is_dir()]\n",
    "    print(f\"os.scandir\\t\\ttook {(time.time_ns() - a) / 1000 / 1000 / RUNS:.0f} ms.\\tFound dirs: {len(fu)}\")\n",
    "    return fu\n",
    "\n",
    "\n",
    "if __name__ == '__main__':\n",
    "    run_os_scandir()\n",
    "    print(run_os_walk())\n",
    "    run_glob()\n",
    "    print(run_pathlib_iterdir())\n",
    "    run_os_listdir()"
   ]
  },
  {
   "cell_type": "markdown",
   "metadata": {},
   "source": [
    "The difference between \"walk\" and the others is that walk recognizes also the subfolders of the itunes library"
   ]
  },
  {
   "cell_type": "code",
   "execution_count": null,
   "metadata": {},
   "outputs": [],
   "source": [
    "with os.scandir() as dir_contents:\n",
    "    for entry in dir_contents:\n",
    "        info = entry.__dir__\n",
    "        more_info = entry.stat()\n",
    "        another_info = entry.inode()\n",
    "        print(info)\n",
    "        print(more_info, another_info)\n"
   ]
  },
  {
   "cell_type": "code",
   "execution_count": null,
   "metadata": {},
   "outputs": [],
   "source": [
    "import scandir"
   ]
  },
  {
   "cell_type": "code",
   "execution_count": null,
   "metadata": {
    "tags": []
   },
   "outputs": [],
   "source": [
    "all_content = scandir.walk(\"/media/mycloud/My Pictures\")\n",
    "n = 0\n",
    "f = []\n",
    "print(all_content)\n",
    "for i in all_content:tures\")\n",
    "    p\n",
    "    n += 1\n",
    "    f.append(i)rint(i)\n",
    "  \n",
    "\n",
    "print(n)  break"
   ]
  },
  {
   "cell_type": "code",
   "execution_count": null,
   "metadata": {},
   "outputs": [],
   "source": [
    "print(len(f))\n",
    "for dirpath, dirnames, filenames in f:\n",
    "    print(filenames)"
   ]
  },
  {
   "cell_type": "code",
   "execution_count": null,
   "metadata": {},
   "outputs": [],
   "source": [
    "print(len(filenames))"
   ]
  },
  {
   "cell_type": "code",
   "execution_count": null,
   "metadata": {},
   "outputs": [],
   "source": [
    "from os import listdir\n",
    "from os.path import isfile, join, isdir\n",
    "mypath = \"/media/mycloud/My Pictures\"\n",
    "onlydirs = [f for f in listdir(mypath) if isdir(join(mypath, f))]\n",
    "print(len(onlydirs), onlydirs)"
   ]
  },
  {
   "cell_type": "code",
   "execution_count": null,
   "metadata": {},
   "outputs": [],
   "source": [
    "absolute_path = \"/media/mycloud/\""
   ]
  },
  {
   "cell_type": "code",
   "execution_count": null,
   "metadata": {},
   "outputs": [],
   "source": [
    "import glob\n",
    "files = []\n",
    "myDir = mypath\n",
    "for root, dirnames, filenames in os.walk(myDir):\n",
    "    files.extend(glob.glob(root + \"/*\"))\n",
    "\n",
    "print(len(files))\n",
    "\n"
   ]
  },
  {
   "cell_type": "code",
   "execution_count": null,
   "metadata": {},
   "outputs": [],
   "source": [
    "print(files[20:30])"
   ]
  },
  {
   "cell_type": "code",
   "execution_count": null,
   "metadata": {},
   "outputs": [],
   "source": [
    "from os import listdir\n",
    "from os.path import isfile, join\n",
    "mypath = \"/media/mycloud/My Pictures\"\n",
    "onlyfiles = [f for f in listdir(mypath) if isfile(join(mypath, f))]\n",
    "len(onlyfiles)\n",
    "\n",
    "print(onlyfiles[0:5])"
   ]
  },
  {
   "cell_type": "code",
   "execution_count": null,
   "metadata": {},
   "outputs": [],
   "source": [
    "import pandas as pd\n",
    "\n",
    "df = pd.DataFrame({\"A\": [1, 2, 3], \"B\": [4, 5, 6]})\n",
    "print(df)\n",
    "\n",
    "df2 = df.copy()\n",
    "\n",
    "df2.rename(columns={\"A\": \"a\", \"B\": \"c\"})\n",
    "df2"
   ]
  },
  {
   "cell_type": "code",
   "execution_count": null,
   "metadata": {},
   "outputs": [],
   "source": []
  }
 ],
 "metadata": {
  "interpreter": {
   "hash": "f9f85f796d01129d0dd105a088854619f454435301f6ffec2fea96ecbd9be4ac"
  },
  "kernelspec": {
   "display_name": "Python 3 (ipykernel)",
   "language": "python",
   "name": "python3"
  },
  "language_info": {
   "codemirror_mode": {
    "name": "ipython",
    "version": 3
   },
   "file_extension": ".py",
   "mimetype": "text/x-python",
   "name": "python",
   "nbconvert_exporter": "python",
   "pygments_lexer": "ipython3",
   "version": "3.9.5"
  }
 },
 "nbformat": 4,
 "nbformat_minor": 4
}
