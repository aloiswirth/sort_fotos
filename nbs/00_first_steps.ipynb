{
 "cells": [
  {
   "cell_type": "code",
   "execution_count": 1,
   "metadata": {},
   "outputs": [],
   "source": [
    "# default_exp first_steps"
   ]
  },
  {
   "cell_type": "markdown",
   "metadata": {},
   "source": [
    "# First Steps\n",
    "\n",
    "> API details."
   ]
  },
  {
   "cell_type": "code",
   "execution_count": 3,
   "metadata": {},
   "outputs": [],
   "source": [
    "#hide\n",
    "from nbdev.showdoc import *"
   ]
  },
  {
   "cell_type": "markdown",
   "metadata": {},
   "source": [
    "`sudo apt install cifs-utils` \n",
    "\n",
    "Command `sudo mount -t cifs -o rw,vers=3.0 //192.168.178.22/public /media/mycloud -o username=admin,password=Priv2018` "
   ]
  },
  {
   "cell_type": "code",
   "execution_count": 4,
   "metadata": {},
   "outputs": [],
   "source": [
    "import os\n",
    "import subprocess\n",
    "import getpass\n"
   ]
  },
  {
   "cell_type": "code",
   "execution_count": 5,
   "metadata": {},
   "outputs": [
    {
     "name": "stdout",
     "output_type": "stream",
     "text": [
      "cifs-utils is already installed.\n"
     ]
    }
   ],
   "source": [
    "def check_install_cifs_utils():\n",
    "    try:\n",
    "        subprocess.check_output([\"dpkg\", \"-s\", \"cifs-utils\"])\n",
    "        print(\"cifs-utils is already installed.\")\n",
    "    except subprocess.CalledProcessError:\n",
    "        print(\"cifs-utils is not installed. Installing...\")\n",
    "        subprocess.call([\"sudo\", \"apt\", \"install\", \"cifs-utils\"])\n",
    "\n",
    "check_install_cifs_utils()\n"
   ]
  },
  {
   "cell_type": "code",
   "execution_count": 6,
   "metadata": {},
   "outputs": [],
   "source": [
    "\n",
    "mount_directory = \"/media/mycloud\"\n",
    "remote_directory = \"//192.168.178.22/public\"\n",
    "password = getpass.getpass(f'enter the password for {remote_directory}:')\n"
   ]
  },
  {
   "cell_type": "code",
   "execution_count": 7,
   "metadata": {},
   "outputs": [
    {
     "name": "stdout",
     "output_type": "stream",
     "text": [
      "//192.168.178.22/public is already mounted to /media/mycloud\n"
     ]
    }
   ],
   "source": [
    "\n",
    "if not os.path.ismount(mount_directory):\n",
    "    mount_command = f\"sudo -S mount -t cifs -o rw,vers=3.0 {remote_directory} {mount_directory} -o username=admin,password={password}\"\n",
    "    subprocess.call(mount_command.split())\n",
    "    print(f\"{remote_directory} mounted to {mount_directory}\")\n",
    "else:\n",
    "    print(f\"{remote_directory} is already mounted to {mount_directory}\")\n"
   ]
  },
  {
   "cell_type": "code",
   "execution_count": 8,
   "metadata": {},
   "outputs": [
    {
     "data": {
      "text/plain": [
       "['Pics_20120130',\n",
       " 'My Scans',\n",
       " 'IPhone_Mama_FOTOS',\n",
       " '27.09.04',\n",
       " 'TMP',\n",
       " 'Oma und Opa',\n",
       " 'Album Art',\n",
       " 'MCC Opening Mexico',\n",
       " 'iCloud Photos',\n",
       " 'Hochzeit',\n",
       " 'Galaxy Note II',\n",
       " 'Family',\n",
       " 'Casamento Andreia',\n",
       " 'BlackBerry',\n",
       " 'Arthur',\n",
       " 'Andrea Haus',\n",
       " 'Ana',\n",
       " 'Aline',\n",
       " '2006_11_25',\n",
       " '2006_11_20',\n",
       " '2006_11_09',\n",
       " 'WirthFamily.JPG',\n",
       " 'TralhandonaSAP.JPG',\n",
       " 'Tchu.JPG',\n",
       " 'Tchu&Rosinha.JPG',\n",
       " 'Tchu e eu.JPG',\n",
       " 'Rosinha.JPG',\n",
       " 'portugueiz.jpg',\n",
       " 'foto.JPG',\n",
       " 'Procuração Ana Cláudia.doc',\n",
       " 'photo.JPG',\n",
       " 'Pernilzinho.JPG',\n",
       " 'Pernil.JPG',\n",
       " 'Passport_foto-p1.jpg',\n",
       " 'Passbild_Alois-p1.jpg',\n",
       " 'OlhinhosdeSono.JPG',\n",
       " 'OFotografo3.JPG',\n",
       " 'OFotografo2.JPG',\n",
       " 'OFotografo.JPG',\n",
       " 'meninas_aprontando.jpg',\n",
       " 'Malaga_sol.jpg',\n",
       " 'LunchnaSAP.JPG',\n",
       " 'LunchatSAP.JPG',\n",
       " 'MCC_SOS_App_Favicon.png',\n",
       " 'moved_from_root',\n",
       " 'IMG_1898.jpg',\n",
       " 'IMG00347-20130214-0905.jpg',\n",
       " 'IMG_0830.JPG',\n",
       " 'Hannah&Judith.JPG',\n",
       " 'foto (2).JPG',\n",
       " 'Fot5A9759.jpg',\n",
       " 'Fot2A9759.jpg',\n",
       " 'Fot1A9759.jpg',\n",
       " 'DKC_0009.JPG',\n",
       " 'Cano_quebrado2.jpg',\n",
       " 'Cano_quebrado.jpg',\n",
       " 'Declaracao Alois.doc',\n",
       " 'Boletim_Arthur_201306.jpg',\n",
       " 'Ana1997.jpg',\n",
       " 'Altes_foto_Alois.gif',\n",
       " 'Alois.jpg',\n",
       " 'IMG_1897.jpg',\n",
       " 'Canguru.zip',\n",
       " 'A Fotografa.JPG',\n",
       " 'Saved Pictures',\n",
       " 'Global_ST_Prediction.png',\n",
       " 'ControlCenter4',\n",
       " '0B860F73-7790-4232-BF36-92C7BCB6DAEA.heic',\n",
       " 'Timeout_parameter_SCP.png',\n",
       " 'Camera Roll',\n",
       " 'thumbnail.webp',\n",
       " 'Big_data1.jpg',\n",
       " '90D0B590-F3D5-49E5-9B46-3AB804D35553.heic',\n",
       " '8C983E98-4F32-434F-8D83-C0571A267284_1_102_o.jpeg',\n",
       " '4EEED75F-A149-48B2-B107-AAAC3858BDD6.heic',\n",
       " '42704333-FABB-49E6-B93F-D17F5D0CBB93.heic',\n",
       " '17F0230E-2C49-43EF-AB59-D3DE39E45A9C.heic',\n",
       " 'Angelina',\n",
       " 'IMG_0499.PNG',\n",
       " 'IMG_2511.JPG',\n",
       " 'Alyssa 20180604_064136.jpg',\n",
       " 'IMG_0471.PNG',\n",
       " 'IMG_0373.PNG',\n",
       " 'IMG_0476.PNG',\n",
       " 'IMG_0753.PNG',\n",
       " 'IMG_0397.PNG',\n",
       " 'IMG_2517.JPG',\n",
       " 'IMG_1820.JPG',\n",
       " 'IMG_2705.JPG',\n",
       " 'IMG_0459.JPG',\n",
       " 'IMG_0580.PNG',\n",
       " 'IMG_0455.PNG',\n",
       " 'IMG_2376.JPG',\n",
       " 'IMG_3016.JPG',\n",
       " 'IMG-20180823-WA0008.jpg',\n",
       " 'IMG_2115.JPG',\n",
       " 'IMG_0050.MOV',\n",
       " 'IMG_0464.PNG',\n",
       " 'IMG_3037.JPG',\n",
       " 'IMG_0456.PNG',\n",
       " 'IMG_0751.PNG',\n",
       " 'IMG_2379.JPG',\n",
       " 'IMG_0469.PNG',\n",
       " 'IMG_0726.PNG',\n",
       " 'IMG_0513.PNG',\n",
       " '3F310FC3-AEE6-4AC0-92D0-D23660BB7B29-1568-000004DD7659344A.jpg',\n",
       " 'IMG_0733.PNG',\n",
       " 'IMG_3041.JPG',\n",
       " 'IMG_2748.JPG',\n",
       " 'IMG_2130.JPG',\n",
       " 'IMG_2195.JPG',\n",
       " 'c7c54e31-2d75-4b71-b550-819763395698.jpg',\n",
       " 'IMG_1809.JPG',\n",
       " 'IMG_0694.PNG',\n",
       " 'IMG_2010.JPG',\n",
       " 'IMG_2016.JPG',\n",
       " 'IMG_2737.JPG',\n",
       " 'IMG_2514.JPG',\n",
       " 'IMG_0670.PNG',\n",
       " 'IMG_2713.JPG',\n",
       " 'IMG_2742.JPG',\n",
       " 'IMG_0627.PNG',\n",
       " 'IMG_0666.PNG',\n",
       " 'IMG_0693.PNG',\n",
       " 'IMG_0392.PNG',\n",
       " 'IMG_0585.PNG',\n",
       " 'IMG_0632.PNG',\n",
       " 'IMG_0003.JPG',\n",
       " 'IMG_0732.PNG',\n",
       " 'IMG_0502.PNG',\n",
       " 'IMG_0363.PNG',\n",
       " 'IMG_3096.JPG',\n",
       " 'IMG_0602.PNG',\n",
       " 'IMG_1765.JPG',\n",
       " 'IMG_3068.JPG',\n",
       " 'IMG_0435.JPG',\n",
       " 'IMG_0797.JPG',\n",
       " 'IMG_0453.PNG',\n",
       " 'IMG_0633.PNG',\n",
       " 'IMG_0544.PNG',\n",
       " 'IMG_2682.JPG',\n",
       " 'IMG_0702.PNG',\n",
       " 'IMG_3005.JPG',\n",
       " 'e0330166-87d3-45eb-a863-6ff4bbe7ad19.jpg',\n",
       " 'IMG_0542.PNG',\n",
       " 'IMG_2426.JPG',\n",
       " 'IMG-20181130-WA0004.jpg',\n",
       " 'IMG_0495.PNG',\n",
       " 'IMG_2490.JPG',\n",
       " 'IMG_0620.PNG',\n",
       " '09E0E267-2BD3-447A-AAAD-24426CB70733-1568-000004D6009BCC53.jpg',\n",
       " 'IMG_2782.JPG',\n",
       " 'IMG_3028.JPG',\n",
       " 'IMG_0437.JPG',\n",
       " 'IMG_0529.PNG',\n",
       " 'IMG_0049.JPG',\n",
       " 'IMG_2487.JPG',\n",
       " 'IMG_0576.PNG',\n",
       " '1dc00e8c-a937-4e8b-a730-e1821fc35be2.jpg',\n",
       " 'IMG_0451.PNG',\n",
       " 'IMG_2092.JPG',\n",
       " 'IMG_1995.JPG',\n",
       " 'IMG_2783.JPG',\n",
       " 'IMG_0622.JPG',\n",
       " 'IMG_0591.PNG',\n",
       " 'IMG_0728.PNG',\n",
       " 'IMG_0618.PNG',\n",
       " 'IMG_0583.PNG',\n",
       " 'IMG_2438.JPG',\n",
       " 'IMG_0538.PNG',\n",
       " 'IMG_0372.PNG',\n",
       " 'IMG_2123.JPG',\n",
       " 'IMG_0686.PNG',\n",
       " 'IMG_2704.JPG',\n",
       " 'IMG_0496.PNG',\n",
       " 'IMG_2116.JPG',\n",
       " 'IMG_3013.JPG',\n",
       " 'IMG_0599.PNG',\n",
       " '987BFA32-8509-416C-9598-614DF2DA1B7B.JPG',\n",
       " 'IMG_0679.PNG',\n",
       " 'IMG_0677.JPG',\n",
       " 'Titelloses 23_20200328203237.png',\n",
       " 'IMG_0567.PNG',\n",
       " 'IMG_0701.PNG',\n",
       " 'IMG_0553.PNG',\n",
       " 'IMG_3076.JPG',\n",
       " 'IMG_0470.PNG',\n",
       " 'IMG_2420.JPG',\n",
       " 'IMG_3074.JPG',\n",
       " 'IMG_0734.PNG',\n",
       " 'IMG-20180807-WA0003.jpg',\n",
       " 'IMG_3024.JPG',\n",
       " 'IMG_0656.MOV',\n",
       " 'IMG_0749.PNG',\n",
       " 'IMG_2792.JPG',\n",
       " 'IMG_0569.PNG',\n",
       " 'IMG_0715.PNG',\n",
       " 'IMG_2496.JPG',\n",
       " 'IMG_0536.PNG',\n",
       " 'IMG_2702.JPG',\n",
       " 'IMG-20180823-WA0001.jpg',\n",
       " 'IMG_3039.JPG',\n",
       " 'IMG_0676.JPG',\n",
       " 'IMG_0510.PNG',\n",
       " 'IMG_3033.JPG',\n",
       " 'IMG_0433.JPG',\n",
       " 'IMG_2435.JPG',\n",
       " 'IMG_0035.JPG',\n",
       " 'IMG_0546.PNG',\n",
       " '9f3a2bfd-1fed-43b8-9e4a-d21ecaa36c18.jpg',\n",
       " 'IMG_0628.PNG',\n",
       " 'IMG_0609.PNG',\n",
       " 'IMG_0509.PNG',\n",
       " 'IMG_0795.JPG',\n",
       " '9ab54848-673a-4ddb-81a8-aef60de90a91.jpg',\n",
       " 'IMG_2498.JPG',\n",
       " 'IMG_3029.JPG',\n",
       " 'IMG_0616.PNG',\n",
       " 'IMG_2473.JPG',\n",
       " 'IMG_0718.PNG',\n",
       " 'IMG_0727.PNG',\n",
       " 'IMG_0407.PNG',\n",
       " 'IMG_0607.PNG',\n",
       " 'IMG_0505.PNG',\n",
       " 'IMG_0539.PNG',\n",
       " 'IMG_3079.JPG',\n",
       " 'ad11d67c-ee42-44d3-9266-0dba4c08b9ab.jpg',\n",
       " 'IMG_0712.PNG',\n",
       " 'IMG_0519.PNG',\n",
       " 'IMG_0545.PNG',\n",
       " 'IMG_0764.PNG',\n",
       " 'IMG_2780.JPG',\n",
       " 'IMG_0587.PNG',\n",
       " 'IMG_2017.JPG',\n",
       " 'IMG-20181112-WA0002.jpg',\n",
       " 'IMG_0434.JPG',\n",
       " 'IMG_0398.PNG',\n",
       " 'IMG_2738.JPG',\n",
       " 'IMG_2493.JPG',\n",
       " 'IMG_0698.PNG',\n",
       " 'IMG_2794.JPG',\n",
       " 'IMG_3048.JPG',\n",
       " 'IMG_2020.JPG',\n",
       " 'IMG_3002.JPG',\n",
       " 'IMG_3003.JPG',\n",
       " 'IMG_2008.JPG',\n",
       " 'IMG_0590.PNG',\n",
       " 'IMG_3089.JPG',\n",
       " 'IMG_3083.JPG',\n",
       " 'IMG_3044.JPG',\n",
       " 'IMG_3105.JPG',\n",
       " 'IMG_2736.JPG',\n",
       " 'IMG_0512.PNG',\n",
       " 'IMG_0418.JPG',\n",
       " 'IMG_0530.PNG',\n",
       " 'IMG_0668.PNG',\n",
       " 'IMG_0699.PNG',\n",
       " 'IMG_0721.PNG',\n",
       " 'IMG_0487.PNG',\n",
       " 'IMG_2032.JPG',\n",
       " 'IMG_2423.JPG',\n",
       " 'IMG_2120.JPG',\n",
       " 'IMG_2740.JPG',\n",
       " 'IMG_1813.JPG',\n",
       " 'IMG_2022.JPG',\n",
       " 'IMG_0625.JPG',\n",
       " 'IMG_2758.JPG',\n",
       " 'IMG_1994.JPG',\n",
       " 'IMG_0374.PNG',\n",
       " 'IMG_3010.JPG',\n",
       " 'IMG_3106.JPG',\n",
       " 'IMG-20180823-WA0003.jpg',\n",
       " 'IMG_2744.JPG',\n",
       " 'IMG_0581.PNG',\n",
       " 'IMG_0452.PNG',\n",
       " 'IMG_2429.JPG',\n",
       " 'IMG_0598.PNG',\n",
       " 'IMG_2031.JPG',\n",
       " 'IMG_0419.JPG',\n",
       " 'IMG_2015.JPG',\n",
       " 'IMG_0551.JPG',\n",
       " 'IMG_0413.JPG',\n",
       " 'IMG_0098.JPG',\n",
       " 'IMG_0548.PNG',\n",
       " 'IMG_0046.JPG',\n",
       " 'IMG_2078.JPG',\n",
       " 'IMG_0688.PNG',\n",
       " 'IMG-20181112-WA0040.jpg',\n",
       " 'IMG_0742.PNG',\n",
       " 'IMG_2513.JPG',\n",
       " 'IMG_0745.PNG',\n",
       " 'IMG_1808.JPG',\n",
       " 'IMG_3069.JPG',\n",
       " 'IMG_0524.PNG',\n",
       " 'IMG_0717.PNG',\n",
       " 'IMG_3107.JPG',\n",
       " 'IMG_0454.PNG',\n",
       " 'pic.JPG',\n",
       " 'IMG_1927.JPG',\n",
       " 'IMG_2421.JPG',\n",
       " 'IMG_2774.JPG',\n",
       " 'IMG_2362.JPG',\n",
       " 'IMG_3051.JPG',\n",
       " 'IMG_2377.JPG',\n",
       " 'IMG_0600.PNG',\n",
       " 'IMG_2427.JPG',\n",
       " 'IMG_2012.JPG',\n",
       " 'IMG_0603.PNG',\n",
       " 'IMG_2422.JPG',\n",
       " 'IMG_3095.JPG',\n",
       " 'IMG_0486.PNG',\n",
       " 'IMG_0489.PNG',\n",
       " 'IMG_0586.PNG',\n",
       " 'IMG-20181030-WA0000.jpg',\n",
       " '1fdac876-e679-46fa-92c4-e20c282531ff.jpg',\n",
       " 'IMG_0665.PNG',\n",
       " 'IMG_2707.JPG',\n",
       " 'IMG_0671.PNG',\n",
       " 'IMG_0592.PNG',\n",
       " 'IMG_0403.PNG',\n",
       " 'IMG_0446.JPG',\n",
       " 'IMG_0412.PNG',\n",
       " 'IMG_0723.PNG',\n",
       " 'IMG_3081.JPG',\n",
       " '09EA583D-2AC3-46F0-87A5-A4391CDA1FE3-1568-000004DA1E3107CF.jpg',\n",
       " 'IMG_0597.PNG',\n",
       " 'IMG_2025.JPG',\n",
       " 'IMG_0528.PNG',\n",
       " 'IMG_0099.JPG',\n",
       " 'IMG_0449.PNG',\n",
       " 'IMG_1815.JPG',\n",
       " 'IMG_0483.JPG',\n",
       " 'IMG_0748.PNG',\n",
       " '539E063B-B382-4006-ABF9-CB193FB2C0E3-711-00000064BA2F0089.jpg',\n",
       " 'IMG_1301.JPG',\n",
       " 'IMG_2389.JPG',\n",
       " '91FEE659-1C64-4FBD-80AF-3F0ED4B52439-1568-000004DA4A656C1B.jpg',\n",
       " 'IMG_2365.JPG',\n",
       " 'IMG_2522.JPG',\n",
       " 'IMG_0729.PNG',\n",
       " 'IMG_2034.JPG',\n",
       " 'IMG_0724.PNG',\n",
       " 'IMG_0700.PNG',\n",
       " 'IMG_0747.PNG',\n",
       " '1e1049bd-d62e-4bd9-9b45-6a2fc81ce18b.jpg',\n",
       " 'IMG_3077.JPG',\n",
       " '6AFC5546-2530-4826-BB4F-88FCE7A3A673-638-0000004F85D36A1D.jpg',\n",
       " 'IMG_0655.MOV',\n",
       " 'IMG_3050.JPG',\n",
       " 'IMG_1056.JPG',\n",
       " 'IMG_3008.JPG',\n",
       " 'IMG_0047.MOV',\n",
       " 'IMG_2760.JPG',\n",
       " 'IMG_0683.PNG',\n",
       " 'IMG_0574.PNG',\n",
       " 'IMG_2013.JPG',\n",
       " 'IMG_1877.JPG',\n",
       " 'IMG_0722.PNG',\n",
       " 'IMG_1055.JPG',\n",
       " 'IMG_0508.PNG',\n",
       " 'IMG_4330.HEIC',\n",
       " 'IMG_1811.JPG',\n",
       " 'IMG_2394.JPG',\n",
       " '64AA2C01-419F-4164-84A1-C22D6F81350D-1568-000004DAAD30E906.jpg',\n",
       " 'IMG_0051.JPG',\n",
       " '290f245a-b94d-49e4-b99a-92d0d03062f1.jpg',\n",
       " 'IMG_2708.JPG']"
      ]
     },
     "execution_count": 8,
     "metadata": {},
     "output_type": "execute_result"
    }
   ],
   "source": [
    "import os\n",
    "\n",
    "os.listdir(\"/media/mycloud/My Pictures\")"
   ]
  },
  {
   "cell_type": "code",
   "execution_count": 10,
   "metadata": {},
   "outputs": [
    {
     "data": {
      "text/plain": [
       "<generator object walk at 0x7f7206c0a9f0>"
      ]
     },
     "execution_count": 10,
     "metadata": {},
     "output_type": "execute_result"
    }
   ],
   "source": [
    "os.walk(\"$HOME\")"
   ]
  },
  {
   "cell_type": "code",
   "execution_count": 12,
   "metadata": {},
   "outputs": [
    {
     "data": {
      "text/plain": [
       "<generator object walk at 0x7f7206c0ab60>"
      ]
     },
     "execution_count": 12,
     "metadata": {},
     "output_type": "execute_result"
    }
   ],
   "source": [
    "os.walk(\"/media/mycloud/My Pictures\")"
   ]
  },
  {
   "cell_type": "code",
   "execution_count": 13,
   "metadata": {},
   "outputs": [
    {
     "name": "stdout",
     "output_type": "stream",
     "text": [
      "('/media/mycloud/My Pictures', ['Pics_20120130', 'My Scans', 'IPhone_Mama_FOTOS', '27.09.04', 'TMP', 'Oma und Opa', 'Album Art', 'MCC Opening Mexico', 'iCloud Photos', 'Hochzeit', 'Galaxy Note II', 'Family', 'Casamento Andreia', 'BlackBerry', 'Arthur', 'Andrea Haus', 'Ana', 'Aline', '2006_11_25', '2006_11_20', '2006_11_09', 'moved_from_root', 'Saved Pictures', 'ControlCenter4', 'Camera Roll', 'Angelina'], ['WirthFamily.JPG', 'TralhandonaSAP.JPG', 'Tchu.JPG', 'Tchu&Rosinha.JPG', 'Tchu e eu.JPG', 'Rosinha.JPG', 'portugueiz.jpg', 'foto.JPG', 'Procuração Ana Cláudia.doc', 'photo.JPG', 'Pernilzinho.JPG', 'Pernil.JPG', 'Passport_foto-p1.jpg', 'Passbild_Alois-p1.jpg', 'OlhinhosdeSono.JPG', 'OFotografo3.JPG', 'OFotografo2.JPG', 'OFotografo.JPG', 'meninas_aprontando.jpg', 'Malaga_sol.jpg', 'LunchnaSAP.JPG', 'LunchatSAP.JPG', 'MCC_SOS_App_Favicon.png', 'IMG_1898.jpg', 'IMG00347-20130214-0905.jpg', 'IMG_0830.JPG', 'Hannah&Judith.JPG', 'foto (2).JPG', 'Fot5A9759.jpg', 'Fot2A9759.jpg', 'Fot1A9759.jpg', 'DKC_0009.JPG', 'Cano_quebrado2.jpg', 'Cano_quebrado.jpg', 'Declaracao Alois.doc', 'Boletim_Arthur_201306.jpg', 'Ana1997.jpg', 'Altes_foto_Alois.gif', 'Alois.jpg', 'IMG_1897.jpg', 'Canguru.zip', 'A Fotografa.JPG', 'Global_ST_Prediction.png', '0B860F73-7790-4232-BF36-92C7BCB6DAEA.heic', 'Timeout_parameter_SCP.png', 'thumbnail.webp', 'Big_data1.jpg', '90D0B590-F3D5-49E5-9B46-3AB804D35553.heic', '8C983E98-4F32-434F-8D83-C0571A267284_1_102_o.jpeg', '4EEED75F-A149-48B2-B107-AAAC3858BDD6.heic', '42704333-FABB-49E6-B93F-D17F5D0CBB93.heic', '17F0230E-2C49-43EF-AB59-D3DE39E45A9C.heic', 'IMG_0499.PNG', 'IMG_2511.JPG', 'Alyssa 20180604_064136.jpg', 'IMG_0471.PNG', 'IMG_0373.PNG', 'IMG_0476.PNG', 'IMG_0753.PNG', 'IMG_0397.PNG', 'IMG_2517.JPG', 'IMG_1820.JPG', 'IMG_2705.JPG', 'IMG_0459.JPG', 'IMG_0580.PNG', 'IMG_0455.PNG', 'IMG_2376.JPG', 'IMG_3016.JPG', 'IMG-20180823-WA0008.jpg', 'IMG_2115.JPG', 'IMG_0050.MOV', 'IMG_0464.PNG', 'IMG_3037.JPG', 'IMG_0456.PNG', 'IMG_0751.PNG', 'IMG_2379.JPG', 'IMG_0469.PNG', 'IMG_0726.PNG', 'IMG_0513.PNG', '3F310FC3-AEE6-4AC0-92D0-D23660BB7B29-1568-000004DD7659344A.jpg', 'IMG_0733.PNG', 'IMG_3041.JPG', 'IMG_2748.JPG', 'IMG_2130.JPG', 'IMG_2195.JPG', 'c7c54e31-2d75-4b71-b550-819763395698.jpg', 'IMG_1809.JPG', 'IMG_0694.PNG', 'IMG_2010.JPG', 'IMG_2016.JPG', 'IMG_2737.JPG', 'IMG_2514.JPG', 'IMG_0670.PNG', 'IMG_2713.JPG', 'IMG_2742.JPG', 'IMG_0627.PNG', 'IMG_0666.PNG', 'IMG_0693.PNG', 'IMG_0392.PNG', 'IMG_0585.PNG', 'IMG_0632.PNG', 'IMG_0003.JPG', 'IMG_0732.PNG', 'IMG_0502.PNG', 'IMG_0363.PNG', 'IMG_3096.JPG', 'IMG_0602.PNG', 'IMG_1765.JPG', 'IMG_3068.JPG', 'IMG_0435.JPG', 'IMG_0797.JPG', 'IMG_0453.PNG', 'IMG_0633.PNG', 'IMG_0544.PNG', 'IMG_2682.JPG', 'IMG_0702.PNG', 'IMG_3005.JPG', 'e0330166-87d3-45eb-a863-6ff4bbe7ad19.jpg', 'IMG_0542.PNG', 'IMG_2426.JPG', 'IMG-20181130-WA0004.jpg', 'IMG_0495.PNG', 'IMG_2490.JPG', 'IMG_0620.PNG', '09E0E267-2BD3-447A-AAAD-24426CB70733-1568-000004D6009BCC53.jpg', 'IMG_2782.JPG', 'IMG_3028.JPG', 'IMG_0437.JPG', 'IMG_0529.PNG', 'IMG_0049.JPG', 'IMG_2487.JPG', 'IMG_0576.PNG', '1dc00e8c-a937-4e8b-a730-e1821fc35be2.jpg', 'IMG_0451.PNG', 'IMG_2092.JPG', 'IMG_1995.JPG', 'IMG_2783.JPG', 'IMG_0622.JPG', 'IMG_0591.PNG', 'IMG_0728.PNG', 'IMG_0618.PNG', 'IMG_0583.PNG', 'IMG_2438.JPG', 'IMG_0538.PNG', 'IMG_0372.PNG', 'IMG_2123.JPG', 'IMG_0686.PNG', 'IMG_2704.JPG', 'IMG_0496.PNG', 'IMG_2116.JPG', 'IMG_3013.JPG', 'IMG_0599.PNG', '987BFA32-8509-416C-9598-614DF2DA1B7B.JPG', 'IMG_0679.PNG', 'IMG_0677.JPG', 'Titelloses 23_20200328203237.png', 'IMG_0567.PNG', 'IMG_0701.PNG', 'IMG_0553.PNG', 'IMG_3076.JPG', 'IMG_0470.PNG', 'IMG_2420.JPG', 'IMG_3074.JPG', 'IMG_0734.PNG', 'IMG-20180807-WA0003.jpg', 'IMG_3024.JPG', 'IMG_0656.MOV', 'IMG_0749.PNG', 'IMG_2792.JPG', 'IMG_0569.PNG', 'IMG_0715.PNG', 'IMG_2496.JPG', 'IMG_0536.PNG', 'IMG_2702.JPG', 'IMG-20180823-WA0001.jpg', 'IMG_3039.JPG', 'IMG_0676.JPG', 'IMG_0510.PNG', 'IMG_3033.JPG', 'IMG_0433.JPG', 'IMG_2435.JPG', 'IMG_0035.JPG', 'IMG_0546.PNG', '9f3a2bfd-1fed-43b8-9e4a-d21ecaa36c18.jpg', 'IMG_0628.PNG', 'IMG_0609.PNG', 'IMG_0509.PNG', 'IMG_0795.JPG', '9ab54848-673a-4ddb-81a8-aef60de90a91.jpg', 'IMG_2498.JPG', 'IMG_3029.JPG', 'IMG_0616.PNG', 'IMG_2473.JPG', 'IMG_0718.PNG', 'IMG_0727.PNG', 'IMG_0407.PNG', 'IMG_0607.PNG', 'IMG_0505.PNG', 'IMG_0539.PNG', 'IMG_3079.JPG', 'ad11d67c-ee42-44d3-9266-0dba4c08b9ab.jpg', 'IMG_0712.PNG', 'IMG_0519.PNG', 'IMG_0545.PNG', 'IMG_0764.PNG', 'IMG_2780.JPG', 'IMG_0587.PNG', 'IMG_2017.JPG', 'IMG-20181112-WA0002.jpg', 'IMG_0434.JPG', 'IMG_0398.PNG', 'IMG_2738.JPG', 'IMG_2493.JPG', 'IMG_0698.PNG', 'IMG_2794.JPG', 'IMG_3048.JPG', 'IMG_2020.JPG', 'IMG_3002.JPG', 'IMG_3003.JPG', 'IMG_2008.JPG', 'IMG_0590.PNG', 'IMG_3089.JPG', 'IMG_3083.JPG', 'IMG_3044.JPG', 'IMG_3105.JPG', 'IMG_2736.JPG', 'IMG_0512.PNG', 'IMG_0418.JPG', 'IMG_0530.PNG', 'IMG_0668.PNG', 'IMG_0699.PNG', 'IMG_0721.PNG', 'IMG_0487.PNG', 'IMG_2032.JPG', 'IMG_2423.JPG', 'IMG_2120.JPG', 'IMG_2740.JPG', 'IMG_1813.JPG', 'IMG_2022.JPG', 'IMG_0625.JPG', 'IMG_2758.JPG', 'IMG_1994.JPG', 'IMG_0374.PNG', 'IMG_3010.JPG', 'IMG_3106.JPG', 'IMG-20180823-WA0003.jpg', 'IMG_2744.JPG', 'IMG_0581.PNG', 'IMG_0452.PNG', 'IMG_2429.JPG', 'IMG_0598.PNG', 'IMG_2031.JPG', 'IMG_0419.JPG', 'IMG_2015.JPG', 'IMG_0551.JPG', 'IMG_0413.JPG', 'IMG_0098.JPG', 'IMG_0548.PNG', 'IMG_0046.JPG', 'IMG_2078.JPG', 'IMG_0688.PNG', 'IMG-20181112-WA0040.jpg', 'IMG_0742.PNG', 'IMG_2513.JPG', 'IMG_0745.PNG', 'IMG_1808.JPG', 'IMG_3069.JPG', 'IMG_0524.PNG', 'IMG_0717.PNG', 'IMG_3107.JPG', 'IMG_0454.PNG', 'pic.JPG', 'IMG_1927.JPG', 'IMG_2421.JPG', 'IMG_2774.JPG', 'IMG_2362.JPG', 'IMG_3051.JPG', 'IMG_2377.JPG', 'IMG_0600.PNG', 'IMG_2427.JPG', 'IMG_2012.JPG', 'IMG_0603.PNG', 'IMG_2422.JPG', 'IMG_3095.JPG', 'IMG_0486.PNG', 'IMG_0489.PNG', 'IMG_0586.PNG', 'IMG-20181030-WA0000.jpg', '1fdac876-e679-46fa-92c4-e20c282531ff.jpg', 'IMG_0665.PNG', 'IMG_2707.JPG', 'IMG_0671.PNG', 'IMG_0592.PNG', 'IMG_0403.PNG', 'IMG_0446.JPG', 'IMG_0412.PNG', 'IMG_0723.PNG', 'IMG_3081.JPG', '09EA583D-2AC3-46F0-87A5-A4391CDA1FE3-1568-000004DA1E3107CF.jpg', 'IMG_0597.PNG', 'IMG_2025.JPG', 'IMG_0528.PNG', 'IMG_0099.JPG', 'IMG_0449.PNG', 'IMG_1815.JPG', 'IMG_0483.JPG', 'IMG_0748.PNG', '539E063B-B382-4006-ABF9-CB193FB2C0E3-711-00000064BA2F0089.jpg', 'IMG_1301.JPG', 'IMG_2389.JPG', '91FEE659-1C64-4FBD-80AF-3F0ED4B52439-1568-000004DA4A656C1B.jpg', 'IMG_2365.JPG', 'IMG_2522.JPG', 'IMG_0729.PNG', 'IMG_2034.JPG', 'IMG_0724.PNG', 'IMG_0700.PNG', 'IMG_0747.PNG', '1e1049bd-d62e-4bd9-9b45-6a2fc81ce18b.jpg', 'IMG_3077.JPG', '6AFC5546-2530-4826-BB4F-88FCE7A3A673-638-0000004F85D36A1D.jpg', 'IMG_0655.MOV', 'IMG_3050.JPG', 'IMG_1056.JPG', 'IMG_3008.JPG', 'IMG_0047.MOV', 'IMG_2760.JPG', 'IMG_0683.PNG', 'IMG_0574.PNG', 'IMG_2013.JPG', 'IMG_1877.JPG', 'IMG_0722.PNG', 'IMG_1055.JPG', 'IMG_0508.PNG', 'IMG_4330.HEIC', 'IMG_1811.JPG', 'IMG_2394.JPG', '64AA2C01-419F-4164-84A1-C22D6F81350D-1568-000004DAAD30E906.jpg', 'IMG_0051.JPG', '290f245a-b94d-49e4-b99a-92d0d03062f1.jpg', 'IMG_2708.JPG'])\n",
      "('/media/mycloud/My Pictures/Pics_20120130', ['DCIM'], [])\n",
      "('/media/mycloud/My Pictures/Pics_20120130/DCIM', ['100D5000'], [])\n",
      "('/media/mycloud/My Pictures/Pics_20120130/DCIM/100D5000', [], ['DSC_0524.JPG', 'DSC_0523.JPG', 'DSC_0522.JPG', 'DSC_0521.JPG', 'DSC_0520.JPG', 'DSC_0519.JPG', 'DSC_0518.JPG', 'DSC_0517.JPG', 'DSC_0516.JPG', 'DSC_0515.JPG', 'DSC_0514.JPG', 'DSC_0513.JPG', 'DSC_0512.JPG', 'DSC_0511.JPG', 'DSC_0510.JPG', 'DSC_0509.JPG', 'DSC_0508.JPG', 'DSC_0507.JPG', 'DSC_0506.JPG', 'DSC_0505.JPG', 'DSC_0504.JPG', 'DSC_0503.JPG', 'DSC_0502.JPG', 'DSC_0501.JPG', 'DSC_0500.JPG', 'DSC_0499.JPG', 'DSC_0498.JPG', 'DSC_0497.JPG', 'DSC_0496.JPG', 'DSC_0495.JPG', 'DSC_0494.JPG', 'DSC_0493.JPG', 'DSC_0492.JPG', 'DSC_0491.JPG', 'DSC_0490.JPG', 'DSC_0489.JPG', 'DSC_0488.JPG', 'DSC_0487.JPG', 'DSC_0486.JPG', 'DSC_0485.JPG', 'DSC_0484.JPG', 'DSC_0483.JPG', 'DSC_0482.JPG', 'DSC_0481.JPG', 'DSC_0480.JPG', 'DSC_0479.JPG', 'DSC_0478.JPG', 'DSC_0477.JPG', 'DSC_0476.JPG', 'DSC_0475.JPG', 'DSC_0474.JPG', 'DSC_0473.JPG', 'DSC_0472.JPG', 'DSC_0471.JPG', 'DSC_0470.JPG', 'DSC_0469.JPG', 'DSC_0468.JPG', 'DSC_0467.JPG', 'DSC_0466.JPG', 'DSC_0465.JPG', 'DSC_0464.JPG', 'DSC_0463.JPG', 'DSC_0462.JPG', 'DSC_0461.JPG', 'DSC_0460.JPG', 'DSC_0459.JPG', 'DSC_0457.JPG', 'DSC_0456.JPG', 'DSC_0455.JPG', 'DSC_0454.JPG', 'DSC_0453.JPG', 'DSC_0452.JPG', 'DSC_0451.JPG', 'DSC_0450.JPG', 'DSC_0449.JPG', 'DSC_0448.JPG', 'DSC_0447.JPG', 'DSC_0446.JPG', 'DSC_0445.JPG', 'DSC_0444.JPG', 'DSC_0443.JPG', 'DSC_0442.JPG', 'DSC_0441.JPG', 'DSC_0440.JPG', 'DSC_0439.JPG', 'DSC_0438.JPG', 'DSC_0437.JPG', 'DSC_0436.JPG', 'DSC_0435.JPG', 'DSC_0434.JPG', 'DSC_0433.JPG', 'DSC_0432.JPG', 'DSC_0431.JPG', 'DSC_0430.JPG', 'DSC_0429.JPG', 'DSC_0428.JPG', 'DSC_0427.JPG', 'DSC_0426.JPG', 'DSC_0425.JPG', 'DSC_0424.JPG', 'DSC_0423.JPG', 'DSC_0422.JPG', 'DSC_0421.JPG', 'DSC_0420.JPG', 'DSC_0419.JPG', 'DSC_0418.JPG', 'DSC_0417.JPG', 'DSC_0416.JPG', 'DSC_0415.JPG', 'DSC_0414.JPG', 'DSC_0413.JPG', 'DSC_0412.JPG', 'DSC_0411.JPG', 'DSC_0410.JPG', 'DSC_0409.JPG', 'DSC_0408.JPG', 'DSC_0407.JPG', 'DSC_0406.JPG', 'DSC_0405.JPG', 'DSC_0404.JPG', 'DSC_0403.JPG', 'DSC_0402.JPG', 'DSC_0401.JPG', 'DSC_0400.JPG', 'DSC_0399.JPG', 'DSC_0398.JPG', 'DSC_0397.JPG', 'DSC_0396.JPG', 'DSC_0395.JPG', 'DSC_0394.JPG', 'DSC_0393.JPG', 'DSC_0392.JPG', 'DSC_0391.JPG', 'DSC_0390.JPG', 'DSC_0389.JPG', 'DSC_0388.JPG', 'DSC_0387.JPG', 'DSC_0386.JPG', 'DSC_0385.JPG', 'DSC_0384.JPG', 'DSC_0383.JPG', 'DSC_0382.JPG', 'DSC_0381.JPG', 'DSC_0380.JPG', 'DSC_0379.JPG', 'DSC_0378.JPG', 'DSC_0377.JPG', 'DSC_0376.JPG', 'DSC_0375.JPG', 'DSC_0374.JPG', 'DSC_0373.JPG', 'DSC_0372.JPG', 'DSC_0371.JPG', 'DSC_0370.JPG', 'DSC_0369.JPG', 'DSC_0368.JPG', 'DSC_0367.JPG', 'DSC_0366.JPG', 'DSC_0365.JPG', 'DSC_0364.JPG', 'DSC_0363.JPG', 'DSC_0362.JPG', 'DSC_0361.JPG', 'DSC_0360.JPG', 'DSC_0359.JPG', 'DSC_0358.JPG', 'DSC_0357.JPG', 'DSC_0356.JPG', 'DSC_0355.JPG', 'DSC_0354.JPG', 'DSC_0353.JPG', 'DSC_0352.JPG', 'DSC_0351.JPG', 'DSC_0350.JPG', 'DSC_0349.JPG', 'DSC_0348.JPG', 'DSC_0347.JPG', 'DSC_0346.JPG', 'DSC_0345.JPG', 'DSC_0344.JPG', 'DSC_0343.JPG', 'DSC_0342.JPG', 'DSC_0341.JPG', 'DSC_0340.JPG', 'DSC_0339.JPG', 'DSC_0338.JPG', 'DSC_0337.JPG', 'DSC_0336.JPG', 'DSC_0335.JPG', 'DSC_0334.JPG', 'DSC_0333.JPG', 'DSC_0332.JPG', 'DSC_0331.JPG', 'DSC_0330.JPG', 'DSC_0329.JPG', 'DSC_0328.JPG', 'DSC_0327.JPG', 'DSC_0326.JPG', 'DSC_0325.JPG', 'DSC_0324.JPG', 'DSC_0322.JPG', 'DSC_0321.JPG', 'DSC_0320.JPG', 'DSC_0319.JPG', 'DSC_0318.JPG', 'DSC_0317.JPG', 'DSC_0316.JPG', 'DSC_0315.JPG', 'DSC_0314.JPG', 'DSC_0313.JPG', 'DSC_0312.JPG', 'DSC_0311.JPG', 'DSC_0310.JPG', 'DSC_0309.JPG', 'DSC_0308.JPG', 'DSC_0307.JPG', 'DSC_0306.JPG', 'DSC_0305.JPG', 'DSC_0304.JPG', 'DSC_0303.JPG', 'DSC_0302.JPG', 'DSC_0301.JPG', 'DSC_0300.JPG', 'DSC_0299.JPG', 'DSC_0298.JPG', 'DSC_0297.JPG', 'DSC_0296.JPG', 'DSC_0295.JPG', 'DSC_0294.JPG', 'DSC_0293.JPG', 'DSC_0292.JPG', 'DSC_0291.JPG', 'DSC_0290.JPG', 'DSC_0289.JPG', 'DSC_0288.JPG', 'DSC_0287.JPG', 'DSC_0286.JPG', 'DSC_0285.JPG', 'DSC_0284.JPG', 'DSC_0283.JPG', 'DSC_0282.JPG', 'DSC_0281.JPG', 'DSC_0280.JPG', 'DSC_0279.JPG', 'DSC_0278.JPG', 'DSC_0277.JPG', 'DSC_0276.JPG', 'DSC_0275.JPG', 'DSC_0274.JPG', 'DSC_0273.JPG', 'DSC_0272.JPG', 'DSC_0271.JPG', 'DSC_0270.JPG', 'DSC_0269.JPG', 'DSC_0268.JPG', 'DSC_0267.JPG', 'DSC_0266.JPG', 'DSC_0265.JPG', 'DSC_0264.JPG', 'DSC_0263.JPG', 'DSC_0262.JPG', 'DSC_0261.JPG', 'DSC_0259.JPG', 'DSC_0258.JPG', 'DSC_0257.JPG', 'DSC_0256.JPG', 'DSC_0255.JPG', 'DSC_0252.JPG', 'DSC_0251.JPG', 'DSC_0250.JPG', 'DSC_0249.JPG', 'DSC_0248.JPG', 'DSC_0247.JPG', 'DSC_0246.JPG', 'DSC_0245.JPG', 'DSC_0244.JPG', 'DSC_0243.JPG', 'DSC_0242.JPG', 'DSC_0241.JPG', 'DSC_0240.JPG', 'DSC_0239.JPG', 'DSC_0238.JPG', 'DSC_0237.JPG', 'DSC_0236.JPG', 'DSC_0235.JPG', 'DSC_0234.JPG', 'DSC_0233.JPG', 'DSC_0232.JPG', 'DSC_0231.JPG', 'DSC_0230.JPG', 'DSC_0229.JPG', 'DSC_0228.JPG', 'DSC_0227.JPG', 'DSC_0226.JPG', 'DSC_0225.JPG', 'DSC_0224.JPG', 'DSC_0223.JPG', 'DSC_0222.JPG', 'DSC_0221.JPG', 'DSC_0220.JPG', 'DSC_0219.JPG', 'DSC_0218.JPG', 'DSC_0217.JPG', 'DSC_0216.JPG', 'DSC_0215.JPG', 'DSC_0214.JPG', 'DSC_0213.JPG', 'DSC_0212.JPG', 'DSC_0211.JPG', 'DSC_0210.JPG', 'DSC_0209.JPG', 'DSC_0208.JPG', 'DSC_0207.JPG', 'DSC_0206.JPG', 'DSC_0205.JPG', 'DSC_0204.JPG', 'DSC_0203.JPG', 'DSC_0202.JPG', 'DSC_0201.JPG', 'DSC_0200.JPG', 'DSC_0199.JPG', 'DSC_0198.JPG', 'DSC_0197.JPG', 'DSC_0196.JPG', 'DSC_0195.JPG', 'DSC_0194.JPG', 'DSC_0193.JPG', 'DSC_0192.JPG', 'DSC_0191.JPG', 'DSC_0190.JPG', 'DSC_0189.JPG', 'DSC_0187.JPG', 'DSC_0186.JPG', 'DSC_0185.JPG', 'DSC_0184.JPG', 'DSC_0183.JPG', 'DSC_0182.JPG', 'DSC_0181.JPG', 'DSC_0180.JPG', 'DSC_0179.JPG', 'DSC_0178.JPG', 'DSC_0177.JPG', 'DSC_0176.JPG', 'DSC_0175.JPG', 'DSC_0174.JPG', 'DSC_0173.JPG', 'DSC_0172.JPG', 'DSC_0171.JPG', 'DSC_0170.JPG', 'DSC_0168.JPG', 'DSC_0167.JPG', 'DSC_0166.JPG', 'DSC_0165.JPG', 'DSC_0164.JPG', 'DSC_0163.JPG', 'DSC_0162.JPG', 'DSC_0161.JPG', 'DSC_0160.JPG', 'DSC_0159.JPG', 'DSC_0158.JPG', 'DSC_0157.JPG', 'DSC_0156.JPG', 'DSC_0155.JPG', 'DSC_0154.JPG', 'DSC_0153.JPG', 'DSC_0152.JPG', 'DSC_0151.JPG', 'DSC_0150.JPG', 'DSC_0149.JPG', 'DSC_0148.JPG', 'DSC_0147.JPG', 'DSC_0146.JPG', 'DSC_0145.JPG', 'DSC_0144.JPG', 'DSC_0143.JPG', 'DSC_0142.JPG', 'DSC_0139.JPG', 'DSC_0138.JPG', 'DSC_0137.JPG', 'DSC_0136.JPG', 'DSC_0135.JPG', 'DSC_0132.JPG', 'DSC_0131.JPG', 'DSC_0130.JPG', 'DSC_0129.JPG', 'DSC_0128.JPG', 'DSC_0127.JPG', 'DSC_0126.JPG', 'DSC_0125.JPG', 'DSC_0124.JPG', 'DSC_0123.JPG', 'DSC_0122.JPG', 'DSC_0121.JPG', 'DSC_0120.JPG', 'DSC_0119.JPG', 'DSC_0118.JPG', 'DSC_0117.JPG', 'DSC_0116.JPG', 'DSC_0115.JPG', 'DSC_0114.JPG', 'DSC_0113.JPG', 'DSC_0112.JPG', 'DSC_0111.JPG', 'DSC_0110.JPG', 'DSC_0109.JPG', 'DSC_0108.JPG', 'DSC_0107.JPG', 'DSC_0106.JPG', 'DSC_0105.JPG', 'DSC_0104.JPG', 'DSC_0103.JPG', 'DSC_0102.JPG', 'DSC_0101.JPG', 'DSC_0100.JPG', 'DSC_0099.JPG', 'DSC_0098.JPG', 'DSC_0097.JPG', 'DSC_0096.JPG', 'DSC_0095.JPG', 'DSC_0094.JPG', 'DSC_0093.JPG', 'DSC_0092.JPG', 'DSC_0091.JPG', 'DSC_0090.JPG', 'DSC_0089.JPG', 'DSC_0088.JPG', 'DSC_0087.JPG', 'DSC_0086.JPG', 'DSC_0085.JPG', 'DSC_0084.JPG', 'DSC_0083.JPG', 'DSC_0082.JPG', 'DSC_0081.JPG', 'DSC_0080.JPG', 'DSC_0079.JPG', 'DSC_0078.JPG', 'DSC_0073.JPG', 'DSC_0072.JPG', 'DSC_0071.JPG', 'DSC_0070.JPG', 'DSC_0069.JPG', 'DSC_0068.JPG', 'DSC_0067.JPG', 'DSC_0066.JPG', 'DSC_0065.JPG', 'DSC_0064.JPG', 'DSC_0063.JPG', 'DSC_0061.JPG', 'DSC_0060.JPG', 'DSC_0059.JPG', 'DSC_0058.JPG', 'DSC_0057.JPG', 'DSC_0056.JPG', 'DSC_0055.JPG', 'DSC_0054.JPG', 'DSC_0053.JPG', 'DSC_0052.JPG', 'DSC_0051.JPG', 'DSC_0050.JPG', 'DSC_0049.JPG', 'DSC_0048.JPG', 'DSC_0047.JPG', 'DSC_0046.JPG', 'DSC_0045.JPG', 'DSC_0044.JPG', 'DSC_0043.JPG', 'DSC_0042.JPG', 'DSC_0041.JPG', 'DSC_0040.JPG', 'DSC_0036.JPG', 'DSC_0035.JPG', 'DSC_0034.JPG', 'DSC_0033.JPG', 'DSC_0032.JPG', 'DSC_0031.JPG', 'DSC_0030.JPG', 'DSC_0029.JPG', 'DSC_0028.JPG', 'DSC_0027.JPG', 'DSC_0026.JPG', 'DSC_0025.JPG', 'DSC_0024.JPG', 'DSC_0023.JPG', 'DSC_0022.JPG', 'DSC_0021.JPG', 'DSC_0020.JPG', 'DSC_0019.JPG', 'DSC_0018.JPG', 'DSC_0017.JPG', 'DSC_0016.JPG', 'DSC_0015.JPG', 'DSC_0014.JPG', 'DSC_0013.JPG', 'DSC_0012.JPG', 'DSC_0011.JPG', 'DSC_0010.JPG', 'DSC_0009.JPG', 'DSC_0008.JPG', 'DSC_0007.JPG', 'DSC_0006.JPG', 'DSC_0005.JPG', 'DSC_0004.JPG', 'DSC_0003.JPG', 'DSC_0002.JPG', 'DSC_0001.JPG'])\n",
      "('/media/mycloud/My Pictures/My Scans', ['2008-12 (Dez)', '2008-11 (Nov)'], ['Val_Pagamento_2008_0008.jpg', 'Val_Pagamento_2008_0007.jpg', 'Val_Pagamento_2008_0006.jpg', 'Val_Pagamento_2008_0005.jpg', 'Val_Pagamento_2008_0004.jpg', 'Val_Pagamento_2008_0003.jpg', 'Val_Pagamento_2008_0002.jpg', 'Val_Pagamento_2008_0001.jpg', 'PLasma_Receipt0001.pdf', 'Documentos.jpg', 'Documento_Ana_9_anos.jpg', 'digitalizar0003.jpg', 'digitalizar0002.jpg', 'digitalizar0001.jpg', 'Autorizacao_Lufthansa.jpg'])\n",
      "('/media/mycloud/My Pictures/My Scans/2008-12 (Dez)', [], ['Ana_Foto_9_Anos.jpg'])\n",
      "('/media/mycloud/My Pictures/My Scans/2008-11 (Nov)', [], ['Pagamento_Val_0004.jpg', 'Pagamento_Val_0003.jpg', 'Pagamento_Val_0002.jpg', 'Pagamento_Val_0001.jpg'])\n",
      "('/media/mycloud/My Pictures/IPhone_Mama_FOTOS', ['108APPLE', '107APPLE', '106APPLE'], [])\n",
      "('/media/mycloud/My Pictures/IPhone_Mama_FOTOS/108APPLE', [], ['SVUF9468.mp4', 'PHEE4742.mp4', 'LQSQ2872.mp4', 'KSAQ0665.mp4', 'IMG_8124.JPG', 'IMG_8123.JPG', 'IMG_8122.JPG', 'IMG_8121.JPG', 'IMG_8120.JPG', 'IMG_8119.PNG', 'IMG_8118.PNG', 'IMG_8117.JPG', 'IMG_8116.PNG', 'IMG_8115.JPG', 'IMG_8114.JPG', 'IMG_8113.JPG', 'IMG_8112.JPG', 'IMG_8111.JPG', 'IMG_8110.JPG', 'IMG_8109.JPG', 'IMG_8108.JPG', 'IMG_8107.JPG', 'IMG_8106.JPG', 'IMG_8105.JPG', 'IMG_8104.JPG', 'IMG_8103.JPG', 'IMG_8102.JPG', 'IMG_8101.JPG', 'IMG_8100.JPG', 'IMG_8099.JPG', 'IMG_8098.JPG', 'IMG_8097.JPG', 'IMG_8096.JPG', 'IMG_8095.JPG', 'IMG_8094.JPG', 'IMG_8093.JPG', 'IMG_8092.JPG', 'IMG_8091.JPG', 'IMG_8090.JPG', 'IMG_8089.JPG', 'IMG_8088.JPG', 'IMG_8087.JPG', 'IMG_8086.JPG', 'IMG_8085.JPG', 'IMG_8084.JPG', 'IMG_8083.JPG', 'IMG_8082.JPG', 'IMG_8081.JPG', 'IMG_8080.JPG', 'IMG_8079.JPG', 'IMG_8078.JPG', 'IMG_8077.JPG', 'IMG_8076.JPG', 'IMG_8075.JPG', 'IMG_8074.JPG', 'IMG_8073.JPG', 'IMG_8072.JPG', 'IMG_8071.JPG', 'IMG_8070.JPG', 'IMG_8069.JPG', 'IMG_8068.JPG', 'IMG_8067.JPG', 'IMG_8066.JPG', 'IMG_8065.JPG', 'IMG_8064.JPG', 'IMG_8063.JPG', 'IMG_8062.JPG', 'IMG_8061.JPG', 'IMG_8060.JPG', 'IMG_8059.JPG', 'IMG_8058.JPG', 'IMG_8057.JPG', 'IMG_8056.JPG', 'IMG_8055.JPG', 'IMG_8054.JPG', 'IMG_8053.JPG', 'IMG_8052.JPG', 'IMG_8051.JPG', 'IMG_8050.JPG', 'IMG_8047.JPG', 'IMG_8042.JPG', 'IMG_8040.JPG', 'IMG_8039.JPG', 'IMG_8038.JPG', 'IMG_8037.JPG', 'IMG_8036.JPG', 'IMG_8035.JPG', 'IMG_8034.JPG', 'IMG_8033.JPG', 'IMG_8032.JPG', 'IMG_8031.JPG', 'IMG_8028.JPG', 'IMG_8026.JPG', 'IMG_8025.JPG', 'IMG_8024.JPG', 'IMG_8023.JPG', 'IMG_8022.JPG', 'IMG_8021.JPG', 'IMG_8020.JPG', 'IMG_8019.JPG', 'IMG_8018.JPG', 'IMG_8017.JPG', 'IMG_8016.JPG', 'IMG_8015.JPG', 'IMG_8014.JPG', 'IMG_8013.JPG', 'IMG_8012.JPG', 'IMG_8011.JPG', 'IMG_8010.JPG', 'IMG_8009.JPG', 'IMG_8008.JPG', 'IMG_8007.JPG', 'IMG_8006.JPG', 'IMG_8005.JPG', 'IMG_8004.JPG', 'IMG_8003.JPG', 'IMG_8002.JPG', 'IMG_8001.JPG', 'BOHP4165.mp4'])\n",
      "('/media/mycloud/My Pictures/IPhone_Mama_FOTOS/107APPLE', [], ['XTQB7494.mp4', 'XSIP8338.mp4', 'XQNA0918.mp4', 'UZEW8829.mp4', 'PLEX8962.mp4', 'NKQB5190.mp4', 'MZOT7366.mp4', 'IMG_7999.JPG', 'IMG_7998.JPG', 'IMG_7997.JPG', 'IMG_7996.JPG', 'IMG_7995.JPG', 'IMG_7994.JPG', 'IMG_7993.JPG', 'IMG_7992.JPG', 'IMG_7991.JPG', 'IMG_7990.JPG', 'IMG_7989.JPG', 'IMG_7988.JPG', 'IMG_7987.JPG', 'IMG_7986.JPG', 'IMG_7985.JPG', 'IMG_7984.JPG', 'IMG_7983.JPG', 'IMG_7982.JPG', 'IMG_7981.JPG', 'IMG_7980.JPG', 'IMG_7979.JPG', 'IMG_7978.JPG', 'IMG_7977.JPG', 'IMG_7976.JPG', 'IMG_7975.JPG', 'IMG_7974.JPG', 'IMG_7973.JPG', 'IMG_7972.JPG', 'IMG_7971.JPG', 'IMG_7970.JPG', 'IMG_7969.JPG', 'IMG_7968.JPG', 'IMG_7967.JPG', 'IMG_7966.JPG', 'IMG_7965.JPG', 'IMG_7964.JPG', 'IMG_7963.JPG', 'IMG_7962.JPG', 'IMG_7961.JPG', 'IMG_7960.JPG', 'IMG_7959.JPG', 'IMG_7958.JPG', 'IMG_7957.JPG', 'IMG_7956.JPG', 'IMG_7955.JPG', 'IMG_7954.JPG', 'IMG_7953.JPG', 'IMG_7952.JPG', 'IMG_7951.JPG', 'IMG_7950.JPG', 'IMG_7948.JPG', 'IMG_7945.JPG', 'IMG_7944.JPG', 'IMG_7943.JPG', 'IMG_7942.JPG', 'IMG_7940.JPG', 'IMG_7939.JPG', 'IMG_7937.JPG', 'IMG_7936.JPG', 'IMG_7935.JPG', 'IMG_7934.JPG', 'IMG_7933.JPG', 'IMG_7932.JPG', 'IMG_7930.JPG', 'IMG_7929.JPG', 'IMG_7928.JPG', 'IMG_7927.JPG', 'IMG_7926.JPG', 'IMG_7925.JPG', 'IMG_7924.JPG', 'IMG_7923.JPG', 'IMG_7921.JPG', 'IMG_7920.JPG', 'IMG_7919.JPG', 'IMG_7918.JPG', 'IMG_7917.JPG', 'IMG_7913.JPG', 'IMG_7912.JPG', 'IMG_7910.JPG', 'IMG_7907.JPG', 'IMG_7906.JPG', 'IMG_7905.JPG', 'IMG_7904.JPG', 'IMG_7903.JPG', 'IMG_7902.JPG', 'IMG_7900.JPG', 'IMG_7899.JPG', 'IMG_7898.JPG', 'IMG_7897.JPG', 'IMG_7896.JPG', 'IMG_7894.JPG', 'IMG_7891.JPG', 'IMG_7890.JPG', 'IMG_7889.JPG', 'IMG_7888.JPG', 'IMG_7887.JPG', 'IMG_7886.JPG', 'IMG_7885.JPG', 'IMG_7884.JPG', 'IMG_7883.JPG', 'IMG_7882.JPG', 'IMG_7881.JPG', 'IMG_7880.JPG', 'IMG_7879.JPG', 'IMG_7878.JPG', 'IMG_7877.JPG', 'IMG_7876.JPG', 'IMG_7875.JPG', 'IMG_7874.JPG', 'IMG_7873.JPG', 'IMG_7872.JPG', 'IMG_7871.JPG', 'IMG_7870.JPG', 'IMG_7869.JPG', 'IMG_7868.JPG', 'IMG_7867.JPG', 'IMG_7866.JPG', 'IMG_7865.JPG', 'IMG_7864.JPG', 'IMG_7863.JPG', 'IMG_7862.JPG', 'IMG_7861.JPG', 'IMG_7860.JPG', 'IMG_7859.JPG', 'IMG_7858.JPG', 'IMG_7857.JPG', 'IMG_7856.JPG', 'IMG_7855.JPG', 'IMG_7854.JPG', 'IMG_7853.JPG', 'IMG_7852.JPG', 'IMG_7851.JPG', 'IMG_7850.JPG', 'IMG_7849.JPG', 'IMG_7848.JPG', 'IMG_7847.JPG', 'IMG_7846.JPG', 'IMG_7845.JPG', 'IMG_7844.JPG', 'IMG_7843.JPG', 'IMG_7842.JPG', 'IMG_7841.JPG', 'IMG_7840.JPG', 'IMG_7839.JPG', 'IMG_7838.JPG', 'IMG_7837.JPG', 'IMG_7836.JPG', 'IMG_7835.JPG', 'IMG_7834.JPG', 'IMG_7833.JPG', 'IMG_7832.JPG', 'IMG_7831.JPG', 'IMG_7830.JPG', 'IMG_7829.JPG', 'IMG_7828.JPG', 'IMG_7827.JPG', 'IMG_7826.JPG', 'IMG_7825.JPG', 'IMG_7824.JPG', 'IMG_7823.JPG', 'IMG_7822.JPG', 'IMG_7821.JPG', 'IMG_7820.JPG', 'IMG_7819.JPG', 'IMG_7818.JPG', 'IMG_7817.JPG', 'IMG_7816.JPG', 'IMG_7815.JPG', 'IMG_7814.JPG', 'IMG_7813.JPG', 'IMG_7812.JPG', 'IMG_7811.JPG', 'IMG_7810.JPG', 'IMG_7809.JPG', 'IMG_7808.JPG', 'IMG_7807.JPG', 'IMG_7806.JPG', 'IMG_7805.JPG', 'IMG_7804.JPG', 'IMG_7803.JPG', 'IMG_7802.JPG', 'IMG_7801.JPG', 'IMG_7800.JPG', 'IMG_7799.JPG', 'IMG_7798.JPG', 'IMG_7797.JPG', 'IMG_7796.JPG', 'IMG_7795.JPG', 'IMG_7794.JPG', 'IMG_7793.JPG', 'IMG_7792.JPG', 'IMG_7791.JPG', 'IMG_7790.JPG', 'IMG_7789.JPG', 'IMG_7788.JPG', 'IMG_7787.JPG', 'IMG_7786.JPG', 'IMG_7785.JPG', 'IMG_7784.JPG', 'IMG_7783.JPG', 'IMG_7782.JPG', 'IMG_7781.JPG', 'IMG_7780.JPG', 'IMG_7779.JPG', 'IMG_7778.JPG', 'IMG_7777.JPG', 'IMG_7776.JPG', 'IMG_7775.JPG', 'IMG_7774.JPG', 'IMG_7773.JPG', 'IMG_7772.JPG', 'IMG_7771.JPG', 'IMG_7770.JPG', 'IMG_7769.JPG', 'IMG_7768.JPG', 'IMG_7767.JPG', 'IMG_7766.JPG', 'IMG_7765.JPG', 'IMG_7764.JPG', 'IMG_7763.JPG', 'IMG_7762.JPG', 'IMG_7761.JPG', 'IMG_7760.JPG', 'IMG_7759.JPG', 'IMG_7758.JPG', 'IMG_7757.JPG', 'IMG_7756.JPG', 'IMG_7755.JPG', 'IMG_7754.JPG', 'IMG_7753.JPG', 'IMG_7752.JPG', 'IMG_7751.JPG', 'IMG_7750.JPG', 'IMG_7749.JPG', 'IMG_7748.JPG', 'IMG_7747.JPG', 'IMG_7746.JPG', 'IMG_7745.JPG', 'IMG_7744.JPG', 'IMG_7743.JPG', 'IMG_7742.JPG', 'IMG_7741.JPG', 'IMG_7740.JPG', 'IMG_7739.JPG', 'IMG_7738.JPG', 'IMG_7737.JPG', 'IMG_7736.JPG', 'IMG_7735.JPG', 'IMG_7734.JPG', 'IMG_7733.JPG', 'IMG_7732.JPG', 'IMG_7731.MOV', 'IMG_7730.MOV', 'IMG_7729.JPG', 'IMG_7728.JPG', 'IMG_7727.MOV', 'IMG_7726.JPG', 'IMG_7725.JPG', 'IMG_7724.JPG', 'IMG_7723.JPG', 'IMG_7722.JPG', 'IMG_7721.JPG', 'IMG_7720.JPG', 'IMG_7719.JPG', 'IMG_7718.JPG', 'IMG_7717.JPG', 'IMG_7716.JPG', 'IMG_7715.JPG', 'IMG_7714.JPG', 'IMG_7713.JPG', 'IMG_7712.JPG', 'IMG_7711.JPG', 'IMG_7710.JPG', 'IMG_7709.JPG', 'IMG_7708.JPG', 'IMG_7707.JPG', 'IMG_7706.JPG', 'IMG_7705.JPG', 'IMG_7704.JPG', 'IMG_7703.JPG', 'IMG_7702.JPG', 'IMG_7701.JPG', 'IMG_7700.JPG', 'IMG_7699.JPG', 'IMG_7698.JPG', 'IMG_7697.JPG', 'IMG_7696.JPG', 'IMG_7695.JPG', 'IMG_7694.JPG', 'IMG_7693.JPG', 'IMG_7691.JPG', 'IMG_7690.JPG', 'IMG_7689.JPG', 'IMG_7688.JPG', 'IMG_7687.JPG', 'IMG_7686.JPG', 'IMG_7685.JPG', 'IMG_7684.JPG', 'IMG_7683.JPG', 'IMG_7682.JPG', 'IMG_7681.JPG', 'IMG_7680.JPG', 'IMG_7679.JPG', 'IMG_7678.JPG', 'IMG_7677.JPG', 'IMG_7676.JPG', 'IMG_7675.JPG', 'IMG_7674.JPG', 'IMG_7673.JPG', 'IMG_7672.JPG', 'IMG_7671.JPG', 'IMG_7670.JPG', 'IMG_7669.JPG', 'IMG_7668.JPG', 'IMG_7667.JPG', 'IMG_7666.JPG', 'IMG_7665.JPG', 'IMG_7664.JPG', 'IMG_7663.JPG', 'IMG_7662.JPG', 'IMG_7661.JPG', 'IMG_7660.JPG', 'IMG_7659.JPG', 'IMG_7658.JPG', 'IMG_7657.JPG', 'IMG_7656.JPG', 'IMG_7655.JPG', 'IMG_7654.JPG', 'IMG_7653.JPG', 'IMG_7650.JPG', 'IMG_7649.JPG', 'IMG_7648.JPG', 'IMG_7647.JPG', 'IMG_7646.JPG', 'IMG_7645.JPG', 'IMG_7644.JPG', 'IMG_7643.JPG', 'IMG_7642.JPG', 'IMG_7641.JPG', 'IMG_7640.JPG', 'IMG_7639.JPG', 'IMG_7638.JPG', 'IMG_7637.JPG', 'IMG_7636.JPG', 'IMG_7635.JPG', 'IMG_7634.JPG', 'IMG_7633.JPG', 'IMG_7632.JPG', 'IMG_7481.JPG', 'IMG_7480.JPG', 'IMG_7475.JPG', 'IMG_7474.JPG', 'IMG_7473.JPG', 'IMG_7472.JPG', 'IMG_7471.JPG', 'IMG_7470.JPG', 'IMG_7469.JPG', 'IMG_7468.JPG', 'IMG_7463.JPG', 'IMG_7462.JPG', 'IMG_7461.JPG', 'IMG_7460.JPG', 'IMG_7459.JPG', 'IMG_7458.JPG', 'IMG_7457.JPG', 'IMG_7456.JPG', 'IMG_7455.JPG', 'IMG_7453.JPG', 'IMG_7452.JPG', 'IMG_7451.JPG', 'IMG_7450.JPG', 'IMG_7449.JPG', 'IMG_7448.JPG', 'IMG_7447.JPG', 'IMG_7446.JPG', 'IMG_7445.JPG', 'IMG_7444.JPG', 'IMG_7443.JPG', 'IMG_7442.JPG', 'IMG_7441.JPG', 'IMG_7440.JPG', 'IMG_7439.JPG', 'IMG_7438.JPG', 'IMG_7437.JPG', 'IMG_7435.JPG', 'IMG_7434.JPG', 'IMG_7433.JPG', 'IMG_7432.JPG', 'IMG_7431.JPG', 'IMG_7430.JPG', 'IMG_7429.JPG', 'IMG_7428.JPG', 'IMG_7427.JPG', 'IMG_7426.JPG', 'IMG_7425.JPG', 'IMG_7424.JPG', 'IMG_7423.JPG', 'IMG_7422.JPG', 'IMG_7421.JPG', 'IMG_7420.JPG', 'IMG_7419.JPG', 'IMG_7418.JPG', 'IMG_7417.JPG', 'IMG_7416.JPG', 'IMG_7415.JPG', 'IMG_7414.JPG', 'IMG_7413.JPG', 'IMG_7412.JPG', 'IMG_7411.JPG', 'IMG_7410.JPG', 'IMG_7409.JPG', 'IMG_7408.JPG', 'IMG_7407.JPG', 'IMG_7406.JPG', 'IMG_7405.JPG', 'IMG_7404.JPG', 'IMG_7403.JPG', 'IMG_7402.JPG', 'IMG_7401.JPG', 'IMG_7400.JPG', 'IMG_7399.JPG', 'IMG_7398.MOV', 'IMG_7397.JPG', 'IMG_7396.JPG', 'IMG_7395.JPG', 'IMG_7394.JPG', 'IMG_7393.JPG', 'IMG_7392.JPG', 'IMG_7391.JPG', 'IMG_7390.JPG', 'IMG_7389.JPG', 'IMG_7388.JPG', 'IMG_7387.JPG', 'IMG_7386.JPG', 'IMG_7385.JPG', 'IMG_7384.JPG', 'IMG_7383.JPG', 'IMG_7382.JPG', 'IMG_7381.JPG', 'IMG_7380.JPG', 'IMG_7379.JPG', 'IMG_7378.JPG', 'IMG_7377.JPG', 'IMG_7376.JPG', 'IMG_7375.JPG', 'IMG_7373.JPG', 'IMG_7372.JPG', 'IMG_7371.JPG', 'IMG_7370.JPG', 'IMG_7369.JPG', 'IMG_7368.JPG', 'IMG_7367.JPG', 'IMG_7366.JPG', 'IMG_7362.JPG', 'IMG_7361.JPG', 'IMG_7360.JPG', 'IMG_7359.JPG', 'IMG_7358.JPG', 'IMG_7357.JPG', 'IMG_7356.JPG', 'IMG_7355.JPG', 'IMG_7354.JPG', 'IMG_7353.JPG', 'IMG_7352.JPG', 'IMG_7351.JPG', 'IMG_7350.JPG', 'IMG_7349.JPG', 'IMG_7348.JPG', 'IMG_7347.JPG', 'IMG_7346.JPG', 'IMG_7345.JPG', 'IMG_7344.JPG', 'IMG_7343.JPG', 'IMG_7342.JPG', 'IMG_7341.JPG', 'IMG_7340.JPG', 'IMG_7339.JPG', 'IMG_7338.JPG', 'IMG_7337.JPG', 'IMG_7336.JPG', 'IMG_7335.JPG', 'IMG_7334.JPG', 'IMG_7333.JPG', 'IMG_7332.JPG', 'IMG_7331.JPG', 'IMG_7330.JPG', 'IMG_7329.JPG', 'IMG_7328.JPG', 'IMG_7327.JPG', 'IMG_7326.JPG', 'IMG_7325.JPG', 'IMG_7324.JPG', 'IMG_7323.JPG', 'IMG_7322.JPG', 'IMG_7321.JPG', 'IMG_7320.JPG', 'IMG_7319.JPG', 'IMG_7318.JPG', 'IMG_7317.JPG', 'IMG_7316.JPG', 'IMG_7315.JPG', 'IMG_7314.MOV', 'IMG_7313.JPG', 'IMG_7312.MOV', 'IMG_7311.JPG', 'IMG_7310.JPG', 'IMG_7309.JPG', 'IMG_7308.MOV', 'IMG_7307.JPG', 'IMG_7306.JPG', 'IMG_7305.JPG', 'IMG_7304.JPG', 'IMG_7303.JPG', 'IMG_7302.JPG', 'IMG_7301.JPG', 'IMG_7300.JPG', 'IMG_7299.JPG', 'IMG_7298.JPG', 'IMG_7297.JPG', 'IMG_7296.JPG', 'IMG_7295.JPG', 'IMG_7294.JPG', 'IMG_7293.JPG', 'IMG_7292.JPG', 'IMG_7291.JPG', 'IMG_7290.JPG', 'IMG_7289.JPG', 'IMG_7288.JPG', 'IMG_7287.JPG', 'IMG_7286.JPG', 'IMG_7285.JPG', 'IMG_7284.JPG', 'IMG_7283.JPG', 'IMG_7280.JPG', 'IMG_7279.JPG', 'IMG_7278.JPG', 'IMG_7277.JPG', 'IMG_7276.JPG', 'IMG_7275.JPG', 'IMG_7274.JPG', 'IMG_7270.JPG', 'IMG_7269.JPG', 'IMG_7268.JPG', 'IMG_7267.JPG', 'IMG_7266.JPG', 'IMG_7265.JPG', 'IMG_7263.JPG', 'IMG_7261.JPG', 'IMG_7260.JPG', 'IMG_7239.JPG', 'IMG_7238.JPG', 'IMG_7237.JPG', 'IMG_7236.JPG', 'IMG_7235.JPG', 'IMG_7234.MOV', 'IMG_7233.JPG', 'IMG_7231.JPG', 'IMG_7230.JPG', 'IMG_7229.JPG', 'IMG_7228.JPG', 'IMG_7227.JPG', 'IMG_7225.JPG', 'IMG_7224.JPG', 'IMG_7223.JPG', 'IMG_7222.JPG', 'IMG_7221.JPG', 'IMG_7220.JPG', 'IMG_7219.JPG', 'IMG_7217.JPG', 'IMG_7216.JPG', 'IMG_7215.JPG', 'IMG_7214.JPG', 'IMG_7212.JPG', 'IMG_7211.JPG', 'IMG_7210.JPG', 'IMG_7209.JPG', 'IMG_7208.JPG', 'IMG_7206.JPG', 'IMG_7205.JPG', 'IMG_7203.JPG', 'IMG_7202.JPG', 'IMG_7200.JPG', 'IMG_7199.JPG', 'IMG_7198.JPG', 'IMG_7197.JPG', 'IMG_7196.JPG', 'IMG_7195.JPG', 'IMG_7194.JPG', 'IMG_7193.JPG', 'IMG_7192.JPG', 'IMG_7191.JPG', 'IMG_7190.JPG', 'IMG_7188.JPG', 'IMG_7187.JPG', 'IMG_7186.JPG', 'IMG_7185.JPG', 'IMG_7184.JPG', 'IMG_7183.JPG', 'IMG_7182.JPG', 'IMG_7181.JPG', 'IMG_7180.JPG', 'IMG_7179.JPG', 'IMG_7178.JPG', 'IMG_7177.JPG', 'IMG_7176.JPG', 'IMG_7175.JPG', 'IMG_7174.JPG', 'IMG_7173.JPG', 'IMG_7171.JPG', 'IMG_7170.JPG', 'IMG_7169.JPG', 'IMG_7168.JPG', 'IMG_7166.JPG', 'IMG_7165.JPG', 'IMG_7164.JPG', 'IMG_7163.JPG', 'IMG_7162.JPG', 'IMG_7161.JPG', 'IMG_7160.JPG', 'IMG_7159.JPG', 'IMG_7158.JPG', 'IMG_7157.JPG', 'IMG_7155.JPG', 'IMG_7154.JPG', 'IMG_7153.JPG', 'IMG_7152.JPG', 'IMG_7151.JPG', 'IMG_7150.JPG', 'IMG_7149.JPG', 'IMG_7148.JPG', 'IMG_7147.JPG', 'IMG_7146.JPG', 'IMG_7145.JPG', 'IMG_7144.JPG', 'IMG_7143.JPG', 'IMG_7141.JPG', 'IMG_7140.JPG', 'IMG_7124.JPG', 'IMG_7123.JPG', 'IMG_7122.JPG', 'IMG_7121.JPG', 'IMG_7120.JPG', 'IMG_7118.JPG', 'IMG_7117.JPG', 'IMG_7116.JPG', 'IMG_7114.JPG', 'IMG_7113.JPG', 'IMG_7112.JPG', 'IMG_7111.JPG', 'IMG_7108.JPG', 'IMG_7106.JPG', 'IMG_7105.JPG', 'IMG_7104.JPG', 'IMG_7103.JPG', 'IMG_7102.JPG', 'IMG_7101.JPG', 'IMG_7100.JPG', 'IMG_7099.JPG', 'IMG_7098.JPG', 'IMG_7096.JPG', 'IMG_7095.JPG', 'IMG_7094.JPG', 'IMG_7092.JPG', 'IMG_7091.JPG', 'IMG_7090.JPG', 'IMG_7089.JPG', 'IMG_7088.JPG', 'IMG_7087.JPG', 'IMG_7086.JPG', 'IMG_7084.JPG', 'IMG_7083.JPG', 'IMG_7082.JPG', 'IMG_7081.JPG', 'IMG_7080.JPG', 'IMG_7079.JPG', 'IMG_7078.JPG', 'IMG_7077.JPG', 'IMG_7076.JPG', 'IMG_7075.JPG', 'IMG_7074.JPG', 'IMG_7073.JPG', 'IMG_7072.JPG', 'IMG_7070.JPG', 'IMG_7069.JPG', 'IMG_7068.JPG', 'IMG_7067.JPG', 'IMG_7066.JPG', 'IMG_7064.JPG', 'IMG_7063.JPG', 'IMG_7062.JPG', 'IMG_7061.JPG', 'IMG_7060.JPG', 'IMG_7059.JPG', 'IMG_7058.JPG', 'IMG_7056.JPG', 'IMG_7055.JPG', 'IMG_7054.JPG', 'IMG_7053.JPG', 'IMG_7052.JPG', 'IMG_7049.JPG', 'IMG_7048.JPG', 'IMG_7047.JPG', 'IMG_7046.JPG', 'IMG_7045.JPG', 'IMG_7044.JPG', 'IMG_7042.JPG', 'IMG_7039.JPG', 'IMG_7037.JPG', 'IMG_7033.JPG', 'IMG_7032.JPG', 'IMG_7023.JPG', 'IMG_7022.JPG', 'IMG_7021.JPG', 'IMG_7018.JPG', 'IMG_7016.JPG', 'IMG_7015.JPG', 'IMG_7012.JPG', 'IMG_7011.JPG', 'IMG_7010.JPG', 'IMG_7008.JPG', 'IMG_7007.JPG', 'IMG_7004.JPG', 'IMG_7001.JPG', 'IAPE7522.mp4', 'HPVB3195.mp4'])\n",
      "('/media/mycloud/My Pictures/IPhone_Mama_FOTOS/106APPLE', [], ['NKTA2161.mp4', 'IMG_6999.JPG', 'IMG_6998.JPG', 'IMG_6997.JPG', 'IMG_6996.JPG', 'IMG_6995.JPG', 'IMG_6994.JPG', 'IMG_6993.JPG', 'IMG_6992.JPG', 'IMG_6991.JPG', 'IMG_6990.JPG', 'IMG_6989.JPG', 'IMG_6988.JPG', 'IMG_6987.JPG', 'IMG_6986.JPG', 'IMG_6985.JPG', 'IMG_6984.JPG', 'IMG_6983.JPG', 'IMG_6982.JPG', 'IMG_6981.JPG', 'IMG_6980.JPG', 'IMG_6979.JPG', 'IMG_6978.JPG', 'IMG_6977.JPG', 'IMG_6976.JPG', 'IMG_6975.JPG', 'IMG_6974.JPG', 'IMG_6973.JPG', 'IMG_6972.JPG', 'IMG_6971.JPG', 'IMG_6970.JPG', 'IMG_6969.JPG', 'IMG_6968.JPG', 'IMG_6967.JPG', 'IMG_6966.JPG', 'IMG_6965.JPG', 'IMG_6964.JPG', 'IMG_6963.JPG', 'IMG_6962.JPG', 'IMG_6961.JPG', 'IMG_6960.JPG', 'IMG_6959.JPG', 'IMG_6958.JPG', 'IMG_6957.JPG', 'IMG_6956.JPG', 'IMG_6955.JPG', 'IMG_6954.JPG', 'IMG_6953.JPG', 'IMG_6952.JPG', 'IMG_6951.JPG', 'IMG_6950.JPG', 'IMG_6949.JPG', 'IMG_6948.JPG', 'IMG_6947.JPG', 'IMG_6946.JPG', 'IMG_6945.JPG', 'IMG_6944.JPG', 'IMG_6943.JPG', 'IMG_6942.JPG', 'IMG_6941.JPG', 'IMG_6940.JPG', 'IMG_6939.JPG', 'IMG_6938.JPG', 'IMG_6937.JPG', 'IMG_6936.JPG', 'IMG_6935.JPG', 'IMG_6934.JPG', 'IMG_6933.JPG', 'IMG_6932.JPG', 'IMG_6931.JPG', 'IMG_6930.JPG', 'IMG_6929.JPG', 'IMG_6928.JPG', 'IMG_6927.JPG', 'IMG_6926.JPG', 'IMG_6925.JPG', 'IMG_6924.JPG', 'IMG_6923.JPG', 'IMG_6922.JPG', 'IMG_6921.JPG', 'IMG_6920.JPG', 'IMG_6919.JPG', 'IMG_6918.JPG', 'IMG_6916.PNG', 'IMG_6915.JPG', 'IMG_6914.JPG', 'IMG_6913.JPG', 'IMG_6912.JPG', 'IMG_6911.JPG', 'IMG_6910.JPG', 'IMG_6909.JPG', 'IMG_6908.JPG', 'IMG_6907.JPG', 'IMG_6906.JPG', 'IMG_6905.JPG', 'IMG_6904.JPG', 'IMG_6903.JPG', 'IMG_6902.JPG', 'IMG_6901.JPG', 'IMG_6900.JPG', 'IMG_6899.JPG', 'IMG_6898.JPG', 'IMG_6897.JPG', 'IMG_6896.JPG', 'IMG_6895.JPG', 'IMG_6894.JPG', 'IMG_6893.JPG', 'IMG_6892.JPG', 'IMG_6891.JPG', 'IMG_6890.JPG', 'IMG_6889.JPG', 'IMG_6888.JPG', 'IMG_6887.JPG', 'IMG_6886.JPG', 'IMG_6885.JPG', 'IMG_6884.MOV', 'IMG_6883.JPG', 'IMG_6882.JPG', 'IMG_6881.JPG', 'IMG_6880.JPG', 'IMG_6879.JPG', 'IMG_6878.JPG', 'IMG_6877.JPG', 'IMG_6876.JPG', 'IMG_6875.JPG', 'IMG_6874.JPG', 'IMG_6873.JPG', 'IMG_6872.JPG', 'IMG_6871.JPG', 'IMG_6870.JPG', 'IMG_6869.JPG', 'IMG_6868.JPG', 'IMG_6867.JPG', 'IMG_6866.JPG', 'IMG_6865.JPG', 'IMG_6864.JPG', 'IMG_6863.JPG', 'IMG_6862.JPG', 'IMG_6861.JPG', 'IMG_6860.JPG', 'IMG_6859.JPG', 'IMG_6858.JPG', 'IMG_6857.JPG', 'IMG_6856.JPG', 'IMG_6855.JPG', 'IMG_6854.JPG', 'IMG_6853.JPG', 'IMG_6852.JPG', 'IMG_6851.JPG', 'IMG_6850.JPG', 'IMG_6849.JPG', 'IMG_6848.JPG', 'IMG_6847.JPG', 'IMG_6846.JPG', 'IMG_6845.JPG', 'IMG_6844.JPG', 'IMG_6843.JPG', 'IMG_6842.JPG', 'IMG_6841.JPG', 'IMG_6840.JPG', 'IMG_6839.JPG', 'IMG_6838.JPG', 'IMG_6837.JPG', 'IMG_6836.JPG', 'IMG_6835.JPG', 'IMG_6834.JPG', 'IMG_6833.JPG', 'IMG_6832.JPG', 'IMG_6831.JPG', 'IMG_6830.JPG', 'IMG_6829.JPG', 'IMG_6828.JPG', 'IMG_6827.JPG', 'IMG_6826.JPG', 'IMG_6825.JPG', 'IMG_6824.JPG', 'IMG_6823.JPG', 'IMG_6822.JPG', 'IMG_6821.JPG', 'IMG_6820.JPG', 'IMG_6819.JPG', 'IMG_6818.JPG', 'IMG_6817.JPG', 'IMG_6816.JPG', 'IMG_6815.JPG', 'IMG_6814.JPG', 'IMG_6813.JPG', 'IMG_6812.JPG', 'IMG_6811.JPG', 'IMG_6810.JPG', 'IMG_6809.JPG', 'IMG_6808.JPG', 'IMG_6807.JPG', 'IMG_6806.JPG', 'IMG_6805.JPG', 'IMG_6804.JPG', 'IMG_6803.JPG', 'IMG_6802.JPG', 'IMG_6801.JPG', 'IMG_6800.JPG', 'IMG_6799.JPG', 'IMG_6798.JPG', 'IMG_6797.JPG', 'IMG_6796.JPG', 'IMG_6795.JPG', 'IMG_6794.JPG', 'IMG_6793.JPG', 'IMG_6792.JPG', 'IMG_6791.JPG', 'IMG_6790.JPG', 'IMG_6789.JPG', 'IMG_6788.JPG', 'IMG_6787.JPG', 'IMG_6786.JPG', 'IMG_6785.JPG', 'IMG_6784.JPG', 'IMG_6783.JPG', 'IMG_6782.JPG', 'IMG_6781.JPG', 'IMG_6780.JPG', 'IMG_6778.JPG', 'IMG_6777.JPG', 'IMG_6776.JPG', 'IMG_6775.JPG', 'IMG_6774.JPG', 'IMG_6773.JPG', 'IMG_6772.JPG', 'IMG_6771.JPG', 'IMG_6770.JPG', 'IMG_6769.JPG', 'IMG_6768.JPG', 'IMG_6767.JPG', 'IMG_6766.JPG', 'IMG_6765.JPG', 'IMG_6764.JPG', 'IMG_6763.JPG', 'IMG_6762.JPG', 'IMG_6761.JPG', 'IMG_6760.JPG', 'IMG_6759.JPG', 'IMG_6757.JPG', 'IMG_6756.PNG', 'IMG_6755.PNG', 'IMG_6754.PNG', 'IMG_6753.PNG', 'IMG_6752.PNG', 'IMG_6751.PNG', 'IMG_6750.PNG', 'IMG_6749.PNG', 'IMG_6748.PNG', 'IMG_6747.PNG', 'IMG_6746.PNG', 'IMG_6745.PNG', 'IMG_6744.JPG', 'IMG_6742.PNG', 'IMG_6741.JPG', 'IMG_6740.JPG', 'IMG_6739.JPG', 'IMG_6738.JPG', 'IMG_6737.JPG', 'IMG_6736.JPG', 'IMG_6733.JPG', 'IMG_6729.JPG', 'IMG_6728.JPG', 'IMG_6727.JPG', 'IMG_6726.JPG', 'IMG_6721.JPG', 'IMG_6719.JPG', 'IMG_6718.JPG', 'IMG_6717.JPG', 'IMG_6716.JPG', 'IMG_6715.JPG', 'IMG_6714.JPG', 'IMG_6711.JPG', 'IMG_6706.JPG', 'IMG_6704.JPG', 'IMG_6703.JPG', 'IMG_6702.JPG', 'IMG_6701.JPG', 'IMG_6700.JPG', 'IMG_6699.JPG', 'IMG_6698.JPG', 'IMG_6697.JPG', 'IMG_6696.JPG', 'IMG_6695.JPG', 'IMG_6694.JPG', 'IMG_6693.JPG', 'IMG_6691.JPG', 'IMG_6690.JPG', 'IMG_6689.JPG', 'IMG_6687.JPG', 'IMG_6683.JPG', 'IMG_6682.JPG', 'IMG_6677.PNG', 'IMG_6676.JPG', 'IMG_6675.JPG', 'IMG_6672.JPG', 'IMG_6671.JPG', 'IMG_6670.JPG', 'IMG_6669.JPG', 'IMG_6668.JPG', 'IMG_6667.JPG', 'IMG_6666.JPG', 'IMG_6665.JPG', 'IMG_6664.JPG', 'IMG_6663.JPG', 'IMG_6662.JPG', 'IMG_6661.JPG', 'IMG_6660.JPG', 'IMG_6659.JPG', 'IMG_6653.JPG', 'IMG_6652.JPG', 'IMG_6651.JPG', 'IMG_6650.JPG', 'IMG_6649.JPG', 'IMG_6647.JPG', 'IMG_6642.JPG', 'IMG_6636.JPG', 'IMG_6635.JPG', 'IMG_6634.JPG', 'IMG_6633.JPG', 'IMG_6632.JPG', 'IMG_6631.JPG', 'IMG_6629.JPG', 'IMG_6627.JPG', 'IMG_6624.JPG', 'IMG_6623.JPG', 'IMG_6622.JPG', 'IMG_6621.JPG', 'IMG_6620.JPG', 'IMG_6619.JPG', 'IMG_6618.JPG', 'IMG_6617.JPG', 'IMG_6616.JPG', 'IMG_6615.JPG', 'IMG_6614.JPG', 'IMG_6610.JPG', 'IMG_6609.JPG', 'IMG_6607.JPG', 'IMG_6604.JPG', 'IMG_6603.JPG', 'IMG_6599.MOV', 'IMG_6598.MOV', 'IMG_6597.MOV', 'IMG_6596.MOV', 'IMG_6590.JPG', 'IMG_6589.JPG', 'IMG_6587.JPG', 'IMG_6586.JPG', 'IMG_6585.PNG', 'IMG_6583.JPG', 'IMG_6582.JPG', 'IMG_6581.JPG', 'IMG_6580.JPG', 'IMG_6579.JPG', 'IMG_6578.JPG', 'IMG_6577.JPG', 'IMG_6576.JPG', 'IMG_6575.JPG', 'IMG_6574.JPG', 'IMG_6573.JPG', 'IMG_6572.JPG', 'IMG_6571.JPG', 'IMG_6570.JPG', 'IMG_6569.JPG', 'IMG_6568.JPG', 'IMG_6565.JPG', 'IMG_6563.JPG', 'IMG_6562.JPG', 'IMG_6559.JPG', 'IMG_6558.JPG', 'IMG_6554.JPG', 'IMG_6553.JPG', 'IMG_6549.JPG', 'IMG_6546.JPG', 'IMG_6542.JPG', 'IMG_6541.JPG', 'IMG_6539.JPG', 'IMG_6538.JPG', 'IMG_6537.JPG', 'IMG_6536.JPG', 'IMG_6535.JPG', 'IMG_6534.JPG', 'IMG_6533.JPG', 'IMG_6532.JPG', 'IMG_6531.JPG', 'IMG_6530.JPG', 'IMG_6529.JPG', 'IMG_6528.JPG', 'IMG_6527.JPG', 'IMG_6526.JPG', 'IMG_6524.JPG', 'IMG_6523.JPG', 'IMG_6521.JPG', 'IMG_6519.JPG', 'IMG_6518.JPG', 'IMG_6517.JPG', 'IMG_6516.JPG', 'IMG_6515.JPG', 'IMG_6514.JPG', 'IMG_6513.JPG', 'IMG_6512.JPG', 'IMG_6511.JPG', 'IMG_6510.JPG', 'IMG_6509.JPG', 'IMG_6508.JPG', 'IMG_6506.JPG', 'IMG_6505.JPG', 'IMG_6504.JPG', 'IMG_6503.JPG', 'IMG_6502.JPG', 'IMG_6501.JPG', 'IMG_6500.JPG', 'IMG_6499.JPG', 'IMG_6498.JPG', 'IMG_6497.JPG', 'IMG_6496.JPG', 'IMG_6495.JPG', 'IMG_6494.JPG', 'IMG_6493.JPG', 'IMG_6492.JPG', 'IMG_6491.JPG', 'IMG_6490.JPG', 'IMG_6489.JPG', 'IMG_6488.JPG', 'IMG_6487.JPG', 'IMG_6486.JPG', 'IMG_6485.JPG', 'IMG_6484.JPG', 'IMG_6483.MOV', 'IMG_6482.JPG', 'IMG_6481.JPG', 'IMG_6480.JPG', 'IMG_6479.JPG', 'IMG_6478.JPG', 'IMG_6477.JPG', 'IMG_6476.JPG', 'IMG_6474.JPG', 'IMG_6473.JPG', 'IMG_6472.JPG', 'IMG_6471.JPG', 'IMG_6470.JPG', 'IMG_6469.JPG', 'IMG_6468.JPG', 'IMG_6467.JPG', 'IMG_6466.JPG', 'IMG_6465.JPG', 'IMG_6464.JPG', 'IMG_6463.JPG', 'IMG_6462.JPG', 'IMG_6461.JPG', 'IMG_6460.JPG', 'IMG_6459.JPG', 'IMG_6458.JPG', 'IMG_6457.JPG', 'IMG_6456.JPG', 'IMG_6455.JPG', 'IMG_6454.JPG', 'IMG_6453.JPG', 'IMG_6452.JPG', 'IMG_6451.JPG', 'IMG_6450.JPG', 'IMG_6449.JPG', 'IMG_6448.JPG', 'IMG_6447.JPG', 'IMG_6446.JPG', 'IMG_6445.JPG', 'IMG_6444.JPG', 'IMG_6443.JPG', 'IMG_6442.JPG', 'IMG_6441.JPG', 'IMG_6440.JPG', 'IMG_6439.JPG', 'IMG_6438.JPG', 'IMG_6437.JPG', 'IMG_6436.JPG', 'IMG_6435.JPG', 'IMG_6434.JPG', 'IMG_6433.JPG', 'IMG_6432.JPG', 'IMG_6431.JPG', 'IMG_6430.JPG', 'IMG_6429.JPG', 'IMG_6428.JPG', 'IMG_6427.JPG', 'IMG_6425.JPG', 'IMG_6422.JPG', 'IMG_6418.JPG', 'IMG_6416.MOV', 'IMG_6415.MOV', 'IMG_6414.JPG', 'IMG_6413.JPG', 'IMG_6412.JPG', 'IMG_6411.JPG', 'IMG_6410.JPG', 'IMG_6409.JPG', 'IMG_6408.JPG', 'IMG_6407.JPG', 'IMG_6406.JPG', 'IMG_6405.JPG', 'IMG_6404.JPG', 'IMG_6403.JPG', 'IMG_6402.JPG', 'IMG_6400.JPG', 'IMG_6399.JPG', 'IMG_6398.JPG', 'IMG_6397.JPG', 'IMG_6396.MOV', 'IMG_6395.MOV', 'IMG_6384.JPG', 'IMG_6383.JPG', 'IMG_6382.JPG', 'IMG_6381.JPG', 'IMG_6380.JPG', 'IMG_6379.JPG', 'IMG_6378.JPG', 'IMG_6377.JPG', 'IMG_6374.JPG', 'IMG_6373.JPG', 'IMG_6372.JPG', 'IMG_6371.JPG', 'IMG_6370.JPG', 'IMG_6369.JPG', 'IMG_6368.JPG', 'IMG_6365.JPG', 'IMG_6364.JPG', 'IMG_6363.JPG', 'IMG_6362.JPG', 'IMG_6361.JPG', 'IMG_6360.JPG', 'IMG_6352.JPG', 'IMG_6350.JPG', 'IMG_6349.JPG', 'IMG_6348.JPG', 'IMG_6347.JPG', 'IMG_6346.JPG', 'IMG_6345.JPG', 'IMG_6344.JPG', 'IMG_6343.JPG', 'IMG_6342.JPG', 'IMG_6341.JPG', 'IMG_6340.JPG', 'IMG_6339.JPG', 'IMG_6336.JPG', 'IMG_6335.JPG', 'IMG_6334.JPG', 'IMG_6333.JPG', 'IMG_6332.JPG', 'IMG_6331.JPG', 'IMG_6330.JPG', 'IMG_6329.JPG', 'IMG_6328.JPG', 'IMG_6327.JPG', 'IMG_6326.JPG', 'IMG_6325.JPG', 'IMG_6324.JPG', 'IMG_6323.JPG', 'IMG_6322.JPG', 'IMG_6317.JPG', 'IMG_6315.JPG', 'IMG_6314.JPG', 'IMG_6313.JPG', 'IMG_6312.JPG', 'IMG_6311.JPG', 'IMG_6310.JPG', 'IMG_6309.JPG', 'IMG_6308.JPG', 'IMG_6307.JPG', 'IMG_6306.JPG', 'IMG_6305.JPG', 'IMG_6304.JPG', 'IMG_6303.JPG', 'IMG_6302.JPG', 'IMG_6301.JPG', 'IMG_6300.JPG', 'IMG_6299.JPG', 'IMG_6298.JPG', 'IMG_6297.JPG', 'IMG_6296.JPG', 'IMG_6292.JPG', 'IMG_6288.JPG', 'IMG_6287.JPG', 'IMG_6286.JPG', 'IMG_6285.JPG', 'IMG_6284.JPG', 'IMG_6283.JPG', 'IMG_6282.JPG', 'IMG_6281.JPG', 'IMG_6280.JPG', 'IMG_6279.JPG', 'IMG_6278.JPG', 'IMG_6277.JPG', 'IMG_6276.JPG', 'IMG_6275.JPG', 'IMG_6274.JPG', 'IMG_6273.JPG', 'IMG_6272.JPG', 'IMG_6271.JPG', 'IMG_6270.JPG', 'IMG_6264.JPG', 'IMG_6263.JPG', 'IMG_6262.JPG', 'IMG_6261.JPG', 'IMG_6260.JPG', 'IMG_6259.JPG', 'IMG_6258.JPG', 'IMG_6257.JPG', 'IMG_6256.JPG', 'IMG_6255.JPG', 'IMG_6254.JPG', 'IMG_6253.JPG', 'IMG_6252.JPG', 'IMG_6251.JPG', 'IMG_6250.JPG', 'IMG_6249.JPG', 'IMG_6248.JPG', 'IMG_6247.JPG', 'IMG_6246.JPG', 'IMG_6245.JPG', 'IMG_6244.JPG', 'IMG_6243.JPG', 'IMG_6242.JPG', 'IMG_6241.JPG', 'IMG_6240.JPG', 'IMG_6239.PNG', 'IMG_6236.PNG', 'IMG_6235.JPG', 'IMG_6234.JPG', 'IMG_6229.JPG', 'IMG_6228.JPG', 'IMG_6227.JPG', 'IMG_6226.JPG', 'IMG_6225.JPG', 'IMG_6224.JPG', 'IMG_6223.JPG', 'IMG_6222.JPG', 'IMG_6221.JPG', 'IMG_6220.JPG', 'IMG_6219.JPG', 'IMG_6218.JPG', 'IMG_6217.JPG', 'IMG_6216.JPG', 'IMG_6215.JPG', 'IMG_6214.JPG', 'IMG_6213.JPG', 'IMG_6212.JPG', 'IMG_6211.JPG', 'IMG_6210.JPG', 'IMG_6209.JPG', 'IMG_6208.JPG', 'IMG_6207.JPG', 'IMG_6206.JPG', 'IMG_6205.JPG', 'IMG_6204.JPG', 'IMG_6203.JPG', 'IMG_6202.JPG', 'IMG_6201.JPG', 'IMG_6200.JPG', 'IMG_6199.JPG', 'IMG_6198.JPG', 'IMG_6194.JPG', 'IMG_6193.JPG', 'IMG_6192.JPG', 'IMG_6191.JPG', 'IMG_6190.JPG', 'IMG_6189.JPG', 'IMG_6188.JPG', 'IMG_6187.JPG', 'IMG_6186.JPG', 'IMG_6185.JPG', 'IMG_6184.JPG', 'IMG_6183.JPG', 'IMG_6182.JPG', 'IMG_6181.PNG', 'IMG_6176.JPG', 'IMG_6175.JPG', 'IMG_6174.JPG', 'IMG_6172.JPG', 'IMG_6171.JPG', 'IMG_6170.JPG', 'IMG_6169.JPG', 'IMG_6168.JPG', 'IMG_6167.JPG', 'IMG_6166.JPG', 'IMG_6165.JPG', 'IMG_6164.JPG', 'IMG_6163.JPG', 'IMG_6162.JPG', 'IMG_6161.JPG', 'IMG_6160.JPG', 'IMG_6159.JPG', 'IMG_6158.JPG', 'IMG_6157.JPG', 'IMG_6156.JPG', 'IMG_6155.JPG', 'IMG_6154.JPG', 'IMG_6153.JPG', 'IMG_6152.JPG', 'IMG_6151.JPG', 'IMG_6150.JPG', 'IMG_6149.JPG', 'IMG_6148.JPG', 'IMG_6147.JPG', 'IMG_6146.JPG', 'IMG_6145.JPG', 'IMG_6144.JPG', 'IMG_6143.JPG', 'IMG_6142.JPG', 'IMG_6141.JPG', 'IMG_6140.JPG', 'IMG_6139.JPG', 'IMG_6138.JPG', 'IMG_6137.JPG', 'IMG_6136.JPG', 'IMG_6135.JPG', 'IMG_6134.JPG', 'IMG_6133.JPG', 'IMG_6132.JPG', 'IMG_6131.JPG', 'IMG_6130.JPG', 'IMG_6129.JPG', 'IMG_6128.JPG', 'IMG_6127.JPG', 'IMG_6126.JPG', 'IMG_6125.JPG', 'IMG_6124.JPG', 'IMG_6123.JPG', 'IMG_6121.JPG', 'IMG_6120.JPG', 'IMG_6119.JPG', 'IMG_6118.JPG', 'IMG_6117.JPG', 'IMG_6116.JPG', 'IMG_6115.JPG', 'IMG_6114.JPG', 'IMG_6113.JPG', 'IMG_6112.JPG', 'IMG_6111.JPG', 'IMG_6110.PNG', 'IMG_6108.JPG', 'IMG_6107.JPG', 'IMG_6106.JPG', 'IMG_6105.JPG', 'IMG_6104.JPG', 'IMG_6103.JPG', 'IMG_6102.JPG', 'IMG_6101.JPG', 'IMG_6100.JPG', 'IMG_6099.JPG', 'IMG_6098.JPG', 'IMG_6097.JPG', 'IMG_6096.JPG', 'IMG_6095.JPG', 'IMG_6094.JPG', 'IMG_6093.JPG', 'IMG_6092.JPG', 'IMG_6091.JPG', 'IMG_6090.JPG', 'IMG_6089.JPG', 'IMG_6088.JPG', 'IMG_6085.JPG', 'IMG_6084.JPG', 'IMG_6083.JPG', 'IMG_6082.JPG', 'IMG_6081.JPG', 'IMG_6080.JPG', 'IMG_6079.JPG', 'IMG_6078.JPG', 'IMG_6077.JPG', 'IMG_6076.JPG', 'IMG_6075.JPG', 'IMG_6074.JPG', 'IMG_6073.JPG', 'IMG_6072.JPG', 'IMG_6071.JPG', 'IMG_6070.JPG', 'IMG_6069.JPG', 'IMG_6068.JPG', 'IMG_6067.JPG', 'IMG_6066.JPG', 'IMG_6065.JPG', 'IMG_6064.JPG', 'IMG_6063.JPG', 'IMG_6062.JPG', 'IMG_6061.JPG', 'IMG_6060.JPG', 'IMG_6055.JPG', 'IMG_6054.JPG', 'IMG_6052.JPG', 'IMG_6051.JPG', 'IMG_6050.JPG', 'IMG_6049.JPG', 'IMG_6048.JPG', 'IMG_6047.JPG', 'IMG_6046.JPG', 'IMG_6045.JPG', 'IMG_6044.JPG', 'IMG_6043.JPG', 'IMG_6042.JPG', 'IMG_6041.JPG', 'IMG_6040.JPG', 'IMG_6039.JPG', 'IMG_6038.JPG', 'IMG_6037.JPG', 'IMG_6036.JPG', 'IMG_6035.JPG', 'IMG_6034.JPG', 'IMG_6033.JPG', 'IMG_6032.JPG', 'IMG_6031.JPG', 'IMG_6030.JPG', 'IMG_6029.JPG', 'IMG_6025.JPG', 'IMG_6022.JPG', 'IMG_6021.JPG', 'IMG_6020.JPG', 'IMG_6019.JPG', 'IMG_6018.JPG', 'IMG_6017.JPG', 'IMG_6016.JPG', 'IMG_6015.JPG', 'IMG_6014.JPG', 'IMG_6013.JPG', 'IMG_6009.JPG', 'IMG_6008.JPG', 'IMG_6007.JPG', 'IMG_6006.JPG', 'IMG_6005.JPG', 'IMG_6004.JPG', 'IMG_6003.JPG', 'IMG_6002.JPG', 'IMG_6001.JPG', 'HOTQ6844.mp4', 'GKME7016.mp4', 'CMQY1336.mp4', 'BOOV3414.mp4'])\n",
      "('/media/mycloud/My Pictures/27.09.04', ['CD4', 'CD3', 'CD2', 'CD1'], [])\n",
      "('/media/mycloud/My Pictures/27.09.04/CD4', [], ['FH000034.JPG', 'FH000029.JPG', 'FH000004.JPG', 'CD4.zip'])\n",
      "('/media/mycloud/My Pictures/27.09.04/CD3', [], ['FH000002.JPG', 'CD1+CD3.zip'])\n",
      "('/media/mycloud/My Pictures/27.09.04/CD2', [], ['FH000036.JPG', 'FH000014.JPG', 'FH000007.JPG', 'CD2.zip'])\n",
      "('/media/mycloud/My Pictures/27.09.04/CD1', [], ['FH000037.JPG', 'FH000017.JPG', 'FH000015.JPG', 'FH000011.JPG', 'CD1.zip'])\n",
      "('/media/mycloud/My Pictures/TMP', [], ['IMG_0536.PNG', 'IMG_0535.PNG', 'IMG_0533.PNG', 'Image-1.jpg', '1134100C-37B7-4A23-A666-D55944B46F87.jpg', '111FA374-6FF3-450E-804F-E5D27776A583.jpg', '13C92ED4-71EA-4C61-A1DA-0AA5EB0D97F2.jpg', '11664784-3132-4D1E-90E1-4E5CC4DC7B1B.jpg', '1451AA23-A2F3-4BDF-81B2-64EF212A9359.jpg', '14FC58EA-5D45-420D-AE7C-07363ABD71C6.jpg', '1500C742-32DA-4CFA-98CF-1C8D58E48209.jpg', '1697E639-14C7-4B38-9461-7441566E8039.jpg', '159d9d2e-b155-43ce-bcd0-4409daa02dc7.jpg', '1A95F921-E74F-4275-B6A7-5419CBA1EC98.jpg', '20933E0A-8547-49CE-A1F7-9D775A5BA5BA.jpg', '2129eea1-73a5-49eb-8908-cb9851617815.JPG', '261FFB22-1488-438E-942D-15E7F2FF4207.jpg', '2B2D25CB-3269-465C-B33E-74475DA8B0BA.jpg', '2e17ea44-234e-4ac8-ac4c-a9e2f73a03b1.JPG', '2F2A57B4-64CB-4549-BF19-3EFD5EC48705.jpg', '2F5893E2-A182-41E6-B9C2-A91FA65C606D.jpg', '30F6C61B-F9C1-4876-A0B1-7723A3669309.jpg', '31F14451-EE6C-4FD3-B009-6A9F676800B3.jpg', '31F86914-A50C-445D-BD59-6BC304EA3FCD.jpg', '35e4f947-f5f8-4e6f-b0f1-5808e93362fd.JPG', '331DFDF9-8E1A-4F24-ACBA-645C270BB00C.jpg', '38846399-7F5B-4F4B-A515-375AC1C882C8.jpg', '3E32703F-A1BA-46EC-91FD-B4BC01DE70E3.jpg', '3B5D6D5F-7B08-4B8C-9797-4333E399C2DE.jpg', '4309b426-673f-432d-8a30-f51f41e3df5c.mp4', '44445807-7bf7-4712-a77e-ba064009ec0d.JPG', '44183BB4-0602-43DC-B8F2-8638D1E6E9E9.jpg', '48BA85BB-22CD-4B70-B152-401D79D8F777.jpg', '4c63291f-8da5-4dc9-9dd8-178eb2c53c0f.JPG'])\n",
      "('/media/mycloud/My Pictures/Oma und Opa', [], ['Thumbs Restored 1.db', 'P9020041.JPG'])\n",
      "('/media/mycloud/My Pictures/Album Art', ['Various Artists', 'Van Morrison', 'Tom Jones', 'steve Winwood', 'Slovak Symphony Orchester', 'Slovak Chamber Orchestra', 'Simply Red', 'Schubert', 'Radio Bratislava Symphony Orchestra', 'Pearl Jam', 'Midnight Oil', 'Frederic Chopin', \"Des'ree\", 'culcha candela', 'Anna Maria Kaufmann', 'Alfred Scholz', 'Slovak Philharmonic Orchestra'], [])\n",
      "('/media/mycloud/My Pictures/Album Art/Various Artists', ['Os mais belos classicos'], [])\n",
      "('/media/mycloud/My Pictures/Album Art/Various Artists/Os mais belos classicos', [], ['download.jpg'])\n",
      "('/media/mycloud/My Pictures/Album Art/Van Morrison', ['Open Air Festival Loreley1999'], [])\n",
      "('/media/mycloud/My Pictures/Album Art/Van Morrison/Open Air Festival Loreley1999', [], ['liveatthelorelyback2300.jpg', 'Folder.jpg'])\n",
      "('/media/mycloud/My Pictures/Album Art/Tom Jones', ['the Ultimate hit collection'], [])\n",
      "('/media/mycloud/My Pictures/Album Art/Tom Jones/the Ultimate hit collection', [], ['Ultimate_Hit_Collection2.jpg', 'Ultimate_Hit_Collection.jpg', 'Folder.jpg'])\n",
      "('/media/mycloud/My Pictures/Album Art/steve Winwood', ['Chronicles'], [])\n",
      "('/media/mycloud/My Pictures/Album Art/steve Winwood/Chronicles', [], ['Folder.jpg'])\n",
      "('/media/mycloud/My Pictures/Album Art/Slovak Symphony Orchester', ['Tchaikovsky'], [])\n",
      "('/media/mycloud/My Pictures/Album Art/Slovak Symphony Orchester/Tchaikovsky', [], ['digitalizar0001.jpg'])\n",
      "('/media/mycloud/My Pictures/Album Art/Slovak Chamber Orchestra', ['Johann Sebastian Bach'], [])\n",
      "('/media/mycloud/My Pictures/Album Art/Slovak Chamber Orchestra/Johann Sebastian Bach', [], ['digitalizar0002.jpg'])\n",
      "('/media/mycloud/My Pictures/Album Art/Simply Red', ['Greatest Hits'], [])\n",
      "('/media/mycloud/My Pictures/Album Art/Simply Red/Greatest Hits', [], ['Folder.png'])\n",
      "('/media/mycloud/My Pictures/Album Art/Schubert', ['Symphony #5 & 8'], [])\n",
      "('/media/mycloud/My Pictures/Album Art/Schubert/Symphony #5 & 8', [], ['unnamed.jpg'])\n",
      "('/media/mycloud/My Pictures/Album Art/Radio Bratislava Symphony Orchestra', ['Tchaikovski Ballet Suites', 'Brahms Grieg Berlioz'], [])\n",
      "('/media/mycloud/My Pictures/Album Art/Radio Bratislava Symphony Orchestra/Tchaikovski Ballet Suites', [], ['NDYz.jpg'])\n",
      "('/media/mycloud/My Pictures/Album Art/Radio Bratislava Symphony Orchestra/Brahms Grieg Berlioz', [], ['c436_bra.jpg'])\n",
      "('/media/mycloud/My Pictures/Album Art/Pearl Jam', ['Binaural'], [])\n",
      "('/media/mycloud/My Pictures/Album Art/Pearl Jam/Binaural', [], ['Folder.jpg'])\n",
      "('/media/mycloud/My Pictures/Album Art/Midnight Oil', ['20000 Watts'], [])\n",
      "('/media/mycloud/My Pictures/Album Art/Midnight Oil/20000 Watts', [], ['Original.jpg', 'Alternative.jpg', '20000_Watt_RSL_album.jpg'])\n",
      "('/media/mycloud/My Pictures/Album Art/Frederic Chopin', ['Frederic Chopin'], [])\n",
      "('/media/mycloud/My Pictures/Album Art/Frederic Chopin/Frederic Chopin', [], ['digitalizar0001.jpg'])\n",
      "(\"/media/mycloud/My Pictures/Album Art/Des'ree\", [\"I Ain't Moving\"], [])\n",
      "(\"/media/mycloud/My Pictures/Album Art/Des'ree/I Ain't Moving\", [], ['Aint_movin.jpg'])\n",
      "('/media/mycloud/My Pictures/Album Art/culcha candela', ['das beste'], [])\n",
      "('/media/mycloud/My Pictures/Album Art/culcha candela/das beste', [], ['Folder.jpg'])\n",
      "('/media/mycloud/My Pictures/Album Art/Anna Maria Kaufmann', ['Das andere Leben'], [])\n",
      "('/media/mycloud/My Pictures/Album Art/Anna Maria Kaufmann/Das andere Leben', [], ['anna_maria_kaufmann-das_andere_leben_s.jpg'])\n",
      "('/media/mycloud/My Pictures/Album Art/Alfred Scholz', ['Popular Overtures'], [])\n",
      "('/media/mycloud/My Pictures/Album Art/Alfred Scholz/Popular Overtures', [], ['1112D2sBmTL._SL500_AA300_.jpg'])\n",
      "('/media/mycloud/My Pictures/Album Art/Slovak Philharmonic Orchestra', [], ['Folder.jpg'])\n",
      "('/media/mycloud/My Pictures/MCC Opening Mexico', [], ['IMG_0426.jpg', 'IMG_0419.jpg', 'IMG_0415.jpg', 'IMG_0403.jpg', 'IMG_0398.jpg', 'IMG_0363.jpg', 'IMG_0359.jpg', 'IMG_0340.jpg', 'IMG_0322.jpg', 'IMG_0313.jpg', 'IMG_0302.jpg', 'IMG_0295.jpg', 'IMG_0288.jpg', 'IMG_0284.jpg', 'IMG_0271.jpg', 'IMG_0268.jpg', 'IMG_0263.jpg', 'IMG_0255.jpg', 'IMG_0249.jpg', 'IMG_0244.jpg', 'IMG_0241.jpg', 'IMG_0203.jpg', 'IMG_0188.jpg', 'IMG_0185.jpg', 'IMG_0168.jpg', 'IMG_0156.jpg'])\n",
      "('/media/mycloud/My Pictures/iCloud Photos', ['Uploads'], [])\n",
      "('/media/mycloud/My Pictures/iCloud Photos/Uploads', [], [])\n",
      "('/media/mycloud/My Pictures/Hochzeit', [], ['Unterstützung.doc', 'Thumbs Restored 1.db', 'No_Cartorio.jpg', 'Madrinhos.jpg', 'Hochzeitstisch.jpg', 'Arthur.jpg', 'AA&A.jpg'])\n",
      "('/media/mycloud/My Pictures/Galaxy Note II', [], ['20170304_101640.jpg', '20170225_120056.jpg', '20170225_120034.jpg', '20170225_120027.jpg', '20170224_103707.jpg', '20170224_103701.jpg', '20170216_094524.jpg', '20170208_202335.jpg', '20170208_202328.jpg', '20170208_202321.jpg', '20170208_202308.jpg', '20170208_202300.mp4', '20170116_212521.mp4', '20170116_212445.jpg', '20170114_151349.jpg', '20170113_072206.jpg', '20170106_223007.jpg', '20161216_084940.jpg', '20161216_084933.jpg', '20161212_203914.jpg', '20161212_203758.jpg', '20161126_115057.jpg', '20161114_190808.jpg', '20161105_092304.jpg', '20161105_092257.jpg', '20161026_193249.jpg', '20161022_130228.jpg', '20161022_130222.jpg', '20161022_130218.jpg', '20161015_140554.jpg', '20161004_145132.jpg', '20161004_145126.jpg', '20160927_151523.jpg', '20160926_060555.jpg', '20160926_054624.jpg', '20160926_054621.jpg', '20160926_054617.jpg', '20160917_163907.jpg', '20160917_104041.jpg', '20160917_104033.jpg', '20160916_170159.jpg', '20160913_183725.jpg', '20160913_183718.jpg', '20160911_150833.jpg', '20160826_220101.jpg', '20160826_220048.jpg', '20160826_215833.jpg', '20160826_131521.jpg', '20160826_131520.jpg', '20160826_125433.jpg', '20160826_125419.jpg', '20160826_125329.jpg', '20160826_125318.jpg', '20160826_124050.jpg', '20160826_124045.jpg', '20160826_124043.jpg', '20160826_124041.jpg', '20160826_123555.jpg', '20160826_122759_20.jpg', '20160826_122759_19.jpg', '20160826_122759_18.jpg', '20160826_122759_17.jpg', '20160826_122759_16.jpg', '20160826_122759_15.jpg', '20160826_122758_9.jpg', '20160826_122758_8.jpg', '20160826_122758_7.jpg', '20160826_122758_6.jpg', '20160826_122758_14.jpg', '20160826_122758_13.jpg', '20160826_122758_12.jpg', '20160826_122758_11.jpg', '20160826_122758_10.jpg', '20160826_122757_5.jpg', '20160826_122757_4.jpg', '20160826_122757_3.jpg', '20160826_122757_2.jpg', '20160826_122746_1.jpg', '20160826_122733.jpg', '20160826_122728.jpg', '20160826_122726.jpg', '20160826_122301.jpg', '20160826_120508.jpg', '20160826_120507.jpg', '20160826_113917.jpg', '20160823_113850.jpg', '20160820_141002.jpg', '20160820_140951.jpg', '20160820_140942.jpg', '20160819_140258.jpg', '20160819_140255.jpg', '20160815_115459.jpg', '20160815_110710.jpg', '20160815_110658_1.jpg', '20160808_075014.jpg', '20160808_074938.jpg', '20160808_074927.jpg', '20160808_074920.jpg', '20160808_074917.jpg', '20160808_074859.jpg', '20160808_074830.jpg', '20160719_095420.jpg', '20160708_175651.jpg', '20160708_175648.jpg', '20160707_193639.mp4', '20160707_193609.mp4', '20160624_180208.mp4', '20160624_175516.mp4', '20160623_151827.jpg', '20160623_151819.jpg', '20160623_151816.jpg', '20160623_151814.jpg', '20160623_151805.jpg', '20160608_163911.jpg', '20160608_163456.jpg', '20160608_154831.jpg', '20160608_154820.jpg', '20160608_154644.jpg', '20160604_122113.jpg', '20160527_141803.jpg', '20160512_202307.jpg', '20160512_165737.jpg', '20160512_165719.jpg', '20160512_165705.jpg', '20160509_160046.jpg', '20160509_160034.jpg', '20160509_114040.jpg', '20160509_114028.jpg', '20160508_113056.jpg', '20160503_105239.jpg', '20160502_185550.jpg', '20160502_185547.jpg', '20160502_185524.jpg', '20160502_185457.jpg', '20160502_185431.jpg', '20160502_185406.jpg', '20160502_185312.jpg', '20160502_185247.jpg', '20160502_185233.jpg', '20160502_185103.jpg', '20160502_185012.jpg', '20160502_184920.jpg', '20160502_184824.jpg', '20160502_184757.jpg', '20160502_184634.jpg', '20160502_184616.jpg', '20160502_184527.jpg', '20160502_184520.jpg', '20160502_184255.jpg', '20160502_184234.jpg', '20160502_184229.jpg', '20160502_184224.jpg', '20160502_183128.jpg', '20160502_183022.jpg', '20160501_182620.jpg', '20160501_182537.jpg', '20160329_194759.jpg', '20160329_194719.jpg', '20160329_194205.jpg', '20160329_194132.jpg', '20160329_194042.jpg', '20160318_151831.jpg', '20160318_151826.jpg', '20160318_151822.mp4', '20160318_071915.jpg', '20160316_203707.mp4', '20160315_080118_1.jpg', '20160311_221406.jpg', '20160311_221357.jpg', '20160311_221347.jpg', '20160311_154517.jpg', '20160311_154510.jpg', '20160304_131916.jpg', '20160304_131912.jpg', '20160303_180110.jpg', '20160303_180106.jpg', '20160303_180104.jpg', '20160303_180101.jpg', '20160303_180003.jpg', '20160303_175932.jpg', '20160211_100843.jpg', '20160130_161516.jpg', '20160130_161459.jpg', '20160123_220810.jpg', '20160123_210737.jpg', '20160123_210728.jpg', '20160123_210725.jpg', '20160123_210655.jpg', '20160123_210609.jpg', '20160123_210517.jpg', '20160123_210502.jpg', '20160123_210248.jpg', '20160123_210240.jpg', '20160123_210228.jpg', '20160123_210221.jpg', '20160123_210213.jpg', '20160123_120103.jpg', '20160123_120040.jpg', '20160123_120026.jpg', '20160123_120018.jpg', '20160123_120014.jpg', '20160123_120010.jpg', '20160105_191739.jpg', '20151219_185313.jpg', '20151219_185310.jpg', '20151219_185305.jpg', '20151219_185303.jpg', '20151219_185300.jpg', '20151219_185241.jpg', '20151219_185236.jpg', '20151219_185103.jpg', '20151219_185056.jpg', '20151219_185001.jpg', '20151211_174230.jpg', '20151203_171639.jpg', '20151203_171603.jpg', '20151203_170411.jpg', '20151128_172932.jpg', '20151128_172930.jpg', '20151128_172825_6_bestshot.jpg', '20151128_172736.jpg', '20151118_141848.jpg', '20151115_113644.jpg', '20151115_113637.jpg', '20151115_113628.jpg', '20151115_113622.jpg', '20151115_113601.jpg', '20151115_113546.jpg', '20151115_113531.jpg', '20151115_113510.jpg', '20151115_113501.jpg', '20151115_113453.jpg', '20151115_113444.jpg', '20151115_113436.jpg', '20151115_113426.jpg', '20151115_113421.jpg', '20151115_113415.jpg', '20151115_113406.jpg', '20151115_113353.jpg', '20151115_113344.jpg', '20151115_113331.jpg', '20151115_113308.jpg', '20151115_113246.jpg', '20151115_113105.jpg', '20151115_113058.jpg', '20151115_113036.jpg', '20151115_113026.jpg', '20151115_113018.jpg', '20151115_113008.jpg', '20151115_112959.jpg', '20151115_112949.jpg', '20151115_112942.jpg', '20151115_112935.jpg', '20151114_115920.jpg', '20151111_175540.jpg', '20151108_144701.jpg', '20151108_144651.jpg', '20151108_144636.jpg', '20151108_144557.jpg', '20151108_144555.jpg', '20151108_144530.jpg', '20151108_144506.jpg', '20151101_131149.jpg', '20151101_131142.jpg', '20151101_131130.jpg', '20151101_131124.jpg', '20151101_131114.jpg', '20151101_130029.jpg', '20151101_125641.jpg', '20151101_125638.jpg', '20151101_125623.jpg', '20151101_125437.jpg', '20151101_125429.jpg', '20151101_125427.jpg', '20151101_125426.jpg', '20151101_125425.jpg', '20151101_114306.jpg', '20151101_114304.jpg', '20151101_113056.mp4', '20151101_113053.jpg', '20151101_112117.jpg', '20151101_112055.jpg', '20151101_112049.jpg', '20151101_111820.mp4', '20151030_084401.jpg', '20151030_084348.jpg', '20151019_205607.jpg', '20151019_190736.jpg', '20151019_190734.jpg', '20151018_123932.jpg', '20151011_172912.jpg', '20151002_162726.jpg', '20151002_162101.jpg', '20151002_161855.jpg', '20150929_181231.jpg', '20150929_181214.jpg', '20150929_181207.mp4', '20150929_081954.mp4', '20150929_081248.mp4', '20150928_050818.jpg', '20150918_162334.jpg', '20150918_162329_1.jpg', '20150918_162322.jpg', '20150918_162302.jpg', '20150907_184312.mp4', '20150907_184107.mp4', '20150907_183551.mp4', '20150907_111355.mp4', '20150906_104344.jpg', '20150902_161645.jpg', '20150825_175948.jpg', '20150825_175937.jpg', '20150825_175856.jpg', '20150825_175841.jpg', '20150825_175839.jpg', '20150820_145419.jpg', '20150820_145405.jpg', '20150820_145339.jpg', '20150816_231002_1.jpg', '20150816_230801.jpg', '20150724_185149.jpg', '20150724_185130.jpg', '20150724_185103.jpg', '20150724_185101.jpg', '20150724_185051.jpg', '20150724_185048.jpg', '20150724_185045.jpg', '20150724_185037.jpg', '20150724_185033.jpg', '20150724_185021.jpg', '20150724_185013.jpg', '20150724_185010.jpg', '20150724_185003.jpg', '20150724_184958.jpg', '20150724_184955.jpg', '20150724_182412_4.jpg', '20150724_182412_3.jpg', '20150724_182412_2.jpg', '20150724_182412_1.jpg', '20150724_182347.jpg', '20150724_182328_2.jpg', '20150724_182328_1.jpg', '20150724_181749.mp4', '20150722_174547.jpg', '20150722_174544.jpg', '20150722_174540.jpg', '20150722_174535.jpg', '20150717_195910.jpg', '20150717_195903.jpg', '20150717_195756.jpg', '20150717_195728.jpg', '20150717_195642.jpg', '20150717_195639.jpg', '20150717_195633.jpg', '20150717_195631.jpg', '20150717_195625.jpg', '20150710_175645.jpg', '20150710_175639.jpg', '20150626_120640.jpg', '20150626_120627.jpg', '20150626_120526.jpg', '20150626_120523.jpg', '20150626_110101.jpg', '20150625_185259.jpg', '20150625_185249.jpg', '20150625_185243.jpg', '20150625_185226.jpg', '20150625_185222.jpg', '20150625_185218.jpg', '20150607_211207_2.jpg', '20150607_211207_1.jpg', '20150604_161423.jpg', '20150604_161415.jpg', '20150604_160232.jpg', '20150604_160229.jpg', '20150604_160226.jpg', '20150604_160215.jpg', '20150604_144628.jpg', '20150604_144626.jpg', '20150604_144437.jpg', '20150604_144402.jpg', '20150604_144355.jpg', '20150604_144350.jpg', '20150604_144120.jpg', '20150604_144118.jpg', '20150604_144053.jpg', '20150604_134333.jpg', '20150604_134330.jpg', '20150604_134327.jpg', '20150604_134324.jpg', '20150604_134322.jpg', '20150604_134303.jpg', '20150604_130840.jpg', '20150604_130835.jpg', '20150604_115448.jpg', '20150604_115441.jpg', '20150604_114526.jpg', '20150604_114224.jpg', '20150604_114059.jpg', '20150604_114052.jpg', '20150522_091845.jpg', '20150522_090846.jpg', '20150517_160527.jpg', '20150517_160133.jpg', '20150517_160120.jpg', '20150517_160051.jpg', '20150517_160022.jpg', '20150517_134622.jpg', '20150517_134618.jpg', '20150425_141554.jpg', '20150425_141534.jpg', '20150425_141520.jpg', '20150425_141504.jpg', '20150413_115004.jpg', '20150413_114839.jpg', '20150413_114738.jpg', '20150413_114637.jpg', '20150413_114535.jpg', '20150413_114420.jpg', '20150413_113550.jpg', '20150408_180214.jpg', '20150405_115056.jpg', '20150405_114804.jpg', '20150405_114621.jpg', '20150405_114251.jpg', '20150405_114116.jpg', '20150405_113925.jpg', '20150405_113745.jpg', '20150405_113149.jpg', '20150404_123715.mp4', '20150404_123431_7.jpg', '20150404_123431_6.jpg', '20150404_123431_5.jpg', '20150404_123431_4.jpg', '20150404_123431_3.jpg', '20150404_123431_2.jpg', '20150404_123431_1.jpg', '20150404_123427.jpg', '20150404_123426_1.jpg', '20150404_123412.jpg', '20150404_123400.jpg', '20150404_123352.jpg', '20150404_060550.jpg', '20150404_060548.jpg', '20150404_060548(0).jpg', '20150404_060542.jpg', '20150330_141107.jpg', '20150330_141046.jpg', '20150321_175029.jpg', '20150320_104905.jpg', '20150320_104818.jpg', '20150206_172041.jpg', '20150203_160124.jpg', '20150203_160117.jpg', '20150203_160111.jpg', '20150203_160106.jpg', '20150203_160104.jpg', '20150203_160052.jpg', '20150119_183528.jpg', '20150119_182259.jpg', '20150119_182223.jpg', '20150116_103243.jpg', '20150116_103237.jpg', '20150116_103234.jpg', '20150105_204417.jpg', '20150105_204337.jpg', '20150103_163847.jpg', '20150103_163842.jpg', '20150103_163706.jpg', '20150103_163701.jpg', '20150103_163650.jpg', '20150103_163645.jpg', '20150103_163623.jpg', '20141227_162628.jpg', '20141227_162621.jpg', '20141227_162602.jpg', '20141227_162550_3.jpg', '20141227_162550_2.jpg', '20141227_162549_1.jpg', '20141227_162538.jpg', '20141227_161403.jpg', '20141227_161351.jpg', '20141227_161348.jpg', '20141227_161343.jpg', '20141227_161339.jpg', '20141227_161334.jpg', '20141227_155311.jpg', '20141227_155116.jpg', '20141227_155105.jpg', '20141227_154628.jpg', '20141227_154621.jpg', '20141212_111333.jpg', '20141212_111330.jpg', '20141202_172336.jpg', '20141202_172329.jpg', '20141202_154430.jpg', '20141202_154115.jpg', '20141201_085548_1.jpg', '20141201_085539.jpg', '20141125_081501.jpg', '20141125_081453.jpg', '20141124_210839.jpg', '20141124_210814.mp4', '20141121_181938.mp4', '20141121_181931.jpg', '20141121_181923.jpg', '20141121_181921.jpg', '20141121_181919.jpg', '20141121_181915.jpg', '20141121_181910.jpg', '20141121_181906.jpg', '20141121_181902.jpg', '20141121_181856.jpg', '20141121_181747.jpg', '20141121_181726.jpg', '20141121_181722.jpg', '20141121_181720.jpg', '20141111_180307.jpg', '20141111_180253_1.jpg', '20141111_180217.jpg', '20141110_172356.jpg', '20141110_172348.jpg', '20141110_172122.jpg', '20141110_172052.jpg', '20141109_141515.jpg', '20141109_135944.mp4', '20141109_135745.jpg', '20141109_135740.jpg', '20141109_135722.jpg', '20141109_135712.jpg', '20141109_132227.mp4', '20141109_120401.jpg', '20141109_120339.jpg', '20141109_111706.mp4', '20141109_111554.mp4', '20141109_111441.mp4', '20141105_074823_1.jpg', '20141031_114714.jpg', '20141024_195215.jpg', '20141023_184800.jpg', '20141023_184758.jpg', '20141023_184753.jpg', '20141013_175041.jpg', '20141008_212127.jpg', '20141008_212057.jpg', '20141008_212055.jpg', '20141005_132639.jpg', '20141005_132612.jpg', '20141004_175203.jpg', '20141004_175135.jpg', '20141004_175131.jpg', '20141004_175039.jpg', '20141004_175032.jpg', '20141004_175029.jpg', '20141004_175022.jpg', '20141004_175005.jpg', '20140918_194818.jpg', '20140812_131353.jpg', '20140812_131342.jpg', '20140812_131338.jpg', '20140726_185135.jpg', '20140725_221733.jpg', '20140725_221640.jpg', '20140725_221629.jpg', '20140725_221621.jpg', '20140725_221610.jpg', '20140725_200614.jpg', '20140710_194111.jpg', '20140710_194017.jpg', '20140710_193800.jpg', '20140707_090217.jpg', '20140707_090213.jpg', '20140606_093137.jpg', '20140606_093130.jpg', '20140606_093118.jpg', '20140606_093113.jpg', '20140606_093102.jpg', '20140524_165501.jpg', '20140524_165459.jpg', '20140524_165317.jpg', '20140524_165311.jpg', '20140524_145515_1.jpg', '20140524_145511.jpg', '20140524_145503.jpg', '20140524_145433.jpg', '20140524_145427.jpg', '20140521_112012.jpg', '20140521_111909.jpg', '20140521_104238.jpg', '20140511_103629.jpg', '20140510_184516.jpg', '20140509_095051.jpg', '20140509_095037.jpg', '20140508_101737.jpg', '20140503_183325.jpg', '20140503_183316.jpg', '20140503_183143.jpg', '20140503_183138.jpg', '20140501_125400.jpg', '20140426_164729.jpg', '20140426_164716.jpg', '20140423_151834.jpg', '20140423_113648.jpg', '20140418_180037(0).jpg', '20140418_180030.jpg', '20140418_180016.jpg', '20140418_180013.jpg', '20140404_192045.jpg', '20140404_191931.jpg', '20140325_091649.jpg', '20140325_091633.jpg', '20140325_091623.jpg', '20140318_161207.jpg', '20140223_094525.jpg', '20140223_094523.jpg', '20140222_142608_1.jpg', '20140222_142258_1.jpg', '20140222_125137.jpg', '20140222_125135.jpg', '20140210_212511.jpg', '20140127_145109.jpg', '20140127_145106.jpg', '20140127_145105.jpg', '20140118_191800.jpg', '20140118_191756.jpg', '20140118_191754.jpg', '20140118_191749.jpg', '20140118_191747.jpg', '20140118_191230.jpg', '20140118_191055.jpg', '20140118_191048.jpg', '20140118_191035.jpg', '20140118_161050.jpg', '20140118_161039.jpg', '20140118_161037.jpg', '20140118_161027.jpg', '20140118_161020.jpg', '20140118_161019.jpg', '20140118_161018.jpg', '20140118_161017(0).jpg', '20140118_161015.jpg', '20140118_161013.jpg', '20140118_161010.jpg', '20140118_161008.jpg', '20140118_161006.jpg', '20140111_172600.jpg', '20140111_172513.jpg', '20140111_172448.jpg', '20131221_152640.jpg', '20131221_152638.jpg', '20131221_152637.jpg', '20131221_152636.jpg', '20131221_152634.jpg', '20131221_152616.jpg', '20131221_152616(0).jpg', '20131221_152614.jpg', '20131221_152540.jpg', '20131221_152529.jpg', '20131221_152445.jpg', '20131221_152439.jpg', '20131221_152438.jpg', '20131221_152436.jpg', '20131221_152432.jpg', '20131221_151711.jpg', '20131221_151527.jpg', '20131221_151448.jpg', '20131221_151439.jpg', '20131221_151412.jpg', '20131221_151406.jpg', '20131221_151316.jpg', '20131221_151251.jpg', '20131221_134505.jpg', '20131221_134503.jpg', '20131221_134502.jpg', '20131221_134500.jpg', '20131221_134500(0).jpg', '20131221_134457.jpg', '20131221_134456.jpg', '20131221_134454.jpg', '20131221_134451.jpg', '20131221_134421.mp4', '20131221_134356.jpg', '20131221_134352.jpg', '20131221_134342.jpg', '20131221_134322.jpg', '20131221_134321.jpg', '20131221_134321(0).jpg', '20131221_134320.jpg', '20131221_134320(0).jpg', '20131221_134315_1.jpg', '20131221_134306_1.jpg', '20131221_134303_9.jpg', '20131221_134303_8.jpg', '20131221_134303_7.jpg', '20131221_134303_6.jpg', '20131221_134303_5.jpg', '20131221_134303_4.jpg', '20131221_134302_3.jpg', '20131221_134302_2.jpg', '20131221_134302_1.jpg', '20131221_134143.jpg', '20131221_134140.jpg', '20131221_133901.jpg', '20131221_133746_9.jpg', '20131221_133746_8.jpg', '20131221_133746_7.jpg', '20131221_133746_6.jpg', '20131221_133746_5.jpg', '20131221_133746_4.jpg', '20131221_133746_12.jpg', '20131221_133746_11.jpg', '20131221_133746_10.jpg', '20131221_133745_3.jpg', '20131221_133745_2.jpg', '20131221_133745_1.jpg', '20131221_133740.jpg', '20131221_133739.jpg', '20131221_133737.jpg', '20131221_133718.jpg', '20131221_133715.jpg', '20131221_133714.jpg', '20131221_133554.jpg', '20131221_133552.jpg', '20131221_133541_9.jpg', '20131221_133541_8.jpg', '20131221_133541_7.jpg', '20131221_133541_10.jpg', '20131221_133540_6.jpg', '20131221_133540_5.jpg', '20131221_133540_4.jpg', '20131221_133540_3.jpg', '20131221_133540_2.jpg', '20131221_133540_1.jpg', '20131221_133534.jpg', '20131221_133523_1.jpg', '20131221_133512.jpg', '20131221_133509.jpg', '20131221_133507.jpg', '20131221_133502.jpg', '20131221_133447_1.jpg', '20131221_133444.jpg', '20131221_133428.jpg', '20131221_133425.jpg', '20131221_133403_1.jpg', '20131127_194719.jpg', '20131127_194709.jpg', '20131127_194704.jpg', '20131127_193829.jpg', '20131127_193805.jpg', '20131127_193757.jpg', '20131127_193748.jpg', '20131127_193738.jpg', '20131124_125314.jpg', '20131124_125309.jpg', '20131124_125305.jpg', '20131124_124526.jpg', '20131124_124312.jpg', '20131124_124309.jpg', '20131124_124257.jpg'])\n",
      "('/media/mycloud/My Pictures/Family', [], ['Thumbs Restored 1.db', 'Sorriso lindo.jpg', 'DSCN1194.JPG', 'DSCN1180.JPG', 'DSCN0754.JPG', 'DSCN0751.JPG', 'DSCN0733.JPG', 'DSCN0729.JPG', 'Bild 010.jpg', 'Bild 009.jpg', 'Bild 007.jpg', 'Bild 004.jpg', 'Angelina_comendo.jpg', 'Angelina und Mama.jpg'])\n",
      "('/media/mycloud/My Pictures/Casamento Andreia', [], ['Thumbs Restored 1.db', 'S4200071.JPG', 'S4200070.JPG', 'S4200064.JPG', 'S4200061.JPG', 'S4200060.JPG', 'S4200059.JPG', 'S4200058.JPG', 'S4200057.JPG', 'S4200056.JPG', 'S4200055.JPG', 'S4200047.JPG', 'S4200044.JPG', 'S4200043.JPG', 'S4200042.JPG', 'S4200040.JPG', 'S4200039.JPG', 'S4200038.JPG', 'S4200037.JPG', 'S4200036.JPG', 'S4200035.JPG', 'S4200034.JPG', 'S4200031.JPG', 'S4200030.JPG', 'S4200029.JPG', 'S4200028.JPG', 'S4200026.JPG', 'S4200025.JPG', 'S4200024.JPG', 'S4200023.JPG', 'S4200022.JPG', 'S4200021.JPG', 'S4200020.JPG', 'DSC07450.JPG', 'DSC07449.JPG', 'DSC07448.JPG', 'DSC07447.JPG', 'DSC07446.JPG', 'DSC07442.JPG', 'DSC07441.JPG', 'DSC07440.JPG', 'DSC07438.JPG', 'DSC07436.JPG', 'DSC07435.JPG', 'DSC07434.JPG', 'DSC07433.JPG', 'DSC07432.JPG', 'DSC07431.JPG', 'DSC07430.JPG', 'DSC07429.JPG', 'DSC07428.JPG', 'DSC07426.JPG', 'DSC07425.JPG', 'DSC07424.JPG', 'DSC07422.JPG', 'DSC07420.JPG', 'DSC07416.JPG', 'DSC07411.JPG', 'DSC07409.JPG', 'DSC07408.JPG', 'DSC07407.JPG', 'DSC07406.JPG', 'DSC07405.JPG', 'DSC07404.JPG', 'DSC07403.JPG', 'DSC07402.JPG', 'DSC07401.JPG', 'DSC07400.JPG', 'DSC07398.JPG', 'DSC07397.JPG', 'DSC07396.JPG', 'DSC07395.JPG', 'DSC07394.JPG', 'DSC07392.JPG', 'DSC07391.JPG', 'DSC07390.JPG', 'DSC07389.JPG', 'DSC07388.JPG', 'DSC07387.JPG', 'DSC07386.JPG', 'DSC07385.JPG', 'DSC07384.JPG', 'DSC07383.JPG', 'DSC07382.JPG', 'DSC07381.JPG', 'DSC07380.JPG', 'DSC07379.JPG', 'DSC07378.JPG', 'DSC07377.JPG', 'DSC07376.JPG', 'DSC07375.JPG', 'DSC07374.JPG', 'DSC07373.JPG', 'DSC07372.JPG', 'DSC07371.JPG', 'DSC07370.JPG', 'DSC07368.JPG', 'DSC07367.JPG'])\n",
      "('/media/mycloud/My Pictures/BlackBerry', [], ['IMG00383-20130519-1639.jpg', 'IMG00382-20130519-1639.jpg', 'IMG00381-20130510-1937.jpg', 'IMG00380-20130510-1937.jpg', 'IMG00379-20130510-1936.jpg', 'IMG00378-20130510-1935.jpg', 'IMG00377-20130510-1934.jpg', 'IMG00376-20130510-1423.jpg', 'IMG00375-20130510-1422.jpg', 'IMG00374-20130510-1422.jpg', 'IMG00373-20130510-1421.jpg', 'IMG00372-20130509-1847.jpg', 'IMG00371-20130509-1847.jpg', 'IMG00370-20130509-1846.jpg', 'IMG00369-20130505-1201.jpg', 'IMG00368-20130422-1300.jpg', 'IMG00367-20130415-0928.jpg', 'IMG00366-20130415-0925.jpg', 'IMG00365-20130331-1319.jpg', 'IMG00364-20130331-1319.jpg', 'IMG00363-20130331-1317.jpg', 'IMG00362-20130331-1308.jpg', 'IMG00361-20130331-1307.jpg', 'IMG00360-20130331-1306.jpg', 'IMG00358-20130331-1304.jpg', 'IMG00357-20130331-1303.jpg', 'IMG00356-20130331-1303.jpg', 'IMG00355-20130331-1303.jpg', 'IMG00354-20130331-1302.jpg', 'IMG00353-20130331-1247.jpg', 'IMG00352-20130331-0923.jpg', 'IMG00351-20130331-0923.jpg', 'IMG00350-20130217-1855.jpg', 'IMG00349-20130217-1855.jpg', 'IMG00348-20130217-1854.jpg', 'IMG00346-20130214-0905.jpg', 'IMG00345-20130214-0904.jpg', 'IMG00344-20130214-0904.jpg', 'IMG00343-20130214-0904.jpg', 'IMG00342-20130202-1053.jpg', 'IMG00341-20130202-1053.jpg', 'IMG00340-20130202-1052.jpg', 'IMG00339-20130111-1754.jpg', 'IMG00338-20130111-1754.jpg', 'IMG00337-20121225-1523.jpg', 'IMG00336-20121225-1508.jpg', 'IMG00335-20121225-1507.jpg', 'IMG00334-20121225-1507.jpg', 'IMG00333-20121225-1506.jpg', 'IMG00332-20121225-1506.jpg', 'IMG00331-20121225-1506.jpg', 'IMG00330-20121225-1506.jpg', 'IMG00329-20121225-1505.jpg', 'IMG00328-20121225-1505.jpg', 'IMG00327-20121225-1505.jpg', 'IMG00326-20121225-1505.jpg', 'IMG00325-20121016-1750.jpg', 'IMG00324-20121006-1151.jpg', 'IMG00323-20120901-1805.jpg', 'IMG00322-20120827-1422.jpg', 'IMG00321-20120827-1422.jpg', 'IMG00320-20120825-1959.jpg', 'IMG00319-20120825-1830.jpg', 'IMG00318-20120825-1829.jpg', 'IMG00317-20120825-1829.jpg', 'IMG00316-20120825-1829.jpg', 'IMG00315-20120825-1828.jpg', 'IMG00313-20120818-1133.jpg', 'IMG00312-20120818-1130.jpg', 'IMG00311-20120818-1130.jpg', 'IMG00310-20120818-1129.jpg', 'IMG00309-20120818-1129.jpg', 'IMG00308-20120818-1129.jpg', 'IMG00307-20120818-1128.jpg', 'IMG00306-20120818-1128.jpg', 'IMG00305-20120818-1128.jpg', 'IMG00304-20120818-1127.jpg', 'IMG00303-20120818-1127.jpg', 'IMG00302-20120818-1125.jpg', 'IMG00301-20120818-1124.jpg', 'IMG00300-20120818-1124.jpg', 'IMG00299-20120818-1123.jpg', 'IMG00298-20120818-1122.jpg', 'IMG00297-20120818-1122.jpg', 'IMG00296-20120818-1121.jpg', 'IMG00295-20120818-1120.jpg', 'IMG00294-20120818-1120.jpg', 'IMG00293-20120818-1120.jpg', 'IMG00292-20120818-1119.jpg', 'IMG00291-20120818-1119.jpg', 'IMG00290-20120818-1119.jpg', 'IMG00289-20120818-1118.jpg', 'IMG00288-20120818-1118.jpg', 'IMG00287-20120818-1117.jpg', 'IMG00286-20120818-1117.jpg', 'IMG00285-20120818-1117.jpg', 'IMG00284-20120818-1115.jpg', 'IMG00283-20120818-1114.jpg', 'IMG00282-20120818-1114.jpg', 'IMG00281-20120818-1114.jpg', 'IMG00280-20120818-1113.jpg', 'IMG00279-20120818-1112.jpg', 'IMG00278-20120818-1111.jpg', 'IMG00277-20120818-1110.jpg', 'IMG00276-20120818-1110.jpg', 'IMG00275-20120818-1110.jpg', 'IMG00274-20120818-1110.jpg', 'IMG00273-20120818-1108.jpg', 'IMG00272-20120818-1108.jpg', 'IMG00271-20120818-1107.jpg', 'IMG00270-20120818-1106.jpg', 'IMG00269-20120818-1106.jpg', 'IMG00268-20120818-1105.jpg', 'IMG00267-20120818-1104.jpg', 'IMG00266-20120818-1103.jpg', 'IMG00265-20120818-1103.jpg', 'IMG00264-20120818-1102.jpg', 'IMG00263-20120818-1102.jpg', 'IMG00262-20120818-1101.jpg', 'IMG00261-20120818-1014.jpg', 'IMG00260-20120818-1010.jpg', 'IMG00259-20120818-1009.jpg', 'IMG00258-20120818-1009.jpg', 'IMG00257-20120818-1007.jpg', 'IMG00256-20120818-1005.jpg', 'IMG00255-20120818-1005.jpg', 'IMG00254-20120818-1005.jpg', 'IMG00253-20120818-1004.jpg', 'IMG00252-20120818-1004.jpg', 'IMG00251-20120818-1004.jpg', 'IMG00250-20120818-1003.jpg', 'IMG00249-20120818-1002.jpg', 'IMG00248-20120818-1002.jpg', 'IMG00247-20120818-1001.jpg', 'IMG00246-20120818-1001.jpg', 'IMG00245-20120818-1001.jpg', 'IMG00244-20120818-1000.jpg', 'IMG00243-20120818-1000.jpg', 'IMG00242-20120818-1000.jpg', 'IMG00241-20120818-1000.jpg', 'IMG00240-20120818-0957.jpg', 'IMG00239-20120809-0717.jpg', 'IMG00238-20120809-0717.jpg', 'IMG00237-20120809-0717.jpg', 'IMG00236-20120809-0717.jpg', 'IMG00235-20120809-0716.jpg', 'IMG00234-20120728-2143.jpg', 'IMG00233-20120728-2143.jpg', 'IMG00232-20120721-1047.jpg', 'IMG00231-20120721-1047.jpg', 'IMG00230-20120721-1047.jpg', 'IMG00229-20120721-1047.jpg', 'IMG00228-20120721-1047.jpg', 'IMG00227-20120721-1047.jpg', 'IMG00226-20120721-1046.jpg', 'IMG00225-20120721-1046.jpg', 'IMG00224-20120721-1046.jpg', 'IMG00222-20120721-1044.jpg', 'IMG00221-20120721-1044.jpg', 'IMG00220-20120721-1044.jpg', 'IMG00219-20120721-1044.jpg', 'IMG00218-20120721-1044.jpg', 'IMG00217-20120721-1043.jpg', 'IMG00216-20120721-1043.jpg', 'IMG00215-20120721-1043.jpg', 'IMG00214-20120721-1043.jpg', 'IMG00213-20120721-1042.jpg', 'IMG00212-20120721-1042.jpg', 'IMG00211-20120721-1042.jpg', 'IMG00210-20120721-1041.jpg', 'IMG00210-20110921-1601.jpg', 'IMG00209-20120721-1041.jpg', 'IMG00209-20110921-1600.jpg', 'IMG00208-20120721-1039.jpg', 'IMG00208-20110921-1548.jpg', 'IMG00207-20120721-1039.jpg', 'IMG00207-20110921-1546.jpg', 'IMG00206-20120721-1038.jpg', 'IMG00206-20110921-1546.jpg', 'IMG00205-20120721-1038.jpg', 'IMG00205-20110920-1748.jpg', 'IMG00204-20120721-1038.jpg', 'IMG00204-20110920-1748.jpg', 'IMG00203-20120721-1038.jpg', 'IMG00203-20110920-1747.jpg', 'IMG00202-20120721-1037.jpg', 'IMG00202-20110920-1747.jpg', 'IMG00201-20120721-1037.jpg', 'IMG00201-20110920-1747.jpg', 'IMG00200-20120721-1037.jpg', 'IMG00200-20110920-1746.jpg', 'IMG00199-20120721-1036.jpg', 'IMG00199-20110920-1746.jpg', 'IMG00198-20120721-1036.jpg', 'IMG00198-20110920-1746.jpg', 'IMG00197-20120716-1408.jpg', 'IMG00197-20110920-1700.jpg', 'IMG00196-20120716-1408.jpg', 'IMG00196-20110920-1700.jpg', 'IMG00195-20120716-1358.jpg', 'IMG00195-20110920-1659.jpg', 'IMG00194-20120716-1357.jpg', 'IMG00194-20110910-1640.jpg', 'IMG00193-20120711-2048.jpg', 'IMG00193-20110910-1639.jpg', 'IMG00192-20120711-2048.jpg', 'IMG00192-20110910-1638.jpg', 'IMG00191-20120707-1241.jpg', 'IMG00191-20110910-1637.jpg', 'IMG00190-20120707-1240.jpg', 'IMG00190-20110910-1637.jpg', 'IMG00189-20120707-1239.jpg', 'IMG00189-20110910-1607.jpg', 'IMG00188-20120707-1238.jpg', 'IMG00188-20110910-1607.jpg', 'IMG00187-20120707-1238.jpg', 'IMG00187-20110910-1607.jpg', 'IMG00186-20120707-1237.jpg', 'IMG00186-20110910-1555.jpg', 'IMG00185-20120707-1236.jpg', 'IMG00185-20110910-1555.jpg', 'IMG00184-20120707-1236.jpg', 'IMG00184-20110910-1551.jpg', 'IMG00183-20120707-1235.jpg', 'IMG00183-20110910-1551.jpg', 'IMG00182-20120707-1234.jpg', 'cid_image003.jpg', 'IMG00182-20110910-1551.jpg', 'IMG00181-20120707-1234.jpg', 'IMG00181-20110910-1511.jpg', 'IMG00180-20120703-1442.jpg', 'IMG00180-20110910-1511.jpg', 'IMG00179-20120703-1442.jpg', 'IMG00179-20110910-1511.jpg', 'IMG00178-20120703-1441.jpg', 'IMG00178-20110910-1510.jpg', 'IMG00177-20120703-1440.jpg', 'IMG00177-20110824-1518.jpg', 'IMG00176-20120703-1439.jpg', 'IMG00176-20110824-1516.jpg', 'IMG00175-20120701-1610.jpg', 'IMG00175-20110824-1511.jpg', 'IMG00174-20120701-1609.jpg', 'IMG00174-20110824-1503.jpg', 'IMG00173-20120701-1609.jpg', 'IMG00173-20110813-1114.jpg', 'IMG00172-20120701-1608.jpg', 'IMG00172-20110813-1114.jpg', 'IMG00171-20120701-1608.jpg', 'IMG00171-20110813-1114.jpg', 'IMG00170-20120701-1608.jpg', 'IMG00170-20110813-1114.jpg', 'IMG00169-20120630-1607.jpg', 'IMG00169-20110813-1114.jpg', 'IMG00168-20120630-1605.jpg', 'IMG00168-20110813-0820.jpg', 'IMG00167-20120630-1605.jpg', 'IMG00167-20110813-0820.jpg', 'IMG00166-20120630-1603.jpg', 'IMG00166-20110813-0819.jpg', 'IMG00165-20120630-1603.jpg', 'IMG00165-20110813-0819.jpg', 'IMG00164-20120623-1259.jpg', 'IMG00164-20110813-0819.jpg', 'IMG00163-20120623-1257.jpg', 'IMG00163-20110813-0819.jpg', 'IMG00162-20120623-1256.jpg', 'IMG00162-20110813-0819.jpg', 'IMG00161-20120623-1256.jpg', 'IMG00161-20110813-0817.jpg', 'IMG00160-20120623-1256.jpg', 'IMG00160-20110813-0816.jpg', 'IMG00159-20120623-1256.jpg', 'IMG00159-20110813-0816.jpg', 'IMG00158-20120623-1241.jpg', 'IMG00158-20110813-0814.jpg', 'IMG00157-20120623-1240.jpg', 'IMG00157-20110724-1818.jpg', 'IMG00156-20120623-1239.jpg', 'IMG00156-20110724-1817.jpg', 'IMG00155-20120623-1205.jpg', 'IMG00155-20110724-1817.jpg', 'IMG00154-20120623-1023.jpg', 'IMG00154-20110724-1809.jpg', 'IMG00153-20120623-1023.jpg', 'IMG00153-20110723-1934.jpg', 'IMG00152-20120623-1022.jpg', 'IMG00152-20110722-2024.jpg', 'IMG00151-20120623-1022.jpg', 'IMG00151-20110722-2014.jpg', 'IMG00150-20120623-1021.jpg', 'IMG00150-20110722-2013.jpg', 'IMG00149-20120623-1020.jpg', 'IMG00149-20110722-2012.jpg', 'IMG00148-20120526-1314.jpg', 'IMG00148-20110722-2011.jpg', 'IMG00147-20120526-1313.jpg', 'IMG00147-20110722-2011.jpg', 'IMG00146-20120526-1313.jpg', 'IMG00146-20110722-2010.jpg', 'IMG00145-20120525-2030.jpg', 'IMG00145-20110722-2009.jpg', 'IMG00144-20120525-2030.jpg', 'IMG00144-20110722-1957.jpg', 'IMG00143-20120525-2030.jpg', 'IMG00143-20110722-1955.jpg', 'IMG00142-20120506-1601.jpg', 'IMG00142-20110722-1955.jpg', 'IMG00141-20120506-1601.jpg', 'IMG00141-20110722-1955.jpg', 'IMG00140-20120506-1601.jpg', 'IMG00140-20110722-1954.jpg', 'IMG00139-20120420-1719.jpg', 'IMG00139-20110722-1954.jpg', 'IMG00138-20120420-1718.jpg', 'IMG00138-20110722-1954.jpg', 'IMG00137-20120420-1359.jpg', 'IMG00137-20110722-1953.jpg', 'IMG00136-20120413-0759.jpg', 'IMG00136-20110712-1259.jpg', 'IMG00135-20120413-0753.jpg', 'IMG00135-20110712-1259.jpg', 'IMG00134-20120405-1928.jpg', 'IMG00134-20110712-1257.jpg', 'IMG00133-20120405-1928.jpg', 'IMG00133-20110707-1845.jpg', 'IMG00132-20120405-1928.jpg', 'IMG00132-20110702-1209.jpg', 'IMG00131-20120405-1923.jpg', 'IMG00131-20110702-1209.jpg', 'IMG00130-20120405-1923.jpg', 'IMG00130-20110702-1208.jpg', 'IMG00129-20120405-1923.jpg', 'IMG00129-20110702-1208.jpg', 'IMG00128-20120405-1922.jpg', 'IMG00127-20120403-1309.jpg', 'IMG00127-20110610-2043.jpg', 'IMG00126-20120329-1648.jpg', 'IMG00126-20110610-2043.jpg', 'IMG00125-20120326-2016.jpg', 'BBThumbs.dat.rem', 'IMG00125-20110610-2042.jpg', 'IMG00124-20120326-2014.jpg', 'IMG00123-20120326-2014.jpg', 'IMG00123-20110522-1501.jpg', 'IMG00122-20120326-2014.jpg', 'IMG00122-20110522-1501.jpg', 'IMG00121-20120326-2014.jpg', 'IMG00121-20110515-1927.jpg', 'IMG00120-20120326-2013.jpg', 'IMG00120-20110515-1927.jpg', 'IMG00119-20120326-2013.jpg', 'IMG00119-20110411-1810.jpg', 'IMG00118-20120326-2013.jpg', 'IMG00118-20110403-1708.jpg', 'IMG00117-20120324-1859.jpg', 'IMG00117-20110403-1708.jpg', 'IMG00116-20120324-0903.jpg', 'IMG00116-20110329-1104.jpg', 'IMG00115-20120324-0724.jpg', 'IMG00115-20110329-1104.jpg', 'IMG00114-20120324-0724.jpg', 'IMG00114-20110329-1104.jpg', 'IMG00113-20120324-0724.jpg', 'IMG00113-20110303-0733.jpg', 'IMG00112-20120324-0723.jpg', 'IMG00112-20110220-1424.jpg', 'IMG00111-20120324-0723.jpg', 'IMG00111-20110215-1918.jpg', 'IMG00110-20120324-0723.jpg', 'IMG00110-20110122-1013.jpg', 'IMG00109-20120324-0723.jpg', 'IMG00109-20110106-1638.jpg', 'IMG00108-20110106-1638.jpg', 'IMG00107-20120304-2001.jpg', 'IMG00107-20110106-1637.jpg', 'IMG00106-20120226-1420.jpg', 'IMG00106-20110106-1637.jpg', 'IMG00105-20120223-2238.jpg', 'IMG00105-20110106-1637.jpg', 'IMG00104-20101229-2114.jpg', 'IMG00103-20120220-1630.jpg', 'IMG00103-20101228-1829.jpg', 'IMG00102-20120220-1630.jpg', 'IMG00102-20101228-1828.jpg', 'IMG00101-20120220-1630.jpg', 'IMG00101-20101226-1630.jpg', 'IMG00100-20120214-2102.jpg', 'IMG00100-20101226-1629.jpg', 'IMG00099-20120214-2101.jpg', 'IMG00099-20101226-1629.jpg', 'IMG00098-20120204-1423.jpg', 'IMG00098-20101226-1629.jpg', 'IMG00097-20120204-1423.jpg', 'IMG00097-20101212-1801.jpg', 'IMG00096-20120204-1422.jpg', 'IMG00096-20101205-1750.jpg', 'IMG00095-20120204-1422.jpg', 'IMG00095-20101205-1749.jpg', 'IMG00094-20120204-1422.jpg', 'IMG00094-20101204-2049.jpg', 'IMG00093-20120204-1421.jpg', 'IMG00093-20101204-2048.jpg', 'IMG00092-20120204-1421.jpg', 'IMG00092-20101204-2047.jpg', 'IMG00091-20120204-1420.jpg', 'IMG00091-20101204-2047.jpg', 'IMG00090-20120204-1420.jpg', 'IMG00090-20101204-2046.jpg', 'IMG00089-20120204-1420.jpg', 'IMG00088-20120204-1420.jpg', 'IMG00087-20120118-2242.jpg', 'IMG00086-20111229-2321.jpg', 'IMG00085-20111225-0914.jpg', 'IMG00084-20111225-0914.jpg', 'IMG00083-20111225-0914.jpg', 'IMG00082-20111225-0913.jpg', 'IMG00081-20111225-0913.jpg', 'IMG00080-20111225-0912.jpg', 'IMG00079-20111218-1048.jpg', 'IMG00078-20111218-1048.jpg', 'IMG00077-20111218-1048.jpg', 'IMG00076-20111218-1048.jpg', 'IMG00075-20111218-1047.jpg', 'IMG00074-20111218-1047.jpg', 'IMG00073-20111217-1021.jpg', 'IMG00072-20111211-1611.jpg', 'IMG00071-20111211-1611.jpg', 'IMG00070-20111211-1609.jpg', 'IMG00069-20111211-1609.jpg', 'IMG00068-20111211-1608.jpg', 'IMG00066-20111027-2058.jpg', 'IMG00065-20111027-2057.jpg', 'IMG00064-20111027-2057.jpg', 'IMG00063-20111027-1854.jpg', 'IMG00062-20111027-1853.jpg', 'IMG00061-20111027-1853.jpg', 'IMG00060-20111027-1853.jpg', 'IMG00059-20111027-1853.jpg', 'IMG00058-20111027-1853.jpg', 'IMG00057-20111027-1852.jpg', 'IMG00056-20111027-1851.jpg', 'IMG00055-20111027-1848.jpg', 'IMG00054-20111027-1848.jpg', 'IMG00053-20111027-1848.jpg', 'IMG00052-20111027-1848.jpg', 'IMG00051-20111027-1838.jpg', 'IMG00050-20111027-1838.jpg', 'IMG00049-20111027-1837.jpg', 'IMG00048-20111027-1835.jpg', 'IMG00047-20111027-1835.jpg', 'IMG00046-20111027-1834.jpg', 'IMG00045-20111027-1834.jpg', 'IMG00044-20111027-1833.jpg', 'IMG00043-20111027-1833.jpg', 'IMG00042-20111027-1833.jpg', 'IMG00041-20111027-1833.jpg', 'IMG00040-20111027-1833.jpg', 'IMG00039-20111027-1824.jpg', 'IMG00038-20111027-1822.jpg', 'IMG00037-20111027-1820.jpg', 'IMG00036-20111027-1819.jpg', 'IMG00035-20111027-1817.jpg', 'IMG00034-20111027-1815.jpg', 'IMG00033-20111027-1814.jpg', 'IMG00032-20111027-1811.jpg', 'IMG00031-20111027-1807.jpg', 'IMG00030-20111027-1806.jpg', 'IMG00029-20111027-1805.jpg', 'IMG00028-20111027-1805.jpg', 'IMG00028-20091003-1651.jpg', 'IMG00027-20111027-1759.jpg', 'IMG00026-20111027-1757.jpg', 'IMG00025-20111027-1752.jpg', 'IMG00024-20111027-1752.jpg', 'IMG00024-20090919-1753.jpg', 'IMG00023-20111027-1746.jpg', 'IMG00023-20090919-1651.jpg', 'IMG00022-20111027-1745.jpg', 'IMG00022-20090918-1634.jpg', 'IMG00021-20111027-1741.jpg', 'IMG00021-20090918-1633.jpg', 'IMG00020-20111027-1741.jpg', 'IMG00020-20090918-1632.jpg', 'IMG00019-20111027-1738.jpg', 'IMG00019-20090918-1603.jpg', 'IMG00018-20111012-1823.jpg', 'IMG00018-20090918-1559.jpg', 'IMG00017-20111012-1822.jpg', 'IMG00017-20090918-1459.jpg', 'IMG00016-20111012-1822.jpg', 'IMG00016-20090918-1458.jpg', 'IMG00015-20111012-1822.jpg', 'IMG00015-20090918-1458.jpg', 'IMG00014-20111012-1821.jpg', 'IMG00014-20090917-1502.jpg', 'IMG00013-20111012-1821.jpg', 'IMG00013-20090917-1502.jpg', 'IMG00012-20111007-1401.jpg', 'IMG00012-20090917-1502.jpg', 'IMG00011-20111007-1401.jpg', 'IMG00011-20090917-1501.jpg', 'IMG00010-20111007-1400.jpg', 'IMG00010-20090909-1602.jpg', 'IMG00009-20111007-1400.jpg', 'IMG00009-20090909-1602.jpg', 'IMG00008-20111007-1400.jpg', 'IMG00008-20090719-1838.jpg', 'IMG00007-20111007-1400.jpg', 'IMG00007-20090719-1837.jpg', 'IMG00006-20111007-1359.jpg', 'IMG00006-20090719-1836.jpg', 'IMG00005-20111007-1359.jpg', 'IMG00005-20090719-1804.jpg', 'IMG00004-20111007-1359.jpg', 'IMG00004-20090719-1804.jpg', 'IMG00003-20111007-1349.jpg', 'IMG00003-20090719-1804.jpg', 'IMG00002-20111007-1348.jpg'])\n",
      "('/media/mycloud/My Pictures/Arthur', [], ['Thumbs Restored 1.db', '1.jpg'])\n",
      "('/media/mycloud/My Pictures/Andrea Haus', [], ['Thumbs Restored 1.db', 'DSC03473.JPG', 'DSC03472.JPG', 'DSC03471.JPG', 'DSC03470.JPG', 'DSC03469.JPG', 'DSC03468.JPG', 'DSC03467.JPG', 'DSC03466.JPG', 'DSC03465.JPG', 'DSC03464.JPG', 'DSC03463.JPG', 'DSC03462.JPG', 'DSC03461.JPG', 'DSC03460.JPG', 'DSC03459.JPG', 'DSC03458.JPG', 'DSC03457.JPG', 'DSC03456.JPG', 'DSC03455.JPG', 'DSC03454.JPG', 'DSC03451.JPG', 'DSC03450.JPG', 'DSC03449.JPG', 'DSC03447.JPG', 'DSC03446.JPG', 'DSC03445.JPG', 'DSC03444.JPG', 'DSC03443.JPG', 'DSC03442.JPG', 'DSC03441.JPG', 'DSC03440.JPG', 'DSC03439.JPG', 'DSC03438.JPG', 'DSC03437.JPG', 'DSC03436.JPG', 'DSC03435.JPG', 'DSC03434.JPG', 'DSC03433.JPG', 'DSC03432.JPG', 'DSC03431.JPG', 'DSC03430.JPG', 'DSC03429.JPG', 'DSC03426.JPG', 'DSC03425.JPG', 'DSC03424.JPG', 'DSC03423.JPG', 'DSC03422.JPG', 'DSC03421.JPG', 'DSC03420.JPG', 'DSC03419.JPG', 'DSC03417.JPG', 'DSC03416.JPG', 'DSC03413.JPG', 'DSC03412.JPG', 'DSC03411.JPG'])\n",
      "('/media/mycloud/My Pictures/Ana', [], ['Thumbs Restored 1.db', 'F1000036.JPG', 'F1000035.JPG', 'F1000034.JPG', 'F1000033.JPG', 'F1000032.JPG', 'F1000031.JPG', 'F1000030.JPG', 'F1000029.JPG', 'F1000028.JPG', 'F1000027.JPG', 'F1000026.JPG', 'F1000025.JPG', 'F1000024.JPG', 'F1000023.JPG', 'F1000022.JPG', 'F1000021.JPG', 'F1000020.JPG', 'F1000019.JPG', 'F1000018.JPG', 'F1000017.JPG', 'F1000016.JPG', 'F1000015.JPG', 'F1000014.JPG', 'F1000013.JPG', 'F1000012.JPG', 'F1000011.JPG', 'F1000010.JPG', 'F1000009.JPG', 'F1000008.JPG', 'F1000007.JPG', 'F1000006.JPG', 'F1000005.JPG', 'F1000004.JPG', 'F1000003.JPG', 'F1000002.JPG', 'F1000001.JPG', 'Ana.zip', 'Ana.tif'])\n",
      "('/media/mycloud/My Pictures/Aline', [], ['Thumbs Restored 1.db', 'DSC03321.JPG', 'DSC03320.JPG', 'DSC03319.JPG', 'DSC03318.JPG'])\n",
      "('/media/mycloud/My Pictures/2006_11_25', [], ['DSCN0922.JPG', 'DSCN0921.JPG', 'DSCN0920.JPG', 'DSCN0919.JPG', 'DSCN0918.JPG', 'DSCN0917.JPG', 'DSCN0916.JPG', 'DSCN0915.JPG', 'DSCN0914.JPG'])\n",
      "('/media/mycloud/My Pictures/2006_11_20', [], ['Rest_2006_11_20.zip', 'Problems.zip', 'DSCN0913.JPG', 'DSCN0912.JPG', 'DSCN0911.JPG', 'DSCN0910.JPG', 'DSCN0909.JPG', 'DSCN0908.JPG', 'DSCN0907.JPG', 'DSCN0906.JPG', 'DSCN0905.JPG', 'DSCN0904.JPG', 'DSCN0903.JPG', 'DSCN0902.JPG', 'DSCN0901.JPG', 'DSCN0900.JPG', 'DSCN0899.JPG', 'DSCN0898.JPG', 'DSCN0897.JPG', 'DSCN0896.JPG', 'DSCN0895.JPG', 'DSCN0894.JPG', 'DSCN0893.JPG', 'DSCN0892.JPG', 'DSCN0891.JPG', 'DSCN0890.JPG', 'DSCN0889.JPG', 'DSCN0888.JPG', 'DSCN0887.JPG', 'DSCN0885.JPG', 'DSCN0883.JPG', 'DSCN0882.JPG', 'DSCN0880.JPG', 'DSCN0879.JPG', 'DSCN0875.JPG', 'DSCN0873.JPG', 'DSCN0868.JPG', 'DSCN0862.JPG', 'DSCN0859.JPG', 'DSCN0858.JPG', 'DSCN0857.JPG', 'DSCN0856.JPG', 'DSCN0855.JPG', 'DSCN0854.JPG', 'DSCN0853.JPG', 'DSCN0852.JPG', 'DSCN0851.JPG', 'DSCN0850.JPG', 'DSCN0849.JPG', 'DSCN0848.JPG', 'DSCN0847.JPG', 'DSCN0846.JPG', 'DSCN0845.JPG', 'DSCN0844.JPG', 'DSCN0843.JPG', 'DSCN0842.JPG', 'DSCN0841.JPG', 'DSCN0840.JPG', 'DSCN0839.JPG', 'DSCN0838.JPG', 'DSCN0837.JPG', 'DSCN0836.JPG', 'DSCN0835.JPG', 'DSCN0834.JPG', 'DSCN0833.JPG', 'DSCN0832.JPG', 'DSCN0831.JPG', 'DSCN0830.JPG', 'DSCN0829.JPG', 'DSCN0828.JPG', 'DSCN0827.JPG', 'DSCN0826.JPG', 'DSCN0825.JPG', 'DSCN0824.JPG', 'DSCN0823.JPG', 'DSCN0822.JPG', 'DSCN0821.JPG', 'DSCN0820.JPG', 'DSCN0819.JPG', 'DSCN0818.JPG', 'DSCN0817.JPG', 'DSCN0816.JPG', 'DSCN0815.JPG', 'DSCN0814.JPG', 'DSCN0813.JPG', 'DSCN0812.JPG', 'DSCN0811.JPG', 'DSCN0810.JPG', 'DSCN0809.JPG', 'DSCN0808.JPG', 'DSCN0807.JPG', 'DSCN0806.JPG', 'DSCN0805.JPG', 'DSCN0804.JPG', 'DSCN0803.JPG', 'DSCN0802.JPG', 'DSCN0801.JPG', 'DSCN0800.JPG', 'DSCN0799.JPG', 'DSCN0798.JPG', 'DSCN0797.JPG', 'DSCN0796.JPG', 'DSCN0795.JPG', 'DSCN0794.JPG', 'DSCN0793.JPG', 'DSCN0792.JPG'])\n",
      "('/media/mycloud/My Pictures/2006_11_09', [], ['DSCN0835.JPG', 'DSCN0834.JPG', 'DSCN0833.JPG', 'DSCN0832.JPG', 'DSCN0831.JPG', 'DSCN0830.JPG', 'DSCN0829.JPG', 'DSCN0828.JPG', 'DSCN0827.JPG', 'DSCN0826.JPG', 'DSCN0825.JPG', 'DSCN0824.JPG', 'DSCN0823.JPG', 'DSCN0822.JPG', 'DSCN0821.JPG', 'DSCN0820.JPG', 'DSCN0819.JPG', 'DSCN0818.JPG', 'DSCN0817.JPG', 'DSCN0816.JPG', 'DSCN0815.JPG', 'DSCN0814.JPG', 'DSCN0813.JPG', 'DSCN0812.JPG', 'DSCN0811.JPG', 'DSCN0810.JPG', 'DSCN0809.JPG', 'DSCN0808.JPG', 'DSCN0807.JPG', 'DSCN0806.JPG', 'DSCN0805.JPG', 'DSCN0804.JPG', 'DSCN0803.JPG', 'DSCN0802.JPG', 'DSCN0801.JPG', 'DSCN0800.JPG', 'DSCN0799.JPG', 'DSCN0798.JPG', 'DSCN0797.JPG', 'DSCN0796.JPG', 'DSCN0795.JPG', 'DSCN0794.JPG', 'DSCN0793.JPG', 'DSCN0792.JPG'])\n",
      "('/media/mycloud/My Pictures/moved_from_root', [], ['5BAB1645-D338-4A93-89AF-70638B91CBAC.jpg', '5D6FDBB5-841A-4744-9214-204E2DB5A95F.jpg', '5dabfdb3-8aaa-498c-a2f5-af406db40bf7.JPG', '5FA81E9D-9F9A-4E56-9AA0-5EEC241B86C0.jpg', '6BF15D8D-AE6A-4877-8189-E3338DB56D27.jpg', '6CB93F54-33E9-4E95-8F10-09B802DDF20D.jpg', '6D222102-D2E0-4EBF-9DA8-4F0FD36C2B74.jpg', '6e1b9911-8080-4b79-a774-2df38215be01.JPG', '6FAA9E69-97E8-4936-82AD-FCA7069B2FE7.jpg', '7b0368e6-cfac-45e9-bc74-4a79afdd8fc1.mp4', '7DEB5C86-8BBA-4AD4-ACF3-6EB5A9580CE0.jpg', '8b2e0417-f6d6-4f70-87ca-cddbacdd80fd.mp4', '8d549263-ccca-4484-aaa2-36ec0cb82c95.jpg', '8F25BCC4-80CD-483D-A6E5-53C48C9ED75B.jpg', '8F83E5E2-4C63-4761-805B-DF424C9FA81A.jpg', '9B6DC3D2-E9A4-490A-B3CF-E672F43B3402.jpg', '9BA52AA6-B5BF-4DAF-BBE8-AE090C30CB38.jpg', '9E2A7549-42F0-4D0D-B838-34B00AEF8A19.jpg', '9F29EEAF-A61B-43B4-AB5A-2330898CF9FE.jpg', '55b14170-5883-47a9-a7e8-12c55a3341d1.JPG', '56B1191B-A5FA-43B1-A3AB-CC16151530EB.jpg', '58A4FE42-4FF9-433F-8AA9-6A1F9FB573DF.jpg', '62C7BCD0-0F03-4D63-B038-E7D4A44128C5.jpg', '62f52fc9-3c7b-4420-a1dd-aeaa6e56aff9.JPG', '75cbcbc0-f03c-4174-bbe2-0d6f672a6d6e.JPG', '83F5A398-FDCA-4C64-B291-2C55BD4F9627.jpg', '87a8215d-273a-4de6-90e3-b8c37a6fcb01.mp4', '88a8e7ae-eacf-4990-b288-6e7d0734986a.JPG', '92F4577D-D93B-4EC1-8B9F-0DA3DA8297B5.jpg', '97a81cc6-8b7b-4d55-be2d-9c515921141d.jpg', '754daf6d-92a5-41c4-9407-2bb90d8d7c3f.JPG', '855EC9AD-AA18-4430-981D-E7D2B47143B8.jpg', '882B885A-9F3F-4260-B1C1-3B4E9B6A7A38.jpg', '8924E519-38C8-4131-BA11-CB0DFC6016D8.jpg', '57125caa-467e-4805-8b6f-e14d396f38f2.JPG', '71102e75-18a0-4497-9219-3ac8fa0652bd.JPG', '71597f41-eff1-497a-bbf3-c0efffcb0f02.JPG', '5346520b-28bb-464d-9370-580e8153d30d.mp4', '8354660f-3f50-4030-bf15-62af6500ce3e.mp4', '9070013F-33F6-48E3-A3F2-29CCA88CF5B9.jpg', '68660166-6740-46F2-9A3E-9EBD33AE3749.jpg', '92014379-9398-48F3-AB05-A87141AACD09.jpg', 'a873fc05-a1aa-4647-9a90-136c9de888aa.JPG', 'A4FBBD5F-93FE-4ABB-8340-22F5C557D76D.jpg', 'A5E2F92D-55FF-4B0A-A5A5-5A7440EB4AB6.jpg', 'A7D9DECA-0A44-4EFF-8A48-701C820C66D7.jpg', 'A267F6CC-1646-44D2-9DF1-D2D275CEAB40.jpg', 'A894827C-4A9A-458A-A824-2062D9754DC3.jpg', 'AC76D948-45C0-4C6C-A90C-929D82EE3155.JPG', 'BF9552F9-6206-4C96-9F70-EA8A4B579913.jpg', 'bfe1cbd2-3dd2-40f8-a881-e174ee75de6e.JPG', 'C4AC1B2D-99E9-433C-985F-411057422329.jpg', 'C7B36139-F207-48DC-9054-2EFF53B46184.jpg', 'C7032B51-EBCE-49AF-94F4-CAA25526A36F.jpg', 'CD5B82E8-606F-49CD-AD05-31E40185AFB1.jpg', 'CD882D1F-5787-4D2D-8A1C-59FFAB29CE4E.jpg', 'CDA98A8D-A460-4F5C-8D02-E5A1A7E08D66.jpg', 'cdc727ea-ac76-409d-927c-c8a20e7b597d.mp4', 'CF01DB7E-8956-4AA0-8B73-3E410BDD2A96.jpg', 'd6e37077-52d9-4396-9f7a-a2b5cc3efbef.mp4', 'D3A54B48-2059-401A-815B-3C672F89395C.jpg', 'D4806E72-A5B1-4D24-8F66-4CE08089FB86.jpg', 'DC774D68-6832-4295-8313-78392A9C0F46.jpg', 'DCB5F906-C54E-4BC2-9EEB-5F2F31662570.jpg', 'DFA4340E-93E1-4165-9F01-2CED9EB5B4A2.jpg', 'E2BAD844-A0EF-4270-86A7-37364C700B8E.jpg', 'E7D26512-A115-4614-91DA-900160663350.jpg', 'E07F995E-FC5D-4C85-B715-0DE4B8E1C211.jpg', 'E94AABA5-91DB-4E0C-8A31-0DE034322BED.jpg', 'ea349056-476c-4047-999c-93087e0fc113.JPG', 'eadc39e3-27f2-419d-8bc3-a71b6b1bc2da.JPG', 'EB70D44F-AF39-4747-9F97-470ECB7F84D5.jpg', 'EF2C83FB-EF6A-4247-B675-F6B7AD63654D.jpg', 'f5b1e24d-d678-4064-acae-72fab812ed6e.JPG', 'f6f1d0ef-6444-4043-ab12-96196c19f461.jpg', 'f249b183-2a3d-4845-a4d8-68f43432d384.JPG', 'F0E69656-18DE-4F1D-8A2C-04F40143311F.jpg', 'F54C7A1E-DDCB-4602-BB91-018B6DAA42F3.jpg', 'fec7cd77-6c87-48cc-84a7-437c580cce7c.mp4', 'FF1BC4B4-A8D8-4CE7-BF19-0D311ACBE029.jpg', 'FFA45C09-2FCA-4E25-A47C-A7C41A7D458C.jpg', 'IMG_0001.JPG', 'IMG_0002.JPG', 'IMG_0003.JPG', 'IMG_0005.JPG', 'IMG_0007.JPG', 'IMG_0008.JPG', 'IMG_0009.JPG', 'IMG_0011.JPG', 'IMG_0012.JPG', 'IMG_0013.JPG', 'IMG_0014.JPG', 'IMG_0015.JPG', 'IMG_0016.JPG', 'IMG_0017.JPG', 'IMG_0018.JPG', 'IMG_0019.JPG', 'IMG_0020.JPG', 'IMG_0020 (2).JPG', 'IMG_0021.JPG', 'IMG_0022.JPG', 'IMG_0023.JPG', 'IMG_0024.JPG', 'IMG_0024 (2).JPG', 'IMG_0025.JPG', 'IMG_0026.JPG', 'IMG_0027.JPG', 'IMG_0028.JPG', 'IMG_0029.JPG', 'IMG_0030.JPG', 'IMG_0031.JPG', 'IMG_0032.JPG', 'IMG_0032 (2).JPG', 'IMG_0033.JPG', 'IMG_0034.JPG', 'IMG_0035.JPG', 'IMG_0036.JPG', 'IMG_0038.JPG', 'IMG_0039.JPG', 'IMG_0040.JPG', 'IMG_0041.JPG', 'IMG_0042.JPG', 'IMG_0043.JPG', 'IMG_0044.JPG', 'IMG_0045.JPG', 'IMG_0046.JPG', 'IMG_0047.JPG', 'IMG_0048.JPG', 'IMG_0051.JPG', 'IMG_0052.JPG', 'IMG_0055.JPG', 'IMG_0058.JPG', 'IMG_0059.JPG', 'IMG_0060.JPG', 'IMG_0061.JPG', 'IMG_0062.JPG', 'IMG_0063.JPG', 'IMG_0063 (2).JPG', 'IMG_0064.JPG', 'IMG_0065.JPG', 'IMG_0065 (2).JPG', 'IMG_0066.JPG', 'IMG_0067.JPG', 'IMG_0068.JPG', 'IMG_0069.JPG', 'IMG_0070.JPG', 'IMG_0070 (2).JPG', 'IMG_0071.JPG', 'IMG_0074.JPG', 'IMG_0075.JPG', 'IMG_0076.JPG', 'IMG_0077.JPG', 'IMG_0077 (2).JPG', 'IMG_0079.JPG', 'IMG_0080.JPG', 'IMG_0081.JPG', 'IMG_0082.JPG', 'IMG_0083.JPG', 'IMG_0084.JPG', 'IMG_0085.JPG', 'IMG_0086.JPG', 'IMG_0087.JPG', 'IMG_0088.JPG', 'IMG_0089.JPG', 'IMG_0090.JPG', 'IMG_0091.JPG', 'IMG_0092.JPG', 'IMG_0092 (2).JPG', 'IMG_0093.JPG', 'IMG_0096.JPG', 'IMG_0097.JPG', 'IMG_0098.JPG', 'IMG_0099.JPG', 'IMG_0100.JPG', 'IMG_0101.JPG', 'IMG_0103.JPG', 'IMG_0107.JPG', 'IMG_0109.JPG', 'IMG_0115.JPG', 'IMG_0118.JPG', 'IMG_0126.JPG', 'IMG_0131.JPG', 'IMG_0132.JPG', 'IMG_0137.JPG', 'IMG_0140.JPG', 'IMG_0144.JPG', 'IMG_0145.JPG', 'IMG_0146.JPG', 'IMG_0149.JPG', 'IMG_0150.JPG', 'IMG_0151.JPG', 'IMG_0152.JPG', 'IMG_0153.JPG', 'IMG_0155.JPG', 'IMG_0156.JPG', 'IMG_0157.JPG', 'IMG_0158.JPG', 'IMG_0159.JPG', 'IMG_0159 (2).JPG', 'IMG_0162.JPG', 'IMG_0163.JPG', 'IMG_0164.JPG', 'IMG_0165.JPG', 'IMG_0166.JPG', 'IMG_0167.JPG', 'IMG_0169.JPG', 'IMG_0170.JPG', 'IMG_0171.JPG', 'IMG_0172.JPG', 'IMG_0173.JPG', 'IMG_0174.JPG', 'IMG_0175.JPG', 'IMG_0176.JPG', 'IMG_0178.JPG', 'IMG_0179.MOV', 'IMG_0180.JPG', 'IMG_0180 (2).JPG', 'IMG_0185.JPG', 'IMG_0188.JPG', 'IMG_0189.JPG', 'IMG_0190.JPG', 'IMG_0190 (2).JPG', 'IMG_0191.JPG', 'IMG_0196.JPG', 'IMG_0199.JPG', 'IMG_0202.JPG', 'IMG_0203.JPG', 'IMG_0204.JPG', 'IMG_0205.JPG', 'IMG_0206.JPG', 'IMG_0206 (2).JPG', 'IMG_0208.JPG', 'IMG_0210.JPG', 'IMG_0211.JPG', 'IMG_0212.JPG', 'IMG_0214.JPG', 'IMG_0215.JPG', 'IMG_0216.JPG', 'IMG_0216 (2).JPG', 'IMG_0217.JPG', 'IMG_0217 (2).JPG', 'IMG_0218.JPG', 'IMG_0220.JPG', 'IMG_0220 (2).JPG', 'IMG_0221.JPG', 'IMG_0222.JPG', 'IMG_0223.JPG', 'IMG_0224.JPG', 'IMG_0224 (2).JPG', 'IMG_0225.JPG', 'IMG_0226.JPG', 'IMG_0227.JPG', 'IMG_0227 (2).JPG', 'IMG_0228.JPG', 'IMG_0229.JPG', 'IMG_0230.JPG', 'IMG_0233.JPG', 'IMG_0238.JPG', 'IMG_0239.JPG', 'IMG_0240.JPG', 'IMG_0241.JPG', 'IMG_0242.JPG', 'IMG_0242 (2).JPG', 'IMG_0243.JPG', 'IMG_0244.JPG', 'IMG_0245.JPG', 'IMG_0246.JPG', 'IMG_0247.JPG', 'IMG_0247 (2).JPG', 'IMG_0249.JPG', 'IMG_0249 (2).JPG', 'IMG_0250.JPG', 'IMG_0251.JPG', 'IMG_0252.JPG', 'IMG_0253.JPG', 'IMG_0254.JPG', 'IMG_0256.JPG', 'IMG_0257.JPG', 'IMG_0258.JPG', 'IMG_0259.JPG', 'IMG_0260.JPG', 'IMG_0261.JPG', 'IMG_0262.JPG', 'IMG_0262 (2).JPG', 'IMG_0263.JPG', 'IMG_0264.JPG', 'IMG_0265.JPG', 'IMG_0266.JPG', 'IMG_0267.JPG', 'IMG_0268.JPG', 'IMG_0269.JPG', 'IMG_0270.JPG', 'IMG_0271.JPG', 'IMG_0272.JPG', 'IMG_0273.JPG', 'IMG_0273 (2).JPG', 'IMG_0274.JPG', 'IMG_0275.JPG', 'IMG_0277.JPG', 'IMG_0278.JPG', 'IMG_0279.JPG', 'IMG_0280.JPG', 'IMG_0281.JPG', 'IMG_0282.JPG', 'IMG_0283.JPG', 'IMG_0284.JPG', 'IMG_0285.JPG', 'IMG_0286.JPG', 'IMG_0287.JPG', 'IMG_0288.JPG', 'IMG_0289.JPG', 'IMG_0290.JPG', 'IMG_0291.JPG', 'IMG_0291 (2).JPG', 'IMG_0292.JPG', 'IMG_0292 (2).JPG', 'IMG_0293.JPG', 'IMG_0294.JPG', 'IMG_0295.JPG', 'IMG_0296.JPG', 'IMG_0297.JPG', 'IMG_0298.JPG', 'IMG_0298 (2).JPG', 'IMG_0299.JPG', 'IMG_0299 (2).JPG', 'IMG_0300.JPG', 'IMG_0301.JPG', 'IMG_0302.JPG', 'IMG_0303.JPG', 'IMG_0304.JPG', 'IMG_0304 (2).JPG', 'IMG_0305.JPG', 'IMG_0306.JPG', 'IMG_0307.JPG', 'IMG_0308.JPG', 'IMG_0309.JPG', 'IMG_0310.JPG', 'IMG_0311.JPG', 'IMG_0312.JPG', 'IMG_0312 (2).JPG', 'IMG_0313.JPG', 'IMG_0314.JPG', 'IMG_0315.JPG', 'IMG_0316.JPG', 'IMG_0317.JPG', 'IMG_0318.JPG', 'IMG_0319.JPG', 'IMG_0319 (2).JPG', 'IMG_0320.JPG', 'IMG_0321.JPG', 'IMG_0321 (2).JPG', 'IMG_0322.JPG', 'IMG_0323.JPG', 'IMG_0324.JPG', 'IMG_0325.JPG', 'IMG_0326.JPG', 'IMG_0327.JPG', 'IMG_0328.JPG', 'IMG_0328 (2).JPG', 'IMG_0329.JPG', 'IMG_0330.JPG', 'IMG_0331.JPG', 'IMG_0332.JPG', 'IMG_0333.JPG', 'IMG_0334.JPG', 'IMG_0335.JPG', 'IMG_0336.JPG', 'IMG_0337.JPG', 'IMG_0341.JPG', 'IMG_0341 (2).JPG', 'IMG_0342.JPG', 'IMG_0343.MOV', 'IMG_0346.JPG', 'IMG_0346 (2).JPG', 'IMG_0349.JPG', 'IMG_0350.JPG', 'IMG_0351.JPG', 'IMG_0353.JPG', 'IMG_0354.JPG', 'IMG_0354 (2).JPG', 'IMG_0355.JPG', 'IMG_0356.JPG', 'IMG_0357.JPG', 'IMG_0358.JPG', 'IMG_0358 (2).JPG', 'IMG_0359.JPG', 'IMG_0359 (2).JPG', 'IMG_0361.JPG', 'IMG_0363.JPG', 'IMG_0363 (2).JPG', 'IMG_0364.MOV', 'IMG_0365.HEIC', 'IMG_0366.HEIC', 'IMG_0367.HEIC', 'IMG_0368.HEIC', 'IMG_0369.HEIC', 'IMG_0370.HEIC', 'IMG_0370.JPG', 'IMG_0371.HEIC', 'IMG_0372.HEIC', 'IMG_0373.HEIC', 'IMG_0374.HEIC', 'IMG_0375.HEIC', 'IMG_0376.HEIC', 'IMG_0377.HEIC', 'IMG_0377.JPG', 'IMG_0378.HEIC', 'IMG_0379.HEIC', 'IMG_0379.JPG', 'IMG_0380.HEIC', 'IMG_0380.JPG', 'IMG_0381.HEIC', 'IMG_0382.HEIC', 'IMG_0382.JPG', 'IMG_0383.HEIC', 'IMG_0384.HEIC', 'IMG_0385.HEIC', 'IMG_0386.HEIC', 'IMG_0387.HEIC', 'IMG_0388.HEIC', 'IMG_0389.HEIC', 'IMG_0390.MOV', 'IMG_0391.JPG', 'IMG_0391.MOV', 'IMG_0392.MOV', 'IMG_0393.HEIC', 'IMG_0394.HEIC', 'IMG_0395.HEIC', 'IMG_0396.HEIC', 'IMG_0397.HEIC', 'IMG_0398.HEIC', 'IMG_0399.HEIC', 'IMG_0400.HEIC', 'IMG_0401.HEIC', 'IMG_0402.HEIC', 'IMG_0403.HEIC', 'IMG_0404.HEIC', 'IMG_0405.HEIC', 'IMG_0406.HEIC', 'IMG_0407.HEIC', 'IMG_0408.HEIC', 'IMG_0409.HEIC', 'IMG_0410.HEIC', 'IMG_0411.HEIC', 'IMG_0412.HEIC', 'IMG_0413.HEIC', 'IMG_0414.JPG', 'IMG_0415.JPG', 'IMG_0416.HEIC', 'IMG_0417.HEIC', 'IMG_0418.HEIC', 'IMG_0419.HEIC', 'IMG_0420.HEIC', 'IMG_0421.HEIC', 'IMG_0421.JPG', 'IMG_0422.HEIC', 'IMG_0423.HEIC', 'IMG_0424.HEIC', 'IMG_0425.HEIC', 'IMG_0425.JPG', 'IMG_0426.HEIC', 'IMG_0427.HEIC', 'IMG_0427.JPG', 'IMG_0428.HEIC', 'IMG_0428.JPG', 'IMG_0429.HEIC', 'IMG_0430.HEIC', 'IMG_0431.HEIC', 'IMG_0432.HEIC', 'IMG_0432.JPG', 'IMG_0433.HEIC', 'IMG_0434.HEIC', 'IMG_0435.HEIC', 'IMG_0436.HEIC', 'IMG_0437.HEIC', 'IMG_0438.HEIC', 'IMG_0439.HEIC', 'IMG_0440.HEIC', 'IMG_0441.HEIC', 'IMG_0442.HEIC', 'IMG_0442.JPG', 'IMG_0443.HEIC', 'IMG_0444.HEIC', 'IMG_0445.HEIC', 'IMG_0446.HEIC', 'IMG_0447.HEIC', 'IMG_0448.HEIC', 'IMG_0448.JPG', 'IMG_0449.HEIC', 'IMG_0450.HEIC', 'IMG_0451.HEIC', 'IMG_0452.HEIC', 'IMG_0453.HEIC', 'IMG_0454.MOV', 'IMG_0455.MOV', 'IMG_0456.HEIC', 'IMG_0457.JPG', 'IMG_0458.HEIC', 'IMG_0459.HEIC', 'IMG_0460.HEIC', 'IMG_0461.HEIC', 'IMG_0462.HEIC', 'IMG_0463.HEIC', 'IMG_0463.JPG', 'IMG_0464.HEIC', 'IMG_0466.HEIC', 'IMG_0467.HEIC', 'IMG_0467 (2).HEIC', 'IMG_0467 (3).HEIC', 'IMG_0468.HEIC', 'IMG_0468.JPG', 'IMG_0469.HEIC', 'IMG_0470.HEIC', 'IMG_0470.JPG', 'IMG_0471.HEIC', 'IMG_0472.HEIC', 'IMG_0473.HEIC', 'IMG_0474.JPG', 'IMG_0475.JPG', 'IMG_0476.HEIC', 'IMG_0477.HEIC', 'IMG_0478.HEIC', 'IMG_0479.HEIC', 'IMG_0480.HEIC', 'IMG_0481.HEIC', 'IMG_0482.HEIC', 'IMG_0483.HEIC', 'IMG_0484.HEIC', 'IMG_0485.HEIC', 'IMG_0486.HEIC', 'IMG_0487.HEIC', 'IMG_0488.HEIC', 'IMG_0489.HEIC', 'IMG_0490.HEIC', 'IMG_0491.HEIC', 'IMG_0492.HEIC', 'IMG_0492.JPG', 'IMG_0493.HEIC', 'IMG_0497.JPG', 'IMG_0498.PNG', 'IMG_0500.PNG', 'IMG_0501.JPG', 'IMG_0503.JPG', 'IMG_0505.JPG', 'IMG_0511.JPG', 'IMG_0514.HEIC', 'IMG_0515.HEIC', 'IMG_0515.JPG', 'IMG_0516.HEIC', 'IMG_0517.HEIC', 'IMG_0518.HEIC', 'IMG_0519.HEIC', 'IMG_0520.HEIC', 'IMG_0520.JPG', 'IMG_0521.HEIC', 'IMG_0522.HEIC', 'IMG_0524.JPG', 'IMG_0525.HEIC', 'IMG_0526.HEIC', 'IMG_0527.HEIC', 'IMG_0528.HEIC', 'IMG_0529.HEIC', 'IMG_0530.HEIC', 'IMG_0532.HEIC', 'IMG_0533.PNG', 'IMG_0534.PNG', 'IMG_0535.JPG', 'IMG_0535.PNG', 'IMG_0536.PNG', 'IMG_0537.PNG', 'IMG_0538.JPG', 'IMG_0539.PNG', 'IMG_0540.PNG', 'IMG_0541.HEIC', 'IMG_0542.HEIC', 'IMG_0542.MOV', 'IMG_0543.HEIC', 'IMG_0544.HEIC', 'IMG_0545.HEIC', 'IMG_0545.JPG', 'IMG_0546.HEIC', 'IMG_0546.JPG', 'IMG_0547.HEIC', 'IMG_0548.HEIC', 'IMG_0549.HEIC', 'IMG_0550.HEIC', 'IMG_0551.HEIC', 'IMG_0553.HEIC', 'IMG_0554.HEIC', 'IMG_0555.HEIC', 'IMG_0556.HEIC', 'IMG_0557.HEIC', 'IMG_0558.HEIC', 'IMG_0559.HEIC', 'IMG_0560.HEIC', 'IMG_0561.HEIC', 'IMG_0562.HEIC', 'IMG_0563.JPG', 'IMG_0563 (2).JPG', 'IMG_0564.JPG', 'IMG_0564 (2).JPG', 'IMG_0565.JPG', 'IMG_0566.HEIC', 'IMG_0567.HEIC', 'IMG_0568.HEIC', 'IMG_0569.HEIC', 'IMG_0570.HEIC', 'IMG_0571.HEIC', 'IMG_0571.JPG', 'IMG_0572.HEIC', 'IMG_0573.HEIC', 'IMG_0574.HEIC', 'IMG_0575.HEIC', 'IMG_0576.HEIC', 'IMG_0576.JPG', 'IMG_0577.HEIC', 'IMG_0578.HEIC', 'IMG_0579.HEIC', 'IMG_0580.HEIC', 'IMG_0581.HEIC', 'IMG_0582.HEIC', 'IMG_0583.HEIC', 'IMG_0584.HEIC', 'IMG_0585.HEIC', 'IMG_0585.JPG', 'IMG_0586.HEIC', 'IMG_0587.JPG', 'IMG_0587.MOV', 'IMG_0588.MOV', 'IMG_0589.HEIC', 'IMG_0590.HEIC', 'IMG_0591.HEIC', 'IMG_0591.JPG', 'IMG_0592.HEIC', 'IMG_0592.JPG', 'IMG_0593.HEIC', 'IMG_0594.MOV', 'IMG_0595.HEIC', 'IMG_0596.HEIC', 'IMG_0597.JPG', 'IMG_0598.JPG', 'IMG_0598.MOV', 'IMG_0599.HEIC', 'IMG_0599.JPG', 'IMG_0601.HEIC', 'IMG_0601 (2).HEIC', 'IMG_0601 (3).HEIC', 'IMG_0602.HEIC', 'IMG_0603.HEIC', 'IMG_0604.HEIC', 'IMG_0605.HEIC', 'IMG_0606.HEIC', 'IMG_0607.HEIC', 'IMG_0608.HEIC', 'IMG_0609.HEIC', 'IMG_0610.HEIC', 'IMG_0611.HEIC', 'IMG_0612.HEIC', 'IMG_0613.HEIC', 'IMG_0614.HEIC', 'IMG_0615.HEIC', 'IMG_0616.HEIC', 'IMG_0617.HEIC', 'IMG_0618.HEIC', 'IMG_0619.HEIC', 'IMG_0620.HEIC', 'IMG_0621.HEIC', 'IMG_0621.JPG', 'IMG_0623.HEIC', 'IMG_0624.HEIC', 'IMG_0626.HEIC', 'IMG_0627.HEIC', 'IMG_0628.JPG', 'IMG_0628 (2).JPG', 'IMG_0629.HEIC', 'IMG_0630.HEIC', 'IMG_0631.HEIC', 'IMG_0631.JPG', 'IMG_0632.PNG', 'IMG_0633.JPG', 'IMG_0633.PNG', 'IMG_0634.HEIC', 'IMG_0635.HEIC', 'IMG_0636.PNG', 'IMG_0637.PNG', 'IMG_0639.HEIC', 'IMG_0640.HEIC', 'IMG_0641.HEIC', 'IMG_0642.HEIC', 'IMG_0643.HEIC', 'IMG_0644.HEIC', 'IMG_0645.HEIC', 'IMG_0646.HEIC', 'IMG_0647.HEIC', 'IMG_0648.JPG', 'IMG_0651.HEIC', 'IMG_0652.HEIC', 'IMG_0653.JPG', 'IMG_0654.HEIC', 'IMG_0654.JPG', 'IMG_0655.HEIC', 'IMG_0656.JPG', 'IMG_0657.PNG', 'IMG_0658.JPG', 'IMG_0658.PNG', 'IMG_0659.PNG', 'IMG_0660.PNG', 'IMG_0661.JPG', 'IMG_0661.PNG', 'IMG_0662.HEIC', 'IMG_0663.HEIC', 'IMG_0664.HEIC', 'IMG_0665.HEIC', 'IMG_0666.HEIC', 'IMG_0667.HEIC', 'IMG_0668.HEIC', 'IMG_0669.HEIC', 'IMG_0670.JPG', 'IMG_0674.JPG', 'IMG_0678.HEIC', 'IMG_0679.HEIC', 'IMG_0680.HEIC', 'IMG_0681.HEIC', 'IMG_0681.JPG', 'IMG_0682.HEIC', 'IMG_0683.HEIC', 'IMG_0684.JPG', 'IMG_0685.MOV', 'IMG_0686.HEIC', 'IMG_0687.HEIC', 'IMG_0688.HEIC', 'IMG_0689.HEIC', 'IMG_0690.HEIC', 'IMG_0691.HEIC', 'IMG_0692.HEIC', 'IMG_0693.HEIC', 'IMG_0694.HEIC', 'IMG_0694.JPG', 'IMG_0695.HEIC', 'IMG_0696.HEIC', 'IMG_0696.JPG', 'IMG_0697.HEIC', 'IMG_0698.HEIC', 'IMG_0699.HEIC', 'IMG_0700.HEIC', 'IMG_0701.HEIC', 'IMG_0702.HEIC', 'IMG_0703.HEIC', 'IMG_0704.HEIC', 'IMG_0705.HEIC', 'IMG_0706.HEIC', 'IMG_0707.HEIC', 'IMG_0708.HEIC', 'IMG_0709.HEIC', 'IMG_0710.HEIC', 'IMG_0711.HEIC', 'IMG_0712.HEIC', 'IMG_0713.HEIC', 'IMG_0714.HEIC', 'IMG_0715.HEIC', 'IMG_0716.HEIC', 'IMG_0716.JPG', 'IMG_0717.HEIC', 'IMG_0718.HEIC', 'IMG_0718.JPG', 'IMG_0719.HEIC', 'IMG_0720.HEIC', 'IMG_0721.HEIC', 'IMG_0722.HEIC', 'IMG_0723.HEIC', 'IMG_0723.JPG', 'IMG_0725.HEIC', 'IMG_0725 (2).HEIC', 'IMG_0725 (3).HEIC', 'IMG_0726.HEIC', 'IMG_0727.HEIC', 'IMG_0730.JPG', 'IMG_0732.JPG', 'IMG_0734.JPG', 'IMG_0735.HEIC', 'IMG_0736.HEIC', 'IMG_0736.JPG', 'IMG_0737.HEIC', 'IMG_0738.HEIC', 'IMG_0739.HEIC', 'IMG_0740.HEIC', 'IMG_0741.HEIC', 'IMG_0742.HEIC', 'IMG_0743.HEIC', 'IMG_0744.HEIC', 'IMG_0745.HEIC', 'IMG_0746.HEIC', 'IMG_0748.HEIC', 'IMG_0749.HEIC', 'IMG_0750.HEIC', 'IMG_0751.HEIC', 'IMG_0752.HEIC', 'IMG_0752.MOV', 'IMG_0753.HEIC', 'IMG_0754.HEIC', 'IMG_0755.HEIC', 'IMG_0756.HEIC', 'IMG_0757.HEIC', 'IMG_0758.HEIC', 'IMG_0759.HEIC', 'IMG_0760.HEIC', 'IMG_0761.HEIC', 'IMG_0761.JPG', 'IMG_0762.HEIC', 'IMG_0763.HEIC', 'IMG_0763.JPG', 'IMG_0764.HEIC', 'IMG_0765.HEIC', 'IMG_0766.HEIC', 'IMG_0767.JPG', 'IMG_0767.PNG', 'IMG_0768.PNG', 'IMG_0769.HEIC', 'IMG_0770.HEIC', 'IMG_0771.HEIC', 'IMG_0772.HEIC', 'IMG_0773.HEIC', 'IMG_0774.HEIC', 'IMG_0775.HEIC', 'IMG_0775.JPG', 'IMG_0776.HEIC', 'IMG_0777.HEIC', 'IMG_0778.HEIC', 'IMG_0779.HEIC', 'IMG_0780.HEIC', 'IMG_0781.HEIC', 'IMG_0782.HEIC', 'IMG_0783.HEIC', 'IMG_0784.HEIC', 'IMG_0785.HEIC', 'IMG_0786.HEIC', 'IMG_0787.HEIC', 'IMG_0788.HEIC', 'IMG_0789.HEIC', 'IMG_0816.JPG', 'IMG_0818.HEIC', 'IMG_0819.HEIC', 'IMG_0819.JPG', 'IMG_0820.HEIC', 'IMG_0821.HEIC', 'IMG_0821.JPG', 'IMG_0822.JPG', 'IMG_0822.MOV', 'IMG_0823.MOV', 'IMG_0824.MOV', 'IMG_0825.MOV', 'IMG_0826.HEIC', 'IMG_0827.HEIC', 'IMG_0828.HEIC', 'IMG_0830.HEIC', 'IMG_0830 (2).HEIC', 'IMG_0830 (3).HEIC', 'IMG_0832.HEIC', 'IMG_0833.HEIC', 'IMG_0834.HEIC', 'IMG_0835.HEIC', 'IMG_0836.HEIC', 'IMG_0837.HEIC', 'IMG_0838.HEIC', 'IMG_0839.HEIC', 'IMG_0840.HEIC', 'IMG_0841.HEIC', 'IMG_0843.HEIC', 'IMG_0844.HEIC', 'IMG_0845.HEIC', 'IMG_0845.JPG', 'IMG_0846.HEIC', 'IMG_0846.JPG', 'IMG_0847.HEIC', 'IMG_0847.JPG', 'IMG_0849.HEIC', 'IMG_0850.HEIC', 'IMG_0851.HEIC', 'IMG_0852.HEIC', 'IMG_0853.HEIC', 'IMG_0854.HEIC', 'IMG_0855.HEIC', 'IMG_0856.HEIC', 'IMG_0857.HEIC', 'IMG_0858.HEIC', 'IMG_0859.JPG', 'IMG_0860.MOV', 'IMG_0861.HEIC', 'IMG_0862.HEIC', 'IMG_0863.HEIC', 'IMG_0864.HEIC', 'IMG_0864.JPG', 'IMG_0866.HEIC', 'IMG_0867.HEIC', 'IMG_0868.HEIC', 'IMG_0869.HEIC', 'IMG_0869.JPG', 'IMG_0870.HEIC', 'IMG_0870.JPG', 'IMG_0871.HEIC', 'IMG_0872.HEIC', 'IMG_0873.HEIC', 'IMG_0874.HEIC', 'IMG_0875.HEIC', 'IMG_0877.HEIC', 'IMG_0878.HEIC', 'IMG_0878.JPG', 'IMG_0879.HEIC', 'IMG_0880.HEIC', 'IMG_0881.HEIC', 'IMG_0881.JPG', 'IMG_0882.HEIC', 'IMG_0883.HEIC', 'IMG_0884.HEIC', 'IMG_0885.HEIC', 'IMG_0885.JPG', 'IMG_0886.HEIC', 'IMG_0887.HEIC', 'IMG_0888.HEIC', 'IMG_0889.PNG', 'IMG_0890.JPG', 'IMG_0894.JPG', 'IMG_0898.JPG', 'IMG_0899.JPG', 'IMG_0901.JPG', 'IMG_0905.JPG', 'IMG_0907.JPG', 'IMG_0913.JPG', 'IMG_0914.HEIC', 'IMG_0915.HEIC', 'IMG_0916.HEIC', 'IMG_0917.HEIC', 'IMG_0918.HEIC', 'IMG_0919.HEIC', 'IMG_0919.JPG', 'IMG_0920.HEIC', 'IMG_0921.HEIC', 'IMG_0922.MOV', 'IMG_0924.HEIC', 'IMG_0925.HEIC', 'IMG_0926.HEIC', 'IMG_0927.HEIC', 'IMG_0928.HEIC', 'IMG_0929.HEIC', 'IMG_0930.HEIC', 'IMG_0931.HEIC', 'IMG_0932.HEIC', 'IMG_0933.HEIC', 'IMG_0934.HEIC', 'IMG_0935.HEIC', 'IMG_0936.HEIC', 'IMG_0937.HEIC', 'IMG_0938.HEIC', 'IMG_0938.JPG', 'IMG_0939.HEIC', 'IMG_0940.HEIC', 'IMG_0941.HEIC', 'IMG_0942.HEIC', 'IMG_0943.HEIC', 'IMG_0944.HEIC', 'IMG_0945.HEIC', 'IMG_0946.HEIC', 'IMG_0947.HEIC', 'IMG_0949.HEIC', 'IMG_0950.PNG', 'IMG_0953.HEIC', 'IMG_0954.HEIC', 'IMG_0955.HEIC', 'IMG_0956.HEIC', 'IMG_0957.HEIC', 'IMG_0957.JPG', 'IMG_0958.HEIC', 'IMG_0959.HEIC', 'IMG_0959.JPG', 'IMG_0960.HEIC', 'IMG_0961.HEIC', 'IMG_0962.HEIC', 'IMG_0962.JPG', 'IMG_0963.HEIC', 'IMG_0964.HEIC', 'IMG_0964 (2).HEIC', 'IMG_0964 (3).HEIC', 'IMG_0965.HEIC', 'IMG_0966.HEIC', 'IMG_0966 (2).HEIC', 'IMG_0966 (3).HEIC', 'IMG_0967.HEIC', 'IMG_0967 (2).HEIC', 'IMG_0967 (3).HEIC', 'IMG_0968.HEIC', 'IMG_0969.HEIC', 'IMG_0970.HEIC', 'IMG_0971.HEIC', 'IMG_0972.HEIC', 'IMG_0973.HEIC', 'IMG_0974.HEIC', 'IMG_0975.HEIC', 'IMG_0976.HEIC', 'IMG_0977.HEIC', 'IMG_0977.JPG', 'IMG_0978.HEIC', 'IMG_0979.HEIC', 'IMG_0980.HEIC', 'IMG_0981.HEIC', 'IMG_0981.JPG', 'IMG_0982.HEIC', 'IMG_0983.HEIC', 'IMG_0984.HEIC', 'IMG_0985.HEIC', 'IMG_0986.HEIC', 'IMG_0987.HEIC', 'IMG_0988.HEIC', 'IMG_0989.HEIC', 'IMG_0989.JPG', 'IMG_0990.HEIC', 'IMG_0991.HEIC', 'IMG_0992.HEIC', 'IMG_0993.HEIC', 'IMG_0994.HEIC', 'IMG_0994.JPG', 'IMG_0995.HEIC', 'IMG_0995.JPG', 'IMG_0996.HEIC', 'IMG_0997.HEIC', 'IMG_0998.HEIC', 'IMG_0999.HEIC', 'IMG_1001.HEIC', 'IMG_1002.HEIC', 'IMG_1003.HEIC', 'IMG_1004.HEIC', 'IMG_1005.HEIC', 'IMG_1006.JPG', 'IMG_1006 (2).JPG', 'IMG_1007.HEIC', 'IMG_1008.HEIC', 'IMG_1008.JPG', 'IMG_1009.HEIC', 'IMG_1010.HEIC', 'IMG_1011.HEIC', 'IMG_1012.HEIC', 'IMG_1012.JPG', 'IMG_1014.JPG', 'IMG_1016.HEIC', 'IMG_1017.HEIC', 'IMG_1018.HEIC', 'IMG_1019.HEIC', 'IMG_1020.HEIC', 'IMG_1021.HEIC', 'IMG_1021 (2).HEIC', 'IMG_1021 (3).HEIC', 'IMG_1022.HEIC', 'IMG_1022 (2).HEIC', 'IMG_1022 (3).HEIC', 'IMG_1023.HEIC', 'IMG_1024.HEIC', 'IMG_1025.HEIC', 'IMG_1026.HEIC', 'IMG_1027.HEIC', 'IMG_1028.HEIC', 'IMG_1029.HEIC', 'IMG_1030.HEIC', 'IMG_1031.HEIC', 'IMG_1032.HEIC', 'IMG_1033.HEIC', 'IMG_1034.HEIC', 'IMG_1035.HEIC', 'IMG_1036.HEIC', 'IMG_1037.HEIC', 'IMG_1038.HEIC', 'IMG_1039.HEIC', 'IMG_1039.JPG', 'IMG_1040.HEIC', 'IMG_1041.HEIC', 'IMG_1042.HEIC', 'IMG_1043.HEIC', 'IMG_1044.HEIC', 'IMG_1045.HEIC', 'IMG_1046.HEIC', 'IMG_1047.HEIC', 'IMG_1048.HEIC', 'IMG_1050.JPG', 'IMG_1052.HEIC', 'IMG_1053.HEIC', 'IMG_1054.HEIC', 'IMG_1055.HEIC', 'IMG_1055.JPG', 'IMG_1056.HEIC', 'IMG_1056.JPG', 'IMG_1057.HEIC', 'IMG_1058.HEIC', 'IMG_1059.HEIC', 'IMG_1060.HEIC', 'IMG_1061.HEIC', 'IMG_1062.HEIC', 'IMG_1063.HEIC', 'IMG_1064.HEIC', 'IMG_1065.HEIC', 'IMG_1066.HEIC', 'IMG_1066 (2).HEIC', 'IMG_1066 (3).HEIC', 'IMG_1067.HEIC', 'IMG_1067 (2).HEIC', 'IMG_1067 (3).HEIC', 'IMG_1068.HEIC', 'IMG_1069.HEIC', 'IMG_1070.HEIC', 'IMG_1071.HEIC', 'IMG_1072.HEIC', 'IMG_1073.HEIC', 'IMG_1073.JPG', 'IMG_1074.HEIC', 'IMG_1075.HEIC', 'IMG_1075.JPG', 'IMG_1076.HEIC', 'IMG_1077.HEIC', 'IMG_1078.HEIC', 'IMG_1079.HEIC', 'IMG_1080.HEIC', 'IMG_1081.HEIC', 'IMG_1082.HEIC', 'IMG_1083.HEIC', 'IMG_1084.HEIC', 'IMG_1085.HEIC', 'IMG_1086.HEIC', 'IMG_1087.HEIC', 'IMG_1088.HEIC', 'IMG_1089.HEIC', 'IMG_1090.HEIC', 'IMG_1091.HEIC', 'IMG_1092.HEIC', 'IMG_1093.HEIC', 'IMG_1094.HEIC', 'IMG_1095.HEIC', 'IMG_1096.HEIC', 'IMG_1097.HEIC', 'IMG_1098.HEIC', 'IMG_1099.HEIC', 'IMG_1100.HEIC', 'IMG_1102.HEIC', 'IMG_1105.HEIC', 'IMG_1107.JPG', 'IMG_1109.JPG', 'IMG_1110.HEIC', 'IMG_1111.HEIC', 'IMG_1116.JPG', 'IMG_1119.JPG', 'IMG_1120.HEIC', 'IMG_1121.HEIC', 'IMG_1122.HEIC', 'IMG_1127.HEIC', 'IMG_1128.HEIC', 'IMG_1129.HEIC', 'IMG_1130.HEIC', 'IMG_1131.HEIC', 'IMG_1132.HEIC', 'IMG_1133.HEIC', 'IMG_1134.HEIC', 'IMG_1135.HEIC', 'IMG_1136.HEIC', 'IMG_1137.HEIC', 'IMG_1138.HEIC', 'IMG_1139.JPG', 'IMG_1140.HEIC', 'IMG_1141.HEIC', 'IMG_1142.HEIC', 'IMG_1143.HEIC', 'IMG_1143.JPG', 'IMG_1144.HEIC', 'IMG_1145.HEIC', 'IMG_1145.JPG', 'IMG_1146.HEIC', 'IMG_1146.JPG', 'IMG_1147.HEIC', 'IMG_1148.HEIC', 'IMG_1149.HEIC', 'IMG_1152.HEIC', 'IMG_1153.JPG', 'IMG_1166.HEIC', 'IMG_1168.HEIC', 'IMG_1169.HEIC', 'IMG_1170.HEIC', 'IMG_1171.HEIC', 'IMG_1172.HEIC', 'IMG_1173.HEIC', 'IMG_1174.PNG', 'IMG_1175.HEIC', 'IMG_1176.HEIC', 'IMG_1177.HEIC', 'IMG_1177.JPG', 'IMG_1178.HEIC', 'IMG_1179.HEIC', 'IMG_1180.HEIC', 'IMG_1180.JPG', 'IMG_1181.HEIC', 'IMG_1183.MOV', 'IMG_1184.MOV', 'IMG_1185.HEIC', 'IMG_1186.HEIC', 'IMG_1187.HEIC', 'IMG_1188.MOV', 'IMG_1189.MOV', 'IMG_1190.HEIC', 'IMG_1191.HEIC', 'IMG_1192.HEIC', 'IMG_1192.JPG', 'IMG_1193.HEIC', 'IMG_1194.HEIC', 'IMG_1195.JPG', 'IMG_1198.JPG', 'IMG_1201.HEIC', 'IMG_1202.HEIC', 'IMG_1205.HEIC', 'IMG_1208.JPG', 'IMG_1209.HEIC', 'IMG_1210.HEIC', 'IMG_1211.MOV', 'IMG_1212.HEIC', 'IMG_1213.HEIC', 'IMG_1214.HEIC', 'IMG_1215.HEIC', 'IMG_1217.HEIC', 'IMG_1217.JPG', 'IMG_1218.HEIC', 'IMG_1219.HEIC', 'IMG_1220.HEIC', 'IMG_1220.JPG', 'IMG_1221.HEIC', 'IMG_1222.HEIC', 'IMG_1223.HEIC', 'IMG_1224.HEIC', 'IMG_1225.MOV', 'IMG_1226.HEIC', 'IMG_1227.PNG', 'IMG_1228.HEIC', 'IMG_1229.HEIC', 'IMG_1231.HEIC', 'IMG_1231.JPG', 'IMG_1232.HEIC', 'IMG_1236.HEIC', 'IMG_1239.HEIC', 'IMG_1240.HEIC', 'IMG_1241.HEIC', 'IMG_1242.JPG', 'IMG_1243.HEIC', 'IMG_1244.MOV', 'IMG_1245.JPG', 'IMG_1246.JPG', 'IMG_1247.JPG', 'IMG_1248.MOV', 'IMG_1249.MOV', 'IMG_1252.MOV', 'IMG_1253.HEIC', 'IMG_1254.MOV', 'IMG_1256.HEIC', 'IMG_1257.HEIC', 'IMG_1258.HEIC', 'IMG_1258.JPG', 'IMG_1259.HEIC', 'IMG_1260.HEIC', 'IMG_1261.HEIC', 'IMG_1261.JPG', 'IMG_1262.HEIC', 'IMG_1263.HEIC', 'IMG_1264.HEIC', 'IMG_1265.HEIC', 'IMG_1266.HEIC', 'IMG_1267.HEIC', 'IMG_1268.HEIC', 'IMG_1269.HEIC', 'IMG_1270.HEIC', 'IMG_1271.HEIC', 'IMG_1272.MOV', 'IMG_1273.HEIC', 'IMG_1273.JPG', 'IMG_1274.HEIC', 'IMG_1274.JPG', 'IMG_1275.HEIC', 'IMG_1276.JPG', 'IMG_1277.JPG', 'IMG_1279.HEIC', 'IMG_1280.HEIC', 'IMG_1281.HEIC', 'IMG_1282.HEIC', 'IMG_1283.PNG', 'IMG_1285.JPG', 'IMG_1286.JPG', 'IMG_1287.HEIC', 'IMG_1288.HEIC', 'IMG_1289.HEIC', 'IMG_1290.HEIC', 'IMG_1291.HEIC', 'IMG_1292.HEIC', 'IMG_1292.JPG', 'IMG_1293.HEIC', 'IMG_1294.PNG', 'IMG_1295.JPG', 'IMG_1295.PNG', 'IMG_1296.HEIC', 'IMG_1299.HEIC', 'IMG_1300.HEIC', 'IMG_1301.HEIC', 'IMG_1302.HEIC', 'IMG_1303.HEIC', 'IMG_1304.HEIC', 'IMG_1305.HEIC', 'IMG_1306.PNG', 'IMG_1307.HEIC', 'IMG_1308.HEIC', 'IMG_1308.JPG', 'IMG_1309.HEIC', 'IMG_1309.JPG', 'IMG_1310.JPG', 'IMG_1312.HEIC', 'IMG_1313.HEIC', 'IMG_1314.HEIC', 'IMG_1315.HEIC', 'IMG_1316.HEIC', 'IMG_1317.HEIC', 'IMG_1319.HEIC', 'IMG_1320.HEIC', 'IMG_1321.HEIC', 'IMG_1324.HEIC', 'IMG_1325.HEIC', 'IMG_1326.HEIC', 'IMG_1327.HEIC', 'IMG_1328.HEIC', 'IMG_1329.HEIC', 'IMG_1330.HEIC', 'IMG_1331.HEIC', 'IMG_1332.HEIC', 'IMG_1334.HEIC', 'IMG_1334.JPG', 'IMG_1335.HEIC', 'IMG_1336.HEIC', 'IMG_1336.JPG', 'IMG_1337.HEIC', 'IMG_1338.MOV', 'IMG_1339.HEIC', 'IMG_1339.JPG', 'IMG_1340.HEIC', 'IMG_1341.JPG', 'IMG_1342.HEIC', 'IMG_1343.HEIC', 'IMG_1344.HEIC', 'IMG_1345.HEIC', 'IMG_1346.HEIC', 'IMG_1347.HEIC', 'IMG_1348.JPG', 'IMG_1349.JPG', 'IMG_1350.JPG', 'IMG_1351.JPG', 'IMG_1352.PNG', 'IMG_1353.HEIC', 'IMG_1354.HEIC', 'IMG_1354.JPG', 'IMG_1355.HEIC', 'IMG_1356.HEIC', 'IMG_1359.PNG', 'IMG_1360.PNG', 'IMG_1361.HEIC', 'IMG_1362.HEIC', 'IMG_1363.MOV', 'IMG_1364.MOV', 'IMG_1365.HEIC', 'IMG_1365.JPG', 'IMG_1366.HEIC', 'IMG_1367.HEIC', 'IMG_1368.HEIC', 'IMG_1369.HEIC', 'IMG_1370.HEIC', 'IMG_1371.HEIC', 'IMG_1372.HEIC', 'IMG_1374.HEIC', 'IMG_1374.JPG', 'IMG_1376.HEIC', 'IMG_1376 (2).HEIC', 'IMG_1376 (3).HEIC', 'IMG_1377.HEIC', 'IMG_1378.HEIC', 'IMG_1379.HEIC', 'IMG_1380.HEIC', 'IMG_1381.HEIC', 'IMG_1382.HEIC', 'IMG_1383.HEIC', 'IMG_1384.HEIC', 'IMG_1385.HEIC', 'IMG_1386.HEIC', 'IMG_1387.HEIC', 'IMG_1388.HEIC', 'IMG_1388.JPG', 'IMG_1389.HEIC', 'IMG_1390.HEIC', 'IMG_1391.HEIC', 'IMG_1391.JPG', 'IMG_1392.HEIC', 'IMG_1392.JPG', 'IMG_1393.HEIC', 'IMG_1394.HEIC', 'IMG_1395.HEIC', 'IMG_1396.HEIC', 'IMG_1397.HEIC', 'IMG_1398.HEIC', 'IMG_1399.HEIC', 'IMG_1400.HEIC', 'IMG_1401.HEIC', 'IMG_1402.HEIC', 'IMG_1402.JPG', 'IMG_1403.HEIC', 'IMG_1404.HEIC', 'IMG_1405.HEIC', 'IMG_1406.HEIC', 'IMG_1407.HEIC', 'IMG_1408.HEIC', 'IMG_1409.HEIC', 'IMG_1410.HEIC', 'IMG_1411.HEIC', 'IMG_1412.HEIC', 'IMG_1413.HEIC', 'IMG_1413.JPG', 'IMG_1414.HEIC', 'IMG_1414.JPG', 'IMG_1415.HEIC', 'IMG_1416.HEIC', 'IMG_1417.HEIC', 'IMG_1418.HEIC', 'IMG_1419.HEIC', 'IMG_1420.HEIC', 'IMG_1421.HEIC', 'IMG_1422.HEIC', 'IMG_1423.HEIC', 'IMG_1424.HEIC', 'IMG_1424.JPG', 'IMG_1425.HEIC', 'IMG_1426.HEIC', 'IMG_1427.HEIC', 'IMG_1428.HEIC', 'IMG_1429.HEIC', 'IMG_1430.HEIC', 'IMG_1431.HEIC', 'IMG_1432.HEIC', 'IMG_1433.HEIC', 'IMG_1434.HEIC', 'IMG_1435.HEIC', 'IMG_1436.HEIC', 'IMG_1437.HEIC', 'IMG_1437.JPG', 'IMG_1438.HEIC', 'IMG_1439.HEIC', 'IMG_1439.JPG', 'IMG_1440.HEIC', 'IMG_1441.HEIC', 'IMG_1443.HEIC', 'IMG_1444.HEIC', 'IMG_1446.HEIC', 'IMG_1447.HEIC', 'IMG_1448.HEIC', 'IMG_1449.HEIC', 'IMG_1450.HEIC', 'IMG_1451.HEIC', 'IMG_1452.PNG', 'IMG_1454.JPG', 'IMG_1455.PNG', 'IMG_1456.PNG', 'IMG_1457.HEIC', 'IMG_1458.HEIC', 'IMG_1459.HEIC', 'IMG_1460.HEIC', 'IMG_1461.HEIC', 'IMG_1462.HEIC', 'IMG_1462.JPG', 'IMG_1463.HEIC', 'IMG_1464.HEIC', 'IMG_1465.HEIC', 'IMG_1466.HEIC', 'IMG_1466.JPG', 'IMG_1467.HEIC', 'IMG_1467.JPG', 'IMG_1468.HEIC', 'IMG_1469.HEIC', 'IMG_1470.HEIC', 'IMG_1471.HEIC', 'IMG_1472.HEIC', 'IMG_1473.HEIC', 'IMG_1474.HEIC', 'IMG_1475.HEIC', 'IMG_1476.HEIC', 'IMG_1477.HEIC', 'IMG_1477.JPG', 'IMG_1478.HEIC', 'IMG_1479.HEIC', 'IMG_1484.HEIC', 'IMG_1485.HEIC', 'IMG_1485.JPG', 'IMG_1486.HEIC', 'IMG_1487.HEIC', 'IMG_1488.HEIC', 'IMG_1490.HEIC', 'IMG_1491.HEIC', 'IMG_1492.HEIC', 'IMG_1492.JPG', 'IMG_1493.HEIC', 'IMG_1494.HEIC', 'IMG_1495.HEIC', 'IMG_1495.JPG', 'IMG_1496.HEIC', 'IMG_1497.HEIC', 'IMG_1498.JPG', 'IMG_1500.HEIC', 'IMG_1501.HEIC', 'IMG_1502.HEIC', 'IMG_1503.HEIC', 'IMG_1503.JPG', 'IMG_1504.HEIC', 'IMG_1505.HEIC', 'IMG_1505.JPG', 'IMG_1506.HEIC', 'IMG_1507.HEIC', 'IMG_1508.HEIC', 'IMG_1509.HEIC', 'IMG_1510.HEIC', 'IMG_1511.HEIC', 'IMG_1512.HEIC', 'IMG_1513.HEIC', 'IMG_1514.HEIC', 'IMG_1515.HEIC', 'IMG_1516.HEIC', 'IMG_1517.HEIC', 'IMG_1518.HEIC', 'IMG_1519.HEIC', 'IMG_1519.JPG', 'IMG_1520.HEIC', 'IMG_1520.JPG', 'IMG_1521.HEIC', 'IMG_1522.HEIC', 'IMG_1523.HEIC', 'IMG_1524.HEIC', 'IMG_1525.HEIC', 'IMG_1526.HEIC', 'IMG_1529.JPG', 'IMG_1530.HEIC', 'IMG_1530.JPG', 'IMG_1532.HEIC', 'IMG_1533.HEIC', 'IMG_1533.JPG', 'IMG_1534.HEIC', 'IMG_1535.HEIC', 'IMG_1536.HEIC', 'IMG_1537.HEIC', 'IMG_1539.HEIC', 'IMG_1540.HEIC', 'IMG_1541.JPG', 'IMG_1544.JPG', 'IMG_1546.JPG', 'IMG_1547.HEIC', 'IMG_1548.HEIC', 'IMG_1549.HEIC', 'IMG_1550.HEIC', 'IMG_1550.JPG', 'IMG_1551.HEIC', 'IMG_1553.PNG', 'IMG_1557.HEIC', 'IMG_1558.HEIC', 'IMG_1559.HEIC', 'IMG_1559.JPG', 'IMG_1560.HEIC', 'IMG_1561.HEIC', 'IMG_1562.HEIC', 'IMG_1563.HEIC', 'IMG_1563.JPG', 'IMG_1564.HEIC', 'IMG_1564.JPG', 'IMG_1565.HEIC', 'IMG_1566.HEIC', 'IMG_1569.PNG', 'IMG_1573.HEIC', 'IMG_1573.JPG', 'IMG_1574.JPG', 'IMG_1576.HEIC', 'IMG_1577.HEIC', 'IMG_1578.HEIC', 'IMG_1579.JPG', 'IMG_1581.HEIC', 'IMG_1582.HEIC', 'IMG_1585.HEIC', 'IMG_1586.HEIC', 'IMG_1587.HEIC', 'IMG_1588.HEIC', 'IMG_1589.HEIC', 'IMG_1590.HEIC', 'IMG_1590.JPG', 'IMG_1591.HEIC', 'IMG_1592.HEIC', 'IMG_1593.HEIC', 'IMG_1594.HEIC', 'IMG_1595.HEIC', 'IMG_1596.HEIC', 'IMG_1597.HEIC', 'IMG_1598.HEIC', 'IMG_1599.HEIC', 'IMG_1600.HEIC', 'IMG_1601.MOV', 'IMG_1606.JPG', 'IMG_1608.HEIC', 'IMG_1608.JPG', 'IMG_1609.HEIC', 'IMG_1610.HEIC', 'IMG_1611.HEIC', 'IMG_1612.HEIC', 'IMG_1613.HEIC', 'IMG_1614.HEIC', 'IMG_1615.HEIC', 'IMG_1618.HEIC', 'IMG_1619.HEIC', 'IMG_1620.HEIC', 'IMG_1621.HEIC', 'IMG_1622.HEIC', 'IMG_1623.HEIC', 'IMG_1624.HEIC', 'IMG_1625.HEIC', 'IMG_1626.HEIC', 'IMG_1627.HEIC', 'IMG_1628.HEIC', 'IMG_1629.HEIC', 'IMG_1630.HEIC', 'IMG_1631.JPG', 'IMG_1631.MOV', 'IMG_1632.MOV', 'IMG_1633.HEIC', 'IMG_1634.HEIC', 'IMG_1637.JPG', 'IMG_1641.HEIC', 'IMG_1642.HEIC', 'IMG_1642.JPG', 'IMG_1643.HEIC', 'IMG_1644.HEIC', 'IMG_1645.HEIC', 'IMG_1646.HEIC', 'IMG_1647.HEIC', 'IMG_1647.JPG', 'IMG_1648.HEIC', 'IMG_1648.JPG', 'IMG_1649.HEIC', 'IMG_1650.HEIC', 'IMG_1651.PNG', 'IMG_1652.PNG', 'IMG_1653.HEIC', 'IMG_1654.HEIC', 'IMG_1654.JPG', 'IMG_1655.HEIC', 'IMG_1655.JPG', 'IMG_1657.PNG', 'IMG_1658.PNG', 'IMG_1659.HEIC', 'IMG_1660.HEIC', 'IMG_1661.HEIC', 'IMG_1662.JPG', 'IMG_1663.HEIC', 'IMG_1664.HEIC', 'IMG_1665.HEIC', 'IMG_1666.HEIC', 'IMG_1667.HEIC', 'IMG_1668.HEIC', 'IMG_1669.HEIC', 'IMG_1670.HEIC', 'IMG_1671.HEIC', 'IMG_1672.HEIC', 'IMG_1673.JPG', 'IMG_1673.MOV', 'IMG_1674.MOV', 'IMG_1675.JPG', 'IMG_1675.MOV', 'IMG_1676.HEIC', 'IMG_1676.JPG', 'IMG_1677.HEIC', 'IMG_1677 (2).HEIC', 'IMG_1678.HEIC', 'IMG_1679.HEIC', 'IMG_1680.HEIC', 'IMG_1681.HEIC', 'IMG_1686.JPG', 'IMG_1687.JPG', 'IMG_1699.PNG', 'IMG_1700.PNG', 'IMG_1701.HEIC', 'IMG_1702.HEIC', 'IMG_1703.HEIC', 'IMG_1704.HEIC', 'IMG_1705.HEIC', 'IMG_1706.HEIC', 'IMG_1707.HEIC', 'IMG_1707.JPG', 'IMG_1708.HEIC', 'IMG_1709.HEIC', 'IMG_1710.HEIC', 'IMG_1711.HEIC', 'IMG_1712.HEIC', 'IMG_1713.HEIC', 'IMG_1714.HEIC', 'IMG_1715.HEIC', 'IMG_1716.HEIC', 'IMG_1717.MOV', 'IMG_1718.HEIC', 'IMG_1719.HEIC', 'IMG_1720.HEIC', 'IMG_1721.HEIC', 'IMG_1722.HEIC', 'IMG_1723.MOV', 'IMG_1724.JPG', 'IMG_1726.JPG', 'IMG_1729.PNG', 'IMG_1731.PNG', 'IMG_1732.PNG', 'IMG_1740.JPG', 'IMG_1745.MOV', 'IMG_1746.MOV', 'IMG_1747.MOV', 'IMG_1748.MOV', 'IMG_1751.HEIC', 'IMG_1752.HEIC', 'IMG_1753.HEIC', 'IMG_1753.PNG', 'IMG_1754.HEIC', 'IMG_1755.HEIC', 'IMG_1756.HEIC', 'IMG_1757.HEIC', 'IMG_1758.HEIC', 'IMG_1759.HEIC', 'IMG_1759.PNG', 'IMG_1760.HEIC', 'IMG_1761.HEIC', 'IMG_1762.HEIC', 'IMG_1763.JPG', 'IMG_1765.JPG', 'IMG_1767.PNG', 'IMG_1769.HEIC', 'IMG_1769.JPG', 'IMG_1773.JPG', 'IMG_1776.JPG', 'IMG_1785.JPG', 'IMG_1789.JPG', 'IMG_1803.JPG', 'IMG_1812.PNG', 'IMG_1814.HEIC', 'IMG_1815.HEIC', 'IMG_1815.JPG', 'IMG_1817.HEIC', 'IMG_1817.JPG', 'IMG_1818.HEIC', 'IMG_1819.HEIC', 'IMG_1820.HEIC', 'IMG_1821.HEIC', 'IMG_1822.HEIC', 'IMG_1823.HEIC', 'IMG_1824.HEIC', 'IMG_1825.HEIC', 'IMG_1826.HEIC', 'IMG_1828.HEIC', 'IMG_1831.JPG', 'IMG_1834.HEIC', 'IMG_1835.HEIC', 'IMG_1836.HEIC', 'IMG_1836.JPG', 'IMG_1837.HEIC', 'IMG_1838.HEIC', 'IMG_1839.HEIC', 'IMG_1840.HEIC', 'IMG_1841.HEIC', 'IMG_1842.HEIC', 'IMG_1843.HEIC', 'IMG_1844.HEIC', 'IMG_1844.JPG', 'IMG_1845.HEIC', 'IMG_1845.JPG', 'IMG_1846.HEIC', 'IMG_1847.HEIC', 'IMG_1848.HEIC', 'IMG_1849.HEIC', 'IMG_1849.JPG', 'IMG_1850.HEIC', 'IMG_1851.HEIC', 'IMG_1852.HEIC', 'IMG_1853.HEIC', 'IMG_1853.JPG', 'IMG_1854.HEIC', 'IMG_1855.HEIC', 'IMG_1857.HEIC', 'IMG_1857.JPG', 'IMG_1858.PNG', 'IMG_1859.JPG', 'IMG_1859.MOV', 'IMG_1860.HEIC', 'IMG_1865.HEIC', 'IMG_1867.MOV', 'IMG_1868.PNG', 'IMG_1869.JPG', 'IMG_1870.HEIC', 'IMG_1870.JPG', 'IMG_1871.HEIC', 'IMG_1872.HEIC', 'IMG_1873.HEIC', 'IMG_1873.JPG', 'IMG_1874.HEIC', 'IMG_1875.HEIC', 'IMG_1876.HEIC', 'IMG_1876.JPG', 'IMG_1877.HEIC', 'IMG_1878.HEIC', 'IMG_1879.HEIC', 'IMG_1880.PNG', 'IMG_1882.HEIC', 'IMG_1883.PNG', 'IMG_1884.JPG', 'IMG_1884.PNG', 'IMG_1885.PNG', 'IMG_1887.HEIC', 'IMG_1888.HEIC', 'IMG_1888.JPG', 'IMG_1889.HEIC', 'IMG_1890.HEIC', 'IMG_1892.HEIC', 'IMG_1893.HEIC', 'IMG_1894.HEIC', 'IMG_1895.PNG', 'IMG_1897.HEIC', 'IMG_1898.HEIC', 'IMG_1899.JPG', 'IMG_1902.HEIC', 'IMG_1903.HEIC', 'IMG_1904.HEIC', 'IMG_1905.PNG', 'IMG_1907.HEIC', 'IMG_1907.JPG', 'IMG_1908.HEIC', 'IMG_1908.JPG', 'IMG_1910.HEIC', 'IMG_1911.HEIC', 'IMG_1912.HEIC', 'IMG_1912.JPG', 'IMG_1913.HEIC', 'IMG_1914.HEIC', 'IMG_1915.HEIC', 'IMG_1917.HEIC', 'IMG_1918.HEIC', 'IMG_1918.JPG', 'IMG_1919.HEIC', 'IMG_1920.HEIC', 'IMG_1921.HEIC', 'IMG_1924.JPG', 'IMG_1927.HEIC', 'IMG_1927.MOV', 'IMG_1945.PNG', 'IMG_1965.JPG', 'IMG_1969.JPG', 'IMG_1972.JPG', 'IMG_1976.JPG', 'IMG_1990.JPG', 'IMG_1992.HEIC', 'IMG_1993.HEIC', 'IMG_1994.PNG', 'IMG_1995.MOV', 'IMG_1996.HEIC', 'IMG_1997.HEIC', 'IMG_1998.PNG', 'IMG_1999.HEIC', 'IMG_2001.JPG', 'IMG_2001.PNG', 'IMG_2002.HEIC', 'IMG_2004.PNG', 'IMG_2005.HEIC', 'IMG_2006.HEIC', 'IMG_2026.JPG', 'IMG_2028.JPG', 'IMG_2037.JPG', 'IMG_2046.JPG', 'IMG_2048.JPG', 'IMG_2049.JPG', 'IMG_2055.JPG', 'IMG_2058.JPG', 'IMG_2060.JPG', 'IMG_2066.MOV', 'IMG_2071.JPG', 'IMG_2072.JPG', 'IMG_2085.JPG', 'IMG_2088.JPG', 'IMG_2090.JPG', 'IMG_2093.JPG', 'IMG_2101.JPG', 'IMG_2125.JPG', 'IMG_2149.JPG', 'IMG_2152.JPG', 'IMG_2156.JPG', 'IMG_2157.JPG', 'IMG_2167.JPG', 'IMG_2169.JPG', 'IMG_2172.JPG', 'IMG_2185.JPG', 'IMG_2190.JPG', 'IMG_2197.JPG', 'IMG_2205.JPG', 'IMG_2209.JPG', 'IMG_2210.JPG', 'IMG_2213.JPG', 'IMG_2221.JPG', 'IMG_2222.JPG', 'IMG_2224.JPG', 'IMG_2228.JPG', 'IMG_2231.JPG', 'IMG_2247.JPG', 'IMG_2251.JPG', 'IMG_2252.JPG', 'IMG_2253.JPG', 'IMG_2256.PNG', 'IMG_2263.JPG', 'IMG_2272.PNG', 'IMG_2274.JPG', 'IMG_2293.JPG', 'IMG_2294.JPG', 'IMG_2300.JPG', 'IMG_2302.JPG', 'IMG_2304.JPG', 'IMG_2311.JPG', 'IMG_2312.JPG', 'IMG_2315.JPG', 'IMG_2332.JPG', 'IMG_2334.PNG', 'IMG_2336.JPG', 'IMG_2340.JPG', 'IMG_2343.JPG', 'IMG_2376.MOV', 'IMG_2403.JPG', 'IMG_2406.JPG', 'IMG_2407.JPG', 'IMG_2420.JPG', 'IMG_2422.JPG', 'IMG_2425.JPG', 'IMG_2427.JPG', 'IMG_2433.JPG', 'IMG_2445.JPG', 'IMG_2472.JPG', 'IMG_2483.MOV', 'IMG_2486.MOV', 'IMG_2490.MOV', 'IMG_2491.MOV', 'IMG_2503.JPG', 'IMG_2511.JPG', 'IMG_2513.MOV', 'IMG_2517.MOV', 'IMG_2522.JPG', 'IMG_2526.PNG', 'IMG_2534.MOV', 'IMG_2535.MOV', 'IMG_2541.JPG', 'IMG_2550.JPG', 'IMG_2568.MOV', 'IMG_2580.MOV', 'IMG_2586.MOV', 'IMG_2607.MOV', 'IMG_2617.MOV', 'IMG_2676.JPG', 'IMG_2681.JPG', 'IMG_2689.JPG', 'IMG_2701.JPG', 'IMG_2715.JPG', 'IMG_2718.MOV', 'IMG_2731.MOV', 'IMG_2733.JPG', 'IMG_2736.JPG', 'IMG_2738.JPG', 'IMG_2744.JPG', 'IMG_2747.JPG', 'IMG_2753.PNG', 'IMG_2756.JPG', 'IMG_2759.MOV', 'IMG_2765.JPG', 'IMG_2767.JPG', 'IMG_2773.JPG', 'IMG_2787.JPG', 'IMG_2797.JPG', 'IMG_2801.JPG', 'IMG_2803.JPG', 'IMG_2806.PNG', 'IMG_2854.JPG', 'IMG_2860.JPG', 'IMG_2866.PNG', 'IMG_3814.JPG', 'IMG_3815.JPG', 'IMG_3817.JPG', 'IMG_3821.JPG', 'IMG_3831.JPG', 'IMG_3833.JPG', 'IMG_3838.JPG', 'IMG_3840.JPG', 'IMG_3842.JPG', 'IMG_3843.JPG', 'IMG_3844.JPG', 'IMG_3860.JPG', 'IMG_3864.JPG', 'IMG_3865.JPG', 'IMG_3867.JPG', 'IMG_3870.JPG', 'IMG_3872.JPG', 'IMG_3875.JPG', 'IMG_3882.JPG', 'IMG_3884.JPG', 'IMG_3887.JPG', 'IMG_3895.JPG', 'IMG_3899.JPG', 'IMG_3900.JPG', 'IMG_3901.JPG', 'IMG_3902.JPG', 'IMG_3904.JPG', 'IMG_3905.JPG', 'IMG_3907.JPG', 'IMG_3912.JPG', 'IMG_3914.JPG', 'IMG_3917.JPG', 'IMG_3918.JPG', 'IMG_3921.JPG', 'IMG_3923.JPG', 'IMG_3928.JPG', 'IMG_3930.JPG', 'IMG_3932.JPG', 'IMG_3933.JPG', 'IMG_3935.JPG', 'IMG_5254.JPG', 'IMG_5255.JPG', 'IMG_5257.JPG', 'IMG_5516.JPG', 'IMG_5517.JPG', 'IMG_5518.JPG', 'IMG_5519.JPG', 'IMG_5520.JPG', 'IMG_5521.JPG', 'IMG_5522.JPG', 'IMG_5523.JPG', 'IMG_5524.JPG', 'IMG_5525.JPG', 'IMG_5526.JPG', 'IMG_5527.JPG', 'IMG_5528.JPG', 'IMG_5529.JPG', 'IMG_5530.JPG', 'IMG_5531.JPG', 'IMG_5532.JPG', 'IMG_5533.JPG', 'IMG_5534.JPG', 'IMG_5535.JPG', 'IMG_5536.JPG', 'IMG_5610.JPG', 'IMG_5612.JPG', 'IMG_5613.JPG', 'IMG_5614.JPG', 'IMG_5616.JPG', 'IMG_5618.JPG', 'IMG_5619.JPG', 'IMG_5622.JPG', 'IMG_5623.JPG'])\n",
      "('/media/mycloud/My Pictures/Saved Pictures', [], [])\n",
      "('/media/mycloud/My Pictures/ControlCenter4', ['SharePoint', 'Scan', 'OCR', 'Email'], [])\n",
      "('/media/mycloud/My Pictures/ControlCenter4/SharePoint', [], [])\n",
      "('/media/mycloud/My Pictures/ControlCenter4/Scan', [], [])\n",
      "('/media/mycloud/My Pictures/ControlCenter4/OCR', [], [])\n",
      "('/media/mycloud/My Pictures/ControlCenter4/Email', [], [])\n",
      "('/media/mycloud/My Pictures/Camera Roll', [], [])\n",
      "('/media/mycloud/My Pictures/Angelina', [], [])\n"
     ]
    }
   ],
   "source": [
    "for item in os.walk(\"/media/mycloud/My Pictures\"):\n",
    "    print(item)"
   ]
  },
  {
   "cell_type": "code",
   "execution_count": 8,
   "metadata": {},
   "outputs": [
    {
     "data": {
      "text/plain": [
       "'/home/alois'"
      ]
     },
     "execution_count": 8,
     "metadata": {},
     "output_type": "execute_result"
    }
   ],
   "source": [
    "os.environ.get(\"HOME\")"
   ]
  },
  {
   "cell_type": "markdown",
   "metadata": {},
   "source": [
    "Apparently this does not work. So use the next try:"
   ]
  },
  {
   "cell_type": "code",
   "execution_count": 10,
   "metadata": {},
   "outputs": [
    {
     "data": {
      "text/plain": [
       "['.bash_history',\n",
       " 'cv_debug.log',\n",
       " '.bashrc',\n",
       " '.fzf.bash',\n",
       " '.gitconfig',\n",
       " '.python_history-17963.tmp',\n",
       " '.profile',\n",
       " '.python_history-16555.tmp',\n",
       " '.bash_logout',\n",
       " '.lesshst',\n",
       " '.sudo_as_admin_successful',\n",
       " '.python_history']"
      ]
     },
     "execution_count": 10,
     "metadata": {},
     "output_type": "execute_result"
    }
   ],
   "source": [
    "from os import listdir\n",
    "from os.path import isfile, join\n",
    "mypath = \"/home/alois\"\n",
    "onlyfiles = [f for f in listdir(mypath) if isfile(join(mypath, f))]\n",
    "onlyfiles"
   ]
  },
  {
   "cell_type": "markdown",
   "metadata": {},
   "source": [
    "And shorter"
   ]
  },
  {
   "cell_type": "code",
   "execution_count": 11,
   "metadata": {},
   "outputs": [
    {
     "name": "stdout",
     "output_type": "stream",
     "text": [
      "filenames are ['.bash_history', 'cv_debug.log', '.bashrc', '.fzf.bash', '.gitconfig', '.python_history-17963.tmp', '.profile', '.python_history-16555.tmp', '.bash_logout', '.lesshst', '.sudo_as_admin_successful', '.python_history']\n",
      "['.bash_history', 'cv_debug.log', '.bashrc', '.fzf.bash', '.gitconfig', '.python_history-17963.tmp', '.profile', '.python_history-16555.tmp', '.bash_logout', '.lesshst', '.sudo_as_admin_successful', '.python_history']\n"
     ]
    }
   ],
   "source": [
    "from os import walk\n",
    "\n",
    "f = []\n",
    "for (dirpath, dirnames, filenames) in walk(mypath):\n",
    "    f.extend(filenames)\n",
    "    break\n",
    "print(\"filenames are\", filenames)\n",
    "print(f)"
   ]
  },
  {
   "cell_type": "markdown",
   "metadata": {},
   "source": [
    "More concise: "
   ]
  },
  {
   "cell_type": "code",
   "execution_count": 14,
   "metadata": {},
   "outputs": [
    {
     "name": "stdout",
     "output_type": "stream",
     "text": [
      "/\n",
      "['var', 'root', 'lost+found', 'sys', 'mnt', 'lib', 'lib64', 'lib32', 'dev', 'run', 'home', 'tmp', 'snap', 'proc', 'boot', 'usr', 'bin', 'libx32', 'opt', 'media', 'srv', 'sbin', 'cdrom', 'etc']\n",
      "['swapfile']\n"
     ]
    }
   ],
   "source": [
    "from os import walk\n",
    "\n",
    "f = []\n",
    "for (dirpath, dirnames, filenames) in walk(\"/\"):\n",
    "    print(dirpath)\n",
    "    print(dirnames)\n",
    "    print(filenames)\n",
    "    break"
   ]
  },
  {
   "cell_type": "code",
   "execution_count": 15,
   "metadata": {},
   "outputs": [
    {
     "name": "stdout",
     "output_type": "stream",
     "text": [
      "['Pics_20120130', 'My Scans', 'IPhone_Mama_FOTOS', '27.09.04', 'TMP', 'Oma und Opa', 'Album Art', 'MCC Opening Mexico', 'iCloud Photos', 'Hochzeit', 'Galaxy Note II', 'Family', 'Casamento Andreia', 'BlackBerry', 'Arthur', 'Andrea Haus', 'Ana', 'Aline', '2006_11_25', '2006_11_20', '2006_11_09', 'WirthFamily.JPG', 'TralhandonaSAP.JPG', 'Tchu.JPG', 'Tchu&Rosinha.JPG', 'Tchu e eu.JPG', 'Rosinha.JPG', 'portugueiz.jpg', 'foto.JPG', 'Procuração Ana Cláudia.doc', 'photo.JPG', 'Pernilzinho.JPG', 'Pernil.JPG', 'Passport_foto-p1.jpg', 'Passbild_Alois-p1.jpg', 'OlhinhosdeSono.JPG', 'OFotografo3.JPG', 'OFotografo2.JPG', 'OFotografo.JPG', 'meninas_aprontando.jpg', 'Malaga_sol.jpg', 'LunchnaSAP.JPG', 'LunchatSAP.JPG', 'MCC_SOS_App_Favicon.png', 'moved_from_root', 'IMG_1898.jpg', 'IMG00347-20130214-0905.jpg', 'IMG_0830.JPG', 'Hannah&Judith.JPG', 'foto (2).JPG', 'Fot5A9759.jpg', 'Fot2A9759.jpg', 'Fot1A9759.jpg', 'DKC_0009.JPG', 'Cano_quebrado2.jpg', 'Cano_quebrado.jpg', 'Declaracao Alois.doc', 'Boletim_Arthur_201306.jpg', 'Ana1997.jpg', 'Altes_foto_Alois.gif', 'Alois.jpg', 'IMG_1897.jpg', 'Canguru.zip', 'A Fotografa.JPG', 'Saved Pictures', 'Global_ST_Prediction.png', 'ControlCenter4', '0B860F73-7790-4232-BF36-92C7BCB6DAEA.heic', 'Timeout_parameter_SCP.png', 'Camera Roll', 'thumbnail.webp', 'Big_data1.jpg', '90D0B590-F3D5-49E5-9B46-3AB804D35553.heic', '8C983E98-4F32-434F-8D83-C0571A267284_1_102_o.jpeg', '4EEED75F-A149-48B2-B107-AAAC3858BDD6.heic', '42704333-FABB-49E6-B93F-D17F5D0CBB93.heic', '17F0230E-2C49-43EF-AB59-D3DE39E45A9C.heic', 'Angelina', 'IMG_0499.PNG', 'IMG_2511.JPG', 'Alyssa 20180604_064136.jpg', 'IMG_0471.PNG', 'IMG_0373.PNG', 'IMG_0476.PNG', 'IMG_0753.PNG', 'IMG_0397.PNG', 'IMG_2517.JPG', 'IMG_1820.JPG', 'IMG_2705.JPG', 'IMG_0459.JPG', 'IMG_0580.PNG', 'IMG_0455.PNG', 'IMG_2376.JPG', 'IMG_3016.JPG', 'IMG-20180823-WA0008.jpg', 'IMG_2115.JPG', 'IMG_0050.MOV', 'IMG_0464.PNG', 'IMG_3037.JPG', 'IMG_0456.PNG', 'IMG_0751.PNG', 'IMG_2379.JPG', 'IMG_0469.PNG', 'IMG_0726.PNG', 'IMG_0513.PNG', '3F310FC3-AEE6-4AC0-92D0-D23660BB7B29-1568-000004DD7659344A.jpg', 'IMG_0733.PNG', 'IMG_3041.JPG', 'IMG_2748.JPG', 'IMG_2130.JPG', 'IMG_2195.JPG', 'c7c54e31-2d75-4b71-b550-819763395698.jpg', 'IMG_1809.JPG', 'IMG_0694.PNG', 'IMG_2010.JPG', 'IMG_2016.JPG', 'IMG_2737.JPG', 'IMG_2514.JPG', 'IMG_0670.PNG', 'IMG_2713.JPG', 'IMG_2742.JPG', 'IMG_0627.PNG', 'IMG_0666.PNG', 'IMG_0693.PNG', 'IMG_0392.PNG', 'IMG_0585.PNG', 'IMG_0632.PNG', 'IMG_0003.JPG', 'IMG_0732.PNG', 'IMG_0502.PNG', 'IMG_0363.PNG', 'IMG_3096.JPG', 'IMG_0602.PNG', 'IMG_1765.JPG', 'IMG_3068.JPG', 'IMG_0435.JPG', 'IMG_0797.JPG', 'IMG_0453.PNG', 'IMG_0633.PNG', 'IMG_0544.PNG', 'IMG_2682.JPG', 'IMG_0702.PNG', 'IMG_3005.JPG', 'e0330166-87d3-45eb-a863-6ff4bbe7ad19.jpg', 'IMG_0542.PNG', 'IMG_2426.JPG', 'IMG-20181130-WA0004.jpg', 'IMG_0495.PNG', 'IMG_2490.JPG', 'IMG_0620.PNG', '09E0E267-2BD3-447A-AAAD-24426CB70733-1568-000004D6009BCC53.jpg', 'IMG_2782.JPG', 'IMG_3028.JPG', 'IMG_0437.JPG', 'IMG_0529.PNG', 'IMG_0049.JPG', 'IMG_2487.JPG', 'IMG_0576.PNG', '1dc00e8c-a937-4e8b-a730-e1821fc35be2.jpg', 'IMG_0451.PNG', 'IMG_2092.JPG', 'IMG_1995.JPG', 'IMG_2783.JPG', 'IMG_0622.JPG', 'IMG_0591.PNG', 'IMG_0728.PNG', 'IMG_0618.PNG', 'IMG_0583.PNG', 'IMG_2438.JPG', 'IMG_0538.PNG', 'IMG_0372.PNG', 'IMG_2123.JPG', 'IMG_0686.PNG', 'IMG_2704.JPG', 'IMG_0496.PNG', 'IMG_2116.JPG', 'IMG_3013.JPG', 'IMG_0599.PNG', '987BFA32-8509-416C-9598-614DF2DA1B7B.JPG', 'IMG_0679.PNG', 'IMG_0677.JPG', 'Titelloses 23_20200328203237.png', 'IMG_0567.PNG', 'IMG_0701.PNG', 'IMG_0553.PNG', 'IMG_3076.JPG', 'IMG_0470.PNG', 'IMG_2420.JPG', 'IMG_3074.JPG', 'IMG_0734.PNG', 'IMG-20180807-WA0003.jpg', 'IMG_3024.JPG', 'IMG_0656.MOV', 'IMG_0749.PNG', 'IMG_2792.JPG', 'IMG_0569.PNG', 'IMG_0715.PNG', 'IMG_2496.JPG', 'IMG_0536.PNG', 'IMG_2702.JPG', 'IMG-20180823-WA0001.jpg', 'IMG_3039.JPG', 'IMG_0676.JPG', 'IMG_0510.PNG', 'IMG_3033.JPG', 'IMG_0433.JPG', 'IMG_2435.JPG', 'IMG_0035.JPG', 'IMG_0546.PNG', '9f3a2bfd-1fed-43b8-9e4a-d21ecaa36c18.jpg', 'IMG_0628.PNG', 'IMG_0609.PNG', 'IMG_0509.PNG', 'IMG_0795.JPG', '9ab54848-673a-4ddb-81a8-aef60de90a91.jpg', 'IMG_2498.JPG', 'IMG_3029.JPG', 'IMG_0616.PNG', 'IMG_2473.JPG', 'IMG_0718.PNG', 'IMG_0727.PNG', 'IMG_0407.PNG', 'IMG_0607.PNG', 'IMG_0505.PNG', 'IMG_0539.PNG', 'IMG_3079.JPG', 'ad11d67c-ee42-44d3-9266-0dba4c08b9ab.jpg', 'IMG_0712.PNG', 'IMG_0519.PNG', 'IMG_0545.PNG', 'IMG_0764.PNG', 'IMG_2780.JPG', 'IMG_0587.PNG', 'IMG_2017.JPG', 'IMG-20181112-WA0002.jpg', 'IMG_0434.JPG', 'IMG_0398.PNG', 'IMG_2738.JPG', 'IMG_2493.JPG', 'IMG_0698.PNG', 'IMG_2794.JPG', 'IMG_3048.JPG', 'IMG_2020.JPG', 'IMG_3002.JPG', 'IMG_3003.JPG', 'IMG_2008.JPG', 'IMG_0590.PNG', 'IMG_3089.JPG', 'IMG_3083.JPG', 'IMG_3044.JPG', 'IMG_3105.JPG', 'IMG_2736.JPG', 'IMG_0512.PNG', 'IMG_0418.JPG', 'IMG_0530.PNG', 'IMG_0668.PNG', 'IMG_0699.PNG', 'IMG_0721.PNG', 'IMG_0487.PNG', 'IMG_2032.JPG', 'IMG_2423.JPG', 'IMG_2120.JPG', 'IMG_2740.JPG', 'IMG_1813.JPG', 'IMG_2022.JPG', 'IMG_0625.JPG', 'IMG_2758.JPG', 'IMG_1994.JPG', 'IMG_0374.PNG', 'IMG_3010.JPG', 'IMG_3106.JPG', 'IMG-20180823-WA0003.jpg', 'IMG_2744.JPG', 'IMG_0581.PNG', 'IMG_0452.PNG', 'IMG_2429.JPG', 'IMG_0598.PNG', 'IMG_2031.JPG', 'IMG_0419.JPG', 'IMG_2015.JPG', 'IMG_0551.JPG', 'IMG_0413.JPG', 'IMG_0098.JPG', 'IMG_0548.PNG', 'IMG_0046.JPG', 'IMG_2078.JPG', 'IMG_0688.PNG', 'IMG-20181112-WA0040.jpg', 'IMG_0742.PNG', 'IMG_2513.JPG', 'IMG_0745.PNG', 'IMG_1808.JPG', 'IMG_3069.JPG', 'IMG_0524.PNG', 'IMG_0717.PNG', 'IMG_3107.JPG', 'IMG_0454.PNG', 'pic.JPG', 'IMG_1927.JPG', 'IMG_2421.JPG', 'IMG_2774.JPG', 'IMG_2362.JPG', 'IMG_3051.JPG', 'IMG_2377.JPG', 'IMG_0600.PNG', 'IMG_2427.JPG', 'IMG_2012.JPG', 'IMG_0603.PNG', 'IMG_2422.JPG', 'IMG_3095.JPG', 'IMG_0486.PNG', 'IMG_0489.PNG', 'IMG_0586.PNG', 'IMG-20181030-WA0000.jpg', '1fdac876-e679-46fa-92c4-e20c282531ff.jpg', 'IMG_0665.PNG', 'IMG_2707.JPG', 'IMG_0671.PNG', 'IMG_0592.PNG', 'IMG_0403.PNG', 'IMG_0446.JPG', 'IMG_0412.PNG', 'IMG_0723.PNG', 'IMG_3081.JPG', '09EA583D-2AC3-46F0-87A5-A4391CDA1FE3-1568-000004DA1E3107CF.jpg', 'IMG_0597.PNG', 'IMG_2025.JPG', 'IMG_0528.PNG', 'IMG_0099.JPG', 'IMG_0449.PNG', 'IMG_1815.JPG', 'IMG_0483.JPG', 'IMG_0748.PNG', '539E063B-B382-4006-ABF9-CB193FB2C0E3-711-00000064BA2F0089.jpg', 'IMG_1301.JPG', 'IMG_2389.JPG', '91FEE659-1C64-4FBD-80AF-3F0ED4B52439-1568-000004DA4A656C1B.jpg', 'IMG_2365.JPG', 'IMG_2522.JPG', 'IMG_0729.PNG', 'IMG_2034.JPG', 'IMG_0724.PNG', 'IMG_0700.PNG', 'IMG_0747.PNG', '1e1049bd-d62e-4bd9-9b45-6a2fc81ce18b.jpg', 'IMG_3077.JPG', '6AFC5546-2530-4826-BB4F-88FCE7A3A673-638-0000004F85D36A1D.jpg', 'IMG_0655.MOV', 'IMG_3050.JPG', 'IMG_1056.JPG', 'IMG_3008.JPG', 'IMG_0047.MOV', 'IMG_2760.JPG', 'IMG_0683.PNG', 'IMG_0574.PNG', 'IMG_2013.JPG', 'IMG_1877.JPG', 'IMG_0722.PNG', 'IMG_1055.JPG', 'IMG_0508.PNG', 'IMG_4330.HEIC', 'IMG_1811.JPG', 'IMG_2394.JPG', '64AA2C01-419F-4164-84A1-C22D6F81350D-1568-000004DAAD30E906.jpg', 'IMG_0051.JPG', '290f245a-b94d-49e4-b99a-92d0d03062f1.jpg', 'IMG_2708.JPG']\n"
     ]
    }
   ],
   "source": [
    "print(os.listdir(\"/media/mycloud/My Pictures\"))"
   ]
  },
  {
   "cell_type": "code",
   "execution_count": null,
   "metadata": {},
   "outputs": [],
   "source": [
    "from os import walk\n",
    "for (dirpath, dirname, filename) in walk(\"/media/mycloud/My Pictures\"):\n",
    "    print(dirpath)\n",
    "    print(dirname)\n",
    "    print(filename)\n",
    "    break"
   ]
  },
  {
   "cell_type": "code",
   "execution_count": null,
   "metadata": {},
   "outputs": [],
   "source": [
    "def fast_scandir(dirname):\n",
    "    subfolders= [f.path for f in os.scandir(dirname) if f.is_dir()]\n",
    "    for dirname in (subfolders):\n",
    "        subfolders.extend(fast_scandir(dirname))\n",
    "    return subfolders"
   ]
  },
  {
   "cell_type": "code",
   "execution_count": null,
   "metadata": {},
   "outputs": [],
   "source": [
    "all_folders = fast_scandir(\"/media/mycloud/My Pictures\")"
   ]
  },
  {
   "cell_type": "code",
   "execution_count": null,
   "metadata": {},
   "outputs": [],
   "source": [
    "print(lenall_folders)"
   ]
  },
  {
   "cell_type": "code",
   "execution_count": null,
   "metadata": {},
   "outputs": [],
   "source": [
    "# -*- coding: utf-8 -*-\n",
    "# Python 3\n",
    "\n",
    "\n",
    "import time\n",
    "import os\n",
    "from glob import glob\n",
    "from pathlib import Path\n",
    "\n",
    "\n",
    "directory = r\"/media/mycloud/My Pictures\"\n",
    "RUNS = 1\n",
    "\n",
    "def run_os_walk():\n",
    "    a = time.time_ns()\n",
    "    for i in range(RUNS):\n",
    "        fu = [x[0] for x in os.walk(directory)]\n",
    "    print(f\"os.walk\\t\\t\\ttook {(time.time_ns() - a) / 1000 / 1000 / RUNS:.0f} ms. Found dirs: {len(fu)}\")\n",
    "    return fu\n",
    "\n",
    "\n",
    "def run_glob():\n",
    "    a = time.time_ns()\n",
    "    for i in range(RUNS):\n",
    "        fu = glob(directory + \"/*/\")\n",
    "    print(f\"glob.glob\\t\\ttook {(time.time_ns() - a) / 1000 / 1000 / RUNS:.0f} ms. Found dirs: {len(fu)}\")\n",
    "\n",
    "\n",
    "def run_pathlib_iterdir():\n",
    "    a = time.time_ns()\n",
    "    for i in range(RUNS):\n",
    "        dirname = Path(directory)\n",
    "        fu = [f for f in dirname.iterdir() if f.is_dir()]\n",
    "    print(f\"pathlib.iterdir\\ttook {(time.time_ns() - a) / 1000 / 1000 / RUNS:.0f} ms. Found dirs: {len(fu)}\")\n",
    "    return fu\n",
    "\n",
    "\n",
    "def run_os_listdir():\n",
    "    a = time.time_ns()\n",
    "    for i in range(RUNS):\n",
    "        dirname = Path(directory)\n",
    "        fu = [os.path.join(directory, o) for o in os.listdir(directory) if os.path.isdir(os.path.join(directory, o))]\n",
    "    print(f\"os.listdir\\t\\ttook {(time.time_ns() - a) / 1000 / 1000 / RUNS:.0f} ms. Found dirs: {len(fu)}\")\n",
    "    return fu\n",
    "\n",
    "\n",
    "def run_os_scandir():\n",
    "    a = time.time_ns()\n",
    "    for i in range(RUNS):\n",
    "        fu = [f.path for f in os.scandir(directory) if f.is_dir()]\n",
    "    print(f\"os.scandir\\t\\ttook {(time.time_ns() - a) / 1000 / 1000 / RUNS:.0f} ms.\\tFound dirs: {len(fu)}\")\n",
    "    return fu\n",
    "\n",
    "\n",
    "if __name__ == '__main__':\n",
    "    run_os_scandir()\n",
    "    print(run_os_walk())\n",
    "    run_glob()\n",
    "    print(run_pathlib_iterdir())\n",
    "    run_os_listdir()"
   ]
  },
  {
   "cell_type": "markdown",
   "metadata": {},
   "source": [
    "The difference between \"walk\" and the others is that walk recognizes also the subfolders of the itunes library"
   ]
  },
  {
   "cell_type": "code",
   "execution_count": null,
   "metadata": {},
   "outputs": [],
   "source": [
    "with os.scandir() as dir_contents:\n",
    "    for entry in dir_contents:\n",
    "        info = entry.__dir__\n",
    "        more_info = entry.stat()\n",
    "        another_info = entry.inode()\n",
    "        print(info)\n",
    "        print(more_info, another_info)\n"
   ]
  },
  {
   "cell_type": "code",
   "execution_count": null,
   "metadata": {},
   "outputs": [],
   "source": [
    "import scandir"
   ]
  },
  {
   "cell_type": "code",
   "execution_count": null,
   "metadata": {
    "tags": []
   },
   "outputs": [],
   "source": [
    "all_content = scandir.walk(\"/media/mycloud/My Pictures\")\n",
    "n = 0\n",
    "f = []\n",
    "print(all_content)\n",
    "for i in all_content:tures\")\n",
    "    p\n",
    "    n += 1\n",
    "    f.append(i)rint(i)\n",
    "  \n",
    "\n",
    "print(n)  break"
   ]
  },
  {
   "cell_type": "code",
   "execution_count": null,
   "metadata": {},
   "outputs": [],
   "source": [
    "print(len(f))\n",
    "for dirpath, dirnames, filenames in f:\n",
    "    print(filenames)"
   ]
  },
  {
   "cell_type": "code",
   "execution_count": null,
   "metadata": {},
   "outputs": [],
   "source": [
    "print(len(filenames))"
   ]
  },
  {
   "cell_type": "code",
   "execution_count": null,
   "metadata": {},
   "outputs": [],
   "source": [
    "from os import listdir\n",
    "from os.path import isfile, join, isdir\n",
    "mypath = \"/media/mycloud/My Pictures\"\n",
    "onlydirs = [f for f in listdir(mypath) if isdir(join(mypath, f))]\n",
    "print(len(onlydirs), onlydirs)"
   ]
  },
  {
   "cell_type": "code",
   "execution_count": null,
   "metadata": {},
   "outputs": [],
   "source": [
    "absolute_path = \"/media/mycloud/\""
   ]
  },
  {
   "cell_type": "code",
   "execution_count": null,
   "metadata": {},
   "outputs": [],
   "source": [
    "import glob\n",
    "files = []\n",
    "myDir = mypath\n",
    "for root, dirnames, filenames in os.walk(myDir):\n",
    "    files.extend(glob.glob(root + \"/*\"))\n",
    "\n",
    "print(len(files))\n",
    "\n"
   ]
  },
  {
   "cell_type": "code",
   "execution_count": null,
   "metadata": {},
   "outputs": [],
   "source": [
    "print(files[20:30])"
   ]
  },
  {
   "cell_type": "code",
   "execution_count": null,
   "metadata": {},
   "outputs": [],
   "source": [
    "from os import listdir\n",
    "from os.path import isfile, join\n",
    "mypath = \"/media/mycloud/My Pictures\"\n",
    "onlyfiles = [f for f in listdir(mypath) if isfile(join(mypath, f))]\n",
    "len(onlyfiles)\n",
    "\n",
    "print(onlyfiles[0:5])"
   ]
  },
  {
   "cell_type": "code",
   "execution_count": null,
   "metadata": {},
   "outputs": [],
   "source": [
    "import pandas as pd\n",
    "\n",
    "df = pd.DataFrame({\"A\": [1, 2, 3], \"B\": [4, 5, 6]})\n",
    "print(df)\n",
    "\n",
    "df2 = df.copy()\n",
    "\n",
    "df2.rename(columns={\"A\": \"a\", \"B\": \"c\"})\n",
    "df2"
   ]
  },
  {
   "cell_type": "code",
   "execution_count": null,
   "metadata": {},
   "outputs": [],
   "source": []
  }
 ],
 "metadata": {
  "interpreter": {
   "hash": "f9f85f796d01129d0dd105a088854619f454435301f6ffec2fea96ecbd9be4ac"
  },
  "kernelspec": {
   "display_name": "Python 3 (ipykernel)",
   "language": "python",
   "name": "python3"
  },
  "language_info": {
   "codemirror_mode": {
    "name": "ipython",
    "version": 3
   },
   "file_extension": ".py",
   "mimetype": "text/x-python",
   "name": "python",
   "nbconvert_exporter": "python",
   "pygments_lexer": "ipython3",
   "version": "3.12.1"
  }
 },
 "nbformat": 4,
 "nbformat_minor": 4
}
