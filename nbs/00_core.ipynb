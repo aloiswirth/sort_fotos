{
 "cells": [
  {
   "cell_type": "code",
   "execution_count": null,
   "metadata": {},
   "outputs": [],
   "source": [
    "# default_exp first_steps"
   ]
  },
  {
   "cell_type": "markdown",
   "metadata": {},
   "source": [
    "# First Steps\n",
    "\n",
    "> API details."
   ]
  },
  {
   "cell_type": "code",
   "execution_count": null,
   "metadata": {},
   "outputs": [],
   "source": [
    "#hide\n",
    "from nbdev.showdoc import *"
   ]
  },
  {
   "cell_type": "code",
   "execution_count": 3,
   "metadata": {},
   "outputs": [
    {
     "output_type": "execute_result",
     "data": {
      "text/plain": [
       "['.ipython',\n",
       " '.thunderbird',\n",
       " '.gem',\n",
       " '.ssh',\n",
       " '.local',\n",
       " 'Desktop',\n",
       " '.gnupg',\n",
       " 'get-pip.py',\n",
       " '.python_history',\n",
       " 'Public',\n",
       " '.jupyter',\n",
       " 'Pictures',\n",
       " '.config',\n",
       " '.bash_logout',\n",
       " '.bash_history',\n",
       " '.vscode',\n",
       " '.cache',\n",
       " '.sudo_as_admin_successful',\n",
       " 'Downloads',\n",
       " 'snap',\n",
       " 'Music',\n",
       " 'Videos',\n",
       " '.nv',\n",
       " '.bashrc',\n",
       " '.mozilla',\n",
       " 'Documents',\n",
       " '.synaptic',\n",
       " 'Templates',\n",
       " '.pki',\n",
       " '.profile']"
      ]
     },
     "metadata": {},
     "execution_count": 3
    }
   ],
   "source": [
    "import os\n",
    "\n",
    "os.listdir(\"/home/alois\")"
   ]
  },
  {
   "cell_type": "code",
   "execution_count": 4,
   "metadata": {},
   "outputs": [
    {
     "output_type": "execute_result",
     "data": {
      "text/plain": [
       "<generator object _walk at 0x7ff76593d970>"
      ]
     },
     "metadata": {},
     "execution_count": 4
    }
   ],
   "source": [
    "os.walk(\"$HOME\")"
   ]
  },
  {
   "cell_type": "code",
   "execution_count": 8,
   "metadata": {},
   "outputs": [],
   "source": [
    "for item in os.walk((\"$HOME\")):\n",
    "    print(item)"
   ]
  },
  {
   "source": [
    "Apparently this does not work. So use the next try:"
   ],
   "cell_type": "markdown",
   "metadata": {}
  },
  {
   "cell_type": "code",
   "execution_count": 11,
   "metadata": {},
   "outputs": [
    {
     "output_type": "execute_result",
     "data": {
      "text/plain": [
       "['get-pip.py',\n",
       " '.python_history',\n",
       " '.bash_logout',\n",
       " '.bash_history',\n",
       " '.sudo_as_admin_successful',\n",
       " '.bashrc',\n",
       " '.profile']"
      ]
     },
     "metadata": {},
     "execution_count": 11
    }
   ],
   "source": [
    "from os import listdir\n",
    "from os.path import isfile, join\n",
    "mypath = \"/home/alois\"\n",
    "onlyfiles = [f for f in listdir(mypath) if isfile(join(mypath, f))]\n",
    "onlyfiles"
   ]
  },
  {
   "source": [
    "And shorter"
   ],
   "cell_type": "markdown",
   "metadata": {}
  },
  {
   "cell_type": "code",
   "execution_count": 13,
   "metadata": {},
   "outputs": [
    {
     "output_type": "stream",
     "name": "stdout",
     "text": [
      "['get-pip.py', '.python_history', '.bash_logout', '.bash_history', '.sudo_as_admin_successful', '.bashrc', '.profile']\n"
     ]
    }
   ],
   "source": [
    "from os import walk\n",
    "\n",
    "f = []\n",
    "for (dirpath, dirnames, filenames) in walk(mypath):\n",
    "    f.extend(filenames)\n",
    "    break\n",
    "print(f)"
   ]
  },
  {
   "source": [
    "More concise: "
   ],
   "cell_type": "markdown",
   "metadata": {}
  },
  {
   "cell_type": "code",
   "execution_count": 16,
   "metadata": {},
   "outputs": [
    {
     "output_type": "stream",
     "name": "stdout",
     "text": [
      "/home/alois\n['.ipython', '.thunderbird', '.gem', '.ssh', '.local', 'Desktop', '.gnupg', 'Public', '.jupyter', 'Pictures', '.config', '.vscode', '.cache', 'Downloads', 'snap', 'Music', 'Videos', '.nv', '.mozilla', 'Documents', '.synaptic', 'Templates', '.pki']\n['get-pip.py', '.python_history', '.bash_logout', '.bash_history', '.sudo_as_admin_successful', '.bashrc', '.profile']\n"
     ]
    }
   ],
   "source": [
    "from os import walk\n",
    "\n",
    "f = []\n",
    "for (dirpath, dirname, filename) in walk(mypath):\n",
    "    print(dirpath)\n",
    "    print(dirname)\n",
    "    print(filename)\n",
    "    break"
   ]
  },
  {
   "cell_type": "code",
   "execution_count": null,
   "metadata": {},
   "outputs": [],
   "source": []
  }
 ],
 "metadata": {
  "kernelspec": {
   "name": "python3",
   "display_name": "Python 3.9.5 64-bit"
  },
  "language_info": {
   "name": "python",
   "version": "3.9.5"
  },
  "interpreter": {
   "hash": "f9f85f796d01129d0dd105a088854619f454435301f6ffec2fea96ecbd9be4ac"
  }
 },
 "nbformat": 4,
 "nbformat_minor": 4
}