{
 "cells": [
  {
   "cell_type": "code",
   "execution_count": 2,
   "metadata": {},
   "outputs": [],
   "source": [
    "# default_exp pictures"
   ]
  },
  {
   "cell_type": "markdown",
   "metadata": {},
   "source": [
    "# Pictures\n",
    "\n",
    ">  Create List with all pictures\n",
    "\n",
    "Will use a csv file to store the list data"
   ]
  },
  {
   "cell_type": "code",
   "execution_count": 3,
   "metadata": {},
   "outputs": [],
   "source": [
    "#hide\n",
    "from nbdev.showdoc import *"
   ]
  },
  {
   "cell_type": "code",
   "execution_count": 4,
   "metadata": {},
   "outputs": [],
   "source": [
    "#export \n",
    "\n",
    "import os\n",
    "import pandas as pd\n",
    "from os.path import isfile, join\n"
   ]
  },
  {
   "cell_type": "markdown",
   "metadata": {},
   "source": [
    "The first step is to get all directories. The reason for this is that the same photo might be stored in different directories. But there also might be photos with the same name but with different content. We will need to compare all photos with the same name in the different directories.  \n",
    "Therefore we start in building a pandas DataFrame with all essential data.  \n",
    "\n",
    "It will contain the directory, the file name, the size and the different time stamps. If this information is not sufficient we will also need to read the picture pixel by pixel and compare. "
   ]
  },
  {
   "cell_type": "markdown",
   "metadata": {},
   "source": [
    "We now start with the directory list. The root is the mapped MyCloud fileserver with the \"My Pictures\" folder. We will create an iteratively created list of subdirectories and append them to 'my_Dirs'."
   ]
  },
  {
   "cell_type": "code",
   "execution_count": 5,
   "metadata": {},
   "outputs": [],
   "source": [
    "#export\n",
    "\n",
    "mypath = r\"/media/mycloud/My Pictures\"\n",
    "\n",
    "def fast_scandir(dirname):\n",
    "    subfolders= [f.path for f in os.scandir(dirname) if f.is_dir()]\n",
    "    for dirname in list(subfolders):\n",
    "        subfolders.extend(fast_scandir(dirname))\n",
    "    return subfolders\n",
    "my_Dirs = fast_scandir(mypath)"
   ]
  },
  {
   "cell_type": "code",
   "execution_count": 6,
   "metadata": {},
   "outputs": [
    {
     "output_type": "stream",
     "name": "stdout",
     "text": [
      "76\n/media/mycloud/My Pictures/Pics_20120130\n/media/mycloud/My Pictures/My Scans\n/media/mycloud/My Pictures/IPhone_Mama_FOTOS\n/media/mycloud/My Pictures/27.09.04\n/media/mycloud/My Pictures/TMP\n/media/mycloud/My Pictures/Oma und Opa\n/media/mycloud/My Pictures/Album Art\n/media/mycloud/My Pictures/MCC Opening Mexico\n/media/mycloud/My Pictures/iCloud Photos\n/media/mycloud/My Pictures/Hochzeit\n/media/mycloud/My Pictures/Galaxy Note II\n/media/mycloud/My Pictures/Family\n/media/mycloud/My Pictures/Casamento Andreia\n/media/mycloud/My Pictures/BlackBerry\n/media/mycloud/My Pictures/Arthur\n/media/mycloud/My Pictures/Andrea Haus\n/media/mycloud/My Pictures/Ana\n/media/mycloud/My Pictures/Aline\n/media/mycloud/My Pictures/2006_11_25\n/media/mycloud/My Pictures/2006_11_20\n/media/mycloud/My Pictures/2006_11_09\n/media/mycloud/My Pictures/moved_from_root\n/media/mycloud/My Pictures/Saved Pictures\n/media/mycloud/My Pictures/ControlCenter4\n/media/mycloud/My Pictures/Camera Roll\n/media/mycloud/My Pictures/Angelina\n/media/mycloud/My Pictures/Pics_20120130/DCIM\n/media/mycloud/My Pictures/Pics_20120130/DCIM/100D5000\n/media/mycloud/My Pictures/My Scans/2008-12 (Dez)\n/media/mycloud/My Pictures/My Scans/2008-11 (Nov)\n/media/mycloud/My Pictures/IPhone_Mama_FOTOS/108APPLE\n/media/mycloud/My Pictures/IPhone_Mama_FOTOS/107APPLE\n/media/mycloud/My Pictures/IPhone_Mama_FOTOS/106APPLE\n/media/mycloud/My Pictures/27.09.04/CD4\n/media/mycloud/My Pictures/27.09.04/CD3\n/media/mycloud/My Pictures/27.09.04/CD2\n/media/mycloud/My Pictures/27.09.04/CD1\n/media/mycloud/My Pictures/Album Art/Various Artists\n/media/mycloud/My Pictures/Album Art/Van Morrison\n/media/mycloud/My Pictures/Album Art/Tom Jones\n/media/mycloud/My Pictures/Album Art/steve Winwood\n/media/mycloud/My Pictures/Album Art/Slovak Symphony Orchester\n/media/mycloud/My Pictures/Album Art/Slovak Chamber Orchestra\n/media/mycloud/My Pictures/Album Art/Simply Red\n/media/mycloud/My Pictures/Album Art/Schubert\n/media/mycloud/My Pictures/Album Art/Radio Bratislava Symphony Orchestra\n/media/mycloud/My Pictures/Album Art/Pearl Jam\n/media/mycloud/My Pictures/Album Art/Midnight Oil\n/media/mycloud/My Pictures/Album Art/Frederic Chopin\n/media/mycloud/My Pictures/Album Art/Des'ree\n/media/mycloud/My Pictures/Album Art/culcha candela\n/media/mycloud/My Pictures/Album Art/Anna Maria Kaufmann\n/media/mycloud/My Pictures/Album Art/Alfred Scholz\n/media/mycloud/My Pictures/Album Art/Slovak Philharmonic Orchestra\n/media/mycloud/My Pictures/Album Art/Various Artists/Os mais belos classicos\n/media/mycloud/My Pictures/Album Art/Van Morrison/Open Air Festival Loreley1999\n/media/mycloud/My Pictures/Album Art/Tom Jones/the Ultimate hit collection\n/media/mycloud/My Pictures/Album Art/steve Winwood/Chronicles\n/media/mycloud/My Pictures/Album Art/Slovak Symphony Orchester/Tchaikovsky\n/media/mycloud/My Pictures/Album Art/Slovak Chamber Orchestra/Johann Sebastian Bach\n/media/mycloud/My Pictures/Album Art/Simply Red/Greatest Hits\n/media/mycloud/My Pictures/Album Art/Schubert/Symphony #5 & 8\n/media/mycloud/My Pictures/Album Art/Radio Bratislava Symphony Orchestra/Tchaikovski Ballet Suites\n/media/mycloud/My Pictures/Album Art/Radio Bratislava Symphony Orchestra/Brahms Grieg Berlioz\n/media/mycloud/My Pictures/Album Art/Pearl Jam/Binaural\n/media/mycloud/My Pictures/Album Art/Midnight Oil/20000 Watts\n/media/mycloud/My Pictures/Album Art/Frederic Chopin/Frederic Chopin\n/media/mycloud/My Pictures/Album Art/Des'ree/I Ain't Moving\n/media/mycloud/My Pictures/Album Art/culcha candela/das beste\n/media/mycloud/My Pictures/Album Art/Anna Maria Kaufmann/Das andere Leben\n/media/mycloud/My Pictures/Album Art/Alfred Scholz/Popular Overtures\n/media/mycloud/My Pictures/iCloud Photos/Uploads\n/media/mycloud/My Pictures/ControlCenter4/SharePoint\n/media/mycloud/My Pictures/ControlCenter4/Scan\n/media/mycloud/My Pictures/ControlCenter4/OCR\n/media/mycloud/My Pictures/ControlCenter4/Email\n"
     ]
    }
   ],
   "source": [
    "#hide \n",
    "print(len(my_Dirs))\n",
    "for i in my_Dirs:\n",
    "    print(i)"
   ]
  },
  {
   "source": [
    "This cell gets all the files which are in the above collected directories.  \n",
    "The next step is to create lists which contain the \n",
    "- directory name, the file name and absolute path to each file\n",
    "- statistical data, like the file size and creation time stamp."
   ],
   "cell_type": "markdown",
   "metadata": {}
  },
  {
   "cell_type": "code",
   "execution_count": 32,
   "metadata": {},
   "outputs": [],
   "source": [
    "#export\n",
    "stat_data = []\n",
    "entry_data = []\n",
    "\n",
    "for dirname in my_Dirs:\n",
    "    with os.scandir(dirname) as dir_content:\n",
    "        for entry in dir_content:\n",
    "            if isfile(join(dirname, entry)):\n",
    "                info = entry.stat()        \n",
    "                stat_data.append(info)\n",
    "                entry_data.append([dirname, entry.name, entry.path])"
   ]
  },
  {
   "source": [
    "The next step is to create pandas DataFrames out of the lists, and To make this more readable we change the column names to be more recognizeable. Then we concatenate them to a bigger DataFrame.  \n",
    "."
   ],
   "cell_type": "markdown",
   "metadata": {}
  },
  {
   "cell_type": "code",
   "execution_count": 44,
   "metadata": {},
   "outputs": [
    {
     "output_type": "stream",
     "name": "stdout",
     "text": [
      "6027\n6027\n[['/media/mycloud/My Pictures/Oma und Opa', 'P9020041.JPG', '/media/mycloud/My Pictures/Oma und Opa/P9020041.JPG'], ['/media/mycloud/My Pictures/MCC Opening Mexico', 'IMG_0426.jpg', '/media/mycloud/My Pictures/MCC Opening Mexico/IMG_0426.jpg'], ['/media/mycloud/My Pictures/MCC Opening Mexico', 'IMG_0419.jpg', '/media/mycloud/My Pictures/MCC Opening Mexico/IMG_0419.jpg'], ['/media/mycloud/My Pictures/MCC Opening Mexico', 'IMG_0415.jpg', '/media/mycloud/My Pictures/MCC Opening Mexico/IMG_0415.jpg'], ['/media/mycloud/My Pictures/MCC Opening Mexico', 'IMG_0403.jpg', '/media/mycloud/My Pictures/MCC Opening Mexico/IMG_0403.jpg'], ['/media/mycloud/My Pictures/MCC Opening Mexico', 'IMG_0398.jpg', '/media/mycloud/My Pictures/MCC Opening Mexico/IMG_0398.jpg'], ['/media/mycloud/My Pictures/MCC Opening Mexico', 'IMG_0363.jpg', '/media/mycloud/My Pictures/MCC Opening Mexico/IMG_0363.jpg'], ['/media/mycloud/My Pictures/MCC Opening Mexico', 'IMG_0359.jpg', '/media/mycloud/My Pictures/MCC Opening Mexico/IMG_0359.jpg'], ['/media/mycloud/My Pictures/MCC Opening Mexico', 'IMG_0340.jpg', '/media/mycloud/My Pictures/MCC Opening Mexico/IMG_0340.jpg'], ['/media/mycloud/My Pictures/MCC Opening Mexico', 'IMG_0322.jpg', '/media/mycloud/My Pictures/MCC Opening Mexico/IMG_0322.jpg']]\n"
     ]
    }
   ],
   "source": [
    "#hide\n",
    "print(len(stat_data))\n",
    "print(len(entry_data))\n",
    "\n",
    "print(entry_data[50:60])"
   ]
  },
  {
   "cell_type": "code",
   "execution_count": 34,
   "metadata": {},
   "outputs": [],
   "source": [
    "#export\n",
    "df1 = pd.DataFrame(entry_data)"
   ]
  },
  {
   "cell_type": "code",
   "execution_count": 35,
   "metadata": {},
   "outputs": [
    {
     "output_type": "execute_result",
     "data": {
      "text/plain": [
       "                                     0                            1  \\\n",
       "0  /media/mycloud/My Pictures/My Scans  Val_Pagamento_2008_0008.jpg   \n",
       "1  /media/mycloud/My Pictures/My Scans  Val_Pagamento_2008_0007.jpg   \n",
       "2  /media/mycloud/My Pictures/My Scans  Val_Pagamento_2008_0006.jpg   \n",
       "3  /media/mycloud/My Pictures/My Scans  Val_Pagamento_2008_0005.jpg   \n",
       "4  /media/mycloud/My Pictures/My Scans  Val_Pagamento_2008_0004.jpg   \n",
       "\n",
       "                                                   2  \n",
       "0  /media/mycloud/My Pictures/My Scans/Val_Pagame...  \n",
       "1  /media/mycloud/My Pictures/My Scans/Val_Pagame...  \n",
       "2  /media/mycloud/My Pictures/My Scans/Val_Pagame...  \n",
       "3  /media/mycloud/My Pictures/My Scans/Val_Pagame...  \n",
       "4  /media/mycloud/My Pictures/My Scans/Val_Pagame...  "
      ],
      "text/html": "<div>\n<style scoped>\n    .dataframe tbody tr th:only-of-type {\n        vertical-align: middle;\n    }\n\n    .dataframe tbody tr th {\n        vertical-align: top;\n    }\n\n    .dataframe thead th {\n        text-align: right;\n    }\n</style>\n<table border=\"1\" class=\"dataframe\">\n  <thead>\n    <tr style=\"text-align: right;\">\n      <th></th>\n      <th>0</th>\n      <th>1</th>\n      <th>2</th>\n    </tr>\n  </thead>\n  <tbody>\n    <tr>\n      <th>0</th>\n      <td>/media/mycloud/My Pictures/My Scans</td>\n      <td>Val_Pagamento_2008_0008.jpg</td>\n      <td>/media/mycloud/My Pictures/My Scans/Val_Pagame...</td>\n    </tr>\n    <tr>\n      <th>1</th>\n      <td>/media/mycloud/My Pictures/My Scans</td>\n      <td>Val_Pagamento_2008_0007.jpg</td>\n      <td>/media/mycloud/My Pictures/My Scans/Val_Pagame...</td>\n    </tr>\n    <tr>\n      <th>2</th>\n      <td>/media/mycloud/My Pictures/My Scans</td>\n      <td>Val_Pagamento_2008_0006.jpg</td>\n      <td>/media/mycloud/My Pictures/My Scans/Val_Pagame...</td>\n    </tr>\n    <tr>\n      <th>3</th>\n      <td>/media/mycloud/My Pictures/My Scans</td>\n      <td>Val_Pagamento_2008_0005.jpg</td>\n      <td>/media/mycloud/My Pictures/My Scans/Val_Pagame...</td>\n    </tr>\n    <tr>\n      <th>4</th>\n      <td>/media/mycloud/My Pictures/My Scans</td>\n      <td>Val_Pagamento_2008_0004.jpg</td>\n      <td>/media/mycloud/My Pictures/My Scans/Val_Pagame...</td>\n    </tr>\n  </tbody>\n</table>\n</div>"
     },
     "metadata": {},
     "execution_count": 35
    }
   ],
   "source": [
    "#hide\n",
    "df1.head()"
   ]
  },
  {
   "source": [
    "Renaming of DataFrame 1:\n",
    "\n",
    "> note: the parameter 'inplace=True' is necessary otherwise the DataFrame immediately forgets the renaming again. "
   ],
   "cell_type": "markdown",
   "metadata": {}
  },
  {
   "cell_type": "code",
   "execution_count": 36,
   "metadata": {},
   "outputs": [
    {
     "output_type": "execute_result",
     "data": {
      "text/plain": [
       "                             directory                    file_name  \\\n",
       "0  /media/mycloud/My Pictures/My Scans  Val_Pagamento_2008_0008.jpg   \n",
       "1  /media/mycloud/My Pictures/My Scans  Val_Pagamento_2008_0007.jpg   \n",
       "2  /media/mycloud/My Pictures/My Scans  Val_Pagamento_2008_0006.jpg   \n",
       "3  /media/mycloud/My Pictures/My Scans  Val_Pagamento_2008_0005.jpg   \n",
       "4  /media/mycloud/My Pictures/My Scans  Val_Pagamento_2008_0004.jpg   \n",
       "\n",
       "                                  absolute_file_name  \n",
       "0  /media/mycloud/My Pictures/My Scans/Val_Pagame...  \n",
       "1  /media/mycloud/My Pictures/My Scans/Val_Pagame...  \n",
       "2  /media/mycloud/My Pictures/My Scans/Val_Pagame...  \n",
       "3  /media/mycloud/My Pictures/My Scans/Val_Pagame...  \n",
       "4  /media/mycloud/My Pictures/My Scans/Val_Pagame...  "
      ],
      "text/html": "<div>\n<style scoped>\n    .dataframe tbody tr th:only-of-type {\n        vertical-align: middle;\n    }\n\n    .dataframe tbody tr th {\n        vertical-align: top;\n    }\n\n    .dataframe thead th {\n        text-align: right;\n    }\n</style>\n<table border=\"1\" class=\"dataframe\">\n  <thead>\n    <tr style=\"text-align: right;\">\n      <th></th>\n      <th>directory</th>\n      <th>file_name</th>\n      <th>absolute_file_name</th>\n    </tr>\n  </thead>\n  <tbody>\n    <tr>\n      <th>0</th>\n      <td>/media/mycloud/My Pictures/My Scans</td>\n      <td>Val_Pagamento_2008_0008.jpg</td>\n      <td>/media/mycloud/My Pictures/My Scans/Val_Pagame...</td>\n    </tr>\n    <tr>\n      <th>1</th>\n      <td>/media/mycloud/My Pictures/My Scans</td>\n      <td>Val_Pagamento_2008_0007.jpg</td>\n      <td>/media/mycloud/My Pictures/My Scans/Val_Pagame...</td>\n    </tr>\n    <tr>\n      <th>2</th>\n      <td>/media/mycloud/My Pictures/My Scans</td>\n      <td>Val_Pagamento_2008_0006.jpg</td>\n      <td>/media/mycloud/My Pictures/My Scans/Val_Pagame...</td>\n    </tr>\n    <tr>\n      <th>3</th>\n      <td>/media/mycloud/My Pictures/My Scans</td>\n      <td>Val_Pagamento_2008_0005.jpg</td>\n      <td>/media/mycloud/My Pictures/My Scans/Val_Pagame...</td>\n    </tr>\n    <tr>\n      <th>4</th>\n      <td>/media/mycloud/My Pictures/My Scans</td>\n      <td>Val_Pagamento_2008_0004.jpg</td>\n      <td>/media/mycloud/My Pictures/My Scans/Val_Pagame...</td>\n    </tr>\n  </tbody>\n</table>\n</div>"
     },
     "metadata": {},
     "execution_count": 36
    }
   ],
   "source": [
    "#export \n",
    "df1.rename(columns={0: \"directory\", 1: \"file_name\", 2: \"absolute_file_name\"}, inplace=True)\n",
    "# df1.head()"
   ]
  },
  {
   "source": [
    "Renaming of DataFrame 2:\n",
    "\n",
    "> note: the rename function did not allow to insert a line break to make the code more readable. Therefore I decided to split the code into 2 lines."
   ],
   "cell_type": "markdown",
   "metadata": {}
  },
  {
   "cell_type": "code",
   "execution_count": 37,
   "metadata": {},
   "outputs": [],
   "source": [
    "#export\n",
    "df2 = pd.DataFrame(stat_data)\n",
    "df2.rename(columns={ 0 : \"st_mode\", 1: \"st_ino\", 2 : \"st_dev\", 3 : \"st_nlink\", 4 : \"st_uid\", 5: \"st_gid\",}, inplace=True) \n",
    "df2.rename(columns={ 6 : \"st_size\", 7 : \"st_atime\", 8 : \"st_mtime\", 9 : \"st_ctime\"}, inplace=True) "
   ]
  },
  {
   "cell_type": "code",
   "execution_count": 38,
   "metadata": {},
   "outputs": [
    {
     "output_type": "execute_result",
     "data": {
      "text/plain": [
       "                             directory                    file_name  \\\n",
       "0  /media/mycloud/My Pictures/My Scans  Val_Pagamento_2008_0008.jpg   \n",
       "1  /media/mycloud/My Pictures/My Scans  Val_Pagamento_2008_0007.jpg   \n",
       "2  /media/mycloud/My Pictures/My Scans  Val_Pagamento_2008_0006.jpg   \n",
       "3  /media/mycloud/My Pictures/My Scans  Val_Pagamento_2008_0005.jpg   \n",
       "4  /media/mycloud/My Pictures/My Scans  Val_Pagamento_2008_0004.jpg   \n",
       "\n",
       "                                  absolute_file_name  st_mode     st_ino  \\\n",
       "0  /media/mycloud/My Pictures/My Scans/Val_Pagame...    33261  157615585   \n",
       "1  /media/mycloud/My Pictures/My Scans/Val_Pagame...    33261  157615586   \n",
       "2  /media/mycloud/My Pictures/My Scans/Val_Pagame...    33261  157615587   \n",
       "3  /media/mycloud/My Pictures/My Scans/Val_Pagame...    33261  157615588   \n",
       "4  /media/mycloud/My Pictures/My Scans/Val_Pagame...    33261  157615589   \n",
       "\n",
       "   st_dev  st_nlink  st_uid  st_gid  st_size    st_atime    st_mtime  \\\n",
       "0      77         1       0       0   801274  1226915253  1226915253   \n",
       "1      77         1       0       0   826741  1226915162  1226915162   \n",
       "2      77         1       0       0   750390  1226915101  1226915101   \n",
       "3      77         1       0       0   783234  1226915046  1226915046   \n",
       "4      77         1       0       0   774076  1226914986  1226914986   \n",
       "\n",
       "     st_ctime  \n",
       "0  1226915253  \n",
       "1  1226915162  \n",
       "2  1226915101  \n",
       "3  1226915046  \n",
       "4  1226914986  "
      ],
      "text/html": "<div>\n<style scoped>\n    .dataframe tbody tr th:only-of-type {\n        vertical-align: middle;\n    }\n\n    .dataframe tbody tr th {\n        vertical-align: top;\n    }\n\n    .dataframe thead th {\n        text-align: right;\n    }\n</style>\n<table border=\"1\" class=\"dataframe\">\n  <thead>\n    <tr style=\"text-align: right;\">\n      <th></th>\n      <th>directory</th>\n      <th>file_name</th>\n      <th>absolute_file_name</th>\n      <th>st_mode</th>\n      <th>st_ino</th>\n      <th>st_dev</th>\n      <th>st_nlink</th>\n      <th>st_uid</th>\n      <th>st_gid</th>\n      <th>st_size</th>\n      <th>st_atime</th>\n      <th>st_mtime</th>\n      <th>st_ctime</th>\n    </tr>\n  </thead>\n  <tbody>\n    <tr>\n      <th>0</th>\n      <td>/media/mycloud/My Pictures/My Scans</td>\n      <td>Val_Pagamento_2008_0008.jpg</td>\n      <td>/media/mycloud/My Pictures/My Scans/Val_Pagame...</td>\n      <td>33261</td>\n      <td>157615585</td>\n      <td>77</td>\n      <td>1</td>\n      <td>0</td>\n      <td>0</td>\n      <td>801274</td>\n      <td>1226915253</td>\n      <td>1226915253</td>\n      <td>1226915253</td>\n    </tr>\n    <tr>\n      <th>1</th>\n      <td>/media/mycloud/My Pictures/My Scans</td>\n      <td>Val_Pagamento_2008_0007.jpg</td>\n      <td>/media/mycloud/My Pictures/My Scans/Val_Pagame...</td>\n      <td>33261</td>\n      <td>157615586</td>\n      <td>77</td>\n      <td>1</td>\n      <td>0</td>\n      <td>0</td>\n      <td>826741</td>\n      <td>1226915162</td>\n      <td>1226915162</td>\n      <td>1226915162</td>\n    </tr>\n    <tr>\n      <th>2</th>\n      <td>/media/mycloud/My Pictures/My Scans</td>\n      <td>Val_Pagamento_2008_0006.jpg</td>\n      <td>/media/mycloud/My Pictures/My Scans/Val_Pagame...</td>\n      <td>33261</td>\n      <td>157615587</td>\n      <td>77</td>\n      <td>1</td>\n      <td>0</td>\n      <td>0</td>\n      <td>750390</td>\n      <td>1226915101</td>\n      <td>1226915101</td>\n      <td>1226915101</td>\n    </tr>\n    <tr>\n      <th>3</th>\n      <td>/media/mycloud/My Pictures/My Scans</td>\n      <td>Val_Pagamento_2008_0005.jpg</td>\n      <td>/media/mycloud/My Pictures/My Scans/Val_Pagame...</td>\n      <td>33261</td>\n      <td>157615588</td>\n      <td>77</td>\n      <td>1</td>\n      <td>0</td>\n      <td>0</td>\n      <td>783234</td>\n      <td>1226915046</td>\n      <td>1226915046</td>\n      <td>1226915046</td>\n    </tr>\n    <tr>\n      <th>4</th>\n      <td>/media/mycloud/My Pictures/My Scans</td>\n      <td>Val_Pagamento_2008_0004.jpg</td>\n      <td>/media/mycloud/My Pictures/My Scans/Val_Pagame...</td>\n      <td>33261</td>\n      <td>157615589</td>\n      <td>77</td>\n      <td>1</td>\n      <td>0</td>\n      <td>0</td>\n      <td>774076</td>\n      <td>1226914986</td>\n      <td>1226914986</td>\n      <td>1226914986</td>\n    </tr>\n  </tbody>\n</table>\n</div>"
     },
     "metadata": {},
     "execution_count": 38
    }
   ],
   "source": [
    "#export \n",
    "df = pd.concat([df1, df2], axis=1)\n",
    "df.head()"
   ]
  },
  {
   "source": [
    "Now we start processing the data. The first step is to sort the files according to the name. By this I hope to identify a lot of duplicates. "
   ],
   "cell_type": "markdown",
   "metadata": {}
  },
  {
   "cell_type": "code",
   "execution_count": 43,
   "metadata": {},
   "outputs": [
    {
     "output_type": "execute_result",
     "data": {
      "text/plain": [
       "                                              directory  \\\n",
       "1475                  /media/mycloud/My Pictures/Arthur   \n",
       "6026  /media/mycloud/My Pictures/Album Art/Alfred Sc...   \n",
       "20                       /media/mycloud/My Pictures/TMP   \n",
       "19                       /media/mycloud/My Pictures/TMP   \n",
       "22                       /media/mycloud/My Pictures/TMP   \n",
       "\n",
       "                                     file_name  \\\n",
       "1475                                     1.jpg   \n",
       "6026             1112D2sBmTL._SL500_AA300_.jpg   \n",
       "20    111FA374-6FF3-450E-804F-E5D27776A583.jpg   \n",
       "19    1134100C-37B7-4A23-A666-D55944B46F87.jpg   \n",
       "22    11664784-3132-4D1E-90E1-4E5CC4DC7B1B.jpg   \n",
       "\n",
       "                                     absolute_file_name  st_mode     st_ino  \\\n",
       "1475            /media/mycloud/My Pictures/Arthur/1.jpg    33261  157617023   \n",
       "6026  /media/mycloud/My Pictures/Album Art/Alfred Sc...    33261  157597219   \n",
       "20    /media/mycloud/My Pictures/TMP/111FA374-6FF3-4...    33261  157617644   \n",
       "19    /media/mycloud/My Pictures/TMP/1134100C-37B7-4...    33261  157617619   \n",
       "22    /media/mycloud/My Pictures/TMP/11664784-3132-4...    33261  157607182   \n",
       "\n",
       "      st_dev  st_nlink  st_uid  st_gid  st_size    st_atime    st_mtime  \\\n",
       "1475      77         1       0       0   152121   985070906   985070906   \n",
       "6026      77         1       0       0     5118  1357350218  1357350218   \n",
       "20        77         1       0       0  1469153  1539622706  1539622706   \n",
       "19        77         1       0       0  1683508  1532252065  1532252065   \n",
       "22        77         1       0       0  1924451  1540552075  1540552075   \n",
       "\n",
       "        st_ctime  \n",
       "1475   985070906  \n",
       "6026  1357350218  \n",
       "20    1539622706  \n",
       "19    1532252065  \n",
       "22    1540552075  "
      ],
      "text/html": "<div>\n<style scoped>\n    .dataframe tbody tr th:only-of-type {\n        vertical-align: middle;\n    }\n\n    .dataframe tbody tr th {\n        vertical-align: top;\n    }\n\n    .dataframe thead th {\n        text-align: right;\n    }\n</style>\n<table border=\"1\" class=\"dataframe\">\n  <thead>\n    <tr style=\"text-align: right;\">\n      <th></th>\n      <th>directory</th>\n      <th>file_name</th>\n      <th>absolute_file_name</th>\n      <th>st_mode</th>\n      <th>st_ino</th>\n      <th>st_dev</th>\n      <th>st_nlink</th>\n      <th>st_uid</th>\n      <th>st_gid</th>\n      <th>st_size</th>\n      <th>st_atime</th>\n      <th>st_mtime</th>\n      <th>st_ctime</th>\n    </tr>\n  </thead>\n  <tbody>\n    <tr>\n      <th>1475</th>\n      <td>/media/mycloud/My Pictures/Arthur</td>\n      <td>1.jpg</td>\n      <td>/media/mycloud/My Pictures/Arthur/1.jpg</td>\n      <td>33261</td>\n      <td>157617023</td>\n      <td>77</td>\n      <td>1</td>\n      <td>0</td>\n      <td>0</td>\n      <td>152121</td>\n      <td>985070906</td>\n      <td>985070906</td>\n      <td>985070906</td>\n    </tr>\n    <tr>\n      <th>6026</th>\n      <td>/media/mycloud/My Pictures/Album Art/Alfred Sc...</td>\n      <td>1112D2sBmTL._SL500_AA300_.jpg</td>\n      <td>/media/mycloud/My Pictures/Album Art/Alfred Sc...</td>\n      <td>33261</td>\n      <td>157597219</td>\n      <td>77</td>\n      <td>1</td>\n      <td>0</td>\n      <td>0</td>\n      <td>5118</td>\n      <td>1357350218</td>\n      <td>1357350218</td>\n      <td>1357350218</td>\n    </tr>\n    <tr>\n      <th>20</th>\n      <td>/media/mycloud/My Pictures/TMP</td>\n      <td>111FA374-6FF3-450E-804F-E5D27776A583.jpg</td>\n      <td>/media/mycloud/My Pictures/TMP/111FA374-6FF3-4...</td>\n      <td>33261</td>\n      <td>157617644</td>\n      <td>77</td>\n      <td>1</td>\n      <td>0</td>\n      <td>0</td>\n      <td>1469153</td>\n      <td>1539622706</td>\n      <td>1539622706</td>\n      <td>1539622706</td>\n    </tr>\n    <tr>\n      <th>19</th>\n      <td>/media/mycloud/My Pictures/TMP</td>\n      <td>1134100C-37B7-4A23-A666-D55944B46F87.jpg</td>\n      <td>/media/mycloud/My Pictures/TMP/1134100C-37B7-4...</td>\n      <td>33261</td>\n      <td>157617619</td>\n      <td>77</td>\n      <td>1</td>\n      <td>0</td>\n      <td>0</td>\n      <td>1683508</td>\n      <td>1532252065</td>\n      <td>1532252065</td>\n      <td>1532252065</td>\n    </tr>\n    <tr>\n      <th>22</th>\n      <td>/media/mycloud/My Pictures/TMP</td>\n      <td>11664784-3132-4D1E-90E1-4E5CC4DC7B1B.jpg</td>\n      <td>/media/mycloud/My Pictures/TMP/11664784-3132-4...</td>\n      <td>33261</td>\n      <td>157607182</td>\n      <td>77</td>\n      <td>1</td>\n      <td>0</td>\n      <td>0</td>\n      <td>1924451</td>\n      <td>1540552075</td>\n      <td>1540552075</td>\n      <td>1540552075</td>\n    </tr>\n  </tbody>\n</table>\n</div>"
     },
     "metadata": {},
     "execution_count": 43
    }
   ],
   "source": [
    "#export\n",
    "df.sort_values(\"file_name\", inplace=True)\n",
    "df.head()"
   ]
  },
  {
   "cell_type": "code",
   "execution_count": 45,
   "metadata": {},
   "outputs": [
    {
     "output_type": "execute_result",
     "data": {
      "text/plain": [
       "1475    False\n",
       "6026    False\n",
       "20      False\n",
       "19      False\n",
       "22      False\n",
       "        ...  \n",
       "1808    False\n",
       "1809    False\n",
       "1813    False\n",
       "6006    False\n",
       "6015    False\n",
       "Length: 6027, dtype: bool"
      ]
     },
     "metadata": {},
     "execution_count": 45
    }
   ],
   "source": [
    "#export  \n",
    "df.duplicated(subset=['file_name'])"
   ]
  },
  {
   "cell_type": "code",
   "execution_count": 59,
   "metadata": {},
   "outputs": [
    {
     "output_type": "execute_result",
     "data": {
      "text/plain": [
       "113"
      ]
     },
     "metadata": {},
     "execution_count": 59
    }
   ],
   "source": [
    "#export\n",
    "df_duplicates = df[df['file_name'].duplicated(keep=False)]\n",
    "len(df_duplicates)\n",
    "\n",
    "# df[df.duplicated(['ID'], keep=False)]\n",
    "# data.sort_values(by=['Order ID'], inplace=True)\n",
    "# df = data[data['Order ID'].duplicated(keep=False)]\n"
   ]
  },
  {
   "cell_type": "code",
   "execution_count": 66,
   "metadata": {},
   "outputs": [
    {
     "output_type": "execute_result",
     "data": {
      "text/plain": [
       "                                              directory             file_name  \\\n",
       "1694              /media/mycloud/My Pictures/2006_11_09          DSCN0832.JPG   \n",
       "1650              /media/mycloud/My Pictures/2006_11_20          DSCN0832.JPG   \n",
       "1693              /media/mycloud/My Pictures/2006_11_09          DSCN0833.JPG   \n",
       "1649              /media/mycloud/My Pictures/2006_11_20          DSCN0833.JPG   \n",
       "1692              /media/mycloud/My Pictures/2006_11_09          DSCN0834.JPG   \n",
       "1648              /media/mycloud/My Pictures/2006_11_20          DSCN0834.JPG   \n",
       "1647              /media/mycloud/My Pictures/2006_11_20          DSCN0835.JPG   \n",
       "1691              /media/mycloud/My Pictures/2006_11_09          DSCN0835.JPG   \n",
       "6010  /media/mycloud/My Pictures/Album Art/Tom Jones...            Folder.jpg   \n",
       "6024  /media/mycloud/My Pictures/Album Art/culcha ca...            Folder.jpg   \n",
       "6018  /media/mycloud/My Pictures/Album Art/Pearl Jam...            Folder.jpg   \n",
       "6007  /media/mycloud/My Pictures/Album Art/Van Morri...            Folder.jpg   \n",
       "6011  /media/mycloud/My Pictures/Album Art/steve Win...            Folder.jpg   \n",
       "6004  /media/mycloud/My Pictures/Album Art/Slovak Ph...            Folder.jpg   \n",
       "17                       /media/mycloud/My Pictures/TMP          IMG_0533.PNG   \n",
       "2299         /media/mycloud/My Pictures/moved_from_root          IMG_0533.PNG   \n",
       "16                       /media/mycloud/My Pictures/TMP          IMG_0535.PNG   \n",
       "2302         /media/mycloud/My Pictures/moved_from_root          IMG_0535.PNG   \n",
       "15                       /media/mycloud/My Pictures/TMP          IMG_0536.PNG   \n",
       "2303         /media/mycloud/My Pictures/moved_from_root          IMG_0536.PNG   \n",
       "857        /media/mycloud/My Pictures/Casamento Andreia  Thumbs Restored 1.db   \n",
       "1532                     /media/mycloud/My Pictures/Ana  Thumbs Restored 1.db   \n",
       "78                  /media/mycloud/My Pictures/Hochzeit  Thumbs Restored 1.db   \n",
       "1571                   /media/mycloud/My Pictures/Aline  Thumbs Restored 1.db   \n",
       "49               /media/mycloud/My Pictures/Oma und Opa  Thumbs Restored 1.db   \n",
       "1476             /media/mycloud/My Pictures/Andrea Haus  Thumbs Restored 1.db   \n",
       "1474                  /media/mycloud/My Pictures/Arthur  Thumbs Restored 1.db   \n",
       "843                   /media/mycloud/My Pictures/Family  Thumbs Restored 1.db   \n",
       "6012  /media/mycloud/My Pictures/Album Art/Slovak Sy...   digitalizar0001.jpg   \n",
       "6022  /media/mycloud/My Pictures/Album Art/Frederic ...   digitalizar0001.jpg   \n",
       "13                  /media/mycloud/My Pictures/My Scans   digitalizar0001.jpg   \n",
       "6013  /media/mycloud/My Pictures/Album Art/Slovak Ch...   digitalizar0002.jpg   \n",
       "12                  /media/mycloud/My Pictures/My Scans   digitalizar0002.jpg   \n",
       "\n",
       "                                     absolute_file_name  st_mode     st_ino  \\\n",
       "1694  /media/mycloud/My Pictures/2006_11_09/DSCN0832...    33261  157617242   \n",
       "1650  /media/mycloud/My Pictures/2006_11_20/DSCN0832...    33261  157617198   \n",
       "1693  /media/mycloud/My Pictures/2006_11_09/DSCN0833...    33261  157617241   \n",
       "1649  /media/mycloud/My Pictures/2006_11_20/DSCN0833...    33261  157617197   \n",
       "1692  /media/mycloud/My Pictures/2006_11_09/DSCN0834...    33261  157617240   \n",
       "1648  /media/mycloud/My Pictures/2006_11_20/DSCN0834...    33261  157617196   \n",
       "1647  /media/mycloud/My Pictures/2006_11_20/DSCN0835...    33261  157617195   \n",
       "1691  /media/mycloud/My Pictures/2006_11_09/DSCN0835...    33261  157617239   \n",
       "6010  /media/mycloud/My Pictures/Album Art/Tom Jones...    33261  157597203   \n",
       "6024  /media/mycloud/My Pictures/Album Art/culcha ca...    33261  157597217   \n",
       "6018  /media/mycloud/My Pictures/Album Art/Pearl Jam...    33261  157597211   \n",
       "6007  /media/mycloud/My Pictures/Album Art/Van Morri...    33261  157597200   \n",
       "6011  /media/mycloud/My Pictures/Album Art/steve Win...    33261  157597204   \n",
       "6004  /media/mycloud/My Pictures/Album Art/Slovak Ph...    33261  157598910   \n",
       "17          /media/mycloud/My Pictures/TMP/IMG_0533.PNG    33261  157615581   \n",
       "2299  /media/mycloud/My Pictures/moved_from_root/IMG...    33261  157600759   \n",
       "16          /media/mycloud/My Pictures/TMP/IMG_0535.PNG    33261  157615580   \n",
       "2302  /media/mycloud/My Pictures/moved_from_root/IMG...    33261  157600851   \n",
       "15          /media/mycloud/My Pictures/TMP/IMG_0536.PNG    33261  157615579   \n",
       "2303  /media/mycloud/My Pictures/moved_from_root/IMG...    33261  157601119   \n",
       "857   /media/mycloud/My Pictures/Casamento Andreia/T...    33261  157616405   \n",
       "1532  /media/mycloud/My Pictures/Ana/Thumbs Restored...    33261  157617080   \n",
       "78    /media/mycloud/My Pictures/Hochzeit/Thumbs Res...    33261  157615627   \n",
       "1571  /media/mycloud/My Pictures/Aline/Thumbs Restor...    33261  157617119   \n",
       "49    /media/mycloud/My Pictures/Oma und Opa/Thumbs ...    33261  157615583   \n",
       "1476  /media/mycloud/My Pictures/Andrea Haus/Thumbs ...    33261  157617024   \n",
       "1474  /media/mycloud/My Pictures/Arthur/Thumbs Resto...    33261  157617022   \n",
       "843   /media/mycloud/My Pictures/Family/Thumbs Resto...    33261  157616391   \n",
       "6012  /media/mycloud/My Pictures/Album Art/Slovak Sy...    33261  157597205   \n",
       "6022  /media/mycloud/My Pictures/Album Art/Frederic ...    33261  157597215   \n",
       "13    /media/mycloud/My Pictures/My Scans/digitaliza...    33261  157615598   \n",
       "6013  /media/mycloud/My Pictures/Album Art/Slovak Ch...    33261  157597206   \n",
       "12    /media/mycloud/My Pictures/My Scans/digitaliza...    33261  157615597   \n",
       "\n",
       "      st_dev  st_nlink  st_uid  st_gid  st_size    st_atime    st_mtime  \\\n",
       "1694      77         1       0       0   176845  1162765318  1162765318   \n",
       "1650      77         1       0       0   176845  1162754518  1162754518   \n",
       "1693      77         1       0       0   175699  1162765340  1162765340   \n",
       "1649      77         1       0       0   175699  1162754540  1162754540   \n",
       "1692      77         1       0       0   194938  1162765464  1162765464   \n",
       "1648      77         1       0       0   194938  1162754664  1162754664   \n",
       "1647      77         1       0       0   191698  1162754680  1162754680   \n",
       "1691      77         1       0       0   191698  1162765480  1162765480   \n",
       "6010      77         1       0       0    10469  1357346795  1357346795   \n",
       "6024      77         1       0       0    21505  1357348416  1357348416   \n",
       "6018      77         1       0       0    17349  1357348292  1357348292   \n",
       "6007      77         1       0       0    71860  1357347319  1357347319   \n",
       "6011      77         1       0       0    13005  1357392803  1357392803   \n",
       "6004      77         1       0       0   139852  1357392710  1357392710   \n",
       "17        77         1       0       0   390025  1510827840  1510827840   \n",
       "2299      77         1       0       0   390025  1510827416  1510827416   \n",
       "16        77         1       0       0   310750  1510827840  1510827840   \n",
       "2302      77         1       0       0   310750  1510827511  1510827511   \n",
       "15        77         1       0       0   424186  1510827840  1510827840   \n",
       "2303      77         1       0       0   424186  1510827534  1510827534   \n",
       "857       77         1       0       0     8192  1161251228  1161251228   \n",
       "1532      77         1       0       0     8192  1198115272  1198115272   \n",
       "78        77         1       0       0     8704  1204753714  1204753714   \n",
       "1571      77         1       0       0   256512  1161251226  1161251226   \n",
       "49        77         1       0       0     5632  1204753714  1204753714   \n",
       "1476      77         1       0       0    64000  1161251226  1161251226   \n",
       "1474      77         1       0       0     5632  1198115272  1198115272   \n",
       "843       77         1       0       0     7680  1198115274  1198115274   \n",
       "6012      77         1       0       0   401176  1357408510  1357408510   \n",
       "6022      77         1       0       0   848327  1357408138  1357408138   \n",
       "13        77         1       0       0   385478  1376494383  1376494383   \n",
       "6013      77         1       0       0   427246  1357407801  1357407801   \n",
       "12        77         1       0       0   304544  1376494899  1376494899   \n",
       "\n",
       "        st_ctime  \n",
       "1694  1162765318  \n",
       "1650  1162754518  \n",
       "1693  1162765340  \n",
       "1649  1162754540  \n",
       "1692  1162765464  \n",
       "1648  1162754664  \n",
       "1647  1162754680  \n",
       "1691  1162765480  \n",
       "6010  1357346795  \n",
       "6024  1357348416  \n",
       "6018  1357348292  \n",
       "6007  1357347319  \n",
       "6011  1357392803  \n",
       "6004  1357392710  \n",
       "17    1510827840  \n",
       "2299  1510827416  \n",
       "16    1510827840  \n",
       "2302  1510827511  \n",
       "15    1510827840  \n",
       "2303  1510827534  \n",
       "857   1161251228  \n",
       "1532  1198115272  \n",
       "78    1204753714  \n",
       "1571  1161251226  \n",
       "49    1204753714  \n",
       "1476  1161251226  \n",
       "1474  1198115272  \n",
       "843   1198115274  \n",
       "6012  1357408510  \n",
       "6022  1357408138  \n",
       "13    1376494383  \n",
       "6013  1357407801  \n",
       "12    1376494899  "
      ],
      "text/html": "<div>\n<style scoped>\n    .dataframe tbody tr th:only-of-type {\n        vertical-align: middle;\n    }\n\n    .dataframe tbody tr th {\n        vertical-align: top;\n    }\n\n    .dataframe thead th {\n        text-align: right;\n    }\n</style>\n<table border=\"1\" class=\"dataframe\">\n  <thead>\n    <tr style=\"text-align: right;\">\n      <th></th>\n      <th>directory</th>\n      <th>file_name</th>\n      <th>absolute_file_name</th>\n      <th>st_mode</th>\n      <th>st_ino</th>\n      <th>st_dev</th>\n      <th>st_nlink</th>\n      <th>st_uid</th>\n      <th>st_gid</th>\n      <th>st_size</th>\n      <th>st_atime</th>\n      <th>st_mtime</th>\n      <th>st_ctime</th>\n    </tr>\n  </thead>\n  <tbody>\n    <tr>\n      <th>1694</th>\n      <td>/media/mycloud/My Pictures/2006_11_09</td>\n      <td>DSCN0832.JPG</td>\n      <td>/media/mycloud/My Pictures/2006_11_09/DSCN0832...</td>\n      <td>33261</td>\n      <td>157617242</td>\n      <td>77</td>\n      <td>1</td>\n      <td>0</td>\n      <td>0</td>\n      <td>176845</td>\n      <td>1162765318</td>\n      <td>1162765318</td>\n      <td>1162765318</td>\n    </tr>\n    <tr>\n      <th>1650</th>\n      <td>/media/mycloud/My Pictures/2006_11_20</td>\n      <td>DSCN0832.JPG</td>\n      <td>/media/mycloud/My Pictures/2006_11_20/DSCN0832...</td>\n      <td>33261</td>\n      <td>157617198</td>\n      <td>77</td>\n      <td>1</td>\n      <td>0</td>\n      <td>0</td>\n      <td>176845</td>\n      <td>1162754518</td>\n      <td>1162754518</td>\n      <td>1162754518</td>\n    </tr>\n    <tr>\n      <th>1693</th>\n      <td>/media/mycloud/My Pictures/2006_11_09</td>\n      <td>DSCN0833.JPG</td>\n      <td>/media/mycloud/My Pictures/2006_11_09/DSCN0833...</td>\n      <td>33261</td>\n      <td>157617241</td>\n      <td>77</td>\n      <td>1</td>\n      <td>0</td>\n      <td>0</td>\n      <td>175699</td>\n      <td>1162765340</td>\n      <td>1162765340</td>\n      <td>1162765340</td>\n    </tr>\n    <tr>\n      <th>1649</th>\n      <td>/media/mycloud/My Pictures/2006_11_20</td>\n      <td>DSCN0833.JPG</td>\n      <td>/media/mycloud/My Pictures/2006_11_20/DSCN0833...</td>\n      <td>33261</td>\n      <td>157617197</td>\n      <td>77</td>\n      <td>1</td>\n      <td>0</td>\n      <td>0</td>\n      <td>175699</td>\n      <td>1162754540</td>\n      <td>1162754540</td>\n      <td>1162754540</td>\n    </tr>\n    <tr>\n      <th>1692</th>\n      <td>/media/mycloud/My Pictures/2006_11_09</td>\n      <td>DSCN0834.JPG</td>\n      <td>/media/mycloud/My Pictures/2006_11_09/DSCN0834...</td>\n      <td>33261</td>\n      <td>157617240</td>\n      <td>77</td>\n      <td>1</td>\n      <td>0</td>\n      <td>0</td>\n      <td>194938</td>\n      <td>1162765464</td>\n      <td>1162765464</td>\n      <td>1162765464</td>\n    </tr>\n    <tr>\n      <th>1648</th>\n      <td>/media/mycloud/My Pictures/2006_11_20</td>\n      <td>DSCN0834.JPG</td>\n      <td>/media/mycloud/My Pictures/2006_11_20/DSCN0834...</td>\n      <td>33261</td>\n      <td>157617196</td>\n      <td>77</td>\n      <td>1</td>\n      <td>0</td>\n      <td>0</td>\n      <td>194938</td>\n      <td>1162754664</td>\n      <td>1162754664</td>\n      <td>1162754664</td>\n    </tr>\n    <tr>\n      <th>1647</th>\n      <td>/media/mycloud/My Pictures/2006_11_20</td>\n      <td>DSCN0835.JPG</td>\n      <td>/media/mycloud/My Pictures/2006_11_20/DSCN0835...</td>\n      <td>33261</td>\n      <td>157617195</td>\n      <td>77</td>\n      <td>1</td>\n      <td>0</td>\n      <td>0</td>\n      <td>191698</td>\n      <td>1162754680</td>\n      <td>1162754680</td>\n      <td>1162754680</td>\n    </tr>\n    <tr>\n      <th>1691</th>\n      <td>/media/mycloud/My Pictures/2006_11_09</td>\n      <td>DSCN0835.JPG</td>\n      <td>/media/mycloud/My Pictures/2006_11_09/DSCN0835...</td>\n      <td>33261</td>\n      <td>157617239</td>\n      <td>77</td>\n      <td>1</td>\n      <td>0</td>\n      <td>0</td>\n      <td>191698</td>\n      <td>1162765480</td>\n      <td>1162765480</td>\n      <td>1162765480</td>\n    </tr>\n    <tr>\n      <th>6010</th>\n      <td>/media/mycloud/My Pictures/Album Art/Tom Jones...</td>\n      <td>Folder.jpg</td>\n      <td>/media/mycloud/My Pictures/Album Art/Tom Jones...</td>\n      <td>33261</td>\n      <td>157597203</td>\n      <td>77</td>\n      <td>1</td>\n      <td>0</td>\n      <td>0</td>\n      <td>10469</td>\n      <td>1357346795</td>\n      <td>1357346795</td>\n      <td>1357346795</td>\n    </tr>\n    <tr>\n      <th>6024</th>\n      <td>/media/mycloud/My Pictures/Album Art/culcha ca...</td>\n      <td>Folder.jpg</td>\n      <td>/media/mycloud/My Pictures/Album Art/culcha ca...</td>\n      <td>33261</td>\n      <td>157597217</td>\n      <td>77</td>\n      <td>1</td>\n      <td>0</td>\n      <td>0</td>\n      <td>21505</td>\n      <td>1357348416</td>\n      <td>1357348416</td>\n      <td>1357348416</td>\n    </tr>\n    <tr>\n      <th>6018</th>\n      <td>/media/mycloud/My Pictures/Album Art/Pearl Jam...</td>\n      <td>Folder.jpg</td>\n      <td>/media/mycloud/My Pictures/Album Art/Pearl Jam...</td>\n      <td>33261</td>\n      <td>157597211</td>\n      <td>77</td>\n      <td>1</td>\n      <td>0</td>\n      <td>0</td>\n      <td>17349</td>\n      <td>1357348292</td>\n      <td>1357348292</td>\n      <td>1357348292</td>\n    </tr>\n    <tr>\n      <th>6007</th>\n      <td>/media/mycloud/My Pictures/Album Art/Van Morri...</td>\n      <td>Folder.jpg</td>\n      <td>/media/mycloud/My Pictures/Album Art/Van Morri...</td>\n      <td>33261</td>\n      <td>157597200</td>\n      <td>77</td>\n      <td>1</td>\n      <td>0</td>\n      <td>0</td>\n      <td>71860</td>\n      <td>1357347319</td>\n      <td>1357347319</td>\n      <td>1357347319</td>\n    </tr>\n    <tr>\n      <th>6011</th>\n      <td>/media/mycloud/My Pictures/Album Art/steve Win...</td>\n      <td>Folder.jpg</td>\n      <td>/media/mycloud/My Pictures/Album Art/steve Win...</td>\n      <td>33261</td>\n      <td>157597204</td>\n      <td>77</td>\n      <td>1</td>\n      <td>0</td>\n      <td>0</td>\n      <td>13005</td>\n      <td>1357392803</td>\n      <td>1357392803</td>\n      <td>1357392803</td>\n    </tr>\n    <tr>\n      <th>6004</th>\n      <td>/media/mycloud/My Pictures/Album Art/Slovak Ph...</td>\n      <td>Folder.jpg</td>\n      <td>/media/mycloud/My Pictures/Album Art/Slovak Ph...</td>\n      <td>33261</td>\n      <td>157598910</td>\n      <td>77</td>\n      <td>1</td>\n      <td>0</td>\n      <td>0</td>\n      <td>139852</td>\n      <td>1357392710</td>\n      <td>1357392710</td>\n      <td>1357392710</td>\n    </tr>\n    <tr>\n      <th>17</th>\n      <td>/media/mycloud/My Pictures/TMP</td>\n      <td>IMG_0533.PNG</td>\n      <td>/media/mycloud/My Pictures/TMP/IMG_0533.PNG</td>\n      <td>33261</td>\n      <td>157615581</td>\n      <td>77</td>\n      <td>1</td>\n      <td>0</td>\n      <td>0</td>\n      <td>390025</td>\n      <td>1510827840</td>\n      <td>1510827840</td>\n      <td>1510827840</td>\n    </tr>\n    <tr>\n      <th>2299</th>\n      <td>/media/mycloud/My Pictures/moved_from_root</td>\n      <td>IMG_0533.PNG</td>\n      <td>/media/mycloud/My Pictures/moved_from_root/IMG...</td>\n      <td>33261</td>\n      <td>157600759</td>\n      <td>77</td>\n      <td>1</td>\n      <td>0</td>\n      <td>0</td>\n      <td>390025</td>\n      <td>1510827416</td>\n      <td>1510827416</td>\n      <td>1510827416</td>\n    </tr>\n    <tr>\n      <th>16</th>\n      <td>/media/mycloud/My Pictures/TMP</td>\n      <td>IMG_0535.PNG</td>\n      <td>/media/mycloud/My Pictures/TMP/IMG_0535.PNG</td>\n      <td>33261</td>\n      <td>157615580</td>\n      <td>77</td>\n      <td>1</td>\n      <td>0</td>\n      <td>0</td>\n      <td>310750</td>\n      <td>1510827840</td>\n      <td>1510827840</td>\n      <td>1510827840</td>\n    </tr>\n    <tr>\n      <th>2302</th>\n      <td>/media/mycloud/My Pictures/moved_from_root</td>\n      <td>IMG_0535.PNG</td>\n      <td>/media/mycloud/My Pictures/moved_from_root/IMG...</td>\n      <td>33261</td>\n      <td>157600851</td>\n      <td>77</td>\n      <td>1</td>\n      <td>0</td>\n      <td>0</td>\n      <td>310750</td>\n      <td>1510827511</td>\n      <td>1510827511</td>\n      <td>1510827511</td>\n    </tr>\n    <tr>\n      <th>15</th>\n      <td>/media/mycloud/My Pictures/TMP</td>\n      <td>IMG_0536.PNG</td>\n      <td>/media/mycloud/My Pictures/TMP/IMG_0536.PNG</td>\n      <td>33261</td>\n      <td>157615579</td>\n      <td>77</td>\n      <td>1</td>\n      <td>0</td>\n      <td>0</td>\n      <td>424186</td>\n      <td>1510827840</td>\n      <td>1510827840</td>\n      <td>1510827840</td>\n    </tr>\n    <tr>\n      <th>2303</th>\n      <td>/media/mycloud/My Pictures/moved_from_root</td>\n      <td>IMG_0536.PNG</td>\n      <td>/media/mycloud/My Pictures/moved_from_root/IMG...</td>\n      <td>33261</td>\n      <td>157601119</td>\n      <td>77</td>\n      <td>1</td>\n      <td>0</td>\n      <td>0</td>\n      <td>424186</td>\n      <td>1510827534</td>\n      <td>1510827534</td>\n      <td>1510827534</td>\n    </tr>\n    <tr>\n      <th>857</th>\n      <td>/media/mycloud/My Pictures/Casamento Andreia</td>\n      <td>Thumbs Restored 1.db</td>\n      <td>/media/mycloud/My Pictures/Casamento Andreia/T...</td>\n      <td>33261</td>\n      <td>157616405</td>\n      <td>77</td>\n      <td>1</td>\n      <td>0</td>\n      <td>0</td>\n      <td>8192</td>\n      <td>1161251228</td>\n      <td>1161251228</td>\n      <td>1161251228</td>\n    </tr>\n    <tr>\n      <th>1532</th>\n      <td>/media/mycloud/My Pictures/Ana</td>\n      <td>Thumbs Restored 1.db</td>\n      <td>/media/mycloud/My Pictures/Ana/Thumbs Restored...</td>\n      <td>33261</td>\n      <td>157617080</td>\n      <td>77</td>\n      <td>1</td>\n      <td>0</td>\n      <td>0</td>\n      <td>8192</td>\n      <td>1198115272</td>\n      <td>1198115272</td>\n      <td>1198115272</td>\n    </tr>\n    <tr>\n      <th>78</th>\n      <td>/media/mycloud/My Pictures/Hochzeit</td>\n      <td>Thumbs Restored 1.db</td>\n      <td>/media/mycloud/My Pictures/Hochzeit/Thumbs Res...</td>\n      <td>33261</td>\n      <td>157615627</td>\n      <td>77</td>\n      <td>1</td>\n      <td>0</td>\n      <td>0</td>\n      <td>8704</td>\n      <td>1204753714</td>\n      <td>1204753714</td>\n      <td>1204753714</td>\n    </tr>\n    <tr>\n      <th>1571</th>\n      <td>/media/mycloud/My Pictures/Aline</td>\n      <td>Thumbs Restored 1.db</td>\n      <td>/media/mycloud/My Pictures/Aline/Thumbs Restor...</td>\n      <td>33261</td>\n      <td>157617119</td>\n      <td>77</td>\n      <td>1</td>\n      <td>0</td>\n      <td>0</td>\n      <td>256512</td>\n      <td>1161251226</td>\n      <td>1161251226</td>\n      <td>1161251226</td>\n    </tr>\n    <tr>\n      <th>49</th>\n      <td>/media/mycloud/My Pictures/Oma und Opa</td>\n      <td>Thumbs Restored 1.db</td>\n      <td>/media/mycloud/My Pictures/Oma und Opa/Thumbs ...</td>\n      <td>33261</td>\n      <td>157615583</td>\n      <td>77</td>\n      <td>1</td>\n      <td>0</td>\n      <td>0</td>\n      <td>5632</td>\n      <td>1204753714</td>\n      <td>1204753714</td>\n      <td>1204753714</td>\n    </tr>\n    <tr>\n      <th>1476</th>\n      <td>/media/mycloud/My Pictures/Andrea Haus</td>\n      <td>Thumbs Restored 1.db</td>\n      <td>/media/mycloud/My Pictures/Andrea Haus/Thumbs ...</td>\n      <td>33261</td>\n      <td>157617024</td>\n      <td>77</td>\n      <td>1</td>\n      <td>0</td>\n      <td>0</td>\n      <td>64000</td>\n      <td>1161251226</td>\n      <td>1161251226</td>\n      <td>1161251226</td>\n    </tr>\n    <tr>\n      <th>1474</th>\n      <td>/media/mycloud/My Pictures/Arthur</td>\n      <td>Thumbs Restored 1.db</td>\n      <td>/media/mycloud/My Pictures/Arthur/Thumbs Resto...</td>\n      <td>33261</td>\n      <td>157617022</td>\n      <td>77</td>\n      <td>1</td>\n      <td>0</td>\n      <td>0</td>\n      <td>5632</td>\n      <td>1198115272</td>\n      <td>1198115272</td>\n      <td>1198115272</td>\n    </tr>\n    <tr>\n      <th>843</th>\n      <td>/media/mycloud/My Pictures/Family</td>\n      <td>Thumbs Restored 1.db</td>\n      <td>/media/mycloud/My Pictures/Family/Thumbs Resto...</td>\n      <td>33261</td>\n      <td>157616391</td>\n      <td>77</td>\n      <td>1</td>\n      <td>0</td>\n      <td>0</td>\n      <td>7680</td>\n      <td>1198115274</td>\n      <td>1198115274</td>\n      <td>1198115274</td>\n    </tr>\n    <tr>\n      <th>6012</th>\n      <td>/media/mycloud/My Pictures/Album Art/Slovak Sy...</td>\n      <td>digitalizar0001.jpg</td>\n      <td>/media/mycloud/My Pictures/Album Art/Slovak Sy...</td>\n      <td>33261</td>\n      <td>157597205</td>\n      <td>77</td>\n      <td>1</td>\n      <td>0</td>\n      <td>0</td>\n      <td>401176</td>\n      <td>1357408510</td>\n      <td>1357408510</td>\n      <td>1357408510</td>\n    </tr>\n    <tr>\n      <th>6022</th>\n      <td>/media/mycloud/My Pictures/Album Art/Frederic ...</td>\n      <td>digitalizar0001.jpg</td>\n      <td>/media/mycloud/My Pictures/Album Art/Frederic ...</td>\n      <td>33261</td>\n      <td>157597215</td>\n      <td>77</td>\n      <td>1</td>\n      <td>0</td>\n      <td>0</td>\n      <td>848327</td>\n      <td>1357408138</td>\n      <td>1357408138</td>\n      <td>1357408138</td>\n    </tr>\n    <tr>\n      <th>13</th>\n      <td>/media/mycloud/My Pictures/My Scans</td>\n      <td>digitalizar0001.jpg</td>\n      <td>/media/mycloud/My Pictures/My Scans/digitaliza...</td>\n      <td>33261</td>\n      <td>157615598</td>\n      <td>77</td>\n      <td>1</td>\n      <td>0</td>\n      <td>0</td>\n      <td>385478</td>\n      <td>1376494383</td>\n      <td>1376494383</td>\n      <td>1376494383</td>\n    </tr>\n    <tr>\n      <th>6013</th>\n      <td>/media/mycloud/My Pictures/Album Art/Slovak Ch...</td>\n      <td>digitalizar0002.jpg</td>\n      <td>/media/mycloud/My Pictures/Album Art/Slovak Ch...</td>\n      <td>33261</td>\n      <td>157597206</td>\n      <td>77</td>\n      <td>1</td>\n      <td>0</td>\n      <td>0</td>\n      <td>427246</td>\n      <td>1357407801</td>\n      <td>1357407801</td>\n      <td>1357407801</td>\n    </tr>\n    <tr>\n      <th>12</th>\n      <td>/media/mycloud/My Pictures/My Scans</td>\n      <td>digitalizar0002.jpg</td>\n      <td>/media/mycloud/My Pictures/My Scans/digitaliza...</td>\n      <td>33261</td>\n      <td>157615597</td>\n      <td>77</td>\n      <td>1</td>\n      <td>0</td>\n      <td>0</td>\n      <td>304544</td>\n      <td>1376494899</td>\n      <td>1376494899</td>\n      <td>1376494899</td>\n    </tr>\n  </tbody>\n</table>\n</div>"
     },
     "metadata": {},
     "execution_count": 66
    }
   ],
   "source": [
    "#export\n",
    "df_duplicates[80:113]"
   ]
  },
  {
   "cell_type": "code",
   "execution_count": null,
   "metadata": {},
   "outputs": [],
   "source": []
  }
 ],
 "metadata": {
  "interpreter": {
   "hash": "f9f85f796d01129d0dd105a088854619f454435301f6ffec2fea96ecbd9be4ac"
  },
  "kernelspec": {
   "name": "python3",
   "display_name": "Python 3.9.5 64-bit"
  },
  "language_info": {
   "codemirror_mode": {
    "name": "ipython",
    "version": 3
   },
   "file_extension": ".py",
   "mimetype": "text/x-python",
   "name": "python",
   "nbconvert_exporter": "python",
   "pygments_lexer": "ipython3",
   "version": "3.9.5"
  }
 },
 "nbformat": 4,
 "nbformat_minor": 4
}