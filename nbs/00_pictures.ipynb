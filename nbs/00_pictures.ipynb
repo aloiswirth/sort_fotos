{
 "cells": [
  {
   "cell_type": "code",
   "execution_count": 1,
   "metadata": {},
   "outputs": [],
   "source": [
    "# default_exp pictures"
   ]
  },
  {
   "cell_type": "markdown",
   "metadata": {},
   "source": [
    "# Pictures\n",
    "\n",
    ">  Create List with all pictures\n",
    "\n",
    "Will use a csv file to store the list data"
   ]
  },
  {
   "cell_type": "code",
   "execution_count": 2,
   "metadata": {},
   "outputs": [],
   "source": [
    "#hide\n",
    "from nbdev.showdoc import *"
   ]
  },
  {
   "cell_type": "code",
   "execution_count": 3,
   "metadata": {},
   "outputs": [],
   "source": [
    "#export \n",
    "\n",
    "import os\n",
    "import pandas as pd\n",
    "\n"
   ]
  },
  {
   "cell_type": "markdown",
   "metadata": {},
   "source": [
    "Here is what the documentation + code looks like for Card:"
   ]
  },
  {
   "cell_type": "code",
   "execution_count": 4,
   "metadata": {},
   "outputs": [
    {
     "output_type": "stream",
     "name": "stdout",
     "text": [
      "/media/mycloud/My Pictures\n['Pics_20120130', 'My Scans', 'IPhone_Mama_FOTOS', '27.09.04', 'TMP', 'Oma und Opa', 'Album Art', 'MCC Opening Mexico', 'iCloud Photos', 'Hochzeit', 'Galaxy Note II', 'Family', 'Casamento Andreia', 'BlackBerry', 'Arthur', 'Andrea Haus', 'Ana', 'Aline', '2006_11_25', '2006_11_20', '2006_11_09', 'moved_from_root', 'Saved Pictures', 'ControlCenter4', 'Camera Roll', 'Angelina']\n['WirthFamily.JPG', 'TralhandonaSAP.JPG', 'Tchu.JPG', 'Tchu&Rosinha.JPG', 'Tchu e eu.JPG', 'Rosinha.JPG', 'portugueiz.jpg', 'foto.JPG', 'Procuração Ana Cláudia.doc', 'photo.JPG', 'Pernilzinho.JPG', 'Pernil.JPG', 'Passport_foto-p1.jpg', 'Passbild_Alois-p1.jpg', 'OlhinhosdeSono.JPG', 'OFotografo3.JPG', 'OFotografo2.JPG', 'OFotografo.JPG', 'meninas_aprontando.jpg', 'Malaga_sol.jpg', 'LunchnaSAP.JPG', 'LunchatSAP.JPG', 'MCC_SOS_App_Favicon.png', 'IMG_1898.jpg', 'IMG00347-20130214-0905.jpg', 'IMG_0830.JPG', 'Hannah&Judith.JPG', 'foto (2).JPG', 'Fot5A9759.jpg', 'Fot2A9759.jpg', 'Fot1A9759.jpg', 'DKC_0009.JPG', 'Cano_quebrado2.jpg', 'Cano_quebrado.jpg', 'Declaracao Alois.doc', 'Boletim_Arthur_201306.jpg', 'Ana1997.jpg', 'Altes_foto_Alois.gif', 'Alois.jpg', 'IMG_1897.jpg', 'Canguru.zip', 'A Fotografa.JPG', 'Global_ST_Prediction.png', '0B860F73-7790-4232-BF36-92C7BCB6DAEA.heic', 'Timeout_parameter_SCP.png', 'thumbnail.webp', 'Big_data1.jpg', '90D0B590-F3D5-49E5-9B46-3AB804D35553.heic', '8C983E98-4F32-434F-8D83-C0571A267284_1_102_o.jpeg', '4EEED75F-A149-48B2-B107-AAAC3858BDD6.heic', '42704333-FABB-49E6-B93F-D17F5D0CBB93.heic', '17F0230E-2C49-43EF-AB59-D3DE39E45A9C.heic', 'IMG_0499.PNG', 'IMG_2511.JPG', 'Alyssa 20180604_064136.jpg', 'IMG_0471.PNG', 'IMG_0373.PNG', 'IMG_0476.PNG', 'IMG_0753.PNG', 'IMG_0397.PNG', 'IMG_2517.JPG', 'IMG_1820.JPG', 'IMG_2705.JPG', 'IMG_0459.JPG', 'IMG_0580.PNG', 'IMG_0455.PNG', 'IMG_2376.JPG', 'IMG_3016.JPG', 'IMG-20180823-WA0008.jpg', 'IMG_2115.JPG', 'IMG_0050.MOV', 'IMG_0464.PNG', 'IMG_3037.JPG', 'IMG_0456.PNG', 'IMG_0751.PNG', 'IMG_2379.JPG', 'IMG_0469.PNG', 'IMG_0726.PNG', 'IMG_0513.PNG', '3F310FC3-AEE6-4AC0-92D0-D23660BB7B29-1568-000004DD7659344A.jpg', 'IMG_0733.PNG', 'IMG_3041.JPG', 'IMG_2748.JPG', 'IMG_2130.JPG', 'IMG_2195.JPG', 'c7c54e31-2d75-4b71-b550-819763395698.jpg', 'IMG_1809.JPG', 'IMG_0694.PNG', 'IMG_2010.JPG', 'IMG_2016.JPG', 'IMG_2737.JPG', 'IMG_2514.JPG', 'IMG_0670.PNG', 'IMG_2713.JPG', 'IMG_2742.JPG', 'IMG_0627.PNG', 'IMG_0666.PNG', 'IMG_0693.PNG', 'IMG_0392.PNG', 'IMG_0585.PNG', 'IMG_0632.PNG', 'IMG_0003.JPG', 'IMG_0732.PNG', 'IMG_0502.PNG', 'IMG_0363.PNG', 'IMG_3096.JPG', 'IMG_0602.PNG', 'IMG_1765.JPG', 'IMG_3068.JPG', 'IMG_0435.JPG', 'IMG_0797.JPG', 'IMG_0453.PNG', 'IMG_0633.PNG', 'IMG_0544.PNG', 'IMG_2682.JPG', 'IMG_0702.PNG', 'IMG_3005.JPG', 'e0330166-87d3-45eb-a863-6ff4bbe7ad19.jpg', 'IMG_0542.PNG', 'IMG_2426.JPG', 'IMG-20181130-WA0004.jpg', 'IMG_0495.PNG', 'IMG_2490.JPG', 'IMG_0620.PNG', '09E0E267-2BD3-447A-AAAD-24426CB70733-1568-000004D6009BCC53.jpg', 'IMG_2782.JPG', 'IMG_3028.JPG', 'IMG_0437.JPG', 'IMG_0529.PNG', 'IMG_0049.JPG', 'IMG_2487.JPG', 'IMG_0576.PNG', '1dc00e8c-a937-4e8b-a730-e1821fc35be2.jpg', 'IMG_0451.PNG', 'IMG_2092.JPG', 'IMG_1995.JPG', 'IMG_2783.JPG', 'IMG_0622.JPG', 'IMG_0591.PNG', 'IMG_0728.PNG', 'IMG_0618.PNG', 'IMG_0583.PNG', 'IMG_2438.JPG', 'IMG_0538.PNG', 'IMG_0372.PNG', 'IMG_2123.JPG', 'IMG_0686.PNG', 'IMG_2704.JPG', 'IMG_0496.PNG', 'IMG_2116.JPG', 'IMG_3013.JPG', 'IMG_0599.PNG', '987BFA32-8509-416C-9598-614DF2DA1B7B.JPG', 'IMG_0679.PNG', 'IMG_0677.JPG', 'Titelloses 23_20200328203237.png', 'IMG_0567.PNG', 'IMG_0701.PNG', 'IMG_0553.PNG', 'IMG_3076.JPG', 'IMG_0470.PNG', 'IMG_2420.JPG', 'IMG_3074.JPG', 'IMG_0734.PNG', 'IMG-20180807-WA0003.jpg', 'IMG_3024.JPG', 'IMG_0656.MOV', 'IMG_0749.PNG', 'IMG_2792.JPG', 'IMG_0569.PNG', 'IMG_0715.PNG', 'IMG_2496.JPG', 'IMG_0536.PNG', 'IMG_2702.JPG', 'IMG-20180823-WA0001.jpg', 'IMG_3039.JPG', 'IMG_0676.JPG', 'IMG_0510.PNG', 'IMG_3033.JPG', 'IMG_0433.JPG', 'IMG_2435.JPG', 'IMG_0035.JPG', 'IMG_0546.PNG', '9f3a2bfd-1fed-43b8-9e4a-d21ecaa36c18.jpg', 'IMG_0628.PNG', 'IMG_0609.PNG', 'IMG_0509.PNG', 'IMG_0795.JPG', '9ab54848-673a-4ddb-81a8-aef60de90a91.jpg', 'IMG_2498.JPG', 'IMG_3029.JPG', 'IMG_0616.PNG', 'IMG_2473.JPG', 'IMG_0718.PNG', 'IMG_0727.PNG', 'IMG_0407.PNG', 'IMG_0607.PNG', 'IMG_0505.PNG', 'IMG_0539.PNG', 'IMG_3079.JPG', 'ad11d67c-ee42-44d3-9266-0dba4c08b9ab.jpg', 'IMG_0712.PNG', 'IMG_0519.PNG', 'IMG_0545.PNG', 'IMG_0764.PNG', 'IMG_2780.JPG', 'IMG_0587.PNG', 'IMG_2017.JPG', 'IMG-20181112-WA0002.jpg', 'IMG_0434.JPG', 'IMG_0398.PNG', 'IMG_2738.JPG', 'IMG_2493.JPG', 'IMG_0698.PNG', 'IMG_2794.JPG', 'IMG_3048.JPG', 'IMG_2020.JPG', 'IMG_3002.JPG', 'IMG_3003.JPG', 'IMG_2008.JPG', 'IMG_0590.PNG', 'IMG_3089.JPG', 'IMG_3083.JPG', 'IMG_3044.JPG', 'IMG_3105.JPG', 'IMG_2736.JPG', 'IMG_0512.PNG', 'IMG_0418.JPG', 'IMG_0530.PNG', 'IMG_0668.PNG', 'IMG_0699.PNG', 'IMG_0721.PNG', 'IMG_0487.PNG', 'IMG_2032.JPG', 'IMG_2423.JPG', 'IMG_2120.JPG', 'IMG_2740.JPG', 'IMG_1813.JPG', 'IMG_2022.JPG', 'IMG_0625.JPG', 'IMG_2758.JPG', 'IMG_1994.JPG', 'IMG_0374.PNG', 'IMG_3010.JPG', 'IMG_3106.JPG', 'IMG-20180823-WA0003.jpg', 'IMG_2744.JPG', 'IMG_0581.PNG', 'IMG_0452.PNG', 'IMG_2429.JPG', 'IMG_0598.PNG', 'IMG_2031.JPG', 'IMG_0419.JPG', 'IMG_2015.JPG', 'IMG_0551.JPG', 'IMG_0413.JPG', 'IMG_0098.JPG', 'IMG_0548.PNG', 'IMG_0046.JPG', 'IMG_2078.JPG', 'IMG_0688.PNG', 'IMG-20181112-WA0040.jpg', 'IMG_0742.PNG', 'IMG_2513.JPG', 'IMG_0745.PNG', 'IMG_1808.JPG', 'IMG_3069.JPG', 'IMG_0524.PNG', 'IMG_0717.PNG', 'IMG_3107.JPG', 'IMG_0454.PNG', 'pic.JPG', 'IMG_1927.JPG', 'IMG_2421.JPG', 'IMG_2774.JPG', 'IMG_2362.JPG', 'IMG_3051.JPG', 'IMG_2377.JPG', 'IMG_0600.PNG', 'IMG_2427.JPG', 'IMG_2012.JPG', 'IMG_0603.PNG', 'IMG_2422.JPG', 'IMG_3095.JPG', 'IMG_0486.PNG', 'IMG_0489.PNG', 'IMG_0586.PNG', 'IMG-20181030-WA0000.jpg', '1fdac876-e679-46fa-92c4-e20c282531ff.jpg', 'IMG_0665.PNG', 'IMG_2707.JPG', 'IMG_0671.PNG', 'IMG_0592.PNG', 'IMG_0403.PNG', 'IMG_0446.JPG', 'IMG_0412.PNG', 'IMG_0723.PNG', 'IMG_3081.JPG', '09EA583D-2AC3-46F0-87A5-A4391CDA1FE3-1568-000004DA1E3107CF.jpg', 'IMG_0597.PNG', 'IMG_2025.JPG', 'IMG_0528.PNG', 'IMG_0099.JPG', 'IMG_0449.PNG', 'IMG_1815.JPG', 'IMG_0483.JPG', 'IMG_0748.PNG', '539E063B-B382-4006-ABF9-CB193FB2C0E3-711-00000064BA2F0089.jpg', 'IMG_1301.JPG', 'IMG_2389.JPG', '91FEE659-1C64-4FBD-80AF-3F0ED4B52439-1568-000004DA4A656C1B.jpg', 'IMG_2365.JPG', 'IMG_2522.JPG', 'IMG_0729.PNG', 'IMG_2034.JPG', 'IMG_0724.PNG', 'IMG_0700.PNG', 'IMG_0747.PNG', '1e1049bd-d62e-4bd9-9b45-6a2fc81ce18b.jpg', 'IMG_3077.JPG', '6AFC5546-2530-4826-BB4F-88FCE7A3A673-638-0000004F85D36A1D.jpg', 'IMG_0655.MOV', 'IMG_3050.JPG', 'IMG_1056.JPG', 'IMG_3008.JPG', 'IMG_0047.MOV', 'IMG_2760.JPG', 'IMG_0683.PNG', 'IMG_0574.PNG', 'IMG_2013.JPG', 'IMG_1877.JPG', 'IMG_0722.PNG', 'IMG_1055.JPG', 'IMG_0508.PNG', 'IMG_4330.HEIC', 'IMG_1811.JPG', 'IMG_2394.JPG', '64AA2C01-419F-4164-84A1-C22D6F81350D-1568-000004DAAD30E906.jpg', 'IMG_0051.JPG', '290f245a-b94d-49e4-b99a-92d0d03062f1.jpg', 'IMG_2708.JPG']\n"
     ]
    }
   ],
   "source": [
    "directory = r\"/media/mycloud/My Pictures\"\n",
    "\n",
    "for (dirpath, dirnames, filenames) in os.walk(directory):\n",
    "    print(dirpath)\n",
    "    print(dirnames)\n",
    "    print(filenames)\n",
    "    break"
   ]
  },
  {
   "cell_type": "code",
   "execution_count": 6,
   "metadata": {},
   "outputs": [
    {
     "output_type": "execute_result",
     "data": {
      "text/plain": [
       "                                              pictures  \\\n",
       "0                                      WirthFamily.JPG   \n",
       "1                                   TralhandonaSAP.JPG   \n",
       "2                                             Tchu.JPG   \n",
       "3                                     Tchu&Rosinha.JPG   \n",
       "4                                        Tchu e eu.JPG   \n",
       "..                                                 ...   \n",
       "336                                       IMG_2394.JPG   \n",
       "337  64AA2C01-419F-4164-84A1-C22D6F81350D-1568-0000...   \n",
       "338                                       IMG_0051.JPG   \n",
       "339           290f245a-b94d-49e4-b99a-92d0d03062f1.jpg   \n",
       "340                                       IMG_2708.JPG   \n",
       "\n",
       "                          paths  \n",
       "0    /media/mycloud/My Pictures  \n",
       "1    /media/mycloud/My Pictures  \n",
       "2    /media/mycloud/My Pictures  \n",
       "3    /media/mycloud/My Pictures  \n",
       "4    /media/mycloud/My Pictures  \n",
       "..                          ...  \n",
       "336  /media/mycloud/My Pictures  \n",
       "337  /media/mycloud/My Pictures  \n",
       "338  /media/mycloud/My Pictures  \n",
       "339  /media/mycloud/My Pictures  \n",
       "340  /media/mycloud/My Pictures  \n",
       "\n",
       "[341 rows x 2 columns]"
      ],
      "text/html": "<div>\n<style scoped>\n    .dataframe tbody tr th:only-of-type {\n        vertical-align: middle;\n    }\n\n    .dataframe tbody tr th {\n        vertical-align: top;\n    }\n\n    .dataframe thead th {\n        text-align: right;\n    }\n</style>\n<table border=\"1\" class=\"dataframe\">\n  <thead>\n    <tr style=\"text-align: right;\">\n      <th></th>\n      <th>pictures</th>\n      <th>paths</th>\n    </tr>\n  </thead>\n  <tbody>\n    <tr>\n      <th>0</th>\n      <td>WirthFamily.JPG</td>\n      <td>/media/mycloud/My Pictures</td>\n    </tr>\n    <tr>\n      <th>1</th>\n      <td>TralhandonaSAP.JPG</td>\n      <td>/media/mycloud/My Pictures</td>\n    </tr>\n    <tr>\n      <th>2</th>\n      <td>Tchu.JPG</td>\n      <td>/media/mycloud/My Pictures</td>\n    </tr>\n    <tr>\n      <th>3</th>\n      <td>Tchu&amp;Rosinha.JPG</td>\n      <td>/media/mycloud/My Pictures</td>\n    </tr>\n    <tr>\n      <th>4</th>\n      <td>Tchu e eu.JPG</td>\n      <td>/media/mycloud/My Pictures</td>\n    </tr>\n    <tr>\n      <th>...</th>\n      <td>...</td>\n      <td>...</td>\n    </tr>\n    <tr>\n      <th>336</th>\n      <td>IMG_2394.JPG</td>\n      <td>/media/mycloud/My Pictures</td>\n    </tr>\n    <tr>\n      <th>337</th>\n      <td>64AA2C01-419F-4164-84A1-C22D6F81350D-1568-0000...</td>\n      <td>/media/mycloud/My Pictures</td>\n    </tr>\n    <tr>\n      <th>338</th>\n      <td>IMG_0051.JPG</td>\n      <td>/media/mycloud/My Pictures</td>\n    </tr>\n    <tr>\n      <th>339</th>\n      <td>290f245a-b94d-49e4-b99a-92d0d03062f1.jpg</td>\n      <td>/media/mycloud/My Pictures</td>\n    </tr>\n    <tr>\n      <th>340</th>\n      <td>IMG_2708.JPG</td>\n      <td>/media/mycloud/My Pictures</td>\n    </tr>\n  </tbody>\n</table>\n<p>341 rows × 2 columns</p>\n</div>"
     },
     "metadata": {},
     "execution_count": 6
    }
   ],
   "source": [
    "data = {\n",
    "    'pictures': filenames,\n",
    "    'paths': dirpath\n",
    "}\n",
    "\n",
    "df = pd.DataFrame(data)\n",
    "df"
   ]
  },
  {
   "cell_type": "code",
   "execution_count": 10,
   "metadata": {
    "tags": []
   },
   "outputs": [
    {
     "output_type": "stream",
     "name": "stdout",
     "text": [
      "367\n367\n"
     ]
    }
   ],
   "source": [
    "stat_data = []\n",
    "entry_data = []\n",
    "with os.scandir(directory) as dir_content:\n",
    "    for entry in dir_content:\n",
    "        info = entry.stat()        \n",
    "        stat_data.append(info)\n",
    "        entry_data.append(entry)\n",
    "\n",
    "print(len(stat_data))\n",
    "print(len(entry_data))"
   ]
  },
  {
   "cell_type": "code",
   "execution_count": 11,
   "metadata": {},
   "outputs": [
    {
     "output_type": "execute_result",
     "data": {
      "text/plain": [
       "                                                     0      0          1   2  \\\n",
       "0                           <DirEntry 'Pics_20120130'>  16877  157988103  79   \n",
       "1                                <DirEntry 'My Scans'>  16877  158907182  79   \n",
       "2                       <DirEntry 'IPhone_Mama_FOTOS'>  16877  158907185  79   \n",
       "3                                <DirEntry '27.09.04'>  16877  158907189  79   \n",
       "4                                     <DirEntry 'TMP'>  16877  158907194  79   \n",
       "..                                                 ...    ...        ...  ..   \n",
       "362                          <DirEntry 'IMG_2394.JPG'>  33261  157631698  79   \n",
       "363  <DirEntry '64AA2C01-419F-4164-84A1-C22D6F81350...  33261  157631699  79   \n",
       "364                          <DirEntry 'IMG_0051.JPG'>  33261  157631700  79   \n",
       "365  <DirEntry '290f245a-b94d-49e4-b99a-92d0d03062f...  33261  157631701  79   \n",
       "366                          <DirEntry 'IMG_2708.JPG'>  33261  157631702  79   \n",
       "\n",
       "     3  4  5        6           7           8           9  \n",
       "0    2  0  0        0  1547898654  1547898654  1547898654  \n",
       "1    2  0  0        0  1547899900  1547899900  1547899900  \n",
       "2    2  0  0        0  1547899519  1547899519  1547899519  \n",
       "3    2  0  0        0  1547899894  1547899894  1547899894  \n",
       "4    2  0  0        0  1589826397  1589826397  1589826397  \n",
       "..  .. .. ..      ...         ...         ...         ...  \n",
       "362  1  0  0    21907  1580295076  1580295076  1580295076  \n",
       "363  1  0  0    32829  1582990726  1582990726  1582990726  \n",
       "364  1  0  0  3432385  1533476216  1533476216  1533476216  \n",
       "365  1  0  0    99750  1553886249  1553886249  1553886249  \n",
       "366  1  0  0    51832  1585236358  1585236358  1585236358  \n",
       "\n",
       "[367 rows x 11 columns]"
      ],
      "text/html": "<div>\n<style scoped>\n    .dataframe tbody tr th:only-of-type {\n        vertical-align: middle;\n    }\n\n    .dataframe tbody tr th {\n        vertical-align: top;\n    }\n\n    .dataframe thead th {\n        text-align: right;\n    }\n</style>\n<table border=\"1\" class=\"dataframe\">\n  <thead>\n    <tr style=\"text-align: right;\">\n      <th></th>\n      <th>0</th>\n      <th>0</th>\n      <th>1</th>\n      <th>2</th>\n      <th>3</th>\n      <th>4</th>\n      <th>5</th>\n      <th>6</th>\n      <th>7</th>\n      <th>8</th>\n      <th>9</th>\n    </tr>\n  </thead>\n  <tbody>\n    <tr>\n      <th>0</th>\n      <td>&lt;DirEntry 'Pics_20120130'&gt;</td>\n      <td>16877</td>\n      <td>157988103</td>\n      <td>79</td>\n      <td>2</td>\n      <td>0</td>\n      <td>0</td>\n      <td>0</td>\n      <td>1547898654</td>\n      <td>1547898654</td>\n      <td>1547898654</td>\n    </tr>\n    <tr>\n      <th>1</th>\n      <td>&lt;DirEntry 'My Scans'&gt;</td>\n      <td>16877</td>\n      <td>158907182</td>\n      <td>79</td>\n      <td>2</td>\n      <td>0</td>\n      <td>0</td>\n      <td>0</td>\n      <td>1547899900</td>\n      <td>1547899900</td>\n      <td>1547899900</td>\n    </tr>\n    <tr>\n      <th>2</th>\n      <td>&lt;DirEntry 'IPhone_Mama_FOTOS'&gt;</td>\n      <td>16877</td>\n      <td>158907185</td>\n      <td>79</td>\n      <td>2</td>\n      <td>0</td>\n      <td>0</td>\n      <td>0</td>\n      <td>1547899519</td>\n      <td>1547899519</td>\n      <td>1547899519</td>\n    </tr>\n    <tr>\n      <th>3</th>\n      <td>&lt;DirEntry '27.09.04'&gt;</td>\n      <td>16877</td>\n      <td>158907189</td>\n      <td>79</td>\n      <td>2</td>\n      <td>0</td>\n      <td>0</td>\n      <td>0</td>\n      <td>1547899894</td>\n      <td>1547899894</td>\n      <td>1547899894</td>\n    </tr>\n    <tr>\n      <th>4</th>\n      <td>&lt;DirEntry 'TMP'&gt;</td>\n      <td>16877</td>\n      <td>158907194</td>\n      <td>79</td>\n      <td>2</td>\n      <td>0</td>\n      <td>0</td>\n      <td>0</td>\n      <td>1589826397</td>\n      <td>1589826397</td>\n      <td>1589826397</td>\n    </tr>\n    <tr>\n      <th>...</th>\n      <td>...</td>\n      <td>...</td>\n      <td>...</td>\n      <td>...</td>\n      <td>...</td>\n      <td>...</td>\n      <td>...</td>\n      <td>...</td>\n      <td>...</td>\n      <td>...</td>\n      <td>...</td>\n    </tr>\n    <tr>\n      <th>362</th>\n      <td>&lt;DirEntry 'IMG_2394.JPG'&gt;</td>\n      <td>33261</td>\n      <td>157631698</td>\n      <td>79</td>\n      <td>1</td>\n      <td>0</td>\n      <td>0</td>\n      <td>21907</td>\n      <td>1580295076</td>\n      <td>1580295076</td>\n      <td>1580295076</td>\n    </tr>\n    <tr>\n      <th>363</th>\n      <td>&lt;DirEntry '64AA2C01-419F-4164-84A1-C22D6F81350...</td>\n      <td>33261</td>\n      <td>157631699</td>\n      <td>79</td>\n      <td>1</td>\n      <td>0</td>\n      <td>0</td>\n      <td>32829</td>\n      <td>1582990726</td>\n      <td>1582990726</td>\n      <td>1582990726</td>\n    </tr>\n    <tr>\n      <th>364</th>\n      <td>&lt;DirEntry 'IMG_0051.JPG'&gt;</td>\n      <td>33261</td>\n      <td>157631700</td>\n      <td>79</td>\n      <td>1</td>\n      <td>0</td>\n      <td>0</td>\n      <td>3432385</td>\n      <td>1533476216</td>\n      <td>1533476216</td>\n      <td>1533476216</td>\n    </tr>\n    <tr>\n      <th>365</th>\n      <td>&lt;DirEntry '290f245a-b94d-49e4-b99a-92d0d03062f...</td>\n      <td>33261</td>\n      <td>157631701</td>\n      <td>79</td>\n      <td>1</td>\n      <td>0</td>\n      <td>0</td>\n      <td>99750</td>\n      <td>1553886249</td>\n      <td>1553886249</td>\n      <td>1553886249</td>\n    </tr>\n    <tr>\n      <th>366</th>\n      <td>&lt;DirEntry 'IMG_2708.JPG'&gt;</td>\n      <td>33261</td>\n      <td>157631702</td>\n      <td>79</td>\n      <td>1</td>\n      <td>0</td>\n      <td>0</td>\n      <td>51832</td>\n      <td>1585236358</td>\n      <td>1585236358</td>\n      <td>1585236358</td>\n    </tr>\n  </tbody>\n</table>\n<p>367 rows × 11 columns</p>\n</div>"
     },
     "metadata": {},
     "execution_count": 11
    }
   ],
   "source": [
    "df1 = pd.DataFrame(entry_data)\n",
    "df2 = pd.DataFrame(stat_data)\n",
    "df = pd.concat([df1, df2], axis =1)\n",
    "df"
   ]
  },
  {
   "cell_type": "code",
   "execution_count": null,
   "metadata": {},
   "outputs": [],
   "source": []
  }
 ],
 "metadata": {
  "kernelspec": {
   "name": "python3",
   "display_name": "Python 3.9.5 64-bit"
  },
  "language_info": {
   "name": "python",
   "version": "3.9.5"
  },
  "interpreter": {
   "hash": "f9f85f796d01129d0dd105a088854619f454435301f6ffec2fea96ecbd9be4ac"
  }
 },
 "nbformat": 4,
 "nbformat_minor": 4
}