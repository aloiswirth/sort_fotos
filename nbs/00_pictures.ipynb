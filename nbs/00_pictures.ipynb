{
 "cells": [
  {
   "cell_type": "code",
   "execution_count": 2,
   "metadata": {},
   "outputs": [],
   "source": [
    "# default_exp pictures"
   ]
  },
  {
   "cell_type": "markdown",
   "metadata": {},
   "source": [
    "# Pictures\n",
    "\n",
    ">  Create List with all pictures\n",
    "\n",
    "Will use a csv file to store the list data"
   ]
  },
  {
   "cell_type": "code",
   "execution_count": 3,
   "metadata": {},
   "outputs": [],
   "source": [
    "#hide\n",
    "from nbdev.showdoc import *"
   ]
  },
  {
   "cell_type": "code",
   "execution_count": 4,
   "metadata": {},
   "outputs": [],
   "source": [
    "#export \n",
    "\n",
    "import os\n",
    "import pandas as pd\n",
    "from os.path import isfile, join\n"
   ]
  },
  {
   "cell_type": "markdown",
   "metadata": {},
   "source": [
    "The first step is to get all directories. The reason for this is that the same photo might be stored in different directories. But there also might be photos with the same name but with different content. We will need to compare all photos with the same name in the different directories.  \n",
    "Therefore we start in building a pandas DataFrame with all essential data.  \n",
    "\n",
    "It will contain the directory, the file name, the size and the different time stamps. If this information is not sufficient we will also need to read the picture pixel by pixel and compare. "
   ]
  },
  {
   "cell_type": "markdown",
   "metadata": {},
   "source": [
    "We now start with the directory list. The root is the mapped MyCloud fileserver with the \"My Pictures\" folder. We will create an iteratively created list of subdirectories and append them to 'my_Dirs'."
   ]
  },
  {
   "cell_type": "code",
   "execution_count": 5,
   "metadata": {},
   "outputs": [],
   "source": [
    "#export\n",
    "\n",
    "mypath = r\"/media/mycloud/My Pictures\"\n",
    "\n",
    "def fast_scandir(dirname):\n",
    "    subfolders= [f.path for f in os.scandir(dirname) if f.is_dir()]\n",
    "    for dirname in list(subfolders):\n",
    "        subfolders.extend(fast_scandir(dirname))\n",
    "    return subfolders\n",
    "my_Dirs = fast_scandir(mypath)"
   ]
  },
  {
   "cell_type": "code",
   "execution_count": 6,
   "metadata": {},
   "outputs": [
    {
     "name": "stdout",
     "output_type": "stream",
     "text": [
      "76\n",
      "/media/mycloud/My Pictures/Pics_20120130\n",
      "/media/mycloud/My Pictures/My Scans\n",
      "/media/mycloud/My Pictures/IPhone_Mama_FOTOS\n",
      "/media/mycloud/My Pictures/27.09.04\n",
      "/media/mycloud/My Pictures/TMP\n",
      "/media/mycloud/My Pictures/Oma und Opa\n",
      "/media/mycloud/My Pictures/Album Art\n",
      "/media/mycloud/My Pictures/MCC Opening Mexico\n",
      "/media/mycloud/My Pictures/iCloud Photos\n",
      "/media/mycloud/My Pictures/Hochzeit\n",
      "/media/mycloud/My Pictures/Galaxy Note II\n",
      "/media/mycloud/My Pictures/Family\n",
      "/media/mycloud/My Pictures/Casamento Andreia\n",
      "/media/mycloud/My Pictures/BlackBerry\n",
      "/media/mycloud/My Pictures/Arthur\n",
      "/media/mycloud/My Pictures/Andrea Haus\n",
      "/media/mycloud/My Pictures/Ana\n",
      "/media/mycloud/My Pictures/Aline\n",
      "/media/mycloud/My Pictures/2006_11_25\n",
      "/media/mycloud/My Pictures/2006_11_20\n",
      "/media/mycloud/My Pictures/2006_11_09\n",
      "/media/mycloud/My Pictures/moved_from_root\n",
      "/media/mycloud/My Pictures/Saved Pictures\n",
      "/media/mycloud/My Pictures/ControlCenter4\n",
      "/media/mycloud/My Pictures/Camera Roll\n",
      "/media/mycloud/My Pictures/Angelina\n",
      "/media/mycloud/My Pictures/Pics_20120130/DCIM\n",
      "/media/mycloud/My Pictures/Pics_20120130/DCIM/100D5000\n",
      "/media/mycloud/My Pictures/My Scans/2008-12 (Dez)\n",
      "/media/mycloud/My Pictures/My Scans/2008-11 (Nov)\n",
      "/media/mycloud/My Pictures/IPhone_Mama_FOTOS/108APPLE\n",
      "/media/mycloud/My Pictures/IPhone_Mama_FOTOS/107APPLE\n",
      "/media/mycloud/My Pictures/IPhone_Mama_FOTOS/106APPLE\n",
      "/media/mycloud/My Pictures/27.09.04/CD4\n",
      "/media/mycloud/My Pictures/27.09.04/CD3\n",
      "/media/mycloud/My Pictures/27.09.04/CD2\n",
      "/media/mycloud/My Pictures/27.09.04/CD1\n",
      "/media/mycloud/My Pictures/Album Art/Various Artists\n",
      "/media/mycloud/My Pictures/Album Art/Van Morrison\n",
      "/media/mycloud/My Pictures/Album Art/Tom Jones\n",
      "/media/mycloud/My Pictures/Album Art/steve Winwood\n",
      "/media/mycloud/My Pictures/Album Art/Slovak Symphony Orchester\n",
      "/media/mycloud/My Pictures/Album Art/Slovak Chamber Orchestra\n",
      "/media/mycloud/My Pictures/Album Art/Simply Red\n",
      "/media/mycloud/My Pictures/Album Art/Schubert\n",
      "/media/mycloud/My Pictures/Album Art/Radio Bratislava Symphony Orchestra\n",
      "/media/mycloud/My Pictures/Album Art/Pearl Jam\n",
      "/media/mycloud/My Pictures/Album Art/Midnight Oil\n",
      "/media/mycloud/My Pictures/Album Art/Frederic Chopin\n",
      "/media/mycloud/My Pictures/Album Art/Des'ree\n",
      "/media/mycloud/My Pictures/Album Art/culcha candela\n",
      "/media/mycloud/My Pictures/Album Art/Anna Maria Kaufmann\n",
      "/media/mycloud/My Pictures/Album Art/Alfred Scholz\n",
      "/media/mycloud/My Pictures/Album Art/Slovak Philharmonic Orchestra\n",
      "/media/mycloud/My Pictures/Album Art/Various Artists/Os mais belos classicos\n",
      "/media/mycloud/My Pictures/Album Art/Van Morrison/Open Air Festival Loreley1999\n",
      "/media/mycloud/My Pictures/Album Art/Tom Jones/the Ultimate hit collection\n",
      "/media/mycloud/My Pictures/Album Art/steve Winwood/Chronicles\n",
      "/media/mycloud/My Pictures/Album Art/Slovak Symphony Orchester/Tchaikovsky\n",
      "/media/mycloud/My Pictures/Album Art/Slovak Chamber Orchestra/Johann Sebastian Bach\n",
      "/media/mycloud/My Pictures/Album Art/Simply Red/Greatest Hits\n",
      "/media/mycloud/My Pictures/Album Art/Schubert/Symphony #5 & 8\n",
      "/media/mycloud/My Pictures/Album Art/Radio Bratislava Symphony Orchestra/Tchaikovski Ballet Suites\n",
      "/media/mycloud/My Pictures/Album Art/Radio Bratislava Symphony Orchestra/Brahms Grieg Berlioz\n",
      "/media/mycloud/My Pictures/Album Art/Pearl Jam/Binaural\n",
      "/media/mycloud/My Pictures/Album Art/Midnight Oil/20000 Watts\n",
      "/media/mycloud/My Pictures/Album Art/Frederic Chopin/Frederic Chopin\n",
      "/media/mycloud/My Pictures/Album Art/Des'ree/I Ain't Moving\n",
      "/media/mycloud/My Pictures/Album Art/culcha candela/das beste\n",
      "/media/mycloud/My Pictures/Album Art/Anna Maria Kaufmann/Das andere Leben\n",
      "/media/mycloud/My Pictures/Album Art/Alfred Scholz/Popular Overtures\n",
      "/media/mycloud/My Pictures/iCloud Photos/Uploads\n",
      "/media/mycloud/My Pictures/ControlCenter4/SharePoint\n",
      "/media/mycloud/My Pictures/ControlCenter4/Scan\n",
      "/media/mycloud/My Pictures/ControlCenter4/OCR\n",
      "/media/mycloud/My Pictures/ControlCenter4/Email\n"
     ]
    }
   ],
   "source": [
    "#hide \n",
    "print(len(my_Dirs))\n",
    "for i in my_Dirs:\n",
    "    print(i)"
   ]
  },
  {
   "cell_type": "code",
   "execution_count": 7,
   "metadata": {},
   "outputs": [],
   "source": [
    "#export\n",
    "stat_data = []\n",
    "entry_data = []\n",
    "\n",
    "for dirname in my_Dirs:\n",
    "    with os.scandir(dirname) as dir_content:\n",
    "        for entry in dir_content:\n",
    "            if isfile(join(dirname, entry)):\n",
    "                info = entry.stat()        \n",
    "                stat_data.append(info)\n",
    "                entry_data.append([dirname, entry])"
   ]
  },
  {
   "cell_type": "code",
   "execution_count": 8,
   "metadata": {},
   "outputs": [
    {
     "name": "stdout",
     "output_type": "stream",
     "text": [
      "6027\n",
      "6027\n",
      "[['/media/mycloud/My Pictures/Oma und Opa', <DirEntry 'P9020041.JPG'>], ['/media/mycloud/My Pictures/MCC Opening Mexico', <DirEntry 'IMG_0426.jpg'>], ['/media/mycloud/My Pictures/MCC Opening Mexico', <DirEntry 'IMG_0419.jpg'>], ['/media/mycloud/My Pictures/MCC Opening Mexico', <DirEntry 'IMG_0415.jpg'>], ['/media/mycloud/My Pictures/MCC Opening Mexico', <DirEntry 'IMG_0403.jpg'>], ['/media/mycloud/My Pictures/MCC Opening Mexico', <DirEntry 'IMG_0398.jpg'>], ['/media/mycloud/My Pictures/MCC Opening Mexico', <DirEntry 'IMG_0363.jpg'>], ['/media/mycloud/My Pictures/MCC Opening Mexico', <DirEntry 'IMG_0359.jpg'>], ['/media/mycloud/My Pictures/MCC Opening Mexico', <DirEntry 'IMG_0340.jpg'>], ['/media/mycloud/My Pictures/MCC Opening Mexico', <DirEntry 'IMG_0322.jpg'>]]\n"
     ]
    }
   ],
   "source": [
    "#hide\n",
    "print(len(stat_data))\n",
    "print(len(entry_data))\n",
    "\n",
    "print(entry_data[50:60])"
   ]
  },
  {
   "cell_type": "code",
   "execution_count": 9,
   "metadata": {},
   "outputs": [],
   "source": [
    "#export\n",
    "df1 = pd.DataFrame(entry_data)"
   ]
  },
  {
   "cell_type": "code",
   "execution_count": 10,
   "metadata": {},
   "outputs": [
    {
     "data": {
      "text/html": [
       "<div>\n",
       "<style scoped>\n",
       "    .dataframe tbody tr th:only-of-type {\n",
       "        vertical-align: middle;\n",
       "    }\n",
       "\n",
       "    .dataframe tbody tr th {\n",
       "        vertical-align: top;\n",
       "    }\n",
       "\n",
       "    .dataframe thead th {\n",
       "        text-align: right;\n",
       "    }\n",
       "</style>\n",
       "<table border=\"1\" class=\"dataframe\">\n",
       "  <thead>\n",
       "    <tr style=\"text-align: right;\">\n",
       "      <th></th>\n",
       "      <th>directory</th>\n",
       "      <th>file_name</th>\n",
       "    </tr>\n",
       "  </thead>\n",
       "  <tbody>\n",
       "    <tr>\n",
       "      <th>0</th>\n",
       "      <td>/media/mycloud/My Pictures/My Scans</td>\n",
       "      <td>&lt;DirEntry 'Val_Pagamento_2008_0008.jpg'&gt;</td>\n",
       "    </tr>\n",
       "    <tr>\n",
       "      <th>1</th>\n",
       "      <td>/media/mycloud/My Pictures/My Scans</td>\n",
       "      <td>&lt;DirEntry 'Val_Pagamento_2008_0007.jpg'&gt;</td>\n",
       "    </tr>\n",
       "    <tr>\n",
       "      <th>2</th>\n",
       "      <td>/media/mycloud/My Pictures/My Scans</td>\n",
       "      <td>&lt;DirEntry 'Val_Pagamento_2008_0006.jpg'&gt;</td>\n",
       "    </tr>\n",
       "    <tr>\n",
       "      <th>3</th>\n",
       "      <td>/media/mycloud/My Pictures/My Scans</td>\n",
       "      <td>&lt;DirEntry 'Val_Pagamento_2008_0005.jpg'&gt;</td>\n",
       "    </tr>\n",
       "    <tr>\n",
       "      <th>4</th>\n",
       "      <td>/media/mycloud/My Pictures/My Scans</td>\n",
       "      <td>&lt;DirEntry 'Val_Pagamento_2008_0004.jpg'&gt;</td>\n",
       "    </tr>\n",
       "  </tbody>\n",
       "</table>\n",
       "</div>"
      ],
      "text/plain": [
       "                             directory  \\\n",
       "0  /media/mycloud/My Pictures/My Scans   \n",
       "1  /media/mycloud/My Pictures/My Scans   \n",
       "2  /media/mycloud/My Pictures/My Scans   \n",
       "3  /media/mycloud/My Pictures/My Scans   \n",
       "4  /media/mycloud/My Pictures/My Scans   \n",
       "\n",
       "                                  file_name  \n",
       "0  <DirEntry 'Val_Pagamento_2008_0008.jpg'>  \n",
       "1  <DirEntry 'Val_Pagamento_2008_0007.jpg'>  \n",
       "2  <DirEntry 'Val_Pagamento_2008_0006.jpg'>  \n",
       "3  <DirEntry 'Val_Pagamento_2008_0005.jpg'>  \n",
       "4  <DirEntry 'Val_Pagamento_2008_0004.jpg'>  "
      ]
     },
     "execution_count": 10,
     "metadata": {},
     "output_type": "execute_result"
    }
   ],
   "source": [
    "df1.rename(columns={0: \"directory\", 1: \"file_name\"}, inplace=True)\n",
    "df1.head()"
   ]
  },
  {
   "cell_type": "code",
   "execution_count": 12,
   "metadata": {},
   "outputs": [],
   "source": [
    "#export\n",
    "df2 = pd.DataFrame(stat_data)\n",
    "df2.rename(columns={ 0 : \"st_mode\", 1: \"st_ino\", 2 : \"st_dev\", 3 : \"st_nlink\", 4 : \"st_uid\", 5: \"st_gid\",}, inplace=True) \n",
    "df2.rename(columns={ 6 : \"st_size\", 7 : \"st_atime\", 8 : \"st_mtime\", 9 : \"st_ctime\"}, inplace=True) "
   ]
  },
  {
   "cell_type": "code",
   "execution_count": 13,
   "metadata": {},
   "outputs": [
    {
     "data": {
      "text/html": [
       "<div>\n",
       "<style scoped>\n",
       "    .dataframe tbody tr th:only-of-type {\n",
       "        vertical-align: middle;\n",
       "    }\n",
       "\n",
       "    .dataframe tbody tr th {\n",
       "        vertical-align: top;\n",
       "    }\n",
       "\n",
       "    .dataframe thead th {\n",
       "        text-align: right;\n",
       "    }\n",
       "</style>\n",
       "<table border=\"1\" class=\"dataframe\">\n",
       "  <thead>\n",
       "    <tr style=\"text-align: right;\">\n",
       "      <th></th>\n",
       "      <th>directory</th>\n",
       "      <th>file_name</th>\n",
       "      <th>st_mode</th>\n",
       "      <th>st_ino</th>\n",
       "      <th>st_dev</th>\n",
       "      <th>st_nlink</th>\n",
       "      <th>st_uid</th>\n",
       "      <th>st_gid</th>\n",
       "      <th>st_size</th>\n",
       "      <th>st_atime</th>\n",
       "      <th>st_mtime</th>\n",
       "      <th>st_ctime</th>\n",
       "    </tr>\n",
       "  </thead>\n",
       "  <tbody>\n",
       "    <tr>\n",
       "      <th>0</th>\n",
       "      <td>/media/mycloud/My Pictures/My Scans</td>\n",
       "      <td>&lt;DirEntry 'Val_Pagamento_2008_0008.jpg'&gt;</td>\n",
       "      <td>33261</td>\n",
       "      <td>157615585</td>\n",
       "      <td>77</td>\n",
       "      <td>1</td>\n",
       "      <td>0</td>\n",
       "      <td>0</td>\n",
       "      <td>801274</td>\n",
       "      <td>1226915253</td>\n",
       "      <td>1226915253</td>\n",
       "      <td>1226915253</td>\n",
       "    </tr>\n",
       "    <tr>\n",
       "      <th>1</th>\n",
       "      <td>/media/mycloud/My Pictures/My Scans</td>\n",
       "      <td>&lt;DirEntry 'Val_Pagamento_2008_0007.jpg'&gt;</td>\n",
       "      <td>33261</td>\n",
       "      <td>157615586</td>\n",
       "      <td>77</td>\n",
       "      <td>1</td>\n",
       "      <td>0</td>\n",
       "      <td>0</td>\n",
       "      <td>826741</td>\n",
       "      <td>1226915162</td>\n",
       "      <td>1226915162</td>\n",
       "      <td>1226915162</td>\n",
       "    </tr>\n",
       "    <tr>\n",
       "      <th>2</th>\n",
       "      <td>/media/mycloud/My Pictures/My Scans</td>\n",
       "      <td>&lt;DirEntry 'Val_Pagamento_2008_0006.jpg'&gt;</td>\n",
       "      <td>33261</td>\n",
       "      <td>157615587</td>\n",
       "      <td>77</td>\n",
       "      <td>1</td>\n",
       "      <td>0</td>\n",
       "      <td>0</td>\n",
       "      <td>750390</td>\n",
       "      <td>1226915101</td>\n",
       "      <td>1226915101</td>\n",
       "      <td>1226915101</td>\n",
       "    </tr>\n",
       "    <tr>\n",
       "      <th>3</th>\n",
       "      <td>/media/mycloud/My Pictures/My Scans</td>\n",
       "      <td>&lt;DirEntry 'Val_Pagamento_2008_0005.jpg'&gt;</td>\n",
       "      <td>33261</td>\n",
       "      <td>157615588</td>\n",
       "      <td>77</td>\n",
       "      <td>1</td>\n",
       "      <td>0</td>\n",
       "      <td>0</td>\n",
       "      <td>783234</td>\n",
       "      <td>1226915046</td>\n",
       "      <td>1226915046</td>\n",
       "      <td>1226915046</td>\n",
       "    </tr>\n",
       "    <tr>\n",
       "      <th>4</th>\n",
       "      <td>/media/mycloud/My Pictures/My Scans</td>\n",
       "      <td>&lt;DirEntry 'Val_Pagamento_2008_0004.jpg'&gt;</td>\n",
       "      <td>33261</td>\n",
       "      <td>157615589</td>\n",
       "      <td>77</td>\n",
       "      <td>1</td>\n",
       "      <td>0</td>\n",
       "      <td>0</td>\n",
       "      <td>774076</td>\n",
       "      <td>1226914986</td>\n",
       "      <td>1226914986</td>\n",
       "      <td>1226914986</td>\n",
       "    </tr>\n",
       "  </tbody>\n",
       "</table>\n",
       "</div>"
      ],
      "text/plain": [
       "                             directory  \\\n",
       "0  /media/mycloud/My Pictures/My Scans   \n",
       "1  /media/mycloud/My Pictures/My Scans   \n",
       "2  /media/mycloud/My Pictures/My Scans   \n",
       "3  /media/mycloud/My Pictures/My Scans   \n",
       "4  /media/mycloud/My Pictures/My Scans   \n",
       "\n",
       "                                  file_name  st_mode     st_ino  st_dev  \\\n",
       "0  <DirEntry 'Val_Pagamento_2008_0008.jpg'>    33261  157615585      77   \n",
       "1  <DirEntry 'Val_Pagamento_2008_0007.jpg'>    33261  157615586      77   \n",
       "2  <DirEntry 'Val_Pagamento_2008_0006.jpg'>    33261  157615587      77   \n",
       "3  <DirEntry 'Val_Pagamento_2008_0005.jpg'>    33261  157615588      77   \n",
       "4  <DirEntry 'Val_Pagamento_2008_0004.jpg'>    33261  157615589      77   \n",
       "\n",
       "   st_nlink  st_uid  st_gid  st_size    st_atime    st_mtime    st_ctime  \n",
       "0         1       0       0   801274  1226915253  1226915253  1226915253  \n",
       "1         1       0       0   826741  1226915162  1226915162  1226915162  \n",
       "2         1       0       0   750390  1226915101  1226915101  1226915101  \n",
       "3         1       0       0   783234  1226915046  1226915046  1226915046  \n",
       "4         1       0       0   774076  1226914986  1226914986  1226914986  "
      ]
     },
     "execution_count": 13,
     "metadata": {},
     "output_type": "execute_result"
    }
   ],
   "source": [
    "df = pd.concat([df1, df2], axis=1)\n",
    "df.head()"
   ]
  }
 ],
 "metadata": {
  "interpreter": {
   "hash": "f9f85f796d01129d0dd105a088854619f454435301f6ffec2fea96ecbd9be4ac"
  },
  "kernelspec": {
   "display_name": "Python 3 (ipykernel)",
   "language": "python",
   "name": "python3"
  },
  "language_info": {
   "codemirror_mode": {
    "name": "ipython",
    "version": 3
   },
   "file_extension": ".py",
   "mimetype": "text/x-python",
   "name": "python",
   "nbconvert_exporter": "python",
   "pygments_lexer": "ipython3",
   "version": "3.9.5"
  }
 },
 "nbformat": 4,
 "nbformat_minor": 4
}
